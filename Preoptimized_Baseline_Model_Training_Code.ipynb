{
 "cells": [
  {
   "attachments": {},
   "cell_type": "markdown",
   "id": "9cbd0790",
   "metadata": {
    "id": "mFzVqyyy96u9",
    "papermill": {
     "duration": 0.00516,
     "end_time": "2024-12-17T14:33:02.310519",
     "exception": false,
     "start_time": "2024-12-17T14:33:02.305359",
     "status": "completed"
    },
    "tags": []
   },
   "source": [
    "# __WOA7015 Alternative Assessment__\n",
    "Group: __Learning Machine__\n",
    "\n",
    "Final Model"
   ]
  },
  {
   "attachments": {},
   "cell_type": "markdown",
   "id": "899ca2a0",
   "metadata": {
    "id": "CuEOx57tnjoo",
    "papermill": {
     "duration": 0.004104,
     "end_time": "2024-12-17T14:33:02.319312",
     "exception": false,
     "start_time": "2024-12-17T14:33:02.315208",
     "status": "completed"
    },
    "tags": []
   },
   "source": [
    "## Import Needed Modules"
   ]
  },
  {
   "cell_type": "code",
   "execution_count": 1,
   "id": "171bb9d1",
   "metadata": {
    "execution": {
     "iopub.execute_input": "2024-12-17T14:33:02.328958Z",
     "iopub.status.busy": "2024-12-17T14:33:02.328619Z",
     "iopub.status.idle": "2024-12-17T14:33:13.413243Z",
     "shell.execute_reply": "2024-12-17T14:33:13.412514Z"
    },
    "id": "3BPS_Cgknjor",
    "papermill": {
     "duration": 11.091865,
     "end_time": "2024-12-17T14:33:13.415279",
     "exception": false,
     "start_time": "2024-12-17T14:33:02.323414",
     "status": "completed"
    },
    "tags": []
   },
   "outputs": [
    {
     "name": "stderr",
     "output_type": "stream",
     "text": [
      "/opt/conda/lib/python3.10/site-packages/scipy/__init__.py:146: UserWarning: A NumPy version >=1.16.5 and <1.23.0 is required for this version of SciPy (detected version 1.23.5\n",
      "  warnings.warn(f\"A NumPy version >={np_minversion} and <{np_maxversion}\"\n",
      "/opt/conda/lib/python3.10/site-packages/tensorflow_io/python/ops/__init__.py:98: UserWarning: unable to load libtensorflow_io_plugins.so: unable to open file: libtensorflow_io_plugins.so, from paths: ['/opt/conda/lib/python3.10/site-packages/tensorflow_io/python/ops/libtensorflow_io_plugins.so']\n",
      "caused by: ['/opt/conda/lib/python3.10/site-packages/tensorflow_io/python/ops/libtensorflow_io_plugins.so: undefined symbol: _ZN3tsl6StatusC1EN10tensorflow5error4CodeESt17basic_string_viewIcSt11char_traitsIcEENS_14SourceLocationE']\n",
      "  warnings.warn(f\"unable to load libtensorflow_io_plugins.so: {e}\")\n",
      "/opt/conda/lib/python3.10/site-packages/tensorflow_io/python/ops/__init__.py:104: UserWarning: file system plugins are not loaded: unable to open file: libtensorflow_io.so, from paths: ['/opt/conda/lib/python3.10/site-packages/tensorflow_io/python/ops/libtensorflow_io.so']\n",
      "caused by: ['/opt/conda/lib/python3.10/site-packages/tensorflow_io/python/ops/libtensorflow_io.so: undefined symbol: _ZTVN10tensorflow13GcsFileSystemE']\n",
      "  warnings.warn(f\"file system plugins are not loaded: {e}\")\n"
     ]
    }
   ],
   "source": [
    "import torch\n",
    "import torch.nn as nn\n",
    "import torch.optim as optim\n",
    "import torch.nn.functional as F\n",
    "from torch.utils.data import DataLoader, random_split, Dataset\n",
    "from torchvision.models import resnet18, VGG16_Weights, ResNet18_Weights, AlexNet_Weights\n",
    "from torchvision import models, transforms\n",
    "from torchvision.datasets import ImageFolder\n",
    "from torchvision.utils import make_grid\n",
    "import numpy as np\n",
    "import matplotlib.pyplot as plt\n",
    "from tqdm import tqdm\n",
    "import json\n",
    "import os\n",
    "from sklearn.model_selection import train_test_split\n",
    "from sklearn.metrics import (\n",
    "    f1_score,\n",
    "    precision_score,\n",
    "    recall_score,\n",
    "    confusion_matrix,\n",
    "    classification_report\n",
    ")\n",
    "import pandas as pd\n",
    "import logging\n",
    "from datetime import datetime\n",
    "import math\n",
    "from typing import Optional, Tuple, List, Dict, Any\n",
    "from torch.optim.lr_scheduler import ReduceLROnPlateau\n",
    "from torch.utils.tensorboard import SummaryWriter"
   ]
  },
  {
   "cell_type": "code",
   "execution_count": 2,
   "id": "8d25aa8a",
   "metadata": {
    "execution": {
     "iopub.execute_input": "2024-12-17T14:33:13.425907Z",
     "iopub.status.busy": "2024-12-17T14:33:13.425066Z",
     "iopub.status.idle": "2024-12-17T14:33:13.515932Z",
     "shell.execute_reply": "2024-12-17T14:33:13.515069Z"
    },
    "id": "vtrgujlwnjos",
    "outputId": "aff5381f-f421-44cb-dd23-e29596731a1a",
    "papermill": {
     "duration": 0.097723,
     "end_time": "2024-12-17T14:33:13.517692",
     "exception": false,
     "start_time": "2024-12-17T14:33:13.419969",
     "status": "completed"
    },
    "tags": []
   },
   "outputs": [
    {
     "data": {
      "text/plain": [
       "device(type='cuda')"
      ]
     },
     "execution_count": 2,
     "metadata": {},
     "output_type": "execute_result"
    }
   ],
   "source": [
    "# Set the device for training\n",
    "device = torch.device('cuda' if torch.cuda.is_available() else 'cpu')\n",
    "device"
   ]
  },
  {
   "attachments": {},
   "cell_type": "markdown",
   "id": "94a15caf",
   "metadata": {
    "id": "TmwKAIHXnjot",
    "papermill": {
     "duration": 0.004187,
     "end_time": "2024-12-17T14:33:13.526394",
     "exception": false,
     "start_time": "2024-12-17T14:33:13.522207",
     "status": "completed"
    },
    "tags": []
   },
   "source": [
    "## Get Data"
   ]
  },
  {
   "cell_type": "code",
   "execution_count": 3,
   "id": "d7e23df8",
   "metadata": {
    "execution": {
     "iopub.execute_input": "2024-12-17T14:33:13.535868Z",
     "iopub.status.busy": "2024-12-17T14:33:13.535633Z",
     "iopub.status.idle": "2024-12-17T14:33:18.846064Z",
     "shell.execute_reply": "2024-12-17T14:33:18.845404Z"
    },
    "id": "sfnlwRlpnjou",
    "papermill": {
     "duration": 5.317395,
     "end_time": "2024-12-17T14:33:18.848019",
     "exception": false,
     "start_time": "2024-12-17T14:33:13.530624",
     "status": "completed"
    },
    "tags": []
   },
   "outputs": [],
   "source": [
    "# Data preprocessing and augmentation\n",
    "data_transforms = transforms.Compose([\n",
    "    transforms.Resize((224, 224)),\n",
    "    transforms.RandomHorizontalFlip(),\n",
    "    transforms.RandomRotation(15),\n",
    "    transforms.ToTensor(),\n",
    "    transforms.Normalize(mean=[0.485, 0.456, 0.406], std=[0.229, 0.224, 0.225])\n",
    "])\n",
    "\n",
    "# dataset: https://drive.google.com/drive/folders/1d1ArqNswahfsmP6h-fm3WCvL47dVOpxA?usp=drive_link\n",
    "\n",
    "# Define the base directory for data\n",
    "base_data_dir = '/kaggle/input/brain-tumor-mri-dataset'\n",
    "\n",
    "# Training and validation datasets and loaders\n",
    "train_dataset = ImageFolder(f'{base_data_dir}/Training', transform=data_transforms)\n",
    "train_loader = DataLoader(train_dataset, batch_size=256, shuffle=True)\n",
    "\n",
    "val_dataset = ImageFolder(f'{base_data_dir}/Testing', transform=data_transforms)\n",
    "val_loader = DataLoader(val_dataset, batch_size=256, shuffle=False)"
   ]
  },
  {
   "attachments": {},
   "cell_type": "markdown",
   "id": "a218191b",
   "metadata": {
    "id": "wjaswwyuskDl",
    "papermill": {
     "duration": 0.004052,
     "end_time": "2024-12-17T14:33:18.963432",
     "exception": false,
     "start_time": "2024-12-17T14:33:18.959380",
     "status": "completed"
    },
    "tags": []
   },
   "source": [
    "## Pre-trained Model"
   ]
  },
  {
   "cell_type": "code",
   "execution_count": 8,
   "id": "595098d8",
   "metadata": {
    "execution": {
     "iopub.execute_input": "2024-12-17T14:33:18.972693Z",
     "iopub.status.busy": "2024-12-17T14:33:18.972474Z",
     "iopub.status.idle": "2024-12-17T14:33:18.978059Z",
     "shell.execute_reply": "2024-12-17T14:33:18.977291Z"
    },
    "id": "OmQdFPn1kCmH",
    "papermill": {
     "duration": 0.012148,
     "end_time": "2024-12-17T14:33:18.979751",
     "exception": false,
     "start_time": "2024-12-17T14:33:18.967603",
     "status": "completed"
    },
    "tags": []
   },
   "outputs": [],
   "source": [
    "def calculate_metrics_pretrained(true_labels, pred_labels, num_classes):\n",
    "    # Calculate metrics\n",
    "    f1 = f1_score(true_labels, pred_labels, average='weighted')\n",
    "    precision = precision_score(true_labels, pred_labels, average='weighted')\n",
    "    recall = recall_score(true_labels, pred_labels, average='weighted')\n",
    "\n",
    "    # Compute confusion matrix\n",
    "    cm = confusion_matrix(true_labels, pred_labels)\n",
    "\n",
    "    # Compute sensitivity for each class\n",
    "    sensitivity = []\n",
    "    for i in range(num_classes):\n",
    "        tp = cm[i, i]\n",
    "        fn = cm[i, :].sum() - tp\n",
    "        sensitivity.append(tp / (tp + fn) if (tp + fn) > 0 else 0)\n",
    "\n",
    "    # Print metrics in a single line\n",
    "    print(f\"Metrics -> F1-Score: {f1:.4f}, Precision: {precision:.4f}, Recall: {recall:.4f}\")\n",
    "    print(f\"Sensitivity -> {' '.join([f'Class {i}: {sens:.4f}' for i, sens in enumerate(sensitivity)])}\")\n",
    "    print(f\"Confusion Matrix:\\n{np.array(cm)}\")\n",
    "\n",
    "    return {\n",
    "        'f1_score': f1,\n",
    "        'precision': precision,\n",
    "        'recall': recall,\n",
    "        'sensitivity': sensitivity,\n",
    "        'confusion_matrix': cm.tolist()  # Save as list for JSON serialization\n",
    "    }\n"
   ]
  },
  {
   "cell_type": "code",
   "execution_count": 9,
   "id": "68e95485",
   "metadata": {
    "execution": {
     "iopub.execute_input": "2024-12-17T14:33:18.989713Z",
     "iopub.status.busy": "2024-12-17T14:33:18.989486Z",
     "iopub.status.idle": "2024-12-17T14:33:19.006038Z",
     "shell.execute_reply": "2024-12-17T14:33:19.005271Z"
    },
    "id": "VXTmnJ7OTEq5",
    "papermill": {
     "duration": 0.023289,
     "end_time": "2024-12-17T14:33:19.007538",
     "exception": false,
     "start_time": "2024-12-17T14:33:18.984249",
     "status": "completed"
    },
    "tags": []
   },
   "outputs": [],
   "source": [
    "def fine_tune_pretrained_models(train_loader, val_loader, num_classes, device):\n",
    "    \"\"\"\n",
    "    Fine-tune multiple pre-trained models, compute metrics, and log accuracy/loss for plotting.\n",
    "    \"\"\"\n",
    "    # Define pre-trained models\n",
    "    model_dict = {\n",
    "        'VGG16': {\n",
    "            'model': models.vgg16(),\n",
    "            'weights_path': '/kaggle/input/model/pytorch/default/1/vgg16-397923af.pth'\n",
    "        },\n",
    "        'ResNet18': {\n",
    "            'model': models.resnet18(),\n",
    "            'weights_path': '/kaggle/input/model/pytorch/default/1/resnet18-f37072fd.pth'\n",
    "        },\n",
    "        'AlexNet': {\n",
    "            'model': models.alexnet(),\n",
    "            'weights_path': '/kaggle/input/model/pytorch/default/1/alexnet-owt-7be5be79.pth'\n",
    "        }\n",
    "    }\n",
    "\n",
    "    all_results = {}\n",
    "\n",
    "    # Overall progress bar\n",
    "    overall_progress = tqdm(total=len(model_dict), desc=\"Fine-tuning Models\")\n",
    "\n",
    "    for model_name, model_info in model_dict.items():\n",
    "        print(f\"Fine-tuning {model_name}\")\n",
    "\n",
    "        # Load model architecture and weights\n",
    "        base_model = model_info['model']\n",
    "        weights_path = model_info['weights_path']\n",
    "        base_model.load_state_dict(torch.load(weights_path))\n",
    "\n",
    "        # Replace the final classification layer\n",
    "        if model_name in ['VGG16', 'AlexNet']:\n",
    "            base_model.classifier[-1] = nn.Linear(base_model.classifier[-1].in_features, num_classes)\n",
    "        elif model_name == 'ResNet18':\n",
    "            base_model.fc = nn.Linear(base_model.fc.in_features, num_classes)\n",
    "\n",
    "        # Freeze all layers except the final layer\n",
    "        for param in base_model.parameters():\n",
    "            param.requires_grad = False\n",
    "        # Unfreeze the final layer\n",
    "        if model_name in ['VGG16', 'AlexNet']:\n",
    "            for param in base_model.classifier[-1].parameters():\n",
    "                param.requires_grad = True\n",
    "        elif model_name == 'ResNet18':\n",
    "            for param in base_model.fc.parameters():\n",
    "                param.requires_grad = True\n",
    "\n",
    "        # Move model to the specified device\n",
    "        base_model = base_model.to(device)\n",
    "\n",
    "        # Define training parameters\n",
    "        criterion = nn.CrossEntropyLoss()\n",
    "        optimizer = optim.AdamW(filter(lambda p: p.requires_grad, base_model.parameters()), lr=0.001)\n",
    "        epochs = 100\n",
    "        best_f1 = 0.0\n",
    "        train_metrics, val_metrics = [], []\n",
    "        train_losses, val_losses = [], []\n",
    "        train_accuracies, val_accuracies = [], []\n",
    "\n",
    "        # Per-model training progress bar\n",
    "        model_progress = tqdm(total=epochs, desc=f\"Training {model_name}\", leave=False)\n",
    "\n",
    "        for epoch in range(epochs):\n",
    "            # Training phase\n",
    "            base_model.train()\n",
    "            train_true, train_preds = [], []\n",
    "            train_loss = 0.0\n",
    "            correct_train, total_train = 0, 0\n",
    "\n",
    "            for inputs, labels in train_loader:\n",
    "                inputs, labels = inputs.to(device), labels.to(device)\n",
    "                optimizer.zero_grad()\n",
    "                outputs = base_model(inputs)\n",
    "                loss = criterion(outputs, labels)\n",
    "                loss.backward()\n",
    "                optimizer.step()\n",
    "\n",
    "                # Update loss\n",
    "                train_loss += loss.item()\n",
    "\n",
    "                # Update predictions\n",
    "                _, predicted = torch.max(outputs, 1)\n",
    "                train_preds.extend(predicted.cpu().numpy())\n",
    "                train_true.extend(labels.cpu().numpy())\n",
    "                correct_train += (predicted == labels).sum().item()\n",
    "                total_train += labels.size(0)\n",
    "\n",
    "            # Training metrics\n",
    "            train_accuracy = correct_train / total_train\n",
    "            train_losses.append(train_loss / len(train_loader))  # Average loss\n",
    "            train_accuracies.append(train_accuracy)\n",
    "\n",
    "            train_metrics_epoch = calculate_metrics_pretrained(np.array(train_true), np.array(train_preds), num_classes)\n",
    "            train_metrics.append(train_metrics_epoch)\n",
    "\n",
    "            # Validation phase\n",
    "            base_model.eval()\n",
    "            val_true, val_preds = [], []\n",
    "            val_loss = 0.0\n",
    "            correct_val, total_val = 0, 0\n",
    "\n",
    "            with torch.no_grad():\n",
    "                for inputs, labels in val_loader:\n",
    "                    inputs, labels = inputs.to(device), labels.to(device)\n",
    "                    outputs = base_model(inputs)\n",
    "                    loss = criterion(outputs, labels)\n",
    "\n",
    "                    # Update loss\n",
    "                    val_loss += loss.item()\n",
    "\n",
    "                    # Update predictions\n",
    "                    _, predicted = torch.max(outputs, 1)\n",
    "                    val_preds.extend(predicted.cpu().numpy())\n",
    "                    val_true.extend(labels.cpu().numpy())\n",
    "                    correct_val += (predicted == labels).sum().item()\n",
    "                    total_val += labels.size(0)\n",
    "\n",
    "            # Validation metrics\n",
    "            val_accuracy = correct_val / total_val\n",
    "            val_losses.append(val_loss / len(val_loader))  # Average loss\n",
    "            val_accuracies.append(val_accuracy)\n",
    "\n",
    "            val_metrics_epoch = calculate_metrics_pretrained(np.array(val_true), np.array(val_preds), num_classes)\n",
    "            val_metrics.append(val_metrics_epoch)\n",
    "\n",
    "            # Print epoch metrics\n",
    "            print(f\"Epoch {epoch + 1}/{epochs} - {model_name}\")\n",
    "            print(f\"Train Loss: {train_losses[-1]:.4f}, Train Accuracy: {train_accuracies[-1]:.4f}\")\n",
    "            print(f\"Val Loss: {val_losses[-1]:.4f}, Val Accuracy: {val_accuracies[-1]:.4f}\")\n",
    "            print(f\"Train F1: {train_metrics_epoch['f1_score']:.4f}, Val F1: {val_metrics_epoch['f1_score']:.4f}\")\n",
    "\n",
    "            # Update the best model based on F1-score\n",
    "            if val_metrics_epoch['f1_score'] > best_f1:\n",
    "                best_f1 = val_metrics_epoch['f1_score']\n",
    "                best_model_path = f'/kaggle/working/{model_name}_best.pth'\n",
    "                torch.save(base_model.state_dict(), best_model_path)  # Save best weights\n",
    "                print(f\"Best model for {model_name} saved at {best_model_path} with F1-score: {best_f1:.4f}\")\n",
    "\n",
    "            # Update progress bar\n",
    "            model_progress.update(1)\n",
    "\n",
    "        # Save final model after training\n",
    "        final_model_path = f'/kaggle/working/{model_name}_final.pth'\n",
    "        torch.save(base_model.state_dict(), final_model_path)\n",
    "        print(f\"Final model for {model_name} saved at {final_model_path}\")\n",
    "\n",
    "        # Close progress bar for this model\n",
    "        model_progress.close()\n",
    "\n",
    "        # Save results for the current model\n",
    "        all_results[model_name] = {\n",
    "            'train_metrics': [{k: (v.tolist() if isinstance(v, np.ndarray) else v) for k, v in tm.items()} for tm in train_metrics],\n",
    "            'val_metrics': [{k: (v.tolist() if isinstance(v, np.ndarray) else v) for k, v in vm.items()} for vm in val_metrics],\n",
    "            'train_losses': train_losses,\n",
    "            'val_losses': val_losses,\n",
    "            'train_accuracies': train_accuracies,\n",
    "            'val_accuracies': val_accuracies,\n",
    "            'best_f1': best_f1\n",
    "        }\n",
    "\n",
    "    # Save all results to a JSON file\n",
    "    with open(\"pretrained_models_results_with_metrics.json\", \"w\") as f:\n",
    "        json.dump(all_results, f, indent=4)\n",
    "\n",
    "    print(\"Pre-trained models results with metrics saved.\")\n",
    "    return all_results\n"
   ]
  },
  {
   "attachments": {},
   "cell_type": "markdown",
   "id": "96eaac9c",
   "metadata": {
    "id": "1kUcN9XTkuHI",
    "papermill": {
     "duration": 0.004112,
     "end_time": "2024-12-17T14:33:19.030855",
     "exception": false,
     "start_time": "2024-12-17T14:33:19.026743",
     "status": "completed"
    },
    "tags": []
   },
   "source": [
    "## Plot Function"
   ]
  },
  {
   "cell_type": "code",
   "execution_count": 11,
   "id": "d4e22cce",
   "metadata": {
    "execution": {
     "iopub.execute_input": "2024-12-17T14:33:19.040561Z",
     "iopub.status.busy": "2024-12-17T14:33:19.039958Z",
     "iopub.status.idle": "2024-12-17T14:33:19.047795Z",
     "shell.execute_reply": "2024-12-17T14:33:19.047007Z"
    },
    "id": "HWelcEmOkwNN",
    "papermill": {
     "duration": 0.014281,
     "end_time": "2024-12-17T14:33:19.049379",
     "exception": false,
     "start_time": "2024-12-17T14:33:19.035098",
     "status": "completed"
    },
    "tags": []
   },
   "outputs": [],
   "source": [
    "import matplotlib.pyplot as plt\n",
    "import numpy as np\n",
    "\n",
    "def plot_and_display_results(all_results):\n",
    "    for model_name, model_data in all_results.items():\n",
    "        print(f\"Results for {model_name}:\")\n",
    "\n",
    "        # Extract metrics, losses, and accuracies\n",
    "        train_losses = model_data.get('train_losses', [])\n",
    "        val_losses = model_data.get('val_losses', [])\n",
    "        train_accuracies = model_data.get('train_accuracies', [])\n",
    "        val_accuracies = model_data.get('val_accuracies', [])\n",
    "        train_metrics = model_data.get('train_metrics', [])\n",
    "        val_metrics = model_data.get('val_metrics', [])\n",
    "        best_f1 = model_data.get('best_f1', 0.0)\n",
    "\n",
    "        # Plot Loss Curve\n",
    "        plt.figure(figsize=(12, 6))\n",
    "        plt.subplot(1, 2, 1)\n",
    "        plt.plot(train_losses, label=\"Train Loss\")\n",
    "        plt.plot(val_losses, label=\"Validation Loss\")\n",
    "        plt.title(f\"{model_name} - Loss Curve\")\n",
    "        plt.xlabel(\"Epoch\")\n",
    "        plt.ylabel(\"Loss\")\n",
    "        plt.legend()\n",
    "        plt.grid(True)\n",
    "\n",
    "        # Plot Accuracy Curve\n",
    "        plt.subplot(1, 2, 2)\n",
    "        plt.plot(train_accuracies, label=\"Train Accuracy\")\n",
    "        plt.plot(val_accuracies, label=\"Validation Accuracy\")\n",
    "        plt.title(f\"{model_name} - Accuracy Curve\")\n",
    "        plt.xlabel(\"Epoch\")\n",
    "        plt.ylabel(\"Accuracy\")\n",
    "        plt.legend()\n",
    "        plt.grid(True)\n",
    "\n",
    "        # Display the plots\n",
    "        plt.tight_layout()\n",
    "        plt.show()\n",
    "\n",
    "        # Display F1-Score, Precision, Recall\n",
    "        print(f\"Best F1-Score for {model_name}: {best_f1:.4f}\")\n",
    "        print(f\"Final Train F1-Score: {train_metrics[-1]['f1_score']:.4f}\" if train_metrics else \"No Train Metrics\")\n",
    "        print(f\"Final Validation F1-Score: {val_metrics[-1]['f1_score']:.4f}\" if val_metrics else \"No Validation Metrics\")\n",
    "\n",
    "        # Display Sensitivity and Confusion Matrix for Validation\n",
    "        if val_metrics:\n",
    "            sensitivity = val_metrics[-1].get('sensitivity', [])\n",
    "            confusion_matrix = val_metrics[-1].get('confusion_matrix', [])\n",
    "            print(f\"Validation Sensitivity per Class for {model_name}: {sensitivity}\")\n",
    "            print(f\"Validation Confusion Matrix for {model_name}:\")\n",
    "            print(np.array(confusion_matrix))\n",
    "\n",
    "        print(\"-\" * 50)"
   ]
  },
  {
   "attachments": {},
   "cell_type": "markdown",
   "id": "2eb4e9c4",
   "metadata": {
    "id": "XtOPOBGxnjo0",
    "papermill": {
     "duration": 0.004452,
     "end_time": "2024-12-17T16:25:36.817639",
     "exception": false,
     "start_time": "2024-12-17T16:25:36.813187",
     "status": "completed"
    },
    "tags": []
   },
   "source": [
    "## Model Training"
   ]
  },
  {
   "cell_type": "code",
   "execution_count": 13,
   "id": "875e444a",
   "metadata": {
    "execution": {
     "iopub.execute_input": "2024-12-17T16:25:36.827783Z",
     "iopub.status.busy": "2024-12-17T16:25:36.827320Z",
     "iopub.status.idle": "2024-12-17T20:45:16.354224Z",
     "shell.execute_reply": "2024-12-17T20:45:16.353238Z"
    },
    "id": "RxGpnooSVSwi",
    "outputId": "d5ecf624-a325-46aa-cd05-a6668093f64a",
    "papermill": {
     "duration": 15579.534014,
     "end_time": "2024-12-17T20:45:16.356098",
     "exception": false,
     "start_time": "2024-12-17T16:25:36.822084",
     "status": "completed"
    },
    "tags": []
   },
   "outputs": [
    {
     "name": "stdout",
     "output_type": "stream",
     "text": [
      "Number of classes: 4\n"
     ]
    },
    {
     "name": "stderr",
     "output_type": "stream",
     "text": [
      "Fine-tuning Models:   0%|          | 0/3 [00:00<?, ?it/s]"
     ]
    },
    {
     "name": "stdout",
     "output_type": "stream",
     "text": [
      "Fine-tuning VGG16\n"
     ]
    },
    {
     "name": "stderr",
     "output_type": "stream",
     "text": [
      "\n",
      "Training VGG16:   0%|          | 0/100 [00:00<?, ?it/s]\u001b[A"
     ]
    },
    {
     "name": "stdout",
     "output_type": "stream",
     "text": [
      "Metrics -> F1-Score: 0.6525, Precision: 0.6505, Recall: 0.6569\n",
      "Sensitivity -> Class 0: 0.6117 Class 1: 0.4586 Class 2: 0.8313 Class 3: 0.6891\n",
      "Confusion Matrix:\n",
      "[[ 808  232  137  144]\n",
      " [ 257  614  182  286]\n",
      " [  55   84 1326  130]\n",
      " [ 142  233   78 1004]]\n",
      "Metrics -> F1-Score: 0.7551, Precision: 0.7575, Recall: 0.7712\n",
      "Sensitivity -> Class 0: 0.7367 Class 1: 0.4085 Class 2: 0.9457 Class 3: 0.9400\n",
      "Confusion Matrix:\n",
      "[[221  52   7  20]\n",
      " [ 50 125  78  53]\n",
      " [  7   9 383   6]\n",
      " [  5  10   3 282]]\n",
      "Epoch 1/100 - VGG16\n",
      "Train Loss: 0.8132, Train Accuracy: 0.6569\n",
      "Val Loss: 0.6016, Val Accuracy: 0.7712\n",
      "Train F1: 0.6525, Val F1: 0.7551\n"
     ]
    },
    {
     "name": "stderr",
     "output_type": "stream",
     "text": [
      "\n",
      "Training VGG16:   1%|          | 1/100 [01:18<2:10:07, 78.86s/it]\u001b[A"
     ]
    },
    {
     "name": "stdout",
     "output_type": "stream",
     "text": [
      "Best model for VGG16 saved at /kaggle/working/VGG16_best.pth with F1-score: 0.7551\n",
      "Metrics -> F1-Score: 0.7958, Precision: 0.7950, Recall: 0.7978\n",
      "Sensitivity -> Class 0: 0.7646 Class 1: 0.6221 Class 2: 0.9235 Class 3: 0.8518\n",
      "Confusion Matrix:\n",
      "[[1010  230   26   55]\n",
      " [ 163  833  122  221]\n",
      " [  25   54 1473   43]\n",
      " [  66  131   19 1241]]\n",
      "Metrics -> F1-Score: 0.7758, Precision: 0.7778, Recall: 0.7872\n",
      "Sensitivity -> Class 0: 0.7833 Class 1: 0.4608 Class 2: 0.9185 Class 3: 0.9467\n",
      "Confusion Matrix:\n",
      "[[235  43   2  20]\n",
      " [ 45 141  60  60]\n",
      " [ 10  18 372   5]\n",
      " [  6  10   0 284]]\n",
      "Epoch 2/100 - VGG16\n",
      "Train Loss: 0.5345, Train Accuracy: 0.7978\n",
      "Val Loss: 0.5304, Val Accuracy: 0.7872\n",
      "Train F1: 0.7958, Val F1: 0.7758\n"
     ]
    },
    {
     "name": "stderr",
     "output_type": "stream",
     "text": [
      "\n",
      "Training VGG16:   2%|▏         | 2/100 [02:37<2:08:50, 78.88s/it]\u001b[A"
     ]
    },
    {
     "name": "stdout",
     "output_type": "stream",
     "text": [
      "Best model for VGG16 saved at /kaggle/working/VGG16_best.pth with F1-score: 0.7758\n",
      "Metrics -> F1-Score: 0.8065, Precision: 0.8058, Recall: 0.8076\n",
      "Sensitivity -> Class 0: 0.7752 Class 1: 0.6505 Class 2: 0.9185 Class 3: 0.8600\n",
      "Confusion Matrix:\n",
      "[[1024  220   22   55]\n",
      " [ 183  871  111  174]\n",
      " [  28   62 1465   40]\n",
      " [  47  136   21 1253]]\n",
      "Metrics -> F1-Score: 0.7977, Precision: 0.7966, Recall: 0.8047\n",
      "Sensitivity -> Class 0: 0.7867 Class 1: 0.5392 Class 2: 0.9309 Class 3: 0.9233\n",
      "Confusion Matrix:\n",
      "[[236  54   2   8]\n",
      " [ 45 165  61  35]\n",
      " [ 13   9 377   6]\n",
      " [ 10  12   1 277]]\n",
      "Epoch 3/100 - VGG16\n",
      "Train Loss: 0.4983, Train Accuracy: 0.8076\n",
      "Val Loss: 0.5006, Val Accuracy: 0.8047\n",
      "Train F1: 0.8065, Val F1: 0.7977\n"
     ]
    },
    {
     "name": "stderr",
     "output_type": "stream",
     "text": [
      "\n",
      "Training VGG16:   3%|▎         | 3/100 [03:56<2:07:08, 78.64s/it]\u001b[A"
     ]
    },
    {
     "name": "stdout",
     "output_type": "stream",
     "text": [
      "Best model for VGG16 saved at /kaggle/working/VGG16_best.pth with F1-score: 0.7977\n",
      "Metrics -> F1-Score: 0.8185, Precision: 0.8177, Recall: 0.8199\n",
      "Sensitivity -> Class 0: 0.7880 Class 1: 0.6572 Class 2: 0.9310 Class 3: 0.8765\n",
      "Confusion Matrix:\n",
      "[[1041  219   17   44]\n",
      " [ 184  880   96  179]\n",
      " [  19   61 1485   30]\n",
      " [  42  114   24 1277]]\n",
      "Metrics -> F1-Score: 0.8103, Precision: 0.8111, Recall: 0.8177\n",
      "Sensitivity -> Class 0: 0.7600 Class 1: 0.5654 Class 2: 0.9556 Class 3: 0.9467\n",
      "Confusion Matrix:\n",
      "[[228  55   3  14]\n",
      " [ 35 173  59  39]\n",
      " [  6   6 387   6]\n",
      " [  7   7   2 284]]\n",
      "Epoch 4/100 - VGG16\n",
      "Train Loss: 0.4763, Train Accuracy: 0.8199\n",
      "Val Loss: 0.4851, Val Accuracy: 0.8177\n",
      "Train F1: 0.8185, Val F1: 0.8103\n"
     ]
    },
    {
     "name": "stderr",
     "output_type": "stream",
     "text": [
      "\n",
      "Training VGG16:   4%|▍         | 4/100 [05:14<2:05:55, 78.71s/it]\u001b[A"
     ]
    },
    {
     "name": "stdout",
     "output_type": "stream",
     "text": [
      "Best model for VGG16 saved at /kaggle/working/VGG16_best.pth with F1-score: 0.8103\n",
      "Metrics -> F1-Score: 0.8265, Precision: 0.8260, Recall: 0.8283\n",
      "Sensitivity -> Class 0: 0.7843 Class 1: 0.6669 Class 2: 0.9348 Class 3: 0.8998\n",
      "Confusion Matrix:\n",
      "[[1036  211   21   53]\n",
      " [ 177  893   90  179]\n",
      " [  24   48 1491   32]\n",
      " [  23  106   17 1311]]\n"
     ]
    },
    {
     "name": "stderr",
     "output_type": "stream",
     "text": [
      "\n",
      "Training VGG16:   5%|▌         | 5/100 [06:31<2:03:16, 77.86s/it]\u001b[A"
     ]
    },
    {
     "name": "stdout",
     "output_type": "stream",
     "text": [
      "Metrics -> F1-Score: 0.8090, Precision: 0.8104, Recall: 0.8169\n",
      "Sensitivity -> Class 0: 0.7733 Class 1: 0.5490 Class 2: 0.9457 Class 3: 0.9600\n",
      "Confusion Matrix:\n",
      "[[232  56   0  12]\n",
      " [ 29 168  62  47]\n",
      " [ 10   6 383   6]\n",
      " [  5   7   0 288]]\n",
      "Epoch 5/100 - VGG16\n",
      "Train Loss: 0.4528, Train Accuracy: 0.8283\n",
      "Val Loss: 0.4685, Val Accuracy: 0.8169\n",
      "Train F1: 0.8265, Val F1: 0.8090\n",
      "Metrics -> F1-Score: 0.8334, Precision: 0.8331, Recall: 0.8346\n",
      "Sensitivity -> Class 0: 0.7956 Class 1: 0.6871 Class 2: 0.9386 Class 3: 0.8916\n",
      "Confusion Matrix:\n",
      "[[1051  203   19   48]\n",
      " [ 157  920   83  179]\n",
      " [  21   54 1497   23]\n",
      " [  32  111   15 1299]]\n"
     ]
    },
    {
     "name": "stderr",
     "output_type": "stream",
     "text": [
      "\n",
      "Training VGG16:   6%|▌         | 6/100 [07:48<2:01:38, 77.65s/it]\u001b[A"
     ]
    },
    {
     "name": "stdout",
     "output_type": "stream",
     "text": [
      "Metrics -> F1-Score: 0.8051, Precision: 0.8110, Recall: 0.8169\n",
      "Sensitivity -> Class 0: 0.8200 Class 1: 0.4902 Class 2: 0.9580 Class 3: 0.9567\n",
      "Confusion Matrix:\n",
      "[[246  41   1  12]\n",
      " [ 48 150  55  53]\n",
      " [  8   5 388   4]\n",
      " [  8   2   3 287]]\n",
      "Epoch 6/100 - VGG16\n",
      "Train Loss: 0.4361, Train Accuracy: 0.8346\n",
      "Val Loss: 0.4474, Val Accuracy: 0.8169\n",
      "Train F1: 0.8334, Val F1: 0.8051\n",
      "Metrics -> F1-Score: 0.8393, Precision: 0.8389, Recall: 0.8403\n",
      "Sensitivity -> Class 0: 0.8168 Class 1: 0.6938 Class 2: 0.9411 Class 3: 0.8861\n",
      "Confusion Matrix:\n",
      "[[1079  186   21   35]\n",
      " [ 158  929   69  183]\n",
      " [  16   47 1501   31]\n",
      " [  40  113   13 1291]]\n",
      "Metrics -> F1-Score: 0.8186, Precision: 0.8217, Recall: 0.8284\n",
      "Sensitivity -> Class 0: 0.8200 Class 1: 0.5294 Class 2: 0.9654 Class 3: 0.9567\n",
      "Confusion Matrix:\n",
      "[[246  43   3   8]\n",
      " [ 43 162  65  36]\n",
      " [  6   5 391   3]\n",
      " [  7   4   2 287]]\n",
      "Epoch 7/100 - VGG16\n",
      "Train Loss: 0.4279, Train Accuracy: 0.8403\n",
      "Val Loss: 0.4343, Val Accuracy: 0.8284\n",
      "Train F1: 0.8393, Val F1: 0.8186\n"
     ]
    },
    {
     "name": "stderr",
     "output_type": "stream",
     "text": [
      "\n",
      "Training VGG16:   7%|▋         | 7/100 [09:07<2:00:51, 77.97s/it]\u001b[A"
     ]
    },
    {
     "name": "stdout",
     "output_type": "stream",
     "text": [
      "Best model for VGG16 saved at /kaggle/working/VGG16_best.pth with F1-score: 0.8186\n",
      "Metrics -> F1-Score: 0.8373, Precision: 0.8364, Recall: 0.8388\n",
      "Sensitivity -> Class 0: 0.8070 Class 1: 0.6848 Class 2: 0.9530 Class 3: 0.8840\n",
      "Confusion Matrix:\n",
      "[[1066  193   20   42]\n",
      " [ 182  917   82  158]\n",
      " [  13   37 1520   25]\n",
      " [  39  115   15 1288]]\n"
     ]
    },
    {
     "name": "stderr",
     "output_type": "stream",
     "text": [
      "\n",
      "Training VGG16:   8%|▊         | 8/100 [10:24<1:59:01, 77.62s/it]\u001b[A"
     ]
    },
    {
     "name": "stdout",
     "output_type": "stream",
     "text": [
      "Metrics -> F1-Score: 0.8145, Precision: 0.8178, Recall: 0.8238\n",
      "Sensitivity -> Class 0: 0.7933 Class 1: 0.5359 Class 2: 0.9506 Class 3: 0.9767\n",
      "Confusion Matrix:\n",
      "[[238  47   2  13]\n",
      " [ 41 164  54  47]\n",
      " [  7   6 385   7]\n",
      " [  2   3   2 293]]\n",
      "Epoch 8/100 - VGG16\n",
      "Train Loss: 0.4373, Train Accuracy: 0.8388\n",
      "Val Loss: 0.4238, Val Accuracy: 0.8238\n",
      "Train F1: 0.8373, Val F1: 0.8145\n",
      "Metrics -> F1-Score: 0.8366, Precision: 0.8360, Recall: 0.8382\n",
      "Sensitivity -> Class 0: 0.8138 Class 1: 0.6751 Class 2: 0.9455 Class 3: 0.8929\n",
      "Confusion Matrix:\n",
      "[[1075  179   21   46]\n",
      " [ 182  904   74  179]\n",
      " [  11   40 1508   36]\n",
      " [  30  113   13 1301]]\n",
      "Metrics -> F1-Score: 0.8335, Precision: 0.8326, Recall: 0.8375\n",
      "Sensitivity -> Class 0: 0.7767 Class 1: 0.6373 Class 2: 0.9506 Class 3: 0.9500\n",
      "Confusion Matrix:\n",
      "[[233  57   0  10]\n",
      " [ 35 195  43  33]\n",
      " [  7   9 385   4]\n",
      " [  6   8   1 285]]\n",
      "Epoch 9/100 - VGG16\n",
      "Train Loss: 0.4293, Train Accuracy: 0.8382\n",
      "Val Loss: 0.4257, Val Accuracy: 0.8375\n",
      "Train F1: 0.8366, Val F1: 0.8335\n"
     ]
    },
    {
     "name": "stderr",
     "output_type": "stream",
     "text": [
      "\n",
      "Training VGG16:   9%|▉         | 9/100 [11:42<1:58:01, 77.82s/it]\u001b[A"
     ]
    },
    {
     "name": "stdout",
     "output_type": "stream",
     "text": [
      "Best model for VGG16 saved at /kaggle/working/VGG16_best.pth with F1-score: 0.8335\n",
      "Metrics -> F1-Score: 0.8425, Precision: 0.8418, Recall: 0.8437\n",
      "Sensitivity -> Class 0: 0.8168 Class 1: 0.6953 Class 2: 0.9492 Class 3: 0.8888\n",
      "Confusion Matrix:\n",
      "[[1079  189   13   40]\n",
      " [ 179  931   68  161]\n",
      " [  19   38 1514   24]\n",
      " [  34  107   21 1295]]\n",
      "Metrics -> F1-Score: 0.8339, Precision: 0.8348, Recall: 0.8391\n",
      "Sensitivity -> Class 0: 0.7633 Class 1: 0.6209 Class 2: 0.9630 Class 3: 0.9700\n",
      "Confusion Matrix:\n",
      "[[229  61   0  10]\n",
      " [ 28 190  49  39]\n",
      " [  3   9 390   3]\n",
      " [  1   7   1 291]]\n",
      "Epoch 10/100 - VGG16\n",
      "Train Loss: 0.4126, Train Accuracy: 0.8437\n",
      "Val Loss: 0.4174, Val Accuracy: 0.8391\n",
      "Train F1: 0.8425, Val F1: 0.8339\n"
     ]
    },
    {
     "name": "stderr",
     "output_type": "stream",
     "text": [
      "\n",
      "Training VGG16:  10%|█         | 10/100 [13:00<1:56:59, 78.00s/it]\u001b[A"
     ]
    },
    {
     "name": "stdout",
     "output_type": "stream",
     "text": [
      "Best model for VGG16 saved at /kaggle/working/VGG16_best.pth with F1-score: 0.8339\n",
      "Metrics -> F1-Score: 0.8467, Precision: 0.8466, Recall: 0.8473\n",
      "Sensitivity -> Class 0: 0.7979 Class 1: 0.7222 Class 2: 0.9473 Class 3: 0.8977\n",
      "Confusion Matrix:\n",
      "[[1054  207   22   38]\n",
      " [ 143  967   76  153]\n",
      " [  17   40 1511   27]\n",
      " [  34  112    3 1308]]\n"
     ]
    },
    {
     "name": "stderr",
     "output_type": "stream",
     "text": [
      "\n",
      "Training VGG16:  11%|█         | 11/100 [14:19<1:55:51, 78.11s/it]\u001b[A"
     ]
    },
    {
     "name": "stdout",
     "output_type": "stream",
     "text": [
      "Metrics -> F1-Score: 0.8306, Precision: 0.8344, Recall: 0.8383\n",
      "Sensitivity -> Class 0: 0.7833 Class 1: 0.5784 Class 2: 0.9704 Class 3: 0.9800\n",
      "Confusion Matrix:\n",
      "[[235  48   0  17]\n",
      " [ 35 177  45  49]\n",
      " [  5   3 393   4]\n",
      " [  3   2   1 294]]\n",
      "Epoch 11/100 - VGG16\n",
      "Train Loss: 0.3998, Train Accuracy: 0.8473\n",
      "Val Loss: 0.3925, Val Accuracy: 0.8383\n",
      "Train F1: 0.8467, Val F1: 0.8306\n",
      "Metrics -> F1-Score: 0.8448, Precision: 0.8444, Recall: 0.8461\n",
      "Sensitivity -> Class 0: 0.8213 Class 1: 0.6863 Class 2: 0.9486 Class 3: 0.9032\n",
      "Confusion Matrix:\n",
      "[[1085  186   15   35]\n",
      " [ 185  919   59  176]\n",
      " [  14   43 1513   25]\n",
      " [  30  105    6 1316]]\n",
      "Metrics -> F1-Score: 0.8466, Precision: 0.8464, Recall: 0.8505\n",
      "Sensitivity -> Class 0: 0.7733 Class 1: 0.6634 Class 2: 0.9753 Class 3: 0.9500\n",
      "Confusion Matrix:\n",
      "[[232  60   1   7]\n",
      " [ 30 203  46  27]\n",
      " [  4   4 395   2]\n",
      " [  3   9   3 285]]\n",
      "Epoch 12/100 - VGG16\n",
      "Train Loss: 0.4018, Train Accuracy: 0.8461\n",
      "Val Loss: 0.3857, Val Accuracy: 0.8505\n",
      "Train F1: 0.8448, Val F1: 0.8466\n"
     ]
    },
    {
     "name": "stderr",
     "output_type": "stream",
     "text": [
      "\n",
      "Training VGG16:  12%|█▏        | 12/100 [15:38<1:55:00, 78.42s/it]\u001b[A"
     ]
    },
    {
     "name": "stdout",
     "output_type": "stream",
     "text": [
      "Best model for VGG16 saved at /kaggle/working/VGG16_best.pth with F1-score: 0.8466\n",
      "Metrics -> F1-Score: 0.8501, Precision: 0.8499, Recall: 0.8512\n",
      "Sensitivity -> Class 0: 0.8107 Class 1: 0.7087 Class 2: 0.9511 Class 3: 0.9094\n",
      "Confusion Matrix:\n",
      "[[1071  204    6   40]\n",
      " [ 145  949   75  170]\n",
      " [  12   40 1517   26]\n",
      " [  30   91   11 1325]]\n",
      "Metrics -> F1-Score: 0.8494, Precision: 0.8489, Recall: 0.8535\n",
      "Sensitivity -> Class 0: 0.8133 Class 1: 0.6503 Class 2: 0.9728 Class 3: 0.9400\n",
      "Confusion Matrix:\n",
      "[[244  50   0   6]\n",
      " [ 31 199  47  29]\n",
      " [  2   7 394   2]\n",
      " [  8   8   2 282]]\n",
      "Epoch 13/100 - VGG16\n",
      "Train Loss: 0.4002, Train Accuracy: 0.8512\n",
      "Val Loss: 0.3873, Val Accuracy: 0.8535\n",
      "Train F1: 0.8501, Val F1: 0.8494\n"
     ]
    },
    {
     "name": "stderr",
     "output_type": "stream",
     "text": [
      "\n",
      "Training VGG16:  13%|█▎        | 13/100 [16:56<1:53:53, 78.54s/it]\u001b[A"
     ]
    },
    {
     "name": "stdout",
     "output_type": "stream",
     "text": [
      "Best model for VGG16 saved at /kaggle/working/VGG16_best.pth with F1-score: 0.8494\n",
      "Metrics -> F1-Score: 0.8461, Precision: 0.8455, Recall: 0.8472\n",
      "Sensitivity -> Class 0: 0.8183 Class 1: 0.7035 Class 2: 0.9480 Class 3: 0.8950\n",
      "Confusion Matrix:\n",
      "[[1081  186   19   35]\n",
      " [ 161  942   78  158]\n",
      " [  16   45 1512   22]\n",
      " [  38  107    8 1304]]\n"
     ]
    },
    {
     "name": "stderr",
     "output_type": "stream",
     "text": [
      "\n",
      "Training VGG16:  14%|█▍        | 14/100 [18:13<1:51:46, 77.99s/it]\u001b[A"
     ]
    },
    {
     "name": "stdout",
     "output_type": "stream",
     "text": [
      "Metrics -> F1-Score: 0.8284, Precision: 0.8322, Recall: 0.8375\n",
      "Sensitivity -> Class 0: 0.8333 Class 1: 0.5425 Class 2: 0.9630 Class 3: 0.9733\n",
      "Confusion Matrix:\n",
      "[[250  40   0  10]\n",
      " [ 50 166  45  45]\n",
      " [  7   5 390   3]\n",
      " [  4   3   1 292]]\n",
      "Epoch 14/100 - VGG16\n",
      "Train Loss: 0.4025, Train Accuracy: 0.8472\n",
      "Val Loss: 0.3810, Val Accuracy: 0.8375\n",
      "Train F1: 0.8461, Val F1: 0.8284\n",
      "Metrics -> F1-Score: 0.8487, Precision: 0.8482, Recall: 0.8498\n",
      "Sensitivity -> Class 0: 0.8236 Class 1: 0.7050 Class 2: 0.9480 Class 3: 0.8991\n",
      "Confusion Matrix:\n",
      "[[1088  186   17   30]\n",
      " [ 173  944   64  158]\n",
      " [  14   35 1512   34]\n",
      " [  26  106   15 1310]]\n"
     ]
    },
    {
     "name": "stderr",
     "output_type": "stream",
     "text": [
      "\n",
      "Training VGG16:  15%|█▌        | 15/100 [19:30<1:50:03, 77.68s/it]\u001b[A"
     ]
    },
    {
     "name": "stdout",
     "output_type": "stream",
     "text": [
      "Metrics -> F1-Score: 0.8384, Precision: 0.8384, Recall: 0.8444\n",
      "Sensitivity -> Class 0: 0.8100 Class 1: 0.6046 Class 2: 0.9679 Class 3: 0.9567\n",
      "Confusion Matrix:\n",
      "[[243  49   1   7]\n",
      " [ 35 185  52  34]\n",
      " [  4   7 392   2]\n",
      " [  6   6   1 287]]\n",
      "Epoch 15/100 - VGG16\n",
      "Train Loss: 0.3967, Train Accuracy: 0.8498\n",
      "Val Loss: 0.3926, Val Accuracy: 0.8444\n",
      "Train F1: 0.8487, Val F1: 0.8384\n",
      "Metrics -> F1-Score: 0.8494, Precision: 0.8490, Recall: 0.8503\n",
      "Sensitivity -> Class 0: 0.8191 Class 1: 0.7125 Class 2: 0.9505 Class 3: 0.8957\n",
      "Confusion Matrix:\n",
      "[[1082  179   14   46]\n",
      " [ 149  954   73  163]\n",
      " [  14   46 1516   19]\n",
      " [  32  108   12 1305]]\n"
     ]
    },
    {
     "name": "stderr",
     "output_type": "stream",
     "text": [
      "\n",
      "Training VGG16:  16%|█▌        | 16/100 [20:46<1:48:10, 77.27s/it]\u001b[A"
     ]
    },
    {
     "name": "stdout",
     "output_type": "stream",
     "text": [
      "Metrics -> F1-Score: 0.8480, Precision: 0.8472, Recall: 0.8497\n",
      "Sensitivity -> Class 0: 0.7933 Class 1: 0.6993 Class 2: 0.9432 Class 3: 0.9333\n",
      "Confusion Matrix:\n",
      "[[238  57   0   5]\n",
      " [ 31 214  39  22]\n",
      " [  5  12 382   6]\n",
      " [  9   9   2 280]]\n",
      "Epoch 16/100 - VGG16\n",
      "Train Loss: 0.3851, Train Accuracy: 0.8503\n",
      "Val Loss: 0.4139, Val Accuracy: 0.8497\n",
      "Train F1: 0.8494, Val F1: 0.8480\n",
      "Metrics -> F1-Score: 0.8542, Precision: 0.8538, Recall: 0.8549\n",
      "Sensitivity -> Class 0: 0.8312 Class 1: 0.7267 Class 2: 0.9473 Class 3: 0.8929\n",
      "Confusion Matrix:\n",
      "[[1098  179   11   33]\n",
      " [ 142  973   76  148]\n",
      " [  15   40 1511   29]\n",
      " [  34  109   13 1301]]\n"
     ]
    },
    {
     "name": "stderr",
     "output_type": "stream",
     "text": [
      "\n",
      "Training VGG16:  17%|█▋        | 17/100 [22:03<1:46:22, 76.90s/it]\u001b[A"
     ]
    },
    {
     "name": "stdout",
     "output_type": "stream",
     "text": [
      "Metrics -> F1-Score: 0.8400, Precision: 0.8437, Recall: 0.8467\n",
      "Sensitivity -> Class 0: 0.7967 Class 1: 0.6046 Class 2: 0.9654 Class 3: 0.9833\n",
      "Confusion Matrix:\n",
      "[[239  43   0  18]\n",
      " [ 32 185  47  42]\n",
      " [  6   4 391   4]\n",
      " [  3   2   0 295]]\n",
      "Epoch 17/100 - VGG16\n",
      "Train Loss: 0.3804, Train Accuracy: 0.8549\n",
      "Val Loss: 0.3895, Val Accuracy: 0.8467\n",
      "Train F1: 0.8542, Val F1: 0.8400\n",
      "Metrics -> F1-Score: 0.8452, Precision: 0.8446, Recall: 0.8466\n",
      "Sensitivity -> Class 0: 0.8055 Class 1: 0.7043 Class 2: 0.9492 Class 3: 0.9025\n",
      "Confusion Matrix:\n",
      "[[1064  187   19   51]\n",
      " [ 169  943   84  143]\n",
      " [  15   39 1514   27]\n",
      " [  30   98   14 1315]]\n"
     ]
    },
    {
     "name": "stderr",
     "output_type": "stream",
     "text": [
      "\n",
      "Training VGG16:  18%|█▊        | 18/100 [23:18<1:44:35, 76.53s/it]\u001b[A"
     ]
    },
    {
     "name": "stdout",
     "output_type": "stream",
     "text": [
      "Metrics -> F1-Score: 0.8445, Precision: 0.8437, Recall: 0.8490\n",
      "Sensitivity -> Class 0: 0.8033 Class 1: 0.6373 Class 2: 0.9605 Class 3: 0.9600\n",
      "Confusion Matrix:\n",
      "[[241  52   1   6]\n",
      " [ 38 195  45  28]\n",
      " [  4   9 389   3]\n",
      " [  4   6   2 288]]\n",
      "Epoch 18/100 - VGG16\n",
      "Train Loss: 0.4045, Train Accuracy: 0.8466\n",
      "Val Loss: 0.3746, Val Accuracy: 0.8490\n",
      "Train F1: 0.8452, Val F1: 0.8445\n",
      "Metrics -> F1-Score: 0.8587, Precision: 0.8581, Recall: 0.8596\n",
      "Sensitivity -> Class 0: 0.8372 Class 1: 0.7214 Class 2: 0.9486 Class 3: 0.9094\n",
      "Confusion Matrix:\n",
      "[[1106  175   11   29]\n",
      " [ 161  966   69  143]\n",
      " [  20   42 1513   20]\n",
      " [  22   96   14 1325]]\n"
     ]
    },
    {
     "name": "stderr",
     "output_type": "stream",
     "text": [
      "\n",
      "Training VGG16:  19%|█▉        | 19/100 [24:35<1:43:25, 76.61s/it]\u001b[A"
     ]
    },
    {
     "name": "stdout",
     "output_type": "stream",
     "text": [
      "Metrics -> F1-Score: 0.8479, Precision: 0.8492, Recall: 0.8520\n",
      "Sensitivity -> Class 0: 0.7933 Class 1: 0.6569 Class 2: 0.9605 Class 3: 0.9633\n",
      "Confusion Matrix:\n",
      "[[238  50   0  12]\n",
      " [ 23 201  43  39]\n",
      " [  4   8 389   4]\n",
      " [  5   5   1 289]]\n",
      "Epoch 19/100 - VGG16\n",
      "Train Loss: 0.3822, Train Accuracy: 0.8596\n",
      "Val Loss: 0.3520, Val Accuracy: 0.8520\n",
      "Train F1: 0.8587, Val F1: 0.8479\n",
      "Metrics -> F1-Score: 0.8418, Precision: 0.8413, Recall: 0.8424\n",
      "Sensitivity -> Class 0: 0.8047 Class 1: 0.7110 Class 2: 0.9461 Class 3: 0.8840\n",
      "Confusion Matrix:\n",
      "[[1063  197   16   45]\n",
      " [ 160  952   75  152]\n",
      " [  17   47 1509   22]\n",
      " [  45  112   12 1288]]\n",
      "Metrics -> F1-Score: 0.8512, Precision: 0.8530, Recall: 0.8574\n",
      "Sensitivity -> Class 0: 0.8600 Class 1: 0.6078 Class 2: 0.9679 Class 3: 0.9600\n",
      "Confusion Matrix:\n",
      "[[258  35   1   6]\n",
      " [ 45 186  50  25]\n",
      " [  5   6 392   2]\n",
      " [  5   6   1 288]]\n",
      "Epoch 20/100 - VGG16\n",
      "Train Loss: 0.3926, Train Accuracy: 0.8424\n",
      "Val Loss: 0.3640, Val Accuracy: 0.8574\n",
      "Train F1: 0.8418, Val F1: 0.8512\n"
     ]
    },
    {
     "name": "stderr",
     "output_type": "stream",
     "text": [
      "\n",
      "Training VGG16:  20%|██        | 20/100 [25:54<1:42:56, 77.21s/it]\u001b[A"
     ]
    },
    {
     "name": "stdout",
     "output_type": "stream",
     "text": [
      "Best model for VGG16 saved at /kaggle/working/VGG16_best.pth with F1-score: 0.8512\n",
      "Metrics -> F1-Score: 0.8459, Precision: 0.8451, Recall: 0.8472\n",
      "Sensitivity -> Class 0: 0.8213 Class 1: 0.6916 Class 2: 0.9524 Class 3: 0.8984\n",
      "Confusion Matrix:\n",
      "[[1085  195   11   30]\n",
      " [ 171  926   82  160]\n",
      " [  12   41 1519   23]\n",
      " [  25  109   14 1309]]\n"
     ]
    },
    {
     "name": "stderr",
     "output_type": "stream",
     "text": [
      "\n",
      "Training VGG16:  21%|██        | 21/100 [27:10<1:41:12, 76.86s/it]\u001b[A"
     ]
    },
    {
     "name": "stdout",
     "output_type": "stream",
     "text": [
      "Metrics -> F1-Score: 0.8234, Precision: 0.8351, Recall: 0.8368\n",
      "Sensitivity -> Class 0: 0.8833 Class 1: 0.4804 Class 2: 0.9778 Class 3: 0.9633\n",
      "Confusion Matrix:\n",
      "[[265  28   1   6]\n",
      " [ 70 147  53  36]\n",
      " [  3   4 396   2]\n",
      " [  8   1   2 289]]\n",
      "Epoch 21/100 - VGG16\n",
      "Train Loss: 0.3993, Train Accuracy: 0.8472\n",
      "Val Loss: 0.4009, Val Accuracy: 0.8368\n",
      "Train F1: 0.8459, Val F1: 0.8234\n",
      "Metrics -> F1-Score: 0.8549, Precision: 0.8543, Recall: 0.8557\n",
      "Sensitivity -> Class 0: 0.8191 Class 1: 0.7184 Class 2: 0.9574 Class 3: 0.9039\n",
      "Confusion Matrix:\n",
      "[[1082  193   16   30]\n",
      " [ 172  962   69  136]\n",
      " [  13   37 1527   18]\n",
      " [  26  106    8 1317]]\n",
      "Metrics -> F1-Score: 0.8570, Precision: 0.8565, Recall: 0.8604\n",
      "Sensitivity -> Class 0: 0.8100 Class 1: 0.6797 Class 2: 0.9704 Class 3: 0.9467\n",
      "Confusion Matrix:\n",
      "[[243  49   1   7]\n",
      " [ 31 208  40  27]\n",
      " [  6   4 393   2]\n",
      " [  6   7   3 284]]\n",
      "Epoch 22/100 - VGG16\n",
      "Train Loss: 0.3779, Train Accuracy: 0.8557\n",
      "Val Loss: 0.3561, Val Accuracy: 0.8604\n",
      "Train F1: 0.8549, Val F1: 0.8570\n"
     ]
    },
    {
     "name": "stderr",
     "output_type": "stream",
     "text": [
      "\n",
      "Training VGG16:  22%|██▏       | 22/100 [28:28<1:40:23, 77.23s/it]\u001b[A"
     ]
    },
    {
     "name": "stdout",
     "output_type": "stream",
     "text": [
      "Best model for VGG16 saved at /kaggle/working/VGG16_best.pth with F1-score: 0.8570\n",
      "Metrics -> F1-Score: 0.8611, Precision: 0.8606, Recall: 0.8620\n",
      "Sensitivity -> Class 0: 0.8365 Class 1: 0.7304 Class 2: 0.9524 Class 3: 0.9073\n",
      "Confusion Matrix:\n",
      "[[1105  168   15   33]\n",
      " [ 151  978   69  141]\n",
      " [  10   45 1519   21]\n",
      " [  30   92   13 1322]]\n",
      "Metrics -> F1-Score: 0.8650, Precision: 0.8645, Recall: 0.8680\n",
      "Sensitivity -> Class 0: 0.8333 Class 1: 0.6895 Class 2: 0.9679 Class 3: 0.9500\n",
      "Confusion Matrix:\n",
      "[[250  44   1   5]\n",
      " [ 33 211  35  27]\n",
      " [  5   5 392   3]\n",
      " [  8   7   0 285]]\n",
      "Epoch 23/100 - VGG16\n",
      "Train Loss: 0.3729, Train Accuracy: 0.8620\n",
      "Val Loss: 0.3497, Val Accuracy: 0.8680\n",
      "Train F1: 0.8611, Val F1: 0.8650\n"
     ]
    },
    {
     "name": "stderr",
     "output_type": "stream",
     "text": [
      "\n",
      "Training VGG16:  23%|██▎       | 23/100 [29:46<1:39:30, 77.54s/it]\u001b[A"
     ]
    },
    {
     "name": "stdout",
     "output_type": "stream",
     "text": [
      "Best model for VGG16 saved at /kaggle/working/VGG16_best.pth with F1-score: 0.8650\n",
      "Metrics -> F1-Score: 0.8576, Precision: 0.8569, Recall: 0.8587\n",
      "Sensitivity -> Class 0: 0.8198 Class 1: 0.7222 Class 2: 0.9630 Class 3: 0.9053\n",
      "Confusion Matrix:\n",
      "[[1083  182   18   38]\n",
      " [ 168  967   62  142]\n",
      " [  10   32 1536   17]\n",
      " [  32   95   11 1319]]\n",
      "Metrics -> F1-Score: 0.8746, Precision: 0.8762, Recall: 0.8764\n",
      "Sensitivity -> Class 0: 0.7867 Class 1: 0.7549 Class 2: 0.9605 Class 3: 0.9767\n",
      "Confusion Matrix:\n",
      "[[236  54   1   9]\n",
      " [ 16 231  30  29]\n",
      " [  5  10 389   1]\n",
      " [  2   4   1 293]]\n",
      "Epoch 24/100 - VGG16\n",
      "Train Loss: 0.3785, Train Accuracy: 0.8587\n",
      "Val Loss: 0.3476, Val Accuracy: 0.8764\n",
      "Train F1: 0.8576, Val F1: 0.8746\n"
     ]
    },
    {
     "name": "stderr",
     "output_type": "stream",
     "text": [
      "\n",
      "Training VGG16:  24%|██▍       | 24/100 [31:04<1:38:17, 77.60s/it]\u001b[A"
     ]
    },
    {
     "name": "stdout",
     "output_type": "stream",
     "text": [
      "Best model for VGG16 saved at /kaggle/working/VGG16_best.pth with F1-score: 0.8746\n",
      "Metrics -> F1-Score: 0.8513, Precision: 0.8510, Recall: 0.8521\n",
      "Sensitivity -> Class 0: 0.8145 Class 1: 0.7184 Class 2: 0.9480 Class 3: 0.9039\n",
      "Confusion Matrix:\n",
      "[[1076  191   11   43]\n",
      " [ 162  962   68  147]\n",
      " [  21   42 1512   20]\n",
      " [  30  103    7 1317]]\n"
     ]
    },
    {
     "name": "stderr",
     "output_type": "stream",
     "text": [
      "\n",
      "Training VGG16:  25%|██▌       | 25/100 [32:20<1:36:30, 77.21s/it]\u001b[A"
     ]
    },
    {
     "name": "stdout",
     "output_type": "stream",
     "text": [
      "Metrics -> F1-Score: 0.8636, Precision: 0.8664, Recall: 0.8673\n",
      "Sensitivity -> Class 0: 0.7667 Class 1: 0.7059 Class 2: 0.9827 Class 3: 0.9767\n",
      "Confusion Matrix:\n",
      "[[230  56   1  13]\n",
      " [ 18 216  46  26]\n",
      " [  1   3 398   3]\n",
      " [  1   5   1 293]]\n",
      "Epoch 25/100 - VGG16\n",
      "Train Loss: 0.3900, Train Accuracy: 0.8521\n",
      "Val Loss: 0.3466, Val Accuracy: 0.8673\n",
      "Train F1: 0.8513, Val F1: 0.8636\n",
      "Metrics -> F1-Score: 0.8504, Precision: 0.8497, Recall: 0.8515\n",
      "Sensitivity -> Class 0: 0.8251 Class 1: 0.7080 Class 2: 0.9517 Class 3: 0.8977\n",
      "Confusion Matrix:\n",
      "[[1090  181   15   35]\n",
      " [ 169  948   76  146]\n",
      " [  13   44 1518   20]\n",
      " [  27  103   19 1308]]\n"
     ]
    },
    {
     "name": "stderr",
     "output_type": "stream",
     "text": [
      "\n",
      "Training VGG16:  26%|██▌       | 26/100 [33:36<1:34:52, 76.92s/it]\u001b[A"
     ]
    },
    {
     "name": "stdout",
     "output_type": "stream",
     "text": [
      "Metrics -> F1-Score: 0.8484, Precision: 0.8494, Recall: 0.8543\n",
      "Sensitivity -> Class 0: 0.8167 Class 1: 0.6176 Class 2: 0.9778 Class 3: 0.9667\n",
      "Confusion Matrix:\n",
      "[[245  48   0   7]\n",
      " [ 32 189  48  37]\n",
      " [  2   4 396   3]\n",
      " [  2   5   3 290]]\n",
      "Epoch 26/100 - VGG16\n",
      "Train Loss: 0.3970, Train Accuracy: 0.8515\n",
      "Val Loss: 0.3568, Val Accuracy: 0.8543\n",
      "Train F1: 0.8504, Val F1: 0.8484\n",
      "Metrics -> F1-Score: 0.8511, Precision: 0.8504, Recall: 0.8522\n",
      "Sensitivity -> Class 0: 0.8282 Class 1: 0.7020 Class 2: 0.9505 Class 3: 0.9046\n",
      "Confusion Matrix:\n",
      "[[1094  181   12   34]\n",
      " [ 180  940   75  144]\n",
      " [  15   44 1516   20]\n",
      " [  23  106   10 1318]]\n"
     ]
    },
    {
     "name": "stderr",
     "output_type": "stream",
     "text": [
      "\n",
      "Training VGG16:  27%|██▋       | 27/100 [34:53<1:33:38, 76.97s/it]\u001b[A"
     ]
    },
    {
     "name": "stdout",
     "output_type": "stream",
     "text": [
      "Metrics -> F1-Score: 0.8620, Precision: 0.8638, Recall: 0.8635\n",
      "Sensitivity -> Class 0: 0.7633 Class 1: 0.7418 Class 2: 0.9605 Class 3: 0.9567\n",
      "Confusion Matrix:\n",
      "[[229  63   2   6]\n",
      " [ 22 227  30  27]\n",
      " [  3   9 389   4]\n",
      " [  2  11   0 287]]\n",
      "Epoch 27/100 - VGG16\n",
      "Train Loss: 0.3859, Train Accuracy: 0.8522\n",
      "Val Loss: 0.3711, Val Accuracy: 0.8635\n",
      "Train F1: 0.8511, Val F1: 0.8620\n",
      "Metrics -> F1-Score: 0.8464, Precision: 0.8461, Recall: 0.8477\n",
      "Sensitivity -> Class 0: 0.8160 Class 1: 0.6960 Class 2: 0.9517 Class 3: 0.9019\n",
      "Confusion Matrix:\n",
      "[[1078  193    9   41]\n",
      " [ 158  932   68  181]\n",
      " [   9   37 1518   31]\n",
      " [  29   99   15 1314]]\n",
      "Metrics -> F1-Score: 0.8753, Precision: 0.8749, Recall: 0.8780\n",
      "Sensitivity -> Class 0: 0.8367 Class 1: 0.7124 Class 2: 0.9753 Class 3: 0.9567\n",
      "Confusion Matrix:\n",
      "[[251  43   1   5]\n",
      " [ 29 218  37  22]\n",
      " [  3   5 395   2]\n",
      " [  2  10   1 287]]\n",
      "Epoch 28/100 - VGG16\n",
      "Train Loss: 0.4016, Train Accuracy: 0.8477\n",
      "Val Loss: 0.3441, Val Accuracy: 0.8780\n",
      "Train F1: 0.8464, Val F1: 0.8753\n"
     ]
    },
    {
     "name": "stderr",
     "output_type": "stream",
     "text": [
      "\n",
      "Training VGG16:  28%|██▊       | 28/100 [36:12<1:33:01, 77.52s/it]\u001b[A"
     ]
    },
    {
     "name": "stdout",
     "output_type": "stream",
     "text": [
      "Best model for VGG16 saved at /kaggle/working/VGG16_best.pth with F1-score: 0.8753\n",
      "Metrics -> F1-Score: 0.8506, Precision: 0.8501, Recall: 0.8514\n",
      "Sensitivity -> Class 0: 0.8206 Class 1: 0.7192 Class 2: 0.9530 Class 3: 0.8895\n",
      "Confusion Matrix:\n",
      "[[1084  180   19   38]\n",
      " [ 188  963   61  127]\n",
      " [  17   35 1520   23]\n",
      " [  34  113   14 1296]]\n"
     ]
    },
    {
     "name": "stderr",
     "output_type": "stream",
     "text": [
      "\n",
      "Training VGG16:  29%|██▉       | 29/100 [37:29<1:31:29, 77.31s/it]\u001b[A"
     ]
    },
    {
     "name": "stdout",
     "output_type": "stream",
     "text": [
      "Metrics -> F1-Score: 0.8486, Precision: 0.8499, Recall: 0.8535\n",
      "Sensitivity -> Class 0: 0.8000 Class 1: 0.6373 Class 2: 0.9704 Class 3: 0.9700\n",
      "Confusion Matrix:\n",
      "[[240  51   0   9]\n",
      " [ 28 195  39  44]\n",
      " [  4   4 393   4]\n",
      " [  3   5   1 291]]\n",
      "Epoch 29/100 - VGG16\n",
      "Train Loss: 0.3867, Train Accuracy: 0.8514\n",
      "Val Loss: 0.3621, Val Accuracy: 0.8535\n",
      "Train F1: 0.8506, Val F1: 0.8486\n",
      "Metrics -> F1-Score: 0.8448, Precision: 0.8442, Recall: 0.8456\n",
      "Sensitivity -> Class 0: 0.8145 Class 1: 0.7087 Class 2: 0.9530 Class 3: 0.8819\n",
      "Confusion Matrix:\n",
      "[[1076  188   14   43]\n",
      " [ 161  949   77  152]\n",
      " [  17   35 1520   23]\n",
      " [  39  124    9 1285]]\n"
     ]
    },
    {
     "name": "stderr",
     "output_type": "stream",
     "text": [
      "\n",
      "Training VGG16:  30%|███       | 30/100 [38:46<1:30:09, 77.27s/it]\u001b[A"
     ]
    },
    {
     "name": "stdout",
     "output_type": "stream",
     "text": [
      "Metrics -> F1-Score: 0.8595, Precision: 0.8609, Recall: 0.8635\n",
      "Sensitivity -> Class 0: 0.8067 Class 1: 0.6699 Class 2: 0.9630 Class 3: 0.9833\n",
      "Confusion Matrix:\n",
      "[[242  50   0   8]\n",
      " [ 23 205  41  37]\n",
      " [  2   9 390   4]\n",
      " [  2   2   1 295]]\n",
      "Epoch 30/100 - VGG16\n",
      "Train Loss: 0.3977, Train Accuracy: 0.8456\n",
      "Val Loss: 0.3383, Val Accuracy: 0.8635\n",
      "Train F1: 0.8448, Val F1: 0.8595\n",
      "Metrics -> F1-Score: 0.8551, Precision: 0.8548, Recall: 0.8561\n",
      "Sensitivity -> Class 0: 0.8160 Class 1: 0.7177 Class 2: 0.9530 Class 3: 0.9135\n",
      "Confusion Matrix:\n",
      "[[1078  191   10   42]\n",
      " [ 159  961   69  150]\n",
      " [  11   39 1520   25]\n",
      " [  20   98    8 1331]]\n"
     ]
    },
    {
     "name": "stderr",
     "output_type": "stream",
     "text": [
      "\n",
      "Training VGG16:  31%|███       | 31/100 [40:03<1:28:51, 77.27s/it]\u001b[A"
     ]
    },
    {
     "name": "stdout",
     "output_type": "stream",
     "text": [
      "Metrics -> F1-Score: 0.8556, Precision: 0.8561, Recall: 0.8596\n",
      "Sensitivity -> Class 0: 0.8033 Class 1: 0.6667 Class 2: 0.9778 Class 3: 0.9533\n",
      "Confusion Matrix:\n",
      "[[241  50   1   8]\n",
      " [ 25 204  43  34]\n",
      " [  4   3 396   2]\n",
      " [  3   9   2 286]]\n",
      "Epoch 31/100 - VGG16\n",
      "Train Loss: 0.3749, Train Accuracy: 0.8561\n",
      "Val Loss: 0.3483, Val Accuracy: 0.8596\n",
      "Train F1: 0.8551, Val F1: 0.8556\n",
      "Metrics -> F1-Score: 0.8591, Precision: 0.8584, Recall: 0.8603\n",
      "Sensitivity -> Class 0: 0.8266 Class 1: 0.7214 Class 2: 0.9599 Class 3: 0.9094\n",
      "Confusion Matrix:\n",
      "[[1092  191   10   28]\n",
      " [ 153  966   85  135]\n",
      " [  12   37 1531   15]\n",
      " [  28   87   17 1325]]\n"
     ]
    },
    {
     "name": "stderr",
     "output_type": "stream",
     "text": [
      "\n",
      "Training VGG16:  32%|███▏      | 32/100 [41:21<1:27:41, 77.38s/it]\u001b[A"
     ]
    },
    {
     "name": "stdout",
     "output_type": "stream",
     "text": [
      "Metrics -> F1-Score: 0.8708, Precision: 0.8739, Recall: 0.8711\n",
      "Sensitivity -> Class 0: 0.7733 Class 1: 0.7876 Class 2: 0.9506 Class 3: 0.9467\n",
      "Confusion Matrix:\n",
      "[[232  62   1   5]\n",
      " [ 14 241  28  23]\n",
      " [  5  12 385   3]\n",
      " [  3  12   1 284]]\n",
      "Epoch 32/100 - VGG16\n",
      "Train Loss: 0.3691, Train Accuracy: 0.8603\n",
      "Val Loss: 0.3381, Val Accuracy: 0.8711\n",
      "Train F1: 0.8591, Val F1: 0.8708\n",
      "Metrics -> F1-Score: 0.8528, Precision: 0.8524, Recall: 0.8540\n",
      "Sensitivity -> Class 0: 0.8153 Class 1: 0.7147 Class 2: 0.9492 Class 3: 0.9128\n",
      "Confusion Matrix:\n",
      "[[1077  189   14   41]\n",
      " [ 158  957   68  156]\n",
      " [  15   44 1514   22]\n",
      " [  27   84   16 1330]]\n"
     ]
    },
    {
     "name": "stderr",
     "output_type": "stream",
     "text": [
      "\n",
      "Training VGG16:  33%|███▎      | 33/100 [42:38<1:26:16, 77.25s/it]\u001b[A"
     ]
    },
    {
     "name": "stdout",
     "output_type": "stream",
     "text": [
      "Metrics -> F1-Score: 0.8613, Precision: 0.8612, Recall: 0.8650\n",
      "Sensitivity -> Class 0: 0.8333 Class 1: 0.6732 Class 2: 0.9704 Class 3: 0.9500\n",
      "Confusion Matrix:\n",
      "[[250  43   1   6]\n",
      " [ 30 206  45  25]\n",
      " [  5   5 393   2]\n",
      " [  6   7   2 285]]\n",
      "Epoch 33/100 - VGG16\n",
      "Train Loss: 0.3784, Train Accuracy: 0.8540\n",
      "Val Loss: 0.3554, Val Accuracy: 0.8650\n",
      "Train F1: 0.8528, Val F1: 0.8613\n",
      "Metrics -> F1-Score: 0.8485, Precision: 0.8477, Recall: 0.8498\n",
      "Sensitivity -> Class 0: 0.8244 Class 1: 0.6908 Class 2: 0.9549 Class 3: 0.9039\n",
      "Confusion Matrix:\n",
      "[[1089  194   10   28]\n",
      " [ 191  925   67  156]\n",
      " [  12   43 1523   17]\n",
      " [  25  100   15 1317]]\n"
     ]
    },
    {
     "name": "stderr",
     "output_type": "stream",
     "text": [
      "\n",
      "Training VGG16:  34%|███▍      | 34/100 [43:55<1:24:49, 77.12s/it]\u001b[A"
     ]
    },
    {
     "name": "stdout",
     "output_type": "stream",
     "text": [
      "Metrics -> F1-Score: 0.8583, Precision: 0.8590, Recall: 0.8635\n",
      "Sensitivity -> Class 0: 0.8433 Class 1: 0.6373 Class 2: 0.9802 Class 3: 0.9567\n",
      "Confusion Matrix:\n",
      "[[253  42   1   4]\n",
      " [ 42 195  40  29]\n",
      " [  3   3 397   2]\n",
      " [  7   4   2 287]]\n",
      "Epoch 34/100 - VGG16\n",
      "Train Loss: 0.3778, Train Accuracy: 0.8498\n",
      "Val Loss: 0.3464, Val Accuracy: 0.8635\n",
      "Train F1: 0.8485, Val F1: 0.8583\n",
      "Metrics -> F1-Score: 0.8548, Precision: 0.8541, Recall: 0.8557\n",
      "Sensitivity -> Class 0: 0.8327 Class 1: 0.7095 Class 2: 0.9536 Class 3: 0.9039\n",
      "Confusion Matrix:\n",
      "[[1100  180   16   25]\n",
      " [ 167  950   69  153]\n",
      " [   9   45 1521   20]\n",
      " [  25  107    8 1317]]\n",
      "Metrics -> F1-Score: 0.8780, Precision: 0.8787, Recall: 0.8795\n",
      "Sensitivity -> Class 0: 0.8000 Class 1: 0.7647 Class 2: 0.9753 Class 3: 0.9467\n",
      "Confusion Matrix:\n",
      "[[240  55   0   5]\n",
      " [ 18 234  36  18]\n",
      " [  2   4 395   4]\n",
      " [  6   8   2 284]]\n",
      "Epoch 35/100 - VGG16\n",
      "Train Loss: 0.3775, Train Accuracy: 0.8557\n",
      "Val Loss: 0.3316, Val Accuracy: 0.8795\n",
      "Train F1: 0.8548, Val F1: 0.8780\n"
     ]
    },
    {
     "name": "stderr",
     "output_type": "stream",
     "text": [
      "\n",
      "Training VGG16:  35%|███▌      | 35/100 [45:13<1:23:53, 77.43s/it]\u001b[A"
     ]
    },
    {
     "name": "stdout",
     "output_type": "stream",
     "text": [
      "Best model for VGG16 saved at /kaggle/working/VGG16_best.pth with F1-score: 0.8780\n",
      "Metrics -> F1-Score: 0.8553, Precision: 0.8550, Recall: 0.8559\n",
      "Sensitivity -> Class 0: 0.8221 Class 1: 0.7274 Class 2: 0.9542 Class 3: 0.8970\n",
      "Confusion Matrix:\n",
      "[[1086  191   13   31]\n",
      " [ 153  974   68  144]\n",
      " [   7   42 1522   24]\n",
      " [  25  109   16 1307]]\n"
     ]
    },
    {
     "name": "stderr",
     "output_type": "stream",
     "text": [
      "\n",
      "Training VGG16:  36%|███▌      | 36/100 [46:30<1:22:35, 77.43s/it]\u001b[A"
     ]
    },
    {
     "name": "stdout",
     "output_type": "stream",
     "text": [
      "Metrics -> F1-Score: 0.8467, Precision: 0.8467, Recall: 0.8513\n",
      "Sensitivity -> Class 0: 0.7900 Class 1: 0.6503 Class 2: 0.9679 Class 3: 0.9600\n",
      "Confusion Matrix:\n",
      "[[237  53   0  10]\n",
      " [ 35 199  40  32]\n",
      " [  6   3 392   4]\n",
      " [  4   5   3 288]]\n",
      "Epoch 36/100 - VGG16\n",
      "Train Loss: 0.3684, Train Accuracy: 0.8559\n",
      "Val Loss: 0.3506, Val Accuracy: 0.8513\n",
      "Train F1: 0.8553, Val F1: 0.8467\n",
      "Metrics -> F1-Score: 0.8556, Precision: 0.8553, Recall: 0.8563\n",
      "Sensitivity -> Class 0: 0.8229 Class 1: 0.7282 Class 2: 0.9473 Class 3: 0.9046\n",
      "Confusion Matrix:\n",
      "[[1087  190   13   31]\n",
      " [ 153  975   68  143]\n",
      " [  16   43 1511   25]\n",
      " [  33   97    9 1318]]\n"
     ]
    },
    {
     "name": "stderr",
     "output_type": "stream",
     "text": [
      "\n",
      "Training VGG16:  37%|███▋      | 37/100 [47:47<1:21:11, 77.32s/it]\u001b[A"
     ]
    },
    {
     "name": "stdout",
     "output_type": "stream",
     "text": [
      "Metrics -> F1-Score: 0.8647, Precision: 0.8650, Recall: 0.8650\n",
      "Sensitivity -> Class 0: 0.8033 Class 1: 0.7549 Class 2: 0.9358 Class 3: 0.9433\n",
      "Confusion Matrix:\n",
      "[[241  54   0   5]\n",
      " [ 29 231  25  21]\n",
      " [  8  13 379   5]\n",
      " [  4  13   0 283]]\n",
      "Epoch 37/100 - VGG16\n",
      "Train Loss: 0.3773, Train Accuracy: 0.8563\n",
      "Val Loss: 0.3553, Val Accuracy: 0.8650\n",
      "Train F1: 0.8556, Val F1: 0.8647\n",
      "Metrics -> F1-Score: 0.8603, Precision: 0.8601, Recall: 0.8608\n",
      "Sensitivity -> Class 0: 0.8191 Class 1: 0.7394 Class 2: 0.9580 Class 3: 0.9039\n",
      "Confusion Matrix:\n",
      "[[1082  198    9   32]\n",
      " [ 151  990   62  136]\n",
      " [   8   44 1528   15]\n",
      " [  38   92   10 1317]]\n"
     ]
    },
    {
     "name": "stderr",
     "output_type": "stream",
     "text": [
      "\n",
      "Training VGG16:  38%|███▊      | 38/100 [49:04<1:19:46, 77.20s/it]\u001b[A"
     ]
    },
    {
     "name": "stdout",
     "output_type": "stream",
     "text": [
      "Metrics -> F1-Score: 0.8656, Precision: 0.8665, Recall: 0.8696\n",
      "Sensitivity -> Class 0: 0.8100 Class 1: 0.6830 Class 2: 0.9753 Class 3: 0.9767\n",
      "Confusion Matrix:\n",
      "[[243  45   1  11]\n",
      " [ 29 209  35  33]\n",
      " [  4   3 395   3]\n",
      " [  4   3   0 293]]\n",
      "Epoch 38/100 - VGG16\n",
      "Train Loss: 0.3663, Train Accuracy: 0.8608\n",
      "Val Loss: 0.3398, Val Accuracy: 0.8696\n",
      "Train F1: 0.8603, Val F1: 0.8656\n",
      "Metrics -> F1-Score: 0.8623, Precision: 0.8616, Recall: 0.8636\n",
      "Sensitivity -> Class 0: 0.8403 Class 1: 0.7214 Class 2: 0.9649 Class 3: 0.9046\n",
      "Confusion Matrix:\n",
      "[[1110  169   11   31]\n",
      " [ 158  966   70  145]\n",
      " [  15   28 1539   13]\n",
      " [  31   93   15 1318]]\n"
     ]
    },
    {
     "name": "stderr",
     "output_type": "stream",
     "text": [
      "\n",
      "Training VGG16:  39%|███▉      | 39/100 [50:21<1:18:22, 77.09s/it]\u001b[A"
     ]
    },
    {
     "name": "stdout",
     "output_type": "stream",
     "text": [
      "Metrics -> F1-Score: 0.8722, Precision: 0.8744, Recall: 0.8734\n",
      "Sensitivity -> Class 0: 0.7800 Class 1: 0.7680 Class 2: 0.9654 Class 3: 0.9500\n",
      "Confusion Matrix:\n",
      "[[234  57   0   9]\n",
      " [ 16 235  34  21]\n",
      " [  5   6 391   3]\n",
      " [  0  14   1 285]]\n",
      "Epoch 39/100 - VGG16\n",
      "Train Loss: 0.3610, Train Accuracy: 0.8636\n",
      "Val Loss: 0.3614, Val Accuracy: 0.8734\n",
      "Train F1: 0.8623, Val F1: 0.8722\n",
      "Metrics -> F1-Score: 0.8536, Precision: 0.8533, Recall: 0.8542\n",
      "Sensitivity -> Class 0: 0.8259 Class 1: 0.7259 Class 2: 0.9511 Class 3: 0.8916\n",
      "Confusion Matrix:\n",
      "[[1091  176   10   44]\n",
      " [ 151  972   64  152]\n",
      " [  12   47 1517   19]\n",
      " [  26  113   19 1299]]\n"
     ]
    },
    {
     "name": "stderr",
     "output_type": "stream",
     "text": [
      "\n",
      "Training VGG16:  40%|████      | 40/100 [51:38<1:17:03, 77.07s/it]\u001b[A"
     ]
    },
    {
     "name": "stdout",
     "output_type": "stream",
     "text": [
      "Metrics -> F1-Score: 0.8724, Precision: 0.8716, Recall: 0.8749\n",
      "Sensitivity -> Class 0: 0.8400 Class 1: 0.7026 Class 2: 0.9605 Class 3: 0.9700\n",
      "Confusion Matrix:\n",
      "[[252  46   0   2]\n",
      " [ 39 215  28  24]\n",
      " [  7   6 389   3]\n",
      " [  1   7   1 291]]\n",
      "Epoch 40/100 - VGG16\n",
      "Train Loss: 0.3794, Train Accuracy: 0.8542\n",
      "Val Loss: 0.3173, Val Accuracy: 0.8749\n",
      "Train F1: 0.8536, Val F1: 0.8724\n",
      "Metrics -> F1-Score: 0.8608, Precision: 0.8605, Recall: 0.8617\n",
      "Sensitivity -> Class 0: 0.8486 Class 1: 0.7244 Class 2: 0.9542 Class 3: 0.8984\n",
      "Confusion Matrix:\n",
      "[[1121  158    9   33]\n",
      " [ 155  970   58  156]\n",
      " [  18   34 1522   21]\n",
      " [  35  104    9 1309]]\n"
     ]
    },
    {
     "name": "stderr",
     "output_type": "stream",
     "text": [
      "\n",
      "Training VGG16:  41%|████      | 41/100 [52:56<1:15:57, 77.24s/it]\u001b[A"
     ]
    },
    {
     "name": "stdout",
     "output_type": "stream",
     "text": [
      "Metrics -> F1-Score: 0.8712, Precision: 0.8715, Recall: 0.8749\n",
      "Sensitivity -> Class 0: 0.8233 Class 1: 0.6928 Class 2: 0.9802 Class 3: 0.9700\n",
      "Confusion Matrix:\n",
      "[[247  44   1   8]\n",
      " [ 31 212  36  27]\n",
      " [  2   3 397   3]\n",
      " [  5   3   1 291]]\n",
      "Epoch 41/100 - VGG16\n",
      "Train Loss: 0.3632, Train Accuracy: 0.8617\n",
      "Val Loss: 0.3315, Val Accuracy: 0.8749\n",
      "Train F1: 0.8608, Val F1: 0.8712\n",
      "Metrics -> F1-Score: 0.8609, Precision: 0.8603, Recall: 0.8619\n",
      "Sensitivity -> Class 0: 0.8236 Class 1: 0.7326 Class 2: 0.9611 Class 3: 0.9067\n",
      "Confusion Matrix:\n",
      "[[1088  180   13   40]\n",
      " [ 156  981   66  136]\n",
      " [  16   29 1533   17]\n",
      " [  24   96   16 1321]]\n"
     ]
    },
    {
     "name": "stderr",
     "output_type": "stream",
     "text": [
      "\n",
      "Training VGG16:  42%|████▏     | 42/100 [54:13<1:14:37, 77.21s/it]\u001b[A"
     ]
    },
    {
     "name": "stdout",
     "output_type": "stream",
     "text": [
      "Metrics -> F1-Score: 0.8540, Precision: 0.8596, Recall: 0.8604\n",
      "Sensitivity -> Class 0: 0.8367 Class 1: 0.6144 Class 2: 0.9679 Class 3: 0.9900\n",
      "Confusion Matrix:\n",
      "[[251  34   0  15]\n",
      " [ 29 188  43  46]\n",
      " [  4   5 392   4]\n",
      " [  2   0   1 297]]\n",
      "Epoch 42/100 - VGG16\n",
      "Train Loss: 0.3644, Train Accuracy: 0.8619\n",
      "Val Loss: 0.3401, Val Accuracy: 0.8604\n",
      "Train F1: 0.8609, Val F1: 0.8540\n",
      "Metrics -> F1-Score: 0.8610, Precision: 0.8605, Recall: 0.8620\n",
      "Sensitivity -> Class 0: 0.8327 Class 1: 0.7274 Class 2: 0.9555 Class 3: 0.9101\n",
      "Confusion Matrix:\n",
      "[[1100  174   19   28]\n",
      " [ 152  974   71  142]\n",
      " [  11   35 1524   25]\n",
      " [  16  103   12 1326]]\n"
     ]
    },
    {
     "name": "stderr",
     "output_type": "stream",
     "text": [
      "\n",
      "Training VGG16:  43%|████▎     | 43/100 [55:30<1:13:21, 77.22s/it]\u001b[A"
     ]
    },
    {
     "name": "stdout",
     "output_type": "stream",
     "text": [
      "Metrics -> F1-Score: 0.8563, Precision: 0.8560, Recall: 0.8612\n",
      "Sensitivity -> Class 0: 0.8300 Class 1: 0.6373 Class 2: 0.9753 Class 3: 0.9667\n",
      "Confusion Matrix:\n",
      "[[249  45   0   6]\n",
      " [ 44 195  38  29]\n",
      " [  4   4 395   2]\n",
      " [  3   7   0 290]]\n",
      "Epoch 43/100 - VGG16\n",
      "Train Loss: 0.3717, Train Accuracy: 0.8620\n",
      "Val Loss: 0.3546, Val Accuracy: 0.8612\n",
      "Train F1: 0.8610, Val F1: 0.8563\n",
      "Metrics -> F1-Score: 0.8617, Precision: 0.8615, Recall: 0.8620\n",
      "Sensitivity -> Class 0: 0.8289 Class 1: 0.7423 Class 2: 0.9542 Class 3: 0.9012\n",
      "Confusion Matrix:\n",
      "[[1095  182   12   32]\n",
      " [ 146  994   57  142]\n",
      " [  14   37 1522   22]\n",
      " [  25  110    9 1313]]\n"
     ]
    },
    {
     "name": "stderr",
     "output_type": "stream",
     "text": [
      "\n",
      "Training VGG16:  44%|████▍     | 44/100 [56:47<1:11:53, 77.03s/it]\u001b[A"
     ]
    },
    {
     "name": "stdout",
     "output_type": "stream",
     "text": [
      "Metrics -> F1-Score: 0.8522, Precision: 0.8565, Recall: 0.8581\n",
      "Sensitivity -> Class 0: 0.8533 Class 1: 0.6144 Class 2: 0.9556 Class 3: 0.9800\n",
      "Confusion Matrix:\n",
      "[[256  33   0  11]\n",
      " [ 42 188  35  41]\n",
      " [  6   5 387   7]\n",
      " [  3   2   1 294]]\n",
      "Epoch 44/100 - VGG16\n",
      "Train Loss: 0.3597, Train Accuracy: 0.8620\n",
      "Val Loss: 0.3393, Val Accuracy: 0.8581\n",
      "Train F1: 0.8617, Val F1: 0.8522\n",
      "Metrics -> F1-Score: 0.8562, Precision: 0.8558, Recall: 0.8568\n",
      "Sensitivity -> Class 0: 0.8213 Class 1: 0.7274 Class 2: 0.9511 Class 3: 0.9046\n",
      "Confusion Matrix:\n",
      "[[1085  193   11   32]\n",
      " [ 163  974   65  137]\n",
      " [  15   42 1517   21]\n",
      " [  26  100   13 1318]]\n"
     ]
    },
    {
     "name": "stderr",
     "output_type": "stream",
     "text": [
      "\n",
      "Training VGG16:  45%|████▌     | 45/100 [58:04<1:10:40, 77.10s/it]\u001b[A"
     ]
    },
    {
     "name": "stdout",
     "output_type": "stream",
     "text": [
      "Metrics -> F1-Score: 0.8607, Precision: 0.8605, Recall: 0.8650\n",
      "Sensitivity -> Class 0: 0.8300 Class 1: 0.6569 Class 2: 0.9704 Class 3: 0.9700\n",
      "Confusion Matrix:\n",
      "[[249  43   0   8]\n",
      " [ 42 201  37  26]\n",
      " [  3   7 393   2]\n",
      " [  4   4   1 291]]\n",
      "Epoch 45/100 - VGG16\n",
      "Train Loss: 0.3808, Train Accuracy: 0.8568\n",
      "Val Loss: 0.3535, Val Accuracy: 0.8650\n",
      "Train F1: 0.8562, Val F1: 0.8607\n",
      "Metrics -> F1-Score: 0.8598, Precision: 0.8594, Recall: 0.8605\n",
      "Sensitivity -> Class 0: 0.8297 Class 1: 0.7274 Class 2: 0.9561 Class 3: 0.9060\n",
      "Confusion Matrix:\n",
      "[[1096  197   10   18]\n",
      " [ 151  974   72  142]\n",
      " [  10   39 1525   21]\n",
      " [  26  100   11 1320]]\n"
     ]
    },
    {
     "name": "stderr",
     "output_type": "stream",
     "text": [
      "\n",
      "Training VGG16:  46%|████▌     | 46/100 [59:21<1:09:16, 76.97s/it]\u001b[A"
     ]
    },
    {
     "name": "stdout",
     "output_type": "stream",
     "text": [
      "Metrics -> F1-Score: 0.8615, Precision: 0.8643, Recall: 0.8673\n",
      "Sensitivity -> Class 0: 0.8567 Class 1: 0.6307 Class 2: 0.9778 Class 3: 0.9700\n",
      "Confusion Matrix:\n",
      "[[257  33   0  10]\n",
      " [ 36 193  45  32]\n",
      " [  3   3 396   3]\n",
      " [  4   4   1 291]]\n",
      "Epoch 46/100 - VGG16\n",
      "Train Loss: 0.3607, Train Accuracy: 0.8605\n",
      "Val Loss: 0.3384, Val Accuracy: 0.8673\n",
      "Train F1: 0.8598, Val F1: 0.8615\n",
      "Metrics -> F1-Score: 0.8561, Precision: 0.8556, Recall: 0.8570\n",
      "Sensitivity -> Class 0: 0.8297 Class 1: 0.7207 Class 2: 0.9549 Class 3: 0.8998\n",
      "Confusion Matrix:\n",
      "[[1096  175   14   36]\n",
      " [ 165  965   61  148]\n",
      " [  15   40 1523   17]\n",
      " [  28  105   13 1311]]\n"
     ]
    },
    {
     "name": "stderr",
     "output_type": "stream",
     "text": [
      "\n",
      "Training VGG16:  47%|████▋     | 47/100 [1:00:38<1:08:02, 77.02s/it]\u001b[A"
     ]
    },
    {
     "name": "stdout",
     "output_type": "stream",
     "text": [
      "Metrics -> F1-Score: 0.8735, Precision: 0.8753, Recall: 0.8757\n",
      "Sensitivity -> Class 0: 0.7867 Class 1: 0.7418 Class 2: 0.9679 Class 3: 0.9767\n",
      "Confusion Matrix:\n",
      "[[236  56   0   8]\n",
      " [ 16 227  36  27]\n",
      " [  4   7 392   2]\n",
      " [  1   6   0 293]]\n",
      "Epoch 47/100 - VGG16\n",
      "Train Loss: 0.3792, Train Accuracy: 0.8570\n",
      "Val Loss: 0.3400, Val Accuracy: 0.8757\n",
      "Train F1: 0.8561, Val F1: 0.8735\n",
      "Metrics -> F1-Score: 0.8621, Precision: 0.8616, Recall: 0.8631\n",
      "Sensitivity -> Class 0: 0.8221 Class 1: 0.7304 Class 2: 0.9618 Class 3: 0.9142\n",
      "Confusion Matrix:\n",
      "[[1086  190   13   32]\n",
      " [ 155  978   67  139]\n",
      " [  10   32 1534   19]\n",
      " [  22   92   11 1332]]\n"
     ]
    },
    {
     "name": "stderr",
     "output_type": "stream",
     "text": [
      "\n",
      "Training VGG16:  48%|████▊     | 48/100 [1:01:54<1:06:34, 76.82s/it]\u001b[A"
     ]
    },
    {
     "name": "stdout",
     "output_type": "stream",
     "text": [
      "Metrics -> F1-Score: 0.8706, Precision: 0.8703, Recall: 0.8734\n",
      "Sensitivity -> Class 0: 0.8433 Class 1: 0.7026 Class 2: 0.9802 Class 3: 0.9333\n",
      "Confusion Matrix:\n",
      "[[253  42   0   5]\n",
      " [ 25 215  43  23]\n",
      " [  3   4 397   1]\n",
      " [  9  10   1 280]]\n",
      "Epoch 48/100 - VGG16\n",
      "Train Loss: 0.3608, Train Accuracy: 0.8631\n",
      "Val Loss: 0.3473, Val Accuracy: 0.8734\n",
      "Train F1: 0.8621, Val F1: 0.8706\n",
      "Metrics -> F1-Score: 0.8639, Precision: 0.8633, Recall: 0.8650\n",
      "Sensitivity -> Class 0: 0.8478 Class 1: 0.7296 Class 2: 0.9592 Class 3: 0.9019\n",
      "Confusion Matrix:\n",
      "[[1120  152   18   31]\n",
      " [ 155  977   58  149]\n",
      " [  19   32 1530   14]\n",
      " [  30   95   18 1314]]\n"
     ]
    },
    {
     "name": "stderr",
     "output_type": "stream",
     "text": [
      "\n",
      "Training VGG16:  49%|████▉     | 49/100 [1:03:11<1:05:13, 76.74s/it]\u001b[A"
     ]
    },
    {
     "name": "stdout",
     "output_type": "stream",
     "text": [
      "Metrics -> F1-Score: 0.8705, Precision: 0.8759, Recall: 0.8711\n",
      "Sensitivity -> Class 0: 0.7433 Class 1: 0.7974 Class 2: 0.9580 Class 3: 0.9567\n",
      "Confusion Matrix:\n",
      "[[223  71   0   6]\n",
      " [ 13 244  25  24]\n",
      " [  3  10 388   4]\n",
      " [  1   9   3 287]]\n",
      "Epoch 49/100 - VGG16\n",
      "Train Loss: 0.3619, Train Accuracy: 0.8650\n",
      "Val Loss: 0.3462, Val Accuracy: 0.8711\n",
      "Train F1: 0.8639, Val F1: 0.8705\n",
      "Metrics -> F1-Score: 0.8541, Precision: 0.8536, Recall: 0.8547\n",
      "Sensitivity -> Class 0: 0.8221 Class 1: 0.7229 Class 2: 0.9498 Class 3: 0.9012\n",
      "Confusion Matrix:\n",
      "[[1086  190   14   31]\n",
      " [ 168  968   65  138]\n",
      " [  15   47 1515   18]\n",
      " [  35   99   10 1313]]\n"
     ]
    },
    {
     "name": "stderr",
     "output_type": "stream",
     "text": [
      "\n",
      "Training VGG16:  50%|█████     | 50/100 [1:04:27<1:03:53, 76.67s/it]\u001b[A"
     ]
    },
    {
     "name": "stdout",
     "output_type": "stream",
     "text": [
      "Metrics -> F1-Score: 0.8744, Precision: 0.8750, Recall: 0.8772\n",
      "Sensitivity -> Class 0: 0.8167 Class 1: 0.7157 Class 2: 0.9778 Class 3: 0.9667\n",
      "Confusion Matrix:\n",
      "[[245  49   0   6]\n",
      " [ 21 219  34  32]\n",
      " [  1   6 396   2]\n",
      " [  4   3   3 290]]\n",
      "Epoch 50/100 - VGG16\n",
      "Train Loss: 0.3822, Train Accuracy: 0.8547\n",
      "Val Loss: 0.3192, Val Accuracy: 0.8772\n",
      "Train F1: 0.8541, Val F1: 0.8744\n",
      "Metrics -> F1-Score: 0.8603, Precision: 0.8601, Recall: 0.8612\n",
      "Sensitivity -> Class 0: 0.8138 Class 1: 0.7431 Class 2: 0.9580 Class 3: 0.9067\n",
      "Confusion Matrix:\n",
      "[[1075  193   20   33]\n",
      " [ 135  995   70  139]\n",
      " [  15   35 1528   17]\n",
      " [  27   92   17 1321]]\n"
     ]
    },
    {
     "name": "stderr",
     "output_type": "stream",
     "text": [
      "\n",
      "Training VGG16:  51%|█████     | 51/100 [1:05:44<1:02:42, 76.79s/it]\u001b[A"
     ]
    },
    {
     "name": "stdout",
     "output_type": "stream",
     "text": [
      "Metrics -> F1-Score: 0.8659, Precision: 0.8659, Recall: 0.8688\n",
      "Sensitivity -> Class 0: 0.8267 Class 1: 0.6961 Class 2: 0.9679 Class 3: 0.9533\n",
      "Confusion Matrix:\n",
      "[[248  44   0   8]\n",
      " [ 25 213  40  28]\n",
      " [  3   8 392   2]\n",
      " [  3   8   3 286]]\n",
      "Epoch 51/100 - VGG16\n",
      "Train Loss: 0.3761, Train Accuracy: 0.8612\n",
      "Val Loss: 0.3310, Val Accuracy: 0.8688\n",
      "Train F1: 0.8603, Val F1: 0.8659\n",
      "Metrics -> F1-Score: 0.8527, Precision: 0.8523, Recall: 0.8535\n",
      "Sensitivity -> Class 0: 0.8183 Class 1: 0.7177 Class 2: 0.9524 Class 3: 0.9019\n",
      "Confusion Matrix:\n",
      "[[1081  189   18   33]\n",
      " [ 165  961   67  146]\n",
      " [  14   46 1519   16]\n",
      " [  26  109    8 1314]]\n"
     ]
    },
    {
     "name": "stderr",
     "output_type": "stream",
     "text": [
      "\n",
      "Training VGG16:  52%|█████▏    | 52/100 [1:07:01<1:01:25, 76.77s/it]\u001b[A"
     ]
    },
    {
     "name": "stdout",
     "output_type": "stream",
     "text": [
      "Metrics -> F1-Score: 0.8659, Precision: 0.8680, Recall: 0.8696\n",
      "Sensitivity -> Class 0: 0.8833 Class 1: 0.6569 Class 2: 0.9556 Class 3: 0.9567\n",
      "Confusion Matrix:\n",
      "[[265  31   0   4]\n",
      " [ 50 201  31  24]\n",
      " [  9   6 387   3]\n",
      " [  7   6   0 287]]\n",
      "Epoch 52/100 - VGG16\n",
      "Train Loss: 0.3867, Train Accuracy: 0.8535\n",
      "Val Loss: 0.3421, Val Accuracy: 0.8696\n",
      "Train F1: 0.8527, Val F1: 0.8659\n",
      "Metrics -> F1-Score: 0.8559, Precision: 0.8554, Recall: 0.8566\n",
      "Sensitivity -> Class 0: 0.8297 Class 1: 0.7222 Class 2: 0.9517 Class 3: 0.9005\n",
      "Confusion Matrix:\n",
      "[[1096  179    7   39]\n",
      " [ 166  967   65  141]\n",
      " [  12   41 1518   24]\n",
      " [  35   99   11 1312]]\n"
     ]
    },
    {
     "name": "stderr",
     "output_type": "stream",
     "text": [
      "\n",
      "Training VGG16:  53%|█████▎    | 53/100 [1:08:18<1:00:07, 76.75s/it]\u001b[A"
     ]
    },
    {
     "name": "stdout",
     "output_type": "stream",
     "text": [
      "Metrics -> F1-Score: 0.8746, Precision: 0.8742, Recall: 0.8772\n",
      "Sensitivity -> Class 0: 0.8400 Class 1: 0.7124 Class 2: 0.9630 Class 3: 0.9667\n",
      "Confusion Matrix:\n",
      "[[252  41   0   7]\n",
      " [ 30 218  34  24]\n",
      " [  5   7 390   3]\n",
      " [  5   5   0 290]]\n",
      "Epoch 53/100 - VGG16\n",
      "Train Loss: 0.3684, Train Accuracy: 0.8566\n",
      "Val Loss: 0.3283, Val Accuracy: 0.8772\n",
      "Train F1: 0.8559, Val F1: 0.8746\n",
      "Metrics -> F1-Score: 0.8469, Precision: 0.8463, Recall: 0.8477\n",
      "Sensitivity -> Class 0: 0.8198 Class 1: 0.7072 Class 2: 0.9536 Class 3: 0.8861\n",
      "Confusion Matrix:\n",
      "[[1083  186   13   39]\n",
      " [ 185  947   62  145]\n",
      " [  13   33 1521   28]\n",
      " [  34  121   11 1291]]\n"
     ]
    },
    {
     "name": "stderr",
     "output_type": "stream",
     "text": [
      "\n",
      "Training VGG16:  54%|█████▍    | 54/100 [1:09:35<58:53, 76.83s/it]  \u001b[A"
     ]
    },
    {
     "name": "stdout",
     "output_type": "stream",
     "text": [
      "Metrics -> F1-Score: 0.8729, Precision: 0.8733, Recall: 0.8764\n",
      "Sensitivity -> Class 0: 0.8333 Class 1: 0.6928 Class 2: 0.9852 Class 3: 0.9600\n",
      "Confusion Matrix:\n",
      "[[250  43   2   5]\n",
      " [ 27 212  42  25]\n",
      " [  2   2 399   2]\n",
      " [  1   9   2 288]]\n",
      "Epoch 54/100 - VGG16\n",
      "Train Loss: 0.3921, Train Accuracy: 0.8477\n",
      "Val Loss: 0.3205, Val Accuracy: 0.8764\n",
      "Train F1: 0.8469, Val F1: 0.8729\n",
      "Metrics -> F1-Score: 0.8582, Precision: 0.8575, Recall: 0.8592\n",
      "Sensitivity -> Class 0: 0.8198 Class 1: 0.7207 Class 2: 0.9611 Class 3: 0.9108\n",
      "Confusion Matrix:\n",
      "[[1083  194   14   30]\n",
      " [ 169  965   72  133]\n",
      " [   9   38 1533   15]\n",
      " [  22   95   13 1327]]\n"
     ]
    },
    {
     "name": "stderr",
     "output_type": "stream",
     "text": [
      "\n",
      "Training VGG16:  55%|█████▌    | 55/100 [1:10:52<57:41, 76.93s/it]\u001b[A"
     ]
    },
    {
     "name": "stdout",
     "output_type": "stream",
     "text": [
      "Metrics -> F1-Score: 0.8592, Precision: 0.8605, Recall: 0.8642\n",
      "Sensitivity -> Class 0: 0.8367 Class 1: 0.6438 Class 2: 0.9753 Class 3: 0.9667\n",
      "Confusion Matrix:\n",
      "[[251  40   0   9]\n",
      " [ 36 197  41  32]\n",
      " [  3   3 395   4]\n",
      " [  6   4   0 290]]\n",
      "Epoch 55/100 - VGG16\n",
      "Train Loss: 0.3690, Train Accuracy: 0.8592\n",
      "Val Loss: 0.3145, Val Accuracy: 0.8642\n",
      "Train F1: 0.8582, Val F1: 0.8592\n",
      "Metrics -> F1-Score: 0.8654, Precision: 0.8651, Recall: 0.8662\n",
      "Sensitivity -> Class 0: 0.8357 Class 1: 0.7356 Class 2: 0.9524 Class 3: 0.9197\n",
      "Confusion Matrix:\n",
      "[[1104  171    8   38]\n",
      " [ 164  985   60  130]\n",
      " [  15   41 1519   20]\n",
      " [  28   81    8 1340]]\n"
     ]
    },
    {
     "name": "stderr",
     "output_type": "stream",
     "text": [
      "\n",
      "Training VGG16:  56%|█████▌    | 56/100 [1:12:10<56:36, 77.19s/it]\u001b[A"
     ]
    },
    {
     "name": "stdout",
     "output_type": "stream",
     "text": [
      "Metrics -> F1-Score: 0.8706, Precision: 0.8709, Recall: 0.8711\n",
      "Sensitivity -> Class 0: 0.8233 Class 1: 0.7582 Class 2: 0.9679 Class 3: 0.9033\n",
      "Confusion Matrix:\n",
      "[[247  48   0   5]\n",
      " [ 23 232  37  14]\n",
      " [  4   8 392   1]\n",
      " [  9  20   0 271]]\n",
      "Epoch 56/100 - VGG16\n",
      "Train Loss: 0.3589, Train Accuracy: 0.8662\n",
      "Val Loss: 0.3325, Val Accuracy: 0.8711\n",
      "Train F1: 0.8654, Val F1: 0.8706\n",
      "Metrics -> F1-Score: 0.8561, Precision: 0.8555, Recall: 0.8571\n",
      "Sensitivity -> Class 0: 0.8327 Class 1: 0.7177 Class 2: 0.9599 Class 3: 0.8950\n",
      "Confusion Matrix:\n",
      "[[1100  167   13   41]\n",
      " [ 174  961   64  140]\n",
      " [  13   32 1531   19]\n",
      " [  35  109    9 1304]]\n"
     ]
    },
    {
     "name": "stderr",
     "output_type": "stream",
     "text": [
      "\n",
      "Training VGG16:  57%|█████▋    | 57/100 [1:13:27<55:16, 77.14s/it]\u001b[A"
     ]
    },
    {
     "name": "stdout",
     "output_type": "stream",
     "text": [
      "Metrics -> F1-Score: 0.8705, Precision: 0.8715, Recall: 0.8734\n",
      "Sensitivity -> Class 0: 0.8000 Class 1: 0.7157 Class 2: 0.9802 Class 3: 0.9633\n",
      "Confusion Matrix:\n",
      "[[240  53   1   6]\n",
      " [ 17 219  41  29]\n",
      " [  1   5 397   2]\n",
      " [  6   4   1 289]]\n",
      "Epoch 57/100 - VGG16\n",
      "Train Loss: 0.3794, Train Accuracy: 0.8571\n",
      "Val Loss: 0.3306, Val Accuracy: 0.8734\n",
      "Train F1: 0.8561, Val F1: 0.8705\n",
      "Metrics -> F1-Score: 0.8542, Precision: 0.8538, Recall: 0.8550\n",
      "Sensitivity -> Class 0: 0.8236 Class 1: 0.7177 Class 2: 0.9561 Class 3: 0.8991\n",
      "Confusion Matrix:\n",
      "[[1088  190   13   30]\n",
      " [ 161  961   59  158]\n",
      " [   9   41 1525   20]\n",
      " [  40   99    8 1310]]\n",
      "Metrics -> F1-Score: 0.8794, Precision: 0.8826, Recall: 0.8810\n",
      "Sensitivity -> Class 0: 0.7733 Class 1: 0.7680 Class 2: 0.9728 Class 3: 0.9800\n",
      "Confusion Matrix:\n",
      "[[232  63   0   5]\n",
      " [ 14 235  33  24]\n",
      " [  1   7 394   3]\n",
      " [  0   5   1 294]]\n",
      "Epoch 58/100 - VGG16\n",
      "Train Loss: 0.3829, Train Accuracy: 0.8550\n",
      "Val Loss: 0.3230, Val Accuracy: 0.8810\n",
      "Train F1: 0.8542, Val F1: 0.8794\n"
     ]
    },
    {
     "name": "stderr",
     "output_type": "stream",
     "text": [
      "\n",
      "Training VGG16:  58%|█████▊    | 58/100 [1:14:46<54:24, 77.72s/it]\u001b[A"
     ]
    },
    {
     "name": "stdout",
     "output_type": "stream",
     "text": [
      "Best model for VGG16 saved at /kaggle/working/VGG16_best.pth with F1-score: 0.8794\n",
      "Metrics -> F1-Score: 0.8579, Precision: 0.8574, Recall: 0.8585\n",
      "Sensitivity -> Class 0: 0.8145 Class 1: 0.7304 Class 2: 0.9655 Class 3: 0.8991\n",
      "Confusion Matrix:\n",
      "[[1076  199    7   39]\n",
      " [ 177  978   58  126]\n",
      " [   5   39 1540   11]\n",
      " [  36   96   15 1310]]\n"
     ]
    },
    {
     "name": "stderr",
     "output_type": "stream",
     "text": [
      "\n",
      "Training VGG16:  59%|█████▉    | 59/100 [1:16:03<53:00, 77.56s/it]\u001b[A"
     ]
    },
    {
     "name": "stdout",
     "output_type": "stream",
     "text": [
      "Metrics -> F1-Score: 0.8632, Precision: 0.8649, Recall: 0.8680\n",
      "Sensitivity -> Class 0: 0.8367 Class 1: 0.6536 Class 2: 0.9679 Class 3: 0.9833\n",
      "Confusion Matrix:\n",
      "[[251  38   0  11]\n",
      " [ 32 200  38  36]\n",
      " [  4   7 392   2]\n",
      " [  2   2   1 295]]\n",
      "Epoch 59/100 - VGG16\n",
      "Train Loss: 0.3899, Train Accuracy: 0.8585\n",
      "Val Loss: 0.3145, Val Accuracy: 0.8680\n",
      "Train F1: 0.8579, Val F1: 0.8632\n",
      "Metrics -> F1-Score: 0.8487, Precision: 0.8483, Recall: 0.8496\n",
      "Sensitivity -> Class 0: 0.8176 Class 1: 0.7035 Class 2: 0.9486 Class 3: 0.9046\n",
      "Confusion Matrix:\n",
      "[[1080  191    7   43]\n",
      " [ 197  942   60  140]\n",
      " [  11   41 1513   30]\n",
      " [  26  103   10 1318]]\n"
     ]
    },
    {
     "name": "stderr",
     "output_type": "stream",
     "text": [
      "\n",
      "Training VGG16:  60%|██████    | 60/100 [1:17:21<51:41, 77.53s/it]\u001b[A"
     ]
    },
    {
     "name": "stdout",
     "output_type": "stream",
     "text": [
      "Metrics -> F1-Score: 0.8647, Precision: 0.8693, Recall: 0.8711\n",
      "Sensitivity -> Class 0: 0.8833 Class 1: 0.6176 Class 2: 0.9802 Class 3: 0.9700\n",
      "Confusion Matrix:\n",
      "[[265  27   0   8]\n",
      " [ 42 189  44  31]\n",
      " [  4   2 397   2]\n",
      " [  5   4   0 291]]\n",
      "Epoch 60/100 - VGG16\n",
      "Train Loss: 0.3820, Train Accuracy: 0.8496\n",
      "Val Loss: 0.3127, Val Accuracy: 0.8711\n",
      "Train F1: 0.8487, Val F1: 0.8647\n",
      "Metrics -> F1-Score: 0.8585, Precision: 0.8581, Recall: 0.8591\n",
      "Sensitivity -> Class 0: 0.8274 Class 1: 0.7356 Class 2: 0.9580 Class 3: 0.8929\n",
      "Confusion Matrix:\n",
      "[[1093  186   13   29]\n",
      " [ 169  985   59  126]\n",
      " [  11   37 1528   19]\n",
      " [  35  103   18 1301]]\n"
     ]
    },
    {
     "name": "stderr",
     "output_type": "stream",
     "text": [
      "\n",
      "Training VGG16:  61%|██████    | 61/100 [1:18:38<50:20, 77.46s/it]\u001b[A"
     ]
    },
    {
     "name": "stdout",
     "output_type": "stream",
     "text": [
      "Metrics -> F1-Score: 0.8629, Precision: 0.8647, Recall: 0.8688\n",
      "Sensitivity -> Class 0: 0.8400 Class 1: 0.6340 Class 2: 0.9877 Class 3: 0.9767\n",
      "Confusion Matrix:\n",
      "[[252  40   0   8]\n",
      " [ 37 194  43  32]\n",
      " [  3   1 400   1]\n",
      " [  2   4   1 293]]\n",
      "Epoch 61/100 - VGG16\n",
      "Train Loss: 0.3701, Train Accuracy: 0.8591\n",
      "Val Loss: 0.3305, Val Accuracy: 0.8688\n",
      "Train F1: 0.8585, Val F1: 0.8629\n",
      "Metrics -> F1-Score: 0.8416, Precision: 0.8410, Recall: 0.8426\n",
      "Sensitivity -> Class 0: 0.8032 Class 1: 0.6990 Class 2: 0.9492 Class 3: 0.8936\n",
      "Confusion Matrix:\n",
      "[[1061  210   19   31]\n",
      " [ 174  936   72  157]\n",
      " [  22   39 1514   20]\n",
      " [  25  113   17 1302]]\n"
     ]
    },
    {
     "name": "stderr",
     "output_type": "stream",
     "text": [
      "\n",
      "Training VGG16:  62%|██████▏   | 62/100 [1:19:55<49:01, 77.41s/it]\u001b[A"
     ]
    },
    {
     "name": "stdout",
     "output_type": "stream",
     "text": [
      "Metrics -> F1-Score: 0.8587, Precision: 0.8592, Recall: 0.8627\n",
      "Sensitivity -> Class 0: 0.8000 Class 1: 0.6699 Class 2: 0.9753 Class 3: 0.9700\n",
      "Confusion Matrix:\n",
      "[[240  52   0   8]\n",
      " [ 26 205  40  35]\n",
      " [  2   7 395   1]\n",
      " [  3   5   1 291]]\n",
      "Epoch 62/100 - VGG16\n",
      "Train Loss: 0.3919, Train Accuracy: 0.8426\n",
      "Val Loss: 0.3273, Val Accuracy: 0.8627\n",
      "Train F1: 0.8416, Val F1: 0.8587\n",
      "Metrics -> F1-Score: 0.8573, Precision: 0.8568, Recall: 0.8584\n",
      "Sensitivity -> Class 0: 0.8266 Class 1: 0.7259 Class 2: 0.9574 Class 3: 0.9005\n",
      "Confusion Matrix:\n",
      "[[1092  178   19   32]\n",
      " [ 142  972   73  152]\n",
      " [  11   33 1527   24]\n",
      " [  27  103   15 1312]]\n"
     ]
    },
    {
     "name": "stderr",
     "output_type": "stream",
     "text": [
      "\n",
      "Training VGG16:  63%|██████▎   | 63/100 [1:21:13<47:48, 77.54s/it]\u001b[A"
     ]
    },
    {
     "name": "stdout",
     "output_type": "stream",
     "text": [
      "Metrics -> F1-Score: 0.8700, Precision: 0.8704, Recall: 0.8741\n",
      "Sensitivity -> Class 0: 0.8533 Class 1: 0.6634 Class 2: 0.9827 Class 3: 0.9633\n",
      "Confusion Matrix:\n",
      "[[256  40   0   4]\n",
      " [ 45 203  31  27]\n",
      " [  4   1 398   2]\n",
      " [  4   6   1 289]]\n",
      "Epoch 63/100 - VGG16\n",
      "Train Loss: 0.3732, Train Accuracy: 0.8584\n",
      "Val Loss: 0.3142, Val Accuracy: 0.8741\n",
      "Train F1: 0.8573, Val F1: 0.8700\n",
      "Metrics -> F1-Score: 0.8609, Precision: 0.8604, Recall: 0.8617\n",
      "Sensitivity -> Class 0: 0.8448 Class 1: 0.7252 Class 2: 0.9542 Class 3: 0.9012\n",
      "Confusion Matrix:\n",
      "[[1116  169   13   23]\n",
      " [ 166  971   59  143]\n",
      " [  11   38 1522   24]\n",
      " [  27  103   14 1313]]\n"
     ]
    },
    {
     "name": "stderr",
     "output_type": "stream",
     "text": [
      "\n",
      "Training VGG16:  64%|██████▍   | 64/100 [1:22:31<46:32, 77.57s/it]\u001b[A"
     ]
    },
    {
     "name": "stdout",
     "output_type": "stream",
     "text": [
      "Metrics -> F1-Score: 0.8722, Precision: 0.8716, Recall: 0.8741\n",
      "Sensitivity -> Class 0: 0.8200 Class 1: 0.7288 Class 2: 0.9605 Class 3: 0.9600\n",
      "Confusion Matrix:\n",
      "[[246  48   1   5]\n",
      " [ 29 223  29  25]\n",
      " [  5   8 389   3]\n",
      " [  6   6   0 288]]\n",
      "Epoch 64/100 - VGG16\n",
      "Train Loss: 0.3644, Train Accuracy: 0.8617\n",
      "Val Loss: 0.3298, Val Accuracy: 0.8741\n",
      "Train F1: 0.8609, Val F1: 0.8722\n",
      "Metrics -> F1-Score: 0.8610, Precision: 0.8603, Recall: 0.8619\n",
      "Sensitivity -> Class 0: 0.8448 Class 1: 0.7207 Class 2: 0.9549 Class 3: 0.9053\n",
      "Confusion Matrix:\n",
      "[[1116  169   15   21]\n",
      " [ 168  965   64  142]\n",
      " [  14   45 1523   13]\n",
      " [  26   99   13 1319]]\n",
      "Metrics -> F1-Score: 0.8818, Precision: 0.8836, Recall: 0.8833\n",
      "Sensitivity -> Class 0: 0.7833 Class 1: 0.7712 Class 2: 0.9778 Class 3: 0.9700\n",
      "Confusion Matrix:\n",
      "[[235  56   0   9]\n",
      " [ 22 236  20  28]\n",
      " [  0   6 396   3]\n",
      " [  1   7   1 291]]\n",
      "Epoch 65/100 - VGG16\n",
      "Train Loss: 0.3605, Train Accuracy: 0.8619\n",
      "Val Loss: 0.3194, Val Accuracy: 0.8833\n",
      "Train F1: 0.8610, Val F1: 0.8818\n"
     ]
    },
    {
     "name": "stderr",
     "output_type": "stream",
     "text": [
      "\n",
      "Training VGG16:  65%|██████▌   | 65/100 [1:23:50<45:28, 77.96s/it]\u001b[A"
     ]
    },
    {
     "name": "stdout",
     "output_type": "stream",
     "text": [
      "Best model for VGG16 saved at /kaggle/working/VGG16_best.pth with F1-score: 0.8818\n",
      "Metrics -> F1-Score: 0.8605, Precision: 0.8600, Recall: 0.8617\n",
      "Sensitivity -> Class 0: 0.8266 Class 1: 0.7244 Class 2: 0.9592 Class 3: 0.9128\n",
      "Confusion Matrix:\n",
      "[[1092  182   15   32]\n",
      " [ 153  970   68  148]\n",
      " [  12   37 1530   16]\n",
      " [  24   88   15 1330]]\n"
     ]
    },
    {
     "name": "stderr",
     "output_type": "stream",
     "text": [
      "\n",
      "Training VGG16:  66%|██████▌   | 66/100 [1:25:08<44:12, 78.02s/it]\u001b[A"
     ]
    },
    {
     "name": "stdout",
     "output_type": "stream",
     "text": [
      "Metrics -> F1-Score: 0.8777, Precision: 0.8788, Recall: 0.8780\n",
      "Sensitivity -> Class 0: 0.7967 Class 1: 0.7843 Class 2: 0.9605 Class 3: 0.9433\n",
      "Confusion Matrix:\n",
      "[[239  57   0   4]\n",
      " [ 25 240  23  18]\n",
      " [  4  10 389   2]\n",
      " [  2  13   2 283]]\n",
      "Epoch 66/100 - VGG16\n",
      "Train Loss: 0.3639, Train Accuracy: 0.8617\n",
      "Val Loss: 0.3303, Val Accuracy: 0.8780\n",
      "Train F1: 0.8605, Val F1: 0.8777\n",
      "Metrics -> F1-Score: 0.8550, Precision: 0.8547, Recall: 0.8556\n",
      "Sensitivity -> Class 0: 0.8221 Class 1: 0.7259 Class 2: 0.9517 Class 3: 0.8998\n",
      "Confusion Matrix:\n",
      "[[1086  190   14   31]\n",
      " [ 159  972   59  149]\n",
      " [  15   39 1518   23]\n",
      " [  27  107   12 1311]]\n"
     ]
    },
    {
     "name": "stderr",
     "output_type": "stream",
     "text": [
      "\n",
      "Training VGG16:  67%|██████▋   | 67/100 [1:26:25<42:52, 77.94s/it]\u001b[A"
     ]
    },
    {
     "name": "stdout",
     "output_type": "stream",
     "text": [
      "Metrics -> F1-Score: 0.8731, Precision: 0.8748, Recall: 0.8764\n",
      "Sensitivity -> Class 0: 0.8000 Class 1: 0.7124 Class 2: 0.9852 Class 3: 0.9733\n",
      "Confusion Matrix:\n",
      "[[240  49   0  11]\n",
      " [ 19 218  37  32]\n",
      " [  1   3 399   2]\n",
      " [  4   3   1 292]]\n",
      "Epoch 67/100 - VGG16\n",
      "Train Loss: 0.3740, Train Accuracy: 0.8556\n",
      "Val Loss: 0.3054, Val Accuracy: 0.8764\n",
      "Train F1: 0.8550, Val F1: 0.8731\n",
      "Metrics -> F1-Score: 0.8679, Precision: 0.8674, Recall: 0.8689\n",
      "Sensitivity -> Class 0: 0.8509 Class 1: 0.7349 Class 2: 0.9630 Class 3: 0.9053\n",
      "Confusion Matrix:\n",
      "[[1124  157   15   25]\n",
      " [ 153  984   55  147]\n",
      " [  13   25 1536   21]\n",
      " [  26  104    8 1319]]\n"
     ]
    },
    {
     "name": "stderr",
     "output_type": "stream",
     "text": [
      "\n",
      "Training VGG16:  68%|██████▊   | 68/100 [1:27:42<41:22, 77.59s/it]\u001b[A"
     ]
    },
    {
     "name": "stdout",
     "output_type": "stream",
     "text": [
      "Metrics -> F1-Score: 0.8664, Precision: 0.8669, Recall: 0.8696\n",
      "Sensitivity -> Class 0: 0.7933 Class 1: 0.7092 Class 2: 0.9679 Class 3: 0.9767\n",
      "Confusion Matrix:\n",
      "[[238  51   2   9]\n",
      " [ 25 217  35  29]\n",
      " [  4   6 392   3]\n",
      " [  3   2   2 293]]\n",
      "Epoch 68/100 - VGG16\n",
      "Train Loss: 0.3616, Train Accuracy: 0.8689\n",
      "Val Loss: 0.3044, Val Accuracy: 0.8696\n",
      "Train F1: 0.8679, Val F1: 0.8664\n",
      "Metrics -> F1-Score: 0.8591, Precision: 0.8585, Recall: 0.8601\n",
      "Sensitivity -> Class 0: 0.8289 Class 1: 0.7192 Class 2: 0.9549 Class 3: 0.9142\n",
      "Confusion Matrix:\n",
      "[[1095  183   10   33]\n",
      " [ 168  963   64  144]\n",
      " [  16   37 1523   19]\n",
      " [  24   91   10 1332]]\n"
     ]
    },
    {
     "name": "stderr",
     "output_type": "stream",
     "text": [
      "\n",
      "Training VGG16:  69%|██████▉   | 69/100 [1:29:00<40:08, 77.70s/it]\u001b[A"
     ]
    },
    {
     "name": "stdout",
     "output_type": "stream",
     "text": [
      "Metrics -> F1-Score: 0.8719, Precision: 0.8719, Recall: 0.8749\n",
      "Sensitivity -> Class 0: 0.8067 Class 1: 0.7092 Class 2: 0.9827 Class 3: 0.9667\n",
      "Confusion Matrix:\n",
      "[[242  54   1   3]\n",
      " [ 26 217  38  25]\n",
      " [  2   3 398   2]\n",
      " [  2   6   2 290]]\n",
      "Epoch 69/100 - VGG16\n",
      "Train Loss: 0.3785, Train Accuracy: 0.8601\n",
      "Val Loss: 0.3390, Val Accuracy: 0.8749\n",
      "Train F1: 0.8591, Val F1: 0.8719\n",
      "Metrics -> F1-Score: 0.8610, Precision: 0.8605, Recall: 0.8619\n",
      "Sensitivity -> Class 0: 0.8304 Class 1: 0.7319 Class 2: 0.9542 Class 3: 0.9087\n",
      "Confusion Matrix:\n",
      "[[1097  168   18   38]\n",
      " [ 161  980   62  136]\n",
      " [  16   35 1522   22]\n",
      " [  20  100   13 1324]]\n"
     ]
    },
    {
     "name": "stderr",
     "output_type": "stream",
     "text": [
      "\n",
      "Training VGG16:  70%|███████   | 70/100 [1:30:17<38:47, 77.57s/it]\u001b[A"
     ]
    },
    {
     "name": "stdout",
     "output_type": "stream",
     "text": [
      "Metrics -> F1-Score: 0.8723, Precision: 0.8723, Recall: 0.8749\n",
      "Sensitivity -> Class 0: 0.8100 Class 1: 0.7190 Class 2: 0.9753 Class 3: 0.9633\n",
      "Confusion Matrix:\n",
      "[[243  49   0   8]\n",
      " [ 27 220  32  27]\n",
      " [  2   6 395   2]\n",
      " [  2   7   2 289]]\n",
      "Epoch 70/100 - VGG16\n",
      "Train Loss: 0.3684, Train Accuracy: 0.8619\n",
      "Val Loss: 0.3051, Val Accuracy: 0.8749\n",
      "Train F1: 0.8610, Val F1: 0.8723\n",
      "Metrics -> F1-Score: 0.8597, Precision: 0.8592, Recall: 0.8605\n",
      "Sensitivity -> Class 0: 0.8418 Class 1: 0.7252 Class 2: 0.9592 Class 3: 0.8936\n",
      "Confusion Matrix:\n",
      "[[1112  167   10   32]\n",
      " [ 161  971   57  150]\n",
      " [  12   36 1530   17]\n",
      " [  29  112   14 1302]]\n"
     ]
    },
    {
     "name": "stderr",
     "output_type": "stream",
     "text": [
      "\n",
      "Training VGG16:  71%|███████   | 71/100 [1:31:34<37:23, 77.38s/it]\u001b[A"
     ]
    },
    {
     "name": "stdout",
     "output_type": "stream",
     "text": [
      "Metrics -> F1-Score: 0.8790, Precision: 0.8790, Recall: 0.8818\n",
      "Sensitivity -> Class 0: 0.8500 Class 1: 0.7092 Class 2: 0.9654 Class 3: 0.9767\n",
      "Confusion Matrix:\n",
      "[[255  40   0   5]\n",
      " [ 36 217  29  24]\n",
      " [  6   5 391   3]\n",
      " [  5   2   0 293]]\n",
      "Epoch 71/100 - VGG16\n",
      "Train Loss: 0.3649, Train Accuracy: 0.8605\n",
      "Val Loss: 0.3203, Val Accuracy: 0.8818\n",
      "Train F1: 0.8597, Val F1: 0.8790\n",
      "Metrics -> F1-Score: 0.8542, Precision: 0.8535, Recall: 0.8559\n",
      "Sensitivity -> Class 0: 0.8335 Class 1: 0.6998 Class 2: 0.9611 Class 3: 0.9046\n",
      "Confusion Matrix:\n",
      "[[1101  174   16   30]\n",
      " [ 169  937   64  169]\n",
      " [  19   26 1533   17]\n",
      " [  31   90   18 1318]]\n"
     ]
    },
    {
     "name": "stderr",
     "output_type": "stream",
     "text": [
      "\n",
      "Training VGG16:  72%|███████▏  | 72/100 [1:32:52<36:05, 77.34s/it]\u001b[A"
     ]
    },
    {
     "name": "stdout",
     "output_type": "stream",
     "text": [
      "Metrics -> F1-Score: 0.8808, Precision: 0.8811, Recall: 0.8818\n",
      "Sensitivity -> Class 0: 0.7967 Class 1: 0.7810 Class 2: 0.9704 Class 3: 0.9500\n",
      "Confusion Matrix:\n",
      "[[239  55   0   6]\n",
      " [ 22 239  24  21]\n",
      " [  3   6 393   3]\n",
      " [  7   8   0 285]]\n",
      "Epoch 72/100 - VGG16\n",
      "Train Loss: 0.3704, Train Accuracy: 0.8559\n",
      "Val Loss: 0.3108, Val Accuracy: 0.8818\n",
      "Train F1: 0.8542, Val F1: 0.8808\n",
      "Metrics -> F1-Score: 0.8545, Precision: 0.8540, Recall: 0.8554\n",
      "Sensitivity -> Class 0: 0.8297 Class 1: 0.7162 Class 2: 0.9542 Class 3: 0.8984\n",
      "Confusion Matrix:\n",
      "[[1096  179   20   26]\n",
      " [ 167  959   57  156]\n",
      " [  12   38 1522   23]\n",
      " [  29  109   10 1309]]\n"
     ]
    },
    {
     "name": "stderr",
     "output_type": "stream",
     "text": [
      "\n",
      "Training VGG16:  73%|███████▎  | 73/100 [1:34:09<34:49, 77.40s/it]\u001b[A"
     ]
    },
    {
     "name": "stdout",
     "output_type": "stream",
     "text": [
      "Metrics -> F1-Score: 0.8640, Precision: 0.8643, Recall: 0.8673\n",
      "Sensitivity -> Class 0: 0.7933 Class 1: 0.6993 Class 2: 0.9728 Class 3: 0.9700\n",
      "Confusion Matrix:\n",
      "[[238  52   0  10]\n",
      " [ 25 214  43  24]\n",
      " [  4   4 394   3]\n",
      " [  2   7   0 291]]\n",
      "Epoch 73/100 - VGG16\n",
      "Train Loss: 0.3870, Train Accuracy: 0.8554\n",
      "Val Loss: 0.3282, Val Accuracy: 0.8673\n",
      "Train F1: 0.8545, Val F1: 0.8640\n",
      "Metrics -> F1-Score: 0.8613, Precision: 0.8609, Recall: 0.8620\n",
      "Sensitivity -> Class 0: 0.8357 Class 1: 0.7289 Class 2: 0.9555 Class 3: 0.9060\n",
      "Confusion Matrix:\n",
      "[[1104  176   10   31]\n",
      " [ 149  976   64  150]\n",
      " [  11   45 1524   15]\n",
      " [  23  101   13 1320]]\n"
     ]
    },
    {
     "name": "stderr",
     "output_type": "stream",
     "text": [
      "\n",
      "Training VGG16:  74%|███████▍  | 74/100 [1:35:27<33:35, 77.50s/it]\u001b[A"
     ]
    },
    {
     "name": "stdout",
     "output_type": "stream",
     "text": [
      "Metrics -> F1-Score: 0.8739, Precision: 0.8746, Recall: 0.8772\n",
      "Sensitivity -> Class 0: 0.7967 Class 1: 0.7157 Class 2: 0.9852 Class 3: 0.9767\n",
      "Confusion Matrix:\n",
      "[[239  53   0   8]\n",
      " [ 23 219  41  23]\n",
      " [  1   2 399   3]\n",
      " [  4   3   0 293]]\n",
      "Epoch 74/100 - VGG16\n",
      "Train Loss: 0.3576, Train Accuracy: 0.8620\n",
      "Val Loss: 0.3137, Val Accuracy: 0.8772\n",
      "Train F1: 0.8613, Val F1: 0.8739\n",
      "Metrics -> F1-Score: 0.8587, Precision: 0.8583, Recall: 0.8596\n",
      "Sensitivity -> Class 0: 0.8327 Class 1: 0.7244 Class 2: 0.9536 Class 3: 0.9053\n",
      "Confusion Matrix:\n",
      "[[1100  178   10   33]\n",
      " [ 147  970   69  153]\n",
      " [  13   43 1521   18]\n",
      " [  30   96   12 1319]]\n"
     ]
    },
    {
     "name": "stderr",
     "output_type": "stream",
     "text": [
      "\n",
      "Training VGG16:  75%|███████▌  | 75/100 [1:36:45<32:19, 77.58s/it]\u001b[A"
     ]
    },
    {
     "name": "stdout",
     "output_type": "stream",
     "text": [
      "Metrics -> F1-Score: 0.8702, Precision: 0.8699, Recall: 0.8741\n",
      "Sensitivity -> Class 0: 0.8433 Class 1: 0.6732 Class 2: 0.9802 Class 3: 0.9667\n",
      "Confusion Matrix:\n",
      "[[253  44   0   3]\n",
      " [ 34 206  40  26]\n",
      " [  2   5 397   1]\n",
      " [  4   5   1 290]]\n",
      "Epoch 75/100 - VGG16\n",
      "Train Loss: 0.3674, Train Accuracy: 0.8596\n",
      "Val Loss: 0.3210, Val Accuracy: 0.8741\n",
      "Train F1: 0.8587, Val F1: 0.8702\n",
      "Metrics -> F1-Score: 0.8596, Precision: 0.8591, Recall: 0.8605\n",
      "Sensitivity -> Class 0: 0.8274 Class 1: 0.7304 Class 2: 0.9561 Class 3: 0.9053\n",
      "Confusion Matrix:\n",
      "[[1093  176   17   35]\n",
      " [ 168  978   63  130]\n",
      " [  15   39 1525   16]\n",
      " [  29   97   12 1319]]\n"
     ]
    },
    {
     "name": "stderr",
     "output_type": "stream",
     "text": [
      "\n",
      "Training VGG16:  76%|███████▌  | 76/100 [1:38:02<31:02, 77.59s/it]\u001b[A"
     ]
    },
    {
     "name": "stdout",
     "output_type": "stream",
     "text": [
      "Metrics -> F1-Score: 0.8748, Precision: 0.8757, Recall: 0.8787\n",
      "Sensitivity -> Class 0: 0.8233 Class 1: 0.6928 Class 2: 0.9901 Class 3: 0.9733\n",
      "Confusion Matrix:\n",
      "[[247  46   1   6]\n",
      " [ 25 212  38  31]\n",
      " [  2   0 401   2]\n",
      " [  2   5   1 292]]\n",
      "Epoch 76/100 - VGG16\n",
      "Train Loss: 0.3642, Train Accuracy: 0.8605\n",
      "Val Loss: 0.3121, Val Accuracy: 0.8787\n",
      "Train F1: 0.8596, Val F1: 0.8748\n",
      "Metrics -> F1-Score: 0.8599, Precision: 0.8593, Recall: 0.8610\n",
      "Sensitivity -> Class 0: 0.8266 Class 1: 0.7274 Class 2: 0.9630 Class 3: 0.9032\n",
      "Confusion Matrix:\n",
      "[[1092  171   19   39]\n",
      " [ 149  974   71  145]\n",
      " [   9   34 1536   16]\n",
      " [  34  100    7 1316]]\n"
     ]
    },
    {
     "name": "stderr",
     "output_type": "stream",
     "text": [
      "\n",
      "Training VGG16:  77%|███████▋  | 77/100 [1:39:19<29:41, 77.45s/it]\u001b[A"
     ]
    },
    {
     "name": "stdout",
     "output_type": "stream",
     "text": [
      "Metrics -> F1-Score: 0.8738, Precision: 0.8765, Recall: 0.8764\n",
      "Sensitivity -> Class 0: 0.7767 Class 1: 0.7386 Class 2: 0.9802 Class 3: 0.9767\n",
      "Confusion Matrix:\n",
      "[[233  58   0   9]\n",
      " [ 14 226  40  26]\n",
      " [  1   5 397   2]\n",
      " [  2   3   2 293]]\n",
      "Epoch 77/100 - VGG16\n",
      "Train Loss: 0.3653, Train Accuracy: 0.8610\n",
      "Val Loss: 0.3268, Val Accuracy: 0.8764\n",
      "Train F1: 0.8599, Val F1: 0.8738\n",
      "Metrics -> F1-Score: 0.8689, Precision: 0.8685, Recall: 0.8696\n",
      "Sensitivity -> Class 0: 0.8319 Class 1: 0.7543 Class 2: 0.9630 Class 3: 0.9073\n",
      "Confusion Matrix:\n",
      "[[1099  169   12   41]\n",
      " [ 146 1010   61  122]\n",
      " [  14   27 1536   18]\n",
      " [  25   99   11 1322]]\n"
     ]
    },
    {
     "name": "stderr",
     "output_type": "stream",
     "text": [
      "\n",
      "Training VGG16:  78%|███████▊  | 78/100 [1:40:36<28:15, 77.06s/it]\u001b[A"
     ]
    },
    {
     "name": "stdout",
     "output_type": "stream",
     "text": [
      "Metrics -> F1-Score: 0.8686, Precision: 0.8696, Recall: 0.8734\n",
      "Sensitivity -> Class 0: 0.8300 Class 1: 0.6634 Class 2: 0.9877 Class 3: 0.9767\n",
      "Confusion Matrix:\n",
      "[[249  43   0   8]\n",
      " [ 34 203  40  29]\n",
      " [  1   1 400   3]\n",
      " [  2   4   1 293]]\n",
      "Epoch 78/100 - VGG16\n",
      "Train Loss: 0.3564, Train Accuracy: 0.8696\n",
      "Val Loss: 0.3111, Val Accuracy: 0.8734\n",
      "Train F1: 0.8689, Val F1: 0.8686\n",
      "Metrics -> F1-Score: 0.8559, Precision: 0.8552, Recall: 0.8570\n",
      "Sensitivity -> Class 0: 0.8259 Class 1: 0.7229 Class 2: 0.9580 Class 3: 0.8977\n",
      "Confusion Matrix:\n",
      "[[1091  175   19   36]\n",
      " [ 164  968   70  137]\n",
      " [  14   34 1528   19]\n",
      " [  33  101   15 1308]]\n"
     ]
    },
    {
     "name": "stderr",
     "output_type": "stream",
     "text": [
      "\n",
      "Training VGG16:  79%|███████▉  | 79/100 [1:41:53<27:00, 77.16s/it]\u001b[A"
     ]
    },
    {
     "name": "stdout",
     "output_type": "stream",
     "text": [
      "Metrics -> F1-Score: 0.8748, Precision: 0.8766, Recall: 0.8741\n",
      "Sensitivity -> Class 0: 0.8100 Class 1: 0.7974 Class 2: 0.9333 Class 3: 0.9367\n",
      "Confusion Matrix:\n",
      "[[243  51   0   6]\n",
      " [ 26 244  16  20]\n",
      " [  4  19 378   4]\n",
      " [  5  13   1 281]]\n",
      "Epoch 79/100 - VGG16\n",
      "Train Loss: 0.3766, Train Accuracy: 0.8570\n",
      "Val Loss: 0.3229, Val Accuracy: 0.8741\n",
      "Train F1: 0.8559, Val F1: 0.8748\n",
      "Metrics -> F1-Score: 0.8552, Precision: 0.8547, Recall: 0.8559\n",
      "Sensitivity -> Class 0: 0.8221 Class 1: 0.7289 Class 2: 0.9536 Class 3: 0.8964\n",
      "Confusion Matrix:\n",
      "[[1086  180   15   40]\n",
      " [ 161  976   60  142]\n",
      " [  17   31 1521   26]\n",
      " [  23  110   18 1306]]\n"
     ]
    },
    {
     "name": "stderr",
     "output_type": "stream",
     "text": [
      "\n",
      "Training VGG16:  80%|████████  | 80/100 [1:43:10<25:41, 77.10s/it]\u001b[A"
     ]
    },
    {
     "name": "stdout",
     "output_type": "stream",
     "text": [
      "Metrics -> F1-Score: 0.8774, Precision: 0.8783, Recall: 0.8787\n",
      "Sensitivity -> Class 0: 0.7900 Class 1: 0.7712 Class 2: 0.9580 Class 3: 0.9700\n",
      "Confusion Matrix:\n",
      "[[237  53   0  10]\n",
      " [ 25 236  20  25]\n",
      " [  4   8 388   5]\n",
      " [  3   5   1 291]]\n",
      "Epoch 80/100 - VGG16\n",
      "Train Loss: 0.3887, Train Accuracy: 0.8559\n",
      "Val Loss: 0.3099, Val Accuracy: 0.8787\n",
      "Train F1: 0.8552, Val F1: 0.8774\n",
      "Metrics -> F1-Score: 0.8520, Precision: 0.8514, Recall: 0.8533\n",
      "Sensitivity -> Class 0: 0.8244 Class 1: 0.6998 Class 2: 0.9530 Class 3: 0.9115\n",
      "Confusion Matrix:\n",
      "[[1089  182   20   30]\n",
      " [ 179  937   56  167]\n",
      " [  11   40 1520   24]\n",
      " [  21   98   10 1328]]\n",
      "Metrics -> F1-Score: 0.8857, Precision: 0.8862, Recall: 0.8871\n",
      "Sensitivity -> Class 0: 0.8200 Class 1: 0.7712 Class 2: 0.9802 Class 3: 0.9467\n",
      "Confusion Matrix:\n",
      "[[246  51   0   3]\n",
      " [ 16 236  31  23]\n",
      " [  2   4 397   2]\n",
      " [  6   7   3 284]]\n",
      "Epoch 81/100 - VGG16\n",
      "Train Loss: 0.3692, Train Accuracy: 0.8533\n",
      "Val Loss: 0.3126, Val Accuracy: 0.8871\n",
      "Train F1: 0.8520, Val F1: 0.8857\n"
     ]
    },
    {
     "name": "stderr",
     "output_type": "stream",
     "text": [
      "\n",
      "Training VGG16:  81%|████████  | 81/100 [1:44:28<24:32, 77.48s/it]\u001b[A"
     ]
    },
    {
     "name": "stdout",
     "output_type": "stream",
     "text": [
      "Best model for VGG16 saved at /kaggle/working/VGG16_best.pth with F1-score: 0.8857\n",
      "Metrics -> F1-Score: 0.8653, Precision: 0.8650, Recall: 0.8659\n",
      "Sensitivity -> Class 0: 0.8418 Class 1: 0.7394 Class 2: 0.9586 Class 3: 0.9025\n",
      "Confusion Matrix:\n",
      "[[1112  159   13   37]\n",
      " [ 150  990   52  147]\n",
      " [   8   43 1529   15]\n",
      " [  26  106   10 1315]]\n"
     ]
    },
    {
     "name": "stderr",
     "output_type": "stream",
     "text": [
      "\n",
      "Training VGG16:  82%|████████▏ | 82/100 [1:45:46<23:15, 77.52s/it]\u001b[A"
     ]
    },
    {
     "name": "stdout",
     "output_type": "stream",
     "text": [
      "Metrics -> F1-Score: 0.8751, Precision: 0.8751, Recall: 0.8787\n",
      "Sensitivity -> Class 0: 0.8433 Class 1: 0.6895 Class 2: 0.9877 Class 3: 0.9600\n",
      "Confusion Matrix:\n",
      "[[253  41   0   6]\n",
      " [ 30 211  39  26]\n",
      " [  1   3 400   1]\n",
      " [  5   7   0 288]]\n",
      "Epoch 82/100 - VGG16\n",
      "Train Loss: 0.3679, Train Accuracy: 0.8659\n",
      "Val Loss: 0.3230, Val Accuracy: 0.8787\n",
      "Train F1: 0.8653, Val F1: 0.8751\n",
      "Metrics -> F1-Score: 0.8564, Precision: 0.8557, Recall: 0.8573\n",
      "Sensitivity -> Class 0: 0.8282 Class 1: 0.7222 Class 2: 0.9592 Class 3: 0.8964\n",
      "Confusion Matrix:\n",
      "[[1094  188   13   26]\n",
      " [ 170  967   73  129]\n",
      " [  21   23 1530   21]\n",
      " [  22  112   17 1306]]\n"
     ]
    },
    {
     "name": "stderr",
     "output_type": "stream",
     "text": [
      "\n",
      "Training VGG16:  83%|████████▎ | 83/100 [1:47:03<21:54, 77.31s/it]\u001b[A"
     ]
    },
    {
     "name": "stdout",
     "output_type": "stream",
     "text": [
      "Metrics -> F1-Score: 0.8748, Precision: 0.8748, Recall: 0.8772\n",
      "Sensitivity -> Class 0: 0.7967 Class 1: 0.7353 Class 2: 0.9753 Class 3: 0.9700\n",
      "Confusion Matrix:\n",
      "[[239  52   0   9]\n",
      " [ 27 225  31  23]\n",
      " [  3   5 395   2]\n",
      " [  2   5   2 291]]\n",
      "Epoch 83/100 - VGG16\n",
      "Train Loss: 0.3715, Train Accuracy: 0.8573\n",
      "Val Loss: 0.2974, Val Accuracy: 0.8772\n",
      "Train F1: 0.8564, Val F1: 0.8748\n",
      "Metrics -> F1-Score: 0.8577, Precision: 0.8573, Recall: 0.8584\n",
      "Sensitivity -> Class 0: 0.8221 Class 1: 0.7304 Class 2: 0.9536 Class 3: 0.9046\n",
      "Confusion Matrix:\n",
      "[[1086  182   19   34]\n",
      " [ 164  978   63  134]\n",
      " [  12   45 1521   17]\n",
      " [  29  102    8 1318]]\n"
     ]
    },
    {
     "name": "stderr",
     "output_type": "stream",
     "text": [
      "\n",
      "Training VGG16:  84%|████████▍ | 84/100 [1:48:19<20:33, 77.11s/it]\u001b[A"
     ]
    },
    {
     "name": "stdout",
     "output_type": "stream",
     "text": [
      "Metrics -> F1-Score: 0.8781, Precision: 0.8777, Recall: 0.8802\n",
      "Sensitivity -> Class 0: 0.7900 Class 1: 0.7451 Class 2: 0.9901 Class 3: 0.9600\n",
      "Confusion Matrix:\n",
      "[[237  57   1   5]\n",
      " [ 32 228  27  19]\n",
      " [  2   2 401   0]\n",
      " [  2   7   3 288]]\n",
      "Epoch 84/100 - VGG16\n",
      "Train Loss: 0.3578, Train Accuracy: 0.8584\n",
      "Val Loss: 0.3111, Val Accuracy: 0.8802\n",
      "Train F1: 0.8577, Val F1: 0.8781\n",
      "Metrics -> F1-Score: 0.8562, Precision: 0.8555, Recall: 0.8573\n",
      "Sensitivity -> Class 0: 0.8266 Class 1: 0.7132 Class 2: 0.9586 Class 3: 0.9067\n",
      "Confusion Matrix:\n",
      "[[1092  189   15   25]\n",
      " [ 171  955   71  142]\n",
      " [   8   34 1529   24]\n",
      " [  26   99   11 1321]]\n",
      "Metrics -> F1-Score: 0.8895, Precision: 0.8920, Recall: 0.8909\n",
      "Sensitivity -> Class 0: 0.7767 Class 1: 0.8072 Class 2: 0.9704 Class 3: 0.9833\n",
      "Confusion Matrix:\n",
      "[[233  56   0  11]\n",
      " [ 16 247  22  21]\n",
      " [  1   7 393   4]\n",
      " [  3   2   0 295]]\n",
      "Epoch 85/100 - VGG16\n",
      "Train Loss: 0.3886, Train Accuracy: 0.8573\n",
      "Val Loss: 0.3206, Val Accuracy: 0.8909\n",
      "Train F1: 0.8562, Val F1: 0.8895\n"
     ]
    },
    {
     "name": "stderr",
     "output_type": "stream",
     "text": [
      "\n",
      "Training VGG16:  85%|████████▌ | 85/100 [1:49:38<19:24, 77.62s/it]\u001b[A"
     ]
    },
    {
     "name": "stdout",
     "output_type": "stream",
     "text": [
      "Best model for VGG16 saved at /kaggle/working/VGG16_best.pth with F1-score: 0.8895\n",
      "Metrics -> F1-Score: 0.8569, Precision: 0.8565, Recall: 0.8575\n",
      "Sensitivity -> Class 0: 0.8350 Class 1: 0.7282 Class 2: 0.9486 Class 3: 0.8970\n",
      "Confusion Matrix:\n",
      "[[1103  178   11   29]\n",
      " [ 155  975   63  146]\n",
      " [  17   44 1513   21]\n",
      " [  28  103   19 1307]]\n"
     ]
    },
    {
     "name": "stderr",
     "output_type": "stream",
     "text": [
      "\n",
      "Training VGG16:  86%|████████▌ | 86/100 [1:50:55<18:02, 77.35s/it]\u001b[A"
     ]
    },
    {
     "name": "stdout",
     "output_type": "stream",
     "text": [
      "Metrics -> F1-Score: 0.8724, Precision: 0.8745, Recall: 0.8764\n",
      "Sensitivity -> Class 0: 0.8200 Class 1: 0.6863 Class 2: 0.9827 Class 3: 0.9833\n",
      "Confusion Matrix:\n",
      "[[246  41   1  12]\n",
      " [ 26 210  33  37]\n",
      " [  2   3 398   2]\n",
      " [  1   3   1 295]]\n",
      "Epoch 86/100 - VGG16\n",
      "Train Loss: 0.3742, Train Accuracy: 0.8575\n",
      "Val Loss: 0.3098, Val Accuracy: 0.8764\n",
      "Train F1: 0.8569, Val F1: 0.8724\n",
      "Metrics -> F1-Score: 0.8626, Precision: 0.8621, Recall: 0.8634\n",
      "Sensitivity -> Class 0: 0.8388 Class 1: 0.7282 Class 2: 0.9530 Class 3: 0.9121\n",
      "Confusion Matrix:\n",
      "[[1108  172   14   27]\n",
      " [ 157  975   62  145]\n",
      " [  14   45 1520   16]\n",
      " [  23   92   13 1329]]\n"
     ]
    },
    {
     "name": "stderr",
     "output_type": "stream",
     "text": [
      "\n",
      "Training VGG16:  87%|████████▋ | 87/100 [1:52:12<16:44, 77.28s/it]\u001b[A"
     ]
    },
    {
     "name": "stdout",
     "output_type": "stream",
     "text": [
      "Metrics -> F1-Score: 0.8645, Precision: 0.8677, Recall: 0.8711\n",
      "Sensitivity -> Class 0: 0.8767 Class 1: 0.6144 Class 2: 0.9802 Class 3: 0.9800\n",
      "Confusion Matrix:\n",
      "[[263  33   0   4]\n",
      " [ 41 188  40  37]\n",
      " [  2   4 397   2]\n",
      " [  3   2   1 294]]\n",
      "Epoch 87/100 - VGG16\n",
      "Train Loss: 0.3599, Train Accuracy: 0.8634\n",
      "Val Loss: 0.3174, Val Accuracy: 0.8711\n",
      "Train F1: 0.8626, Val F1: 0.8645\n",
      "Metrics -> F1-Score: 0.8554, Precision: 0.8552, Recall: 0.8564\n",
      "Sensitivity -> Class 0: 0.8274 Class 1: 0.7214 Class 2: 0.9486 Class 3: 0.9060\n",
      "Confusion Matrix:\n",
      "[[1093  174   11   43]\n",
      " [ 148  966   66  159]\n",
      " [  15   35 1513   32]\n",
      " [  22   97   18 1320]]\n"
     ]
    },
    {
     "name": "stderr",
     "output_type": "stream",
     "text": [
      "\n",
      "Training VGG16:  88%|████████▊ | 88/100 [1:53:29<15:25, 77.09s/it]\u001b[A"
     ]
    },
    {
     "name": "stdout",
     "output_type": "stream",
     "text": [
      "Metrics -> F1-Score: 0.8752, Precision: 0.8769, Recall: 0.8772\n",
      "Sensitivity -> Class 0: 0.7767 Class 1: 0.7516 Class 2: 0.9877 Class 3: 0.9567\n",
      "Confusion Matrix:\n",
      "[[233  62   0   5]\n",
      " [ 17 230  39  20]\n",
      " [  2   2 400   1]\n",
      " [  3   9   1 287]]\n",
      "Epoch 88/100 - VGG16\n",
      "Train Loss: 0.3749, Train Accuracy: 0.8564\n",
      "Val Loss: 0.3422, Val Accuracy: 0.8772\n",
      "Train F1: 0.8554, Val F1: 0.8752\n",
      "Metrics -> F1-Score: 0.8512, Precision: 0.8505, Recall: 0.8524\n",
      "Sensitivity -> Class 0: 0.8312 Class 1: 0.7050 Class 2: 0.9530 Class 3: 0.8970\n",
      "Confusion Matrix:\n",
      "[[1098  180   17   26]\n",
      " [ 165  944   76  154]\n",
      " [  11   44 1520   20]\n",
      " [  33  103   14 1307]]\n"
     ]
    },
    {
     "name": "stderr",
     "output_type": "stream",
     "text": [
      "\n",
      "Training VGG16:  89%|████████▉ | 89/100 [1:54:46<14:07, 77.08s/it]\u001b[A"
     ]
    },
    {
     "name": "stdout",
     "output_type": "stream",
     "text": [
      "Metrics -> F1-Score: 0.8741, Precision: 0.8739, Recall: 0.8764\n",
      "Sensitivity -> Class 0: 0.8167 Class 1: 0.7222 Class 2: 0.9679 Class 3: 0.9700\n",
      "Confusion Matrix:\n",
      "[[245  47   0   8]\n",
      " [ 34 221  23  28]\n",
      " [  3   6 392   4]\n",
      " [  4   4   1 291]]\n",
      "Epoch 89/100 - VGG16\n",
      "Train Loss: 0.3936, Train Accuracy: 0.8524\n",
      "Val Loss: 0.3080, Val Accuracy: 0.8764\n",
      "Train F1: 0.8512, Val F1: 0.8741\n",
      "Metrics -> F1-Score: 0.8609, Precision: 0.8606, Recall: 0.8617\n",
      "Sensitivity -> Class 0: 0.8297 Class 1: 0.7341 Class 2: 0.9517 Class 3: 0.9094\n",
      "Confusion Matrix:\n",
      "[[1096  166   15   44]\n",
      " [ 149  983   58  149]\n",
      " [  14   43 1518   20]\n",
      " [  22   96   14 1325]]\n"
     ]
    },
    {
     "name": "stderr",
     "output_type": "stream",
     "text": [
      "\n",
      "Training VGG16:  90%|█████████ | 90/100 [1:56:03<12:52, 77.22s/it]\u001b[A"
     ]
    },
    {
     "name": "stdout",
     "output_type": "stream",
     "text": [
      "Metrics -> F1-Score: 0.8831, Precision: 0.8842, Recall: 0.8863\n",
      "Sensitivity -> Class 0: 0.8733 Class 1: 0.7026 Class 2: 0.9802 Class 3: 0.9600\n",
      "Confusion Matrix:\n",
      "[[262  30   0   8]\n",
      " [ 36 215  35  20]\n",
      " [  4   3 397   1]\n",
      " [  7   5   0 288]]\n",
      "Epoch 90/100 - VGG16\n",
      "Train Loss: 0.3502, Train Accuracy: 0.8617\n",
      "Val Loss: 0.3288, Val Accuracy: 0.8863\n",
      "Train F1: 0.8609, Val F1: 0.8831\n",
      "Metrics -> F1-Score: 0.8538, Precision: 0.8535, Recall: 0.8543\n",
      "Sensitivity -> Class 0: 0.8153 Class 1: 0.7222 Class 2: 0.9599 Class 3: 0.8957\n",
      "Confusion Matrix:\n",
      "[[1077  207    6   31]\n",
      " [ 163  967   55  154]\n",
      " [  18   29 1531   17]\n",
      " [  35  108    9 1305]]\n"
     ]
    },
    {
     "name": "stderr",
     "output_type": "stream",
     "text": [
      "\n",
      "Training VGG16:  91%|█████████ | 91/100 [1:57:20<11:34, 77.21s/it]\u001b[A"
     ]
    },
    {
     "name": "stdout",
     "output_type": "stream",
     "text": [
      "Metrics -> F1-Score: 0.8638, Precision: 0.8668, Recall: 0.8703\n",
      "Sensitivity -> Class 0: 0.8667 Class 1: 0.6176 Class 2: 0.9852 Class 3: 0.9767\n",
      "Confusion Matrix:\n",
      "[[260  35   0   5]\n",
      " [ 36 189  46  35]\n",
      " [  2   2 399   2]\n",
      " [  3   3   1 293]]\n",
      "Epoch 91/100 - VGG16\n",
      "Train Loss: 0.3745, Train Accuracy: 0.8543\n",
      "Val Loss: 0.3265, Val Accuracy: 0.8703\n",
      "Train F1: 0.8538, Val F1: 0.8638\n",
      "Metrics -> F1-Score: 0.8637, Precision: 0.8635, Recall: 0.8643\n",
      "Sensitivity -> Class 0: 0.8289 Class 1: 0.7453 Class 2: 0.9530 Class 3: 0.9087\n",
      "Confusion Matrix:\n",
      "[[1095  174   21   31]\n",
      " [ 140  998   60  141]\n",
      " [  18   41 1520   16]\n",
      " [  26   99    8 1324]]\n"
     ]
    },
    {
     "name": "stderr",
     "output_type": "stream",
     "text": [
      "\n",
      "Training VGG16:  92%|█████████▏| 92/100 [1:58:38<10:17, 77.23s/it]\u001b[A"
     ]
    },
    {
     "name": "stdout",
     "output_type": "stream",
     "text": [
      "Metrics -> F1-Score: 0.8749, Precision: 0.8760, Recall: 0.8787\n",
      "Sensitivity -> Class 0: 0.8033 Class 1: 0.7026 Class 2: 0.9951 Class 3: 0.9767\n",
      "Confusion Matrix:\n",
      "[[241  50   2   7]\n",
      " [ 24 215  42  25]\n",
      " [  0   1 403   1]\n",
      " [  2   4   1 293]]\n",
      "Epoch 92/100 - VGG16\n",
      "Train Loss: 0.3793, Train Accuracy: 0.8643\n",
      "Val Loss: 0.3142, Val Accuracy: 0.8787\n",
      "Train F1: 0.8637, Val F1: 0.8749\n",
      "Metrics -> F1-Score: 0.8530, Precision: 0.8523, Recall: 0.8542\n",
      "Sensitivity -> Class 0: 0.8198 Class 1: 0.7102 Class 2: 0.9505 Class 3: 0.9121\n",
      "Confusion Matrix:\n",
      "[[1083  189   15   34]\n",
      " [ 176  951   73  139]\n",
      " [  12   44 1516   23]\n",
      " [  33   84   11 1329]]\n"
     ]
    },
    {
     "name": "stderr",
     "output_type": "stream",
     "text": [
      "\n",
      "Training VGG16:  93%|█████████▎| 93/100 [1:59:56<09:01, 77.42s/it]\u001b[A"
     ]
    },
    {
     "name": "stdout",
     "output_type": "stream",
     "text": [
      "Metrics -> F1-Score: 0.8826, Precision: 0.8868, Recall: 0.8825\n",
      "Sensitivity -> Class 0: 0.7800 Class 1: 0.8235 Class 2: 0.9383 Class 3: 0.9700\n",
      "Confusion Matrix:\n",
      "[[234  56   0  10]\n",
      " [ 17 252  13  24]\n",
      " [  4  16 380   5]\n",
      " [  1   8   0 291]]\n",
      "Epoch 93/100 - VGG16\n",
      "Train Loss: 0.3714, Train Accuracy: 0.8542\n",
      "Val Loss: 0.3094, Val Accuracy: 0.8825\n",
      "Train F1: 0.8530, Val F1: 0.8826\n",
      "Metrics -> F1-Score: 0.8586, Precision: 0.8584, Recall: 0.8591\n",
      "Sensitivity -> Class 0: 0.8160 Class 1: 0.7416 Class 2: 0.9492 Class 3: 0.9073\n",
      "Confusion Matrix:\n",
      "[[1078  189   12   42]\n",
      " [ 156  993   60  130]\n",
      " [  12   46 1514   23]\n",
      " [  32   92   11 1322]]\n"
     ]
    },
    {
     "name": "stderr",
     "output_type": "stream",
     "text": [
      "\n",
      "Training VGG16:  94%|█████████▍| 94/100 [2:01:13<07:43, 77.33s/it]\u001b[A"
     ]
    },
    {
     "name": "stdout",
     "output_type": "stream",
     "text": [
      "Metrics -> F1-Score: 0.8739, Precision: 0.8766, Recall: 0.8764\n",
      "Sensitivity -> Class 0: 0.7667 Class 1: 0.7516 Class 2: 0.9778 Class 3: 0.9767\n",
      "Confusion Matrix:\n",
      "[[230  54   0  16]\n",
      " [ 17 230  34  25]\n",
      " [  2   4 396   3]\n",
      " [  1   6   0 293]]\n",
      "Epoch 94/100 - VGG16\n",
      "Train Loss: 0.3728, Train Accuracy: 0.8591\n",
      "Val Loss: 0.3232, Val Accuracy: 0.8764\n",
      "Train F1: 0.8586, Val F1: 0.8739\n",
      "Metrics -> F1-Score: 0.8610, Precision: 0.8608, Recall: 0.8617\n",
      "Sensitivity -> Class 0: 0.8251 Class 1: 0.7296 Class 2: 0.9542 Class 3: 0.9149\n",
      "Confusion Matrix:\n",
      "[[1090  186   10   35]\n",
      " [ 168  977   56  138]\n",
      " [  11   42 1522   20]\n",
      " [  13  101   10 1333]]\n"
     ]
    },
    {
     "name": "stderr",
     "output_type": "stream",
     "text": [
      "\n",
      "Training VGG16:  95%|█████████▌| 95/100 [2:02:31<06:27, 77.55s/it]\u001b[A"
     ]
    },
    {
     "name": "stdout",
     "output_type": "stream",
     "text": [
      "Metrics -> F1-Score: 0.8718, Precision: 0.8727, Recall: 0.8749\n",
      "Sensitivity -> Class 0: 0.8000 Class 1: 0.7124 Class 2: 0.9827 Class 3: 0.9700\n",
      "Confusion Matrix:\n",
      "[[240  51   1   8]\n",
      " [ 22 218  34  32]\n",
      " [  3   2 398   2]\n",
      " [  2   6   1 291]]\n",
      "Epoch 95/100 - VGG16\n",
      "Train Loss: 0.3641, Train Accuracy: 0.8617\n",
      "Val Loss: 0.3082, Val Accuracy: 0.8749\n",
      "Train F1: 0.8610, Val F1: 0.8718\n",
      "Metrics -> F1-Score: 0.8675, Precision: 0.8672, Recall: 0.8680\n",
      "Sensitivity -> Class 0: 0.8335 Class 1: 0.7521 Class 2: 0.9618 Class 3: 0.9032\n",
      "Confusion Matrix:\n",
      "[[1101  183    9   28]\n",
      " [ 143 1007   57  132]\n",
      " [   8   37 1534   16]\n",
      " [  39   92   10 1316]]\n"
     ]
    },
    {
     "name": "stderr",
     "output_type": "stream",
     "text": [
      "\n",
      "Training VGG16:  96%|█████████▌| 96/100 [2:03:48<05:09, 77.47s/it]\u001b[A"
     ]
    },
    {
     "name": "stdout",
     "output_type": "stream",
     "text": [
      "Metrics -> F1-Score: 0.8729, Precision: 0.8737, Recall: 0.8772\n",
      "Sensitivity -> Class 0: 0.8467 Class 1: 0.6732 Class 2: 0.9877 Class 3: 0.9667\n",
      "Confusion Matrix:\n",
      "[[254  39   1   6]\n",
      " [ 37 206  35  28]\n",
      " [  3   1 400   1]\n",
      " [  5   4   1 290]]\n",
      "Epoch 96/100 - VGG16\n",
      "Train Loss: 0.3560, Train Accuracy: 0.8680\n",
      "Val Loss: 0.3191, Val Accuracy: 0.8772\n",
      "Train F1: 0.8675, Val F1: 0.8729\n",
      "Metrics -> F1-Score: 0.8643, Precision: 0.8640, Recall: 0.8648\n",
      "Sensitivity -> Class 0: 0.8282 Class 1: 0.7498 Class 2: 0.9542 Class 3: 0.9060\n",
      "Confusion Matrix:\n",
      "[[1094  181   15   31]\n",
      " [ 134 1004   65  136]\n",
      " [  15   43 1522   15]\n",
      " [  37   89   11 1320]]\n"
     ]
    },
    {
     "name": "stderr",
     "output_type": "stream",
     "text": [
      "\n",
      "Training VGG16:  97%|█████████▋| 97/100 [2:05:06<03:53, 77.78s/it]\u001b[A"
     ]
    },
    {
     "name": "stdout",
     "output_type": "stream",
     "text": [
      "Metrics -> F1-Score: 0.8636, Precision: 0.8657, Recall: 0.8688\n",
      "Sensitivity -> Class 0: 0.8600 Class 1: 0.6405 Class 2: 0.9827 Class 3: 0.9567\n",
      "Confusion Matrix:\n",
      "[[258  35   0   7]\n",
      " [ 40 196  37  33]\n",
      " [  3   2 398   2]\n",
      " [  9   4   0 287]]\n",
      "Epoch 97/100 - VGG16\n",
      "Train Loss: 0.3645, Train Accuracy: 0.8648\n",
      "Val Loss: 0.3204, Val Accuracy: 0.8688\n",
      "Train F1: 0.8643, Val F1: 0.8636\n",
      "Metrics -> F1-Score: 0.8594, Precision: 0.8588, Recall: 0.8605\n",
      "Sensitivity -> Class 0: 0.8319 Class 1: 0.7237 Class 2: 0.9561 Class 3: 0.9073\n",
      "Confusion Matrix:\n",
      "[[1099  173   17   32]\n",
      " [ 169  969   64  137]\n",
      " [  11   34 1525   25]\n",
      " [  27   96   12 1322]]\n"
     ]
    },
    {
     "name": "stderr",
     "output_type": "stream",
     "text": [
      "\n",
      "Training VGG16:  98%|█████████▊| 98/100 [2:06:24<02:35, 77.69s/it]\u001b[A"
     ]
    },
    {
     "name": "stdout",
     "output_type": "stream",
     "text": [
      "Metrics -> F1-Score: 0.8656, Precision: 0.8662, Recall: 0.8688\n",
      "Sensitivity -> Class 0: 0.8000 Class 1: 0.6993 Class 2: 0.9778 Class 3: 0.9633\n",
      "Confusion Matrix:\n",
      "[[240  52   0   8]\n",
      " [ 23 214  38  31]\n",
      " [  2   4 396   3]\n",
      " [  4   6   1 289]]\n",
      "Epoch 98/100 - VGG16\n",
      "Train Loss: 0.3611, Train Accuracy: 0.8605\n",
      "Val Loss: 0.3195, Val Accuracy: 0.8688\n",
      "Train F1: 0.8594, Val F1: 0.8656\n",
      "Metrics -> F1-Score: 0.8582, Precision: 0.8576, Recall: 0.8592\n",
      "Sensitivity -> Class 0: 0.8380 Class 1: 0.7207 Class 2: 0.9530 Class 3: 0.9032\n",
      "Confusion Matrix:\n",
      "[[1107  169   12   33]\n",
      " [ 163  965   69  142]\n",
      " [  14   38 1520   23]\n",
      " [  32   96   13 1316]]\n"
     ]
    },
    {
     "name": "stderr",
     "output_type": "stream",
     "text": [
      "\n",
      "Training VGG16:  99%|█████████▉| 99/100 [2:07:42<01:17, 77.72s/it]\u001b[A"
     ]
    },
    {
     "name": "stdout",
     "output_type": "stream",
     "text": [
      "Metrics -> F1-Score: 0.8713, Precision: 0.8727, Recall: 0.8757\n",
      "Sensitivity -> Class 0: 0.8367 Class 1: 0.6765 Class 2: 0.9951 Class 3: 0.9567\n",
      "Confusion Matrix:\n",
      "[[251  37   1  11]\n",
      " [ 33 207  33  33]\n",
      " [  1   1 403   0]\n",
      " [  5   5   3 287]]\n",
      "Epoch 99/100 - VGG16\n",
      "Train Loss: 0.3730, Train Accuracy: 0.8592\n",
      "Val Loss: 0.3345, Val Accuracy: 0.8757\n",
      "Train F1: 0.8582, Val F1: 0.8713\n",
      "Metrics -> F1-Score: 0.8538, Precision: 0.8532, Recall: 0.8550\n",
      "Sensitivity -> Class 0: 0.8176 Class 1: 0.7147 Class 2: 0.9555 Class 3: 0.9080\n",
      "Confusion Matrix:\n",
      "[[1080  180   18   43]\n",
      " [ 170  957   72  140]\n",
      " [  16   36 1524   19]\n",
      " [  25   99   10 1323]]\n"
     ]
    },
    {
     "name": "stderr",
     "output_type": "stream",
     "text": [
      "\n",
      "Training VGG16: 100%|██████████| 100/100 [2:08:59<00:00, 77.71s/it]\u001b[A"
     ]
    },
    {
     "name": "stdout",
     "output_type": "stream",
     "text": [
      "Metrics -> F1-Score: 0.8676, Precision: 0.8679, Recall: 0.8711\n",
      "Sensitivity -> Class 0: 0.8167 Class 1: 0.6895 Class 2: 0.9679 Class 3: 0.9800\n",
      "Confusion Matrix:\n",
      "[[245  49   0   6]\n",
      " [ 26 211  40  29]\n",
      " [  4   5 392   4]\n",
      " [  1   4   1 294]]\n",
      "Epoch 100/100 - VGG16\n",
      "Train Loss: 0.3762, Train Accuracy: 0.8550\n",
      "Val Loss: 0.3064, Val Accuracy: 0.8711\n",
      "Train F1: 0.8538, Val F1: 0.8676\n"
     ]
    },
    {
     "name": "stderr",
     "output_type": "stream",
     "text": [
      "\n",
      "                                                                   \u001b[A"
     ]
    },
    {
     "name": "stdout",
     "output_type": "stream",
     "text": [
      "Final model for VGG16 saved at /kaggle/working/VGG16_final.pth\n",
      "Fine-tuning ResNet18\n"
     ]
    },
    {
     "name": "stderr",
     "output_type": "stream",
     "text": [
      "\n",
      "Training ResNet18:   0%|          | 0/100 [00:00<?, ?it/s]\u001b[A"
     ]
    },
    {
     "name": "stdout",
     "output_type": "stream",
     "text": [
      "Metrics -> F1-Score: 0.4980, Precision: 0.5003, Recall: 0.5046\n",
      "Sensitivity -> Class 0: 0.3195 Class 1: 0.3577 Class 2: 0.7053 Class 3: 0.5875\n",
      "Confusion Matrix:\n",
      "[[ 422  417  119  363]\n",
      " [ 175  479  246  439]\n",
      " [ 170   82 1125  218]\n",
      " [ 199  252  150  856]]\n"
     ]
    },
    {
     "name": "stderr",
     "output_type": "stream",
     "text": [
      "\n",
      "Training ResNet18:   1%|          | 1/100 [00:42<1:09:24, 42.06s/it]\u001b[A"
     ]
    },
    {
     "name": "stdout",
     "output_type": "stream",
     "text": [
      "Metrics -> F1-Score: 0.5687, Precision: 0.6267, Recall: 0.5828\n",
      "Sensitivity -> Class 0: 0.2567 Class 1: 0.5065 Class 2: 0.8370 Class 3: 0.6433\n",
      "Confusion Matrix:\n",
      "[[ 77 101  34  88]\n",
      " [ 11 155  69  71]\n",
      " [  8  40 339  18]\n",
      " [  0  97  10 193]]\n",
      "Epoch 1/100 - ResNet18\n",
      "Train Loss: 1.1686, Train Accuracy: 0.5046\n",
      "Val Loss: 1.0793, Val Accuracy: 0.5828\n",
      "Train F1: 0.4980, Val F1: 0.5687\n",
      "Best model for ResNet18 saved at /kaggle/working/ResNet18_best.pth with F1-score: 0.5687\n",
      "Metrics -> F1-Score: 0.7780, Precision: 0.7809, Recall: 0.7812\n",
      "Sensitivity -> Class 0: 0.6927 Class 1: 0.5922 Class 2: 0.9078 Class 3: 0.8964\n",
      "Confusion Matrix:\n",
      "[[ 915  272   25  109]\n",
      " [ 142  793  125  279]\n",
      " [  39   51 1448   57]\n",
      " [  38  107    6 1306]]\n"
     ]
    },
    {
     "name": "stderr",
     "output_type": "stream",
     "text": [
      "\n",
      "Training ResNet18:   2%|▏         | 2/100 [01:25<1:09:45, 42.70s/it]\u001b[A"
     ]
    },
    {
     "name": "stdout",
     "output_type": "stream",
     "text": [
      "Metrics -> F1-Score: 0.7278, Precision: 0.7496, Recall: 0.7239\n",
      "Sensitivity -> Class 0: 0.6067 Class 1: 0.6275 Class 2: 0.9111 Class 3: 0.6867\n",
      "Confusion Matrix:\n",
      "[[182  97   6  15]\n",
      " [ 19 192  67  28]\n",
      " [  8  25 369   3]\n",
      " [  4  84   6 206]]\n",
      "Epoch 2/100 - ResNet18\n",
      "Train Loss: 0.7285, Train Accuracy: 0.7812\n",
      "Val Loss: 0.8160, Val Accuracy: 0.7239\n",
      "Train F1: 0.7780, Val F1: 0.7278\n",
      "Best model for ResNet18 saved at /kaggle/working/ResNet18_best.pth with F1-score: 0.7278\n",
      "Metrics -> F1-Score: 0.8171, Precision: 0.8184, Recall: 0.8200\n",
      "Sensitivity -> Class 0: 0.7691 Class 1: 0.6296 Class 2: 0.9266 Class 3: 0.9245\n",
      "Confusion Matrix:\n",
      "[[1016  213   17   75]\n",
      " [ 160  843   97  239]\n",
      " [  30   47 1478   40]\n",
      " [  22   83    5 1347]]\n"
     ]
    },
    {
     "name": "stderr",
     "output_type": "stream",
     "text": [
      "\n",
      "Training ResNet18:   3%|▎         | 3/100 [02:08<1:09:11, 42.80s/it]\u001b[A"
     ]
    },
    {
     "name": "stdout",
     "output_type": "stream",
     "text": [
      "Metrics -> F1-Score: 0.7728, Precision: 0.7850, Recall: 0.7742\n",
      "Sensitivity -> Class 0: 0.6100 Class 1: 0.6242 Class 2: 0.9062 Class 3: 0.9133\n",
      "Confusion Matrix:\n",
      "[[183 101   2  14]\n",
      " [ 20 191  57  38]\n",
      " [  3  26 367   9]\n",
      " [  2  24   0 274]]\n",
      "Epoch 3/100 - ResNet18\n",
      "Train Loss: 0.5759, Train Accuracy: 0.8200\n",
      "Val Loss: 0.6147, Val Accuracy: 0.7742\n",
      "Train F1: 0.8171, Val F1: 0.7728\n",
      "Best model for ResNet18 saved at /kaggle/working/ResNet18_best.pth with F1-score: 0.7728\n",
      "Metrics -> F1-Score: 0.8361, Precision: 0.8378, Recall: 0.8372\n",
      "Sensitivity -> Class 0: 0.7744 Class 1: 0.6886 Class 2: 0.9323 Class 3: 0.9266\n",
      "Confusion Matrix:\n",
      "[[1023  242    4   52]\n",
      " [ 122  922   94  201]\n",
      " [  18   58 1487   32]\n",
      " [  13   89    5 1350]]\n"
     ]
    },
    {
     "name": "stderr",
     "output_type": "stream",
     "text": [
      "\n",
      "Training ResNet18:   4%|▍         | 4/100 [02:49<1:07:50, 42.40s/it]\u001b[A"
     ]
    },
    {
     "name": "stdout",
     "output_type": "stream",
     "text": [
      "Metrics -> F1-Score: 0.7747, Precision: 0.7754, Recall: 0.7841\n",
      "Sensitivity -> Class 0: 0.7100 Class 1: 0.5000 Class 2: 0.9309 Class 3: 0.9500\n",
      "Confusion Matrix:\n",
      "[[213  67   1  19]\n",
      " [ 35 153  65  53]\n",
      " [ 13   9 377   6]\n",
      " [  3  11   1 285]]\n",
      "Epoch 4/100 - ResNet18\n",
      "Train Loss: 0.5042, Train Accuracy: 0.8372\n",
      "Val Loss: 0.5506, Val Accuracy: 0.7841\n",
      "Train F1: 0.8361, Val F1: 0.7747\n",
      "Best model for ResNet18 saved at /kaggle/working/ResNet18_best.pth with F1-score: 0.7747\n",
      "Metrics -> F1-Score: 0.8463, Precision: 0.8472, Recall: 0.8484\n",
      "Sensitivity -> Class 0: 0.8100 Class 1: 0.6811 Class 2: 0.9373 Class 3: 0.9396\n",
      "Confusion Matrix:\n",
      "[[1070  191   15   45]\n",
      " [ 133  912   86  208]\n",
      " [  20   47 1495   33]\n",
      " [  15   68    5 1369]]\n"
     ]
    },
    {
     "name": "stderr",
     "output_type": "stream",
     "text": [
      "\n",
      "Training ResNet18:   5%|▌         | 5/100 [03:31<1:06:53, 42.24s/it]\u001b[A"
     ]
    },
    {
     "name": "stdout",
     "output_type": "stream",
     "text": [
      "Metrics -> F1-Score: 0.7879, Precision: 0.7878, Recall: 0.7933\n",
      "Sensitivity -> Class 0: 0.7267 Class 1: 0.5523 Class 2: 0.9136 Class 3: 0.9433\n",
      "Confusion Matrix:\n",
      "[[218  69   1  12]\n",
      " [ 31 169  63  43]\n",
      " [ 11  17 370   7]\n",
      " [  1  16   0 283]]\n",
      "Epoch 5/100 - ResNet18\n",
      "Train Loss: 0.4552, Train Accuracy: 0.8484\n",
      "Val Loss: 0.5097, Val Accuracy: 0.7933\n",
      "Train F1: 0.8463, Val F1: 0.7879\n",
      "Best model for ResNet18 saved at /kaggle/working/ResNet18_best.pth with F1-score: 0.7879\n",
      "Metrics -> F1-Score: 0.8567, Precision: 0.8574, Recall: 0.8577\n",
      "Sensitivity -> Class 0: 0.8213 Class 1: 0.7214 Class 2: 0.9348 Class 3: 0.9314\n",
      "Confusion Matrix:\n",
      "[[1085  191    5   40]\n",
      " [ 117  966   83  173]\n",
      " [  19   50 1491   35]\n",
      " [  14   78    8 1357]]\n"
     ]
    },
    {
     "name": "stderr",
     "output_type": "stream",
     "text": [
      "\n",
      "Training ResNet18:   6%|▌         | 6/100 [04:14<1:06:14, 42.28s/it]\u001b[A"
     ]
    },
    {
     "name": "stdout",
     "output_type": "stream",
     "text": [
      "Metrics -> F1-Score: 0.8098, Precision: 0.8103, Recall: 0.8162\n",
      "Sensitivity -> Class 0: 0.7433 Class 1: 0.5686 Class 2: 0.9531 Class 3: 0.9567\n",
      "Confusion Matrix:\n",
      "[[223  69   0   8]\n",
      " [ 28 174  67  37]\n",
      " [  7   7 386   5]\n",
      " [  0  13   0 287]]\n",
      "Epoch 6/100 - ResNet18\n",
      "Train Loss: 0.4288, Train Accuracy: 0.8577\n",
      "Val Loss: 0.4970, Val Accuracy: 0.8162\n",
      "Train F1: 0.8567, Val F1: 0.8098\n",
      "Best model for ResNet18 saved at /kaggle/working/ResNet18_best.pth with F1-score: 0.8098\n",
      "Metrics -> F1-Score: 0.8617, Precision: 0.8629, Recall: 0.8626\n",
      "Sensitivity -> Class 0: 0.8100 Class 1: 0.7386 Class 2: 0.9411 Class 3: 0.9382\n",
      "Confusion Matrix:\n",
      "[[1070  205   12   34]\n",
      " [ 103  989   80  167]\n",
      " [  14   47 1501   33]\n",
      " [  14   72    4 1367]]\n"
     ]
    },
    {
     "name": "stderr",
     "output_type": "stream",
     "text": [
      "\n",
      "Training ResNet18:   7%|▋         | 7/100 [04:55<1:05:16, 42.11s/it]\u001b[A"
     ]
    },
    {
     "name": "stdout",
     "output_type": "stream",
     "text": [
      "Metrics -> F1-Score: 0.8026, Precision: 0.8028, Recall: 0.8085\n",
      "Sensitivity -> Class 0: 0.7367 Class 1: 0.5686 Class 2: 0.9407 Class 3: 0.9467\n",
      "Confusion Matrix:\n",
      "[[221  67   1  11]\n",
      " [ 26 174  65  41]\n",
      " [ 12  10 381   2]\n",
      " [  1  14   1 284]]\n",
      "Epoch 7/100 - ResNet18\n",
      "Train Loss: 0.4064, Train Accuracy: 0.8626\n",
      "Val Loss: 0.4709, Val Accuracy: 0.8085\n",
      "Train F1: 0.8617, Val F1: 0.8026\n",
      "Metrics -> F1-Score: 0.8658, Precision: 0.8658, Recall: 0.8671\n",
      "Sensitivity -> Class 0: 0.8365 Class 1: 0.7207 Class 2: 0.9486 Class 3: 0.9403\n",
      "Confusion Matrix:\n",
      "[[1105  184    7   25]\n",
      " [ 134  965   82  158]\n",
      " [  12   42 1513   28]\n",
      " [   8   75    4 1370]]\n"
     ]
    },
    {
     "name": "stderr",
     "output_type": "stream",
     "text": [
      "\n",
      "Training ResNet18:   8%|▊         | 8/100 [05:38<1:04:44, 42.22s/it]\u001b[A"
     ]
    },
    {
     "name": "stdout",
     "output_type": "stream",
     "text": [
      "Metrics -> F1-Score: 0.8119, Precision: 0.8142, Recall: 0.8139\n",
      "Sensitivity -> Class 0: 0.7300 Class 1: 0.6405 Class 2: 0.9160 Class 3: 0.9367\n",
      "Confusion Matrix:\n",
      "[[219  74   1   6]\n",
      " [ 21 196  60  29]\n",
      " [  9  18 371   7]\n",
      " [  1  17   1 281]]\n",
      "Epoch 8/100 - ResNet18\n",
      "Train Loss: 0.3925, Train Accuracy: 0.8671\n",
      "Val Loss: 0.4748, Val Accuracy: 0.8139\n",
      "Train F1: 0.8658, Val F1: 0.8119\n",
      "Best model for ResNet18 saved at /kaggle/working/ResNet18_best.pth with F1-score: 0.8119\n",
      "Metrics -> F1-Score: 0.8742, Precision: 0.8752, Recall: 0.8745\n",
      "Sensitivity -> Class 0: 0.8342 Class 1: 0.7662 Class 2: 0.9467 Class 3: 0.9314\n",
      "Confusion Matrix:\n",
      "[[1102  188    8   23]\n",
      " [  88 1026   73  152]\n",
      " [  13   47 1510   25]\n",
      " [  11   81    8 1357]]\n"
     ]
    },
    {
     "name": "stderr",
     "output_type": "stream",
     "text": [
      "\n",
      "Training ResNet18:   9%|▉         | 9/100 [06:20<1:03:58, 42.18s/it]\u001b[A"
     ]
    },
    {
     "name": "stdout",
     "output_type": "stream",
     "text": [
      "Metrics -> F1-Score: 0.8131, Precision: 0.8138, Recall: 0.8192\n",
      "Sensitivity -> Class 0: 0.7700 Class 1: 0.5719 Class 2: 0.9358 Class 3: 0.9633\n",
      "Confusion Matrix:\n",
      "[[231  59   1   9]\n",
      " [ 28 175  53  50]\n",
      " [  9  12 379   5]\n",
      " [  1  10   0 289]]\n",
      "Epoch 9/100 - ResNet18\n",
      "Train Loss: 0.3762, Train Accuracy: 0.8745\n",
      "Val Loss: 0.4320, Val Accuracy: 0.8192\n",
      "Train F1: 0.8742, Val F1: 0.8131\n",
      "Best model for ResNet18 saved at /kaggle/working/ResNet18_best.pth with F1-score: 0.8131\n",
      "Metrics -> F1-Score: 0.8780, Precision: 0.8785, Recall: 0.8789\n",
      "Sensitivity -> Class 0: 0.8342 Class 1: 0.7580 Class 2: 0.9530 Class 3: 0.9492\n",
      "Confusion Matrix:\n",
      "[[1102  189    9   21]\n",
      " [ 102 1015   79  143]\n",
      " [  10   43 1520   22]\n",
      " [   8   62    4 1383]]\n"
     ]
    },
    {
     "name": "stderr",
     "output_type": "stream",
     "text": [
      "\n",
      "Training ResNet18:  10%|█         | 10/100 [07:03<1:03:27, 42.30s/it]\u001b[A"
     ]
    },
    {
     "name": "stdout",
     "output_type": "stream",
     "text": [
      "Metrics -> F1-Score: 0.8170, Precision: 0.8203, Recall: 0.8200\n",
      "Sensitivity -> Class 0: 0.7233 Class 1: 0.6340 Class 2: 0.9358 Class 3: 0.9500\n",
      "Confusion Matrix:\n",
      "[[217  74   2   7]\n",
      " [ 18 194  54  40]\n",
      " [  5  16 379   5]\n",
      " [  2  13   0 285]]\n",
      "Epoch 10/100 - ResNet18\n",
      "Train Loss: 0.3594, Train Accuracy: 0.8789\n",
      "Val Loss: 0.4302, Val Accuracy: 0.8200\n",
      "Train F1: 0.8780, Val F1: 0.8170\n",
      "Best model for ResNet18 saved at /kaggle/working/ResNet18_best.pth with F1-score: 0.8170\n",
      "Metrics -> F1-Score: 0.8765, Precision: 0.8770, Recall: 0.8771\n",
      "Sensitivity -> Class 0: 0.8410 Class 1: 0.7595 Class 2: 0.9442 Class 3: 0.9444\n",
      "Confusion Matrix:\n",
      "[[1111  184   11   15]\n",
      " [ 101 1017   79  142]\n",
      " [   9   48 1506   32]\n",
      " [   8   68    5 1376]]\n"
     ]
    },
    {
     "name": "stderr",
     "output_type": "stream",
     "text": [
      "\n",
      "Training ResNet18:  11%|█         | 11/100 [07:44<1:02:31, 42.15s/it]\u001b[A"
     ]
    },
    {
     "name": "stdout",
     "output_type": "stream",
     "text": [
      "Metrics -> F1-Score: 0.8384, Precision: 0.8400, Recall: 0.8406\n",
      "Sensitivity -> Class 0: 0.7567 Class 1: 0.6797 Class 2: 0.9432 Class 3: 0.9500\n",
      "Confusion Matrix:\n",
      "[[227  63   2   8]\n",
      " [ 22 208  51  25]\n",
      " [  6  14 382   3]\n",
      " [  0  15   0 285]]\n",
      "Epoch 11/100 - ResNet18\n",
      "Train Loss: 0.3545, Train Accuracy: 0.8771\n",
      "Val Loss: 0.4385, Val Accuracy: 0.8406\n",
      "Train F1: 0.8765, Val F1: 0.8384\n",
      "Best model for ResNet18 saved at /kaggle/working/ResNet18_best.pth with F1-score: 0.8384\n",
      "Metrics -> F1-Score: 0.8844, Precision: 0.8847, Recall: 0.8850\n",
      "Sensitivity -> Class 0: 0.8531 Class 1: 0.7767 Class 2: 0.9536 Class 3: 0.9382\n",
      "Confusion Matrix:\n",
      "[[1127  163   11   20]\n",
      " [  96 1040   67  136]\n",
      " [  10   38 1521   26]\n",
      " [  14   71    5 1367]]\n"
     ]
    },
    {
     "name": "stderr",
     "output_type": "stream",
     "text": [
      "\n",
      "Training ResNet18:  12%|█▏        | 12/100 [08:27<1:01:53, 42.20s/it]\u001b[A"
     ]
    },
    {
     "name": "stdout",
     "output_type": "stream",
     "text": [
      "Metrics -> F1-Score: 0.8328, Precision: 0.8361, Recall: 0.8345\n",
      "Sensitivity -> Class 0: 0.7267 Class 1: 0.6961 Class 2: 0.9481 Class 3: 0.9300\n",
      "Confusion Matrix:\n",
      "[[218  72   3   7]\n",
      " [ 19 213  46  28]\n",
      " [  4  10 384   7]\n",
      " [  3  18   0 279]]\n",
      "Epoch 12/100 - ResNet18\n",
      "Train Loss: 0.3366, Train Accuracy: 0.8850\n",
      "Val Loss: 0.4182, Val Accuracy: 0.8345\n",
      "Train F1: 0.8844, Val F1: 0.8328\n",
      "Metrics -> F1-Score: 0.8833, Precision: 0.8835, Recall: 0.8841\n",
      "Sensitivity -> Class 0: 0.8403 Class 1: 0.7647 Class 2: 0.9611 Class 3: 0.9492\n",
      "Confusion Matrix:\n",
      "[[1110  184    6   21]\n",
      " [ 109 1024   69  137]\n",
      " [  11   32 1533   19]\n",
      " [   5   66    3 1383]]\n"
     ]
    },
    {
     "name": "stderr",
     "output_type": "stream",
     "text": [
      "\n",
      "Training ResNet18:  13%|█▎        | 13/100 [09:09<1:01:19, 42.29s/it]\u001b[A"
     ]
    },
    {
     "name": "stdout",
     "output_type": "stream",
     "text": [
      "Metrics -> F1-Score: 0.8417, Precision: 0.8451, Recall: 0.8429\n",
      "Sensitivity -> Class 0: 0.7533 Class 1: 0.7026 Class 2: 0.9407 Class 3: 0.9433\n",
      "Confusion Matrix:\n",
      "[[226  65   1   8]\n",
      " [ 16 215  53  22]\n",
      " [  4  16 381   4]\n",
      " [  1  16   0 283]]\n",
      "Epoch 13/100 - ResNet18\n",
      "Train Loss: 0.3316, Train Accuracy: 0.8841\n",
      "Val Loss: 0.4244, Val Accuracy: 0.8429\n",
      "Train F1: 0.8833, Val F1: 0.8417\n",
      "Best model for ResNet18 saved at /kaggle/working/ResNet18_best.pth with F1-score: 0.8417\n",
      "Metrics -> F1-Score: 0.8863, Precision: 0.8866, Recall: 0.8867\n",
      "Sensitivity -> Class 0: 0.8486 Class 1: 0.7819 Class 2: 0.9574 Class 3: 0.9403\n",
      "Confusion Matrix:\n",
      "[[1121  173    6   21]\n",
      " [  94 1047   72  126]\n",
      " [  13   35 1527   20]\n",
      " [   9   73    5 1370]]\n"
     ]
    },
    {
     "name": "stderr",
     "output_type": "stream",
     "text": [
      "\n",
      "Training ResNet18:  14%|█▍        | 14/100 [09:51<1:00:28, 42.19s/it]\u001b[A"
     ]
    },
    {
     "name": "stdout",
     "output_type": "stream",
     "text": [
      "Metrics -> F1-Score: 0.8355, Precision: 0.8353, Recall: 0.8398\n",
      "Sensitivity -> Class 0: 0.8067 Class 1: 0.6275 Class 2: 0.9457 Class 3: 0.9467\n",
      "Confusion Matrix:\n",
      "[[242  47   2   9]\n",
      " [ 31 192  48  35]\n",
      " [  5  11 383   6]\n",
      " [  4  12   0 284]]\n",
      "Epoch 14/100 - ResNet18\n",
      "Train Loss: 0.3304, Train Accuracy: 0.8867\n",
      "Val Loss: 0.4029, Val Accuracy: 0.8398\n",
      "Train F1: 0.8863, Val F1: 0.8355\n",
      "Metrics -> F1-Score: 0.8875, Precision: 0.8875, Recall: 0.8883\n",
      "Sensitivity -> Class 0: 0.8600 Class 1: 0.7707 Class 2: 0.9567 Class 3: 0.9472\n",
      "Confusion Matrix:\n",
      "[[1136  154    9   22]\n",
      " [ 102 1032   71  134]\n",
      " [  12   39 1526   18]\n",
      " [  11   62    4 1380]]\n"
     ]
    },
    {
     "name": "stderr",
     "output_type": "stream",
     "text": [
      "\n",
      "Training ResNet18:  15%|█▌        | 15/100 [10:34<1:00:03, 42.40s/it]\u001b[A"
     ]
    },
    {
     "name": "stdout",
     "output_type": "stream",
     "text": [
      "Metrics -> F1-Score: 0.8408, Precision: 0.8423, Recall: 0.8429\n",
      "Sensitivity -> Class 0: 0.7667 Class 1: 0.6830 Class 2: 0.9605 Class 3: 0.9233\n",
      "Confusion Matrix:\n",
      "[[230  63   2   5]\n",
      " [ 20 209  51  26]\n",
      " [  4   8 389   4]\n",
      " [  3  18   2 277]]\n",
      "Epoch 15/100 - ResNet18\n",
      "Train Loss: 0.3297, Train Accuracy: 0.8883\n",
      "Val Loss: 0.4039, Val Accuracy: 0.8429\n",
      "Train F1: 0.8875, Val F1: 0.8408\n",
      "Metrics -> F1-Score: 0.8897, Precision: 0.8900, Recall: 0.8902\n",
      "Sensitivity -> Class 0: 0.8501 Class 1: 0.7872 Class 2: 0.9555 Class 3: 0.9499\n",
      "Confusion Matrix:\n",
      "[[1123  173    8   17]\n",
      " [  95 1054   70  120]\n",
      " [   8   37 1524   26]\n",
      " [  12   57    4 1384]]\n"
     ]
    },
    {
     "name": "stderr",
     "output_type": "stream",
     "text": [
      "\n",
      "Training ResNet18:  16%|█▌        | 16/100 [11:16<59:15, 42.32s/it]  \u001b[A"
     ]
    },
    {
     "name": "stdout",
     "output_type": "stream",
     "text": [
      "Metrics -> F1-Score: 0.8416, Precision: 0.8430, Recall: 0.8444\n",
      "Sensitivity -> Class 0: 0.7633 Class 1: 0.6765 Class 2: 0.9457 Class 3: 0.9600\n",
      "Confusion Matrix:\n",
      "[[229  61   1   9]\n",
      " [ 21 207  51  27]\n",
      " [  3  14 383   5]\n",
      " [  3   8   1 288]]\n",
      "Epoch 16/100 - ResNet18\n",
      "Train Loss: 0.3205, Train Accuracy: 0.8902\n",
      "Val Loss: 0.3878, Val Accuracy: 0.8444\n",
      "Train F1: 0.8897, Val F1: 0.8416\n",
      "Metrics -> F1-Score: 0.8879, Precision: 0.8879, Recall: 0.8885\n",
      "Sensitivity -> Class 0: 0.8607 Class 1: 0.7782 Class 2: 0.9574 Class 3: 0.9396\n",
      "Confusion Matrix:\n",
      "[[1137  160    6   18]\n",
      " [ 106 1042   69  122]\n",
      " [   7   41 1527   20]\n",
      " [  14   67    7 1369]]\n"
     ]
    },
    {
     "name": "stderr",
     "output_type": "stream",
     "text": [
      "\n",
      "Training ResNet18:  17%|█▋        | 17/100 [11:58<58:10, 42.05s/it]\u001b[A"
     ]
    },
    {
     "name": "stdout",
     "output_type": "stream",
     "text": [
      "Metrics -> F1-Score: 0.8400, Precision: 0.8407, Recall: 0.8429\n",
      "Sensitivity -> Class 0: 0.7667 Class 1: 0.6732 Class 2: 0.9383 Class 3: 0.9633\n",
      "Confusion Matrix:\n",
      "[[230  58   2  10]\n",
      " [ 26 206  43  31]\n",
      " [  6  14 380   5]\n",
      " [  1  10   0 289]]\n",
      "Epoch 17/100 - ResNet18\n",
      "Train Loss: 0.3124, Train Accuracy: 0.8885\n",
      "Val Loss: 0.3735, Val Accuracy: 0.8429\n",
      "Train F1: 0.8879, Val F1: 0.8400\n",
      "Metrics -> F1-Score: 0.8890, Precision: 0.8893, Recall: 0.8894\n",
      "Sensitivity -> Class 0: 0.8637 Class 1: 0.7812 Class 2: 0.9580 Class 3: 0.9369\n",
      "Confusion Matrix:\n",
      "[[1141  159    6   15]\n",
      " [  97 1046   62  134]\n",
      " [   9   34 1528   24]\n",
      " [   7   82    3 1365]]\n"
     ]
    },
    {
     "name": "stderr",
     "output_type": "stream",
     "text": [
      "\n",
      "Training ResNet18:  18%|█▊        | 18/100 [12:40<57:26, 42.03s/it]\u001b[A"
     ]
    },
    {
     "name": "stdout",
     "output_type": "stream",
     "text": [
      "Metrics -> F1-Score: 0.8387, Precision: 0.8417, Recall: 0.8413\n",
      "Sensitivity -> Class 0: 0.7467 Class 1: 0.6765 Class 2: 0.9506 Class 3: 0.9567\n",
      "Confusion Matrix:\n",
      "[[224  67   3   6]\n",
      " [ 18 207  50  31]\n",
      " [  3  12 385   5]\n",
      " [  1  12   0 287]]\n",
      "Epoch 18/100 - ResNet18\n",
      "Train Loss: 0.3110, Train Accuracy: 0.8894\n",
      "Val Loss: 0.3723, Val Accuracy: 0.8413\n",
      "Train F1: 0.8890, Val F1: 0.8387\n",
      "Metrics -> F1-Score: 0.8941, Precision: 0.8947, Recall: 0.8943\n",
      "Sensitivity -> Class 0: 0.8600 Class 1: 0.8058 Class 2: 0.9492 Class 3: 0.9465\n",
      "Confusion Matrix:\n",
      "[[1136  161    4   20]\n",
      " [  81 1079   67  112]\n",
      " [  12   43 1514   26]\n",
      " [  10   63    5 1379]]\n"
     ]
    },
    {
     "name": "stderr",
     "output_type": "stream",
     "text": [
      "\n",
      "Training ResNet18:  19%|█▉        | 19/100 [13:22<56:48, 42.08s/it]\u001b[A"
     ]
    },
    {
     "name": "stdout",
     "output_type": "stream",
     "text": [
      "Metrics -> F1-Score: 0.8422, Precision: 0.8432, Recall: 0.8452\n",
      "Sensitivity -> Class 0: 0.7767 Class 1: 0.6699 Class 2: 0.9481 Class 3: 0.9533\n",
      "Confusion Matrix:\n",
      "[[233  58   2   7]\n",
      " [ 20 205  52  29]\n",
      " [  6  11 384   4]\n",
      " [  2  11   1 286]]\n",
      "Epoch 19/100 - ResNet18\n",
      "Train Loss: 0.3066, Train Accuracy: 0.8943\n",
      "Val Loss: 0.3649, Val Accuracy: 0.8452\n",
      "Train F1: 0.8941, Val F1: 0.8422\n",
      "Best model for ResNet18 saved at /kaggle/working/ResNet18_best.pth with F1-score: 0.8422\n",
      "Metrics -> F1-Score: 0.8923, Precision: 0.8923, Recall: 0.8929\n",
      "Sensitivity -> Class 0: 0.8668 Class 1: 0.7849 Class 2: 0.9567 Class 3: 0.9458\n",
      "Confusion Matrix:\n",
      "[[1145  153    7   16]\n",
      " [  95 1051   67  126]\n",
      " [  10   35 1526   24]\n",
      " [  15   61    3 1378]]\n"
     ]
    },
    {
     "name": "stderr",
     "output_type": "stream",
     "text": [
      "\n",
      "Training ResNet18:  20%|██        | 20/100 [14:04<56:14, 42.19s/it]\u001b[A"
     ]
    },
    {
     "name": "stdout",
     "output_type": "stream",
     "text": [
      "Metrics -> F1-Score: 0.8403, Precision: 0.8417, Recall: 0.8436\n",
      "Sensitivity -> Class 0: 0.7833 Class 1: 0.6536 Class 2: 0.9630 Class 3: 0.9367\n",
      "Confusion Matrix:\n",
      "[[235  57   3   5]\n",
      " [ 20 200  56  30]\n",
      " [  2  10 390   3]\n",
      " [  3  13   3 281]]\n",
      "Epoch 20/100 - ResNet18\n",
      "Train Loss: 0.3009, Train Accuracy: 0.8929\n",
      "Val Loss: 0.3740, Val Accuracy: 0.8436\n",
      "Train F1: 0.8923, Val F1: 0.8403\n",
      "Metrics -> F1-Score: 0.9027, Precision: 0.9028, Recall: 0.9030\n",
      "Sensitivity -> Class 0: 0.8721 Class 1: 0.8111 Class 2: 0.9636 Class 3: 0.9492\n",
      "Confusion Matrix:\n",
      "[[1152  157    3    9]\n",
      " [  91 1086   59  103]\n",
      " [   7   33 1537   18]\n",
      " [   7   56   11 1383]]\n"
     ]
    },
    {
     "name": "stderr",
     "output_type": "stream",
     "text": [
      "\n",
      "Training ResNet18:  21%|██        | 21/100 [14:47<55:37, 42.24s/it]\u001b[A"
     ]
    },
    {
     "name": "stdout",
     "output_type": "stream",
     "text": [
      "Metrics -> F1-Score: 0.8338, Precision: 0.8354, Recall: 0.8375\n",
      "Sensitivity -> Class 0: 0.7633 Class 1: 0.6438 Class 2: 0.9556 Class 3: 0.9500\n",
      "Confusion Matrix:\n",
      "[[229  61   3   7]\n",
      " [ 21 197  55  33]\n",
      " [  4   9 387   5]\n",
      " [  1  14   0 285]]\n",
      "Epoch 21/100 - ResNet18\n",
      "Train Loss: 0.2817, Train Accuracy: 0.9030\n",
      "Val Loss: 0.3821, Val Accuracy: 0.8375\n",
      "Train F1: 0.9027, Val F1: 0.8338\n",
      "Metrics -> F1-Score: 0.8962, Precision: 0.8964, Recall: 0.8965\n",
      "Sensitivity -> Class 0: 0.8615 Class 1: 0.7984 Class 2: 0.9624 Class 3: 0.9465\n",
      "Confusion Matrix:\n",
      "[[1138  167    5   11]\n",
      " [  94 1069   66  110]\n",
      " [   8   30 1535   22]\n",
      " [   7   66    5 1379]]\n"
     ]
    },
    {
     "name": "stderr",
     "output_type": "stream",
     "text": [
      "\n",
      "Training ResNet18:  22%|██▏       | 22/100 [15:29<54:49, 42.18s/it]\u001b[A"
     ]
    },
    {
     "name": "stdout",
     "output_type": "stream",
     "text": [
      "Metrics -> F1-Score: 0.8530, Precision: 0.8568, Recall: 0.8543\n",
      "Sensitivity -> Class 0: 0.7500 Class 1: 0.7353 Class 2: 0.9358 Class 3: 0.9700\n",
      "Confusion Matrix:\n",
      "[[225  65   0  10]\n",
      " [ 18 225  42  21]\n",
      " [  2  18 379   6]\n",
      " [  0   8   1 291]]\n",
      "Epoch 22/100 - ResNet18\n",
      "Train Loss: 0.2875, Train Accuracy: 0.8965\n",
      "Val Loss: 0.3552, Val Accuracy: 0.8543\n",
      "Train F1: 0.8962, Val F1: 0.8530\n",
      "Best model for ResNet18 saved at /kaggle/working/ResNet18_best.pth with F1-score: 0.8530\n",
      "Metrics -> F1-Score: 0.8966, Precision: 0.8970, Recall: 0.8967\n",
      "Sensitivity -> Class 0: 0.8660 Class 1: 0.8081 Class 2: 0.9561 Class 3: 0.9410\n",
      "Confusion Matrix:\n",
      "[[1144  160    6   11]\n",
      " [  77 1082   61  119]\n",
      " [  13   32 1525   25]\n",
      " [  10   70    6 1371]]\n"
     ]
    },
    {
     "name": "stderr",
     "output_type": "stream",
     "text": [
      "\n",
      "Training ResNet18:  23%|██▎       | 23/100 [16:11<54:04, 42.14s/it]\u001b[A"
     ]
    },
    {
     "name": "stdout",
     "output_type": "stream",
     "text": [
      "Metrics -> F1-Score: 0.8475, Precision: 0.8489, Recall: 0.8528\n",
      "Sensitivity -> Class 0: 0.8500 Class 1: 0.6176 Class 2: 0.9506 Class 3: 0.9633\n",
      "Confusion Matrix:\n",
      "[[255  35   0  10]\n",
      " [ 37 189  40  40]\n",
      " [  5  10 385   5]\n",
      " [  3   8   0 289]]\n",
      "Epoch 23/100 - ResNet18\n",
      "Train Loss: 0.2872, Train Accuracy: 0.8967\n",
      "Val Loss: 0.3598, Val Accuracy: 0.8528\n",
      "Train F1: 0.8966, Val F1: 0.8475\n",
      "Metrics -> F1-Score: 0.8943, Precision: 0.8943, Recall: 0.8950\n",
      "Sensitivity -> Class 0: 0.8637 Class 1: 0.7834 Class 2: 0.9599 Class 3: 0.9547\n",
      "Confusion Matrix:\n",
      "[[1141  161    8   11]\n",
      " [ 109 1049   60  121]\n",
      " [   7   39 1531   18]\n",
      " [   8   55    3 1391]]\n"
     ]
    },
    {
     "name": "stderr",
     "output_type": "stream",
     "text": [
      "\n",
      "Training ResNet18:  24%|██▍       | 24/100 [16:53<53:30, 42.25s/it]\u001b[A"
     ]
    },
    {
     "name": "stdout",
     "output_type": "stream",
     "text": [
      "Metrics -> F1-Score: 0.8532, Precision: 0.8574, Recall: 0.8543\n",
      "Sensitivity -> Class 0: 0.7433 Class 1: 0.7451 Class 2: 0.9432 Class 3: 0.9567\n",
      "Confusion Matrix:\n",
      "[[223  65   1  11]\n",
      " [ 16 228  39  23]\n",
      " [  4  14 382   5]\n",
      " [  0  13   0 287]]\n",
      "Epoch 24/100 - ResNet18\n",
      "Train Loss: 0.2877, Train Accuracy: 0.8950\n",
      "Val Loss: 0.3632, Val Accuracy: 0.8543\n",
      "Train F1: 0.8943, Val F1: 0.8532\n",
      "Best model for ResNet18 saved at /kaggle/working/ResNet18_best.pth with F1-score: 0.8532\n",
      "Metrics -> F1-Score: 0.8966, Precision: 0.8965, Recall: 0.8972\n",
      "Sensitivity -> Class 0: 0.8683 Class 1: 0.7909 Class 2: 0.9643 Class 3: 0.9478\n",
      "Confusion Matrix:\n",
      "[[1147  154    7   13]\n",
      " [  97 1059   67  116]\n",
      " [   9   30 1538   18]\n",
      " [   9   61    6 1381]]\n"
     ]
    },
    {
     "name": "stderr",
     "output_type": "stream",
     "text": [
      "\n",
      "Training ResNet18:  25%|██▌       | 25/100 [17:35<52:48, 42.25s/it]\u001b[A"
     ]
    },
    {
     "name": "stdout",
     "output_type": "stream",
     "text": [
      "Metrics -> F1-Score: 0.8599, Precision: 0.8667, Recall: 0.8612\n",
      "Sensitivity -> Class 0: 0.7400 Class 1: 0.7549 Class 2: 0.9481 Class 3: 0.9733\n",
      "Confusion Matrix:\n",
      "[[222  66   1  11]\n",
      " [  8 231  39  28]\n",
      " [  2  15 384   4]\n",
      " [  0   8   0 292]]\n",
      "Epoch 25/100 - ResNet18\n",
      "Train Loss: 0.2839, Train Accuracy: 0.8972\n",
      "Val Loss: 0.3780, Val Accuracy: 0.8612\n",
      "Train F1: 0.8966, Val F1: 0.8599\n",
      "Best model for ResNet18 saved at /kaggle/working/ResNet18_best.pth with F1-score: 0.8599\n",
      "Metrics -> F1-Score: 0.8993, Precision: 0.8995, Recall: 0.8997\n",
      "Sensitivity -> Class 0: 0.8675 Class 1: 0.8051 Class 2: 0.9624 Class 3: 0.9472\n",
      "Confusion Matrix:\n",
      "[[1146  155    7   13]\n",
      " [  83 1078   66  112]\n",
      " [   8   31 1535   21]\n",
      " [   9   62    6 1380]]\n"
     ]
    },
    {
     "name": "stderr",
     "output_type": "stream",
     "text": [
      "\n",
      "Training ResNet18:  26%|██▌       | 26/100 [18:17<52:00, 42.17s/it]\u001b[A"
     ]
    },
    {
     "name": "stdout",
     "output_type": "stream",
     "text": [
      "Metrics -> F1-Score: 0.8561, Precision: 0.8566, Recall: 0.8581\n",
      "Sensitivity -> Class 0: 0.7833 Class 1: 0.7059 Class 2: 0.9531 Class 3: 0.9600\n",
      "Confusion Matrix:\n",
      "[[235  59   1   5]\n",
      " [ 24 216  39  27]\n",
      " [  5  10 386   4]\n",
      " [  1  11   0 288]]\n",
      "Epoch 26/100 - ResNet18\n",
      "Train Loss: 0.2874, Train Accuracy: 0.8997\n",
      "Val Loss: 0.3560, Val Accuracy: 0.8581\n",
      "Train F1: 0.8993, Val F1: 0.8561\n",
      "Metrics -> F1-Score: 0.8952, Precision: 0.8955, Recall: 0.8955\n",
      "Sensitivity -> Class 0: 0.8653 Class 1: 0.7976 Class 2: 0.9536 Class 3: 0.9492\n",
      "Confusion Matrix:\n",
      "[[1143  155    7   16]\n",
      " [ 105 1068   55  111]\n",
      " [   7   43 1521   24]\n",
      " [   7   64    3 1383]]\n"
     ]
    },
    {
     "name": "stderr",
     "output_type": "stream",
     "text": [
      "\n",
      "Training ResNet18:  27%|██▋       | 27/100 [18:59<51:06, 42.00s/it]\u001b[A"
     ]
    },
    {
     "name": "stdout",
     "output_type": "stream",
     "text": [
      "Metrics -> F1-Score: 0.8582, Precision: 0.8633, Recall: 0.8581\n",
      "Sensitivity -> Class 0: 0.7667 Class 1: 0.7516 Class 2: 0.9432 Class 3: 0.9433\n",
      "Confusion Matrix:\n",
      "[[230  65   1   4]\n",
      " [ 10 230  42  24]\n",
      " [  1  19 382   3]\n",
      " [  3  14   0 283]]\n",
      "Epoch 27/100 - ResNet18\n",
      "Train Loss: 0.2885, Train Accuracy: 0.8955\n",
      "Val Loss: 0.3493, Val Accuracy: 0.8581\n",
      "Train F1: 0.8952, Val F1: 0.8582\n",
      "Metrics -> F1-Score: 0.9016, Precision: 0.9017, Recall: 0.9018\n",
      "Sensitivity -> Class 0: 0.8736 Class 1: 0.8096 Class 2: 0.9687 Class 3: 0.9389\n",
      "Confusion Matrix:\n",
      "[[1154  154    3   10]\n",
      " [  91 1084   64  100]\n",
      " [   8   28 1545   14]\n",
      " [   9   77    3 1368]]\n"
     ]
    },
    {
     "name": "stderr",
     "output_type": "stream",
     "text": [
      "\n",
      "Training ResNet18:  28%|██▊       | 28/100 [19:41<50:22, 41.98s/it]\u001b[A"
     ]
    },
    {
     "name": "stdout",
     "output_type": "stream",
     "text": [
      "Metrics -> F1-Score: 0.8642, Precision: 0.8663, Recall: 0.8665\n",
      "Sensitivity -> Class 0: 0.8100 Class 1: 0.7059 Class 2: 0.9531 Class 3: 0.9700\n",
      "Confusion Matrix:\n",
      "[[243  50   1   6]\n",
      " [ 14 216  42  34]\n",
      " [  2  11 386   6]\n",
      " [  1   8   0 291]]\n",
      "Epoch 28/100 - ResNet18\n",
      "Train Loss: 0.2777, Train Accuracy: 0.9018\n",
      "Val Loss: 0.3347, Val Accuracy: 0.8665\n",
      "Train F1: 0.9016, Val F1: 0.8642\n",
      "Best model for ResNet18 saved at /kaggle/working/ResNet18_best.pth with F1-score: 0.8642\n",
      "Metrics -> F1-Score: 0.9043, Precision: 0.9043, Recall: 0.9048\n",
      "Sensitivity -> Class 0: 0.8819 Class 1: 0.8051 Class 2: 0.9636 Class 3: 0.9526\n",
      "Confusion Matrix:\n",
      "[[1165  141    3   12]\n",
      " [  95 1078   60  106]\n",
      " [   9   32 1537   17]\n",
      " [   7   59    3 1388]]\n"
     ]
    },
    {
     "name": "stderr",
     "output_type": "stream",
     "text": [
      "\n",
      "Training ResNet18:  29%|██▉       | 29/100 [20:22<49:29, 41.83s/it]\u001b[A"
     ]
    },
    {
     "name": "stdout",
     "output_type": "stream",
     "text": [
      "Metrics -> F1-Score: 0.8622, Precision: 0.8667, Recall: 0.8627\n",
      "Sensitivity -> Class 0: 0.7733 Class 1: 0.7418 Class 2: 0.9531 Class 3: 0.9533\n",
      "Confusion Matrix:\n",
      "[[232  64   0   4]\n",
      " [ 12 227  41  26]\n",
      " [  0  16 386   3]\n",
      " [  1  13   0 286]]\n",
      "Epoch 29/100 - ResNet18\n",
      "Train Loss: 0.2668, Train Accuracy: 0.9048\n",
      "Val Loss: 0.3485, Val Accuracy: 0.8627\n",
      "Train F1: 0.9043, Val F1: 0.8622\n",
      "Metrics -> F1-Score: 0.9039, Precision: 0.9042, Recall: 0.9041\n",
      "Sensitivity -> Class 0: 0.8713 Class 1: 0.8163 Class 2: 0.9661 Class 3: 0.9465\n",
      "Confusion Matrix:\n",
      "[[1151  148    5   17]\n",
      " [  86 1093   54  106]\n",
      " [   6   33 1541   15]\n",
      " [   7   69    2 1379]]\n"
     ]
    },
    {
     "name": "stderr",
     "output_type": "stream",
     "text": [
      "\n",
      "Training ResNet18:  30%|███       | 30/100 [21:04<48:41, 41.74s/it]\u001b[A"
     ]
    },
    {
     "name": "stdout",
     "output_type": "stream",
     "text": [
      "Metrics -> F1-Score: 0.8482, Precision: 0.8497, Recall: 0.8520\n",
      "Sensitivity -> Class 0: 0.7967 Class 1: 0.6536 Class 2: 0.9556 Class 3: 0.9700\n",
      "Confusion Matrix:\n",
      "[[239  51   1   9]\n",
      " [ 22 200  52  32]\n",
      " [  1  12 387   5]\n",
      " [  0   9   0 291]]\n",
      "Epoch 30/100 - ResNet18\n",
      "Train Loss: 0.2699, Train Accuracy: 0.9041\n",
      "Val Loss: 0.3486, Val Accuracy: 0.8520\n",
      "Train F1: 0.9039, Val F1: 0.8482\n",
      "Metrics -> F1-Score: 0.9053, Precision: 0.9054, Recall: 0.9056\n",
      "Sensitivity -> Class 0: 0.8796 Class 1: 0.8140 Class 2: 0.9630 Class 3: 0.9506\n",
      "Confusion Matrix:\n",
      "[[1162  146    4    9]\n",
      " [  87 1090   58  104]\n",
      " [   7   31 1536   21]\n",
      " [   7   56    9 1385]]\n"
     ]
    },
    {
     "name": "stderr",
     "output_type": "stream",
     "text": [
      "\n",
      "Training ResNet18:  31%|███       | 31/100 [21:46<48:07, 41.84s/it]\u001b[A"
     ]
    },
    {
     "name": "stdout",
     "output_type": "stream",
     "text": [
      "Metrics -> F1-Score: 0.8486, Precision: 0.8483, Recall: 0.8528\n",
      "Sensitivity -> Class 0: 0.7867 Class 1: 0.6536 Class 2: 0.9679 Class 3: 0.9667\n",
      "Confusion Matrix:\n",
      "[[236  56   2   6]\n",
      " [ 33 200  43  30]\n",
      " [  3   7 392   3]\n",
      " [  1   8   1 290]]\n",
      "Epoch 31/100 - ResNet18\n",
      "Train Loss: 0.2696, Train Accuracy: 0.9056\n",
      "Val Loss: 0.3451, Val Accuracy: 0.8528\n",
      "Train F1: 0.9053, Val F1: 0.8486\n",
      "Metrics -> F1-Score: 0.9040, Precision: 0.9043, Recall: 0.9042\n",
      "Sensitivity -> Class 0: 0.8713 Class 1: 0.8170 Class 2: 0.9618 Class 3: 0.9513\n",
      "Confusion Matrix:\n",
      "[[1151  155    7    8]\n",
      " [  86 1094   52  107]\n",
      " [  10   28 1534   23]\n",
      " [   6   60    5 1386]]\n"
     ]
    },
    {
     "name": "stderr",
     "output_type": "stream",
     "text": [
      "\n",
      "Training ResNet18:  32%|███▏      | 32/100 [22:28<47:18, 41.74s/it]\u001b[A"
     ]
    },
    {
     "name": "stdout",
     "output_type": "stream",
     "text": [
      "Metrics -> F1-Score: 0.8565, Precision: 0.8565, Recall: 0.8596\n",
      "Sensitivity -> Class 0: 0.8100 Class 1: 0.6765 Class 2: 0.9630 Class 3: 0.9567\n",
      "Confusion Matrix:\n",
      "[[243  52   0   5]\n",
      " [ 24 207  48  27]\n",
      " [  4   6 390   5]\n",
      " [  2  11   0 287]]\n",
      "Epoch 32/100 - ResNet18\n",
      "Train Loss: 0.2656, Train Accuracy: 0.9042\n",
      "Val Loss: 0.3585, Val Accuracy: 0.8596\n",
      "Train F1: 0.9040, Val F1: 0.8565\n",
      "Metrics -> F1-Score: 0.9066, Precision: 0.9068, Recall: 0.9069\n",
      "Sensitivity -> Class 0: 0.8774 Class 1: 0.8223 Class 2: 0.9599 Class 3: 0.9533\n",
      "Confusion Matrix:\n",
      "[[1159  148    5    9]\n",
      " [  84 1101   60   94]\n",
      " [  10   32 1531   22]\n",
      " [   7   57    4 1389]]\n"
     ]
    },
    {
     "name": "stderr",
     "output_type": "stream",
     "text": [
      "\n",
      "Training ResNet18:  33%|███▎      | 33/100 [23:10<46:43, 41.84s/it]\u001b[A"
     ]
    },
    {
     "name": "stdout",
     "output_type": "stream",
     "text": [
      "Metrics -> F1-Score: 0.8671, Precision: 0.8679, Recall: 0.8703\n",
      "Sensitivity -> Class 0: 0.8333 Class 1: 0.6928 Class 2: 0.9556 Class 3: 0.9733\n",
      "Confusion Matrix:\n",
      "[[250  39   0  11]\n",
      " [ 24 212  38  32]\n",
      " [  6   9 387   3]\n",
      " [  3   5   0 292]]\n",
      "Epoch 33/100 - ResNet18\n",
      "Train Loss: 0.2604, Train Accuracy: 0.9069\n",
      "Val Loss: 0.3175, Val Accuracy: 0.8703\n",
      "Train F1: 0.9066, Val F1: 0.8671\n",
      "Best model for ResNet18 saved at /kaggle/working/ResNet18_best.pth with F1-score: 0.8671\n",
      "Metrics -> F1-Score: 0.9082, Precision: 0.9084, Recall: 0.9084\n",
      "Sensitivity -> Class 0: 0.8751 Class 1: 0.8282 Class 2: 0.9705 Class 3: 0.9444\n",
      "Confusion Matrix:\n",
      "[[1156  143    7   15]\n",
      " [  78 1109   53   99]\n",
      " [   7   26 1548   14]\n",
      " [  11   64    6 1376]]\n"
     ]
    },
    {
     "name": "stderr",
     "output_type": "stream",
     "text": [
      "\n",
      "Training ResNet18:  34%|███▍      | 34/100 [23:52<46:02, 41.85s/it]\u001b[A"
     ]
    },
    {
     "name": "stdout",
     "output_type": "stream",
     "text": [
      "Metrics -> F1-Score: 0.8600, Precision: 0.8621, Recall: 0.8612\n",
      "Sensitivity -> Class 0: 0.7800 Class 1: 0.7320 Class 2: 0.9556 Class 3: 0.9467\n",
      "Confusion Matrix:\n",
      "[[234  61   0   5]\n",
      " [ 18 224  42  22]\n",
      " [  3  10 387   5]\n",
      " [  1  14   1 284]]\n",
      "Epoch 34/100 - ResNet18\n",
      "Train Loss: 0.2653, Train Accuracy: 0.9084\n",
      "Val Loss: 0.3418, Val Accuracy: 0.8612\n",
      "Train F1: 0.9082, Val F1: 0.8600\n",
      "Metrics -> F1-Score: 0.9089, Precision: 0.9089, Recall: 0.9093\n",
      "Sensitivity -> Class 0: 0.8834 Class 1: 0.8193 Class 2: 0.9687 Class 3: 0.9506\n",
      "Confusion Matrix:\n",
      "[[1167  136    4   14]\n",
      " [  90 1097   54   98]\n",
      " [   8   27 1545   15]\n",
      " [   9   57    6 1385]]\n"
     ]
    },
    {
     "name": "stderr",
     "output_type": "stream",
     "text": [
      "\n",
      "Training ResNet18:  35%|███▌      | 35/100 [24:33<45:12, 41.73s/it]\u001b[A"
     ]
    },
    {
     "name": "stdout",
     "output_type": "stream",
     "text": [
      "Metrics -> F1-Score: 0.8609, Precision: 0.8613, Recall: 0.8627\n",
      "Sensitivity -> Class 0: 0.8067 Class 1: 0.7092 Class 2: 0.9457 Class 3: 0.9633\n",
      "Confusion Matrix:\n",
      "[[242  52   2   4]\n",
      " [ 25 217  39  25]\n",
      " [  2  14 383   6]\n",
      " [  0  11   0 289]]\n",
      "Epoch 35/100 - ResNet18\n",
      "Train Loss: 0.2662, Train Accuracy: 0.9093\n",
      "Val Loss: 0.3196, Val Accuracy: 0.8627\n",
      "Train F1: 0.9089, Val F1: 0.8609\n",
      "Metrics -> F1-Score: 0.9078, Precision: 0.9083, Recall: 0.9077\n",
      "Sensitivity -> Class 0: 0.8812 Class 1: 0.8327 Class 2: 0.9592 Class 3: 0.9444\n",
      "Confusion Matrix:\n",
      "[[1164  141    8    8]\n",
      " [  75 1115   48  101]\n",
      " [   7   38 1530   20]\n",
      " [   8   68    5 1376]]\n"
     ]
    },
    {
     "name": "stderr",
     "output_type": "stream",
     "text": [
      "\n",
      "Training ResNet18:  36%|███▌      | 36/100 [25:16<45:00, 42.20s/it]\u001b[A"
     ]
    },
    {
     "name": "stdout",
     "output_type": "stream",
     "text": [
      "Metrics -> F1-Score: 0.8559, Precision: 0.8590, Recall: 0.8558\n",
      "Sensitivity -> Class 0: 0.7667 Class 1: 0.7451 Class 2: 0.9481 Class 3: 0.9333\n",
      "Confusion Matrix:\n",
      "[[230  67   0   3]\n",
      " [ 22 228  37  19]\n",
      " [  1  16 384   4]\n",
      " [  3  17   0 280]]\n",
      "Epoch 36/100 - ResNet18\n",
      "Train Loss: 0.2669, Train Accuracy: 0.9077\n",
      "Val Loss: 0.3401, Val Accuracy: 0.8558\n",
      "Train F1: 0.9078, Val F1: 0.8559\n",
      "Metrics -> F1-Score: 0.9098, Precision: 0.9101, Recall: 0.9100\n",
      "Sensitivity -> Class 0: 0.8751 Class 1: 0.8312 Class 2: 0.9668 Class 3: 0.9520\n",
      "Confusion Matrix:\n",
      "[[1156  142    5   18]\n",
      " [  78 1113   51   97]\n",
      " [   7   25 1542   21]\n",
      " [   8   58    4 1387]]\n"
     ]
    },
    {
     "name": "stderr",
     "output_type": "stream",
     "text": [
      "\n",
      "Training ResNet18:  37%|███▋      | 37/100 [25:59<44:20, 42.23s/it]\u001b[A"
     ]
    },
    {
     "name": "stdout",
     "output_type": "stream",
     "text": [
      "Metrics -> F1-Score: 0.8515, Precision: 0.8600, Recall: 0.8513\n",
      "Sensitivity -> Class 0: 0.7200 Class 1: 0.7647 Class 2: 0.9580 Class 3: 0.9267\n",
      "Confusion Matrix:\n",
      "[[216  79   0   5]\n",
      " [ 14 234  38  20]\n",
      " [  0  13 388   4]\n",
      " [  1  21   0 278]]\n",
      "Epoch 37/100 - ResNet18\n",
      "Train Loss: 0.2575, Train Accuracy: 0.9100\n",
      "Val Loss: 0.3604, Val Accuracy: 0.8513\n",
      "Train F1: 0.9098, Val F1: 0.8515\n",
      "Metrics -> F1-Score: 0.9096, Precision: 0.9097, Recall: 0.9098\n",
      "Sensitivity -> Class 0: 0.8766 Class 1: 0.8282 Class 2: 0.9718 Class 3: 0.9472\n",
      "Confusion Matrix:\n",
      "[[1158  142    5   16]\n",
      " [  94 1109   51   85]\n",
      " [   8   25 1550   12]\n",
      " [   8   65    4 1380]]\n"
     ]
    },
    {
     "name": "stderr",
     "output_type": "stream",
     "text": [
      "\n",
      "Training ResNet18:  38%|███▊      | 38/100 [26:40<43:26, 42.04s/it]\u001b[A"
     ]
    },
    {
     "name": "stdout",
     "output_type": "stream",
     "text": [
      "Metrics -> F1-Score: 0.8591, Precision: 0.8588, Recall: 0.8627\n",
      "Sensitivity -> Class 0: 0.8200 Class 1: 0.6732 Class 2: 0.9556 Class 3: 0.9733\n",
      "Confusion Matrix:\n",
      "[[246  45   0   9]\n",
      " [ 32 206  42  26]\n",
      " [  5  10 387   3]\n",
      " [  1   7   0 292]]\n",
      "Epoch 38/100 - ResNet18\n",
      "Train Loss: 0.2567, Train Accuracy: 0.9098\n",
      "Val Loss: 0.3266, Val Accuracy: 0.8627\n",
      "Train F1: 0.9096, Val F1: 0.8591\n",
      "Metrics -> F1-Score: 0.9118, Precision: 0.9121, Recall: 0.9119\n",
      "Sensitivity -> Class 0: 0.8796 Class 1: 0.8275 Class 2: 0.9705 Class 3: 0.9547\n",
      "Confusion Matrix:\n",
      "[[1162  152    3    4]\n",
      " [  76 1108   50  105]\n",
      " [   4   30 1548   13]\n",
      " [   6   55    5 1391]]\n"
     ]
    },
    {
     "name": "stderr",
     "output_type": "stream",
     "text": [
      "\n",
      "Training ResNet18:  39%|███▉      | 39/100 [27:22<42:34, 41.88s/it]\u001b[A"
     ]
    },
    {
     "name": "stdout",
     "output_type": "stream",
     "text": [
      "Metrics -> F1-Score: 0.8629, Precision: 0.8675, Recall: 0.8642\n",
      "Sensitivity -> Class 0: 0.7600 Class 1: 0.7451 Class 2: 0.9654 Class 3: 0.9533\n",
      "Confusion Matrix:\n",
      "[[228  61   3   8]\n",
      " [ 12 228  42  24]\n",
      " [  0  12 391   2]\n",
      " [  1  13   0 286]]\n",
      "Epoch 39/100 - ResNet18\n",
      "Train Loss: 0.2505, Train Accuracy: 0.9119\n",
      "Val Loss: 0.3295, Val Accuracy: 0.8642\n",
      "Train F1: 0.9118, Val F1: 0.8629\n",
      "Metrics -> F1-Score: 0.9115, Precision: 0.9114, Recall: 0.9119\n",
      "Sensitivity -> Class 0: 0.8864 Class 1: 0.8260 Class 2: 0.9730 Class 3: 0.9472\n",
      "Confusion Matrix:\n",
      "[[1171  128    6   16]\n",
      " [  84 1106   58   91]\n",
      " [   8   21 1552   14]\n",
      " [   9   60    8 1380]]\n"
     ]
    },
    {
     "name": "stderr",
     "output_type": "stream",
     "text": [
      "\n",
      "Training ResNet18:  40%|████      | 40/100 [28:04<42:02, 42.04s/it]\u001b[A"
     ]
    },
    {
     "name": "stdout",
     "output_type": "stream",
     "text": [
      "Metrics -> F1-Score: 0.8600, Precision: 0.8669, Recall: 0.8596\n",
      "Sensitivity -> Class 0: 0.7367 Class 1: 0.7843 Class 2: 0.9457 Class 3: 0.9433\n",
      "Confusion Matrix:\n",
      "[[221  73   0   6]\n",
      " [ 14 240  32  20]\n",
      " [  2  16 383   4]\n",
      " [  1  16   0 283]]\n",
      "Epoch 40/100 - ResNet18\n",
      "Train Loss: 0.2481, Train Accuracy: 0.9119\n",
      "Val Loss: 0.3338, Val Accuracy: 0.8596\n",
      "Train F1: 0.9115, Val F1: 0.8600\n",
      "Metrics -> F1-Score: 0.9093, Precision: 0.9093, Recall: 0.9097\n",
      "Sensitivity -> Class 0: 0.8781 Class 1: 0.8208 Class 2: 0.9693 Class 3: 0.9547\n",
      "Confusion Matrix:\n",
      "[[1160  140    5   16]\n",
      " [  86 1099   55   99]\n",
      " [  10   26 1546   13]\n",
      " [   5   57    4 1391]]\n"
     ]
    },
    {
     "name": "stderr",
     "output_type": "stream",
     "text": [
      "\n",
      "Training ResNet18:  41%|████      | 41/100 [28:46<41:14, 41.95s/it]\u001b[A"
     ]
    },
    {
     "name": "stdout",
     "output_type": "stream",
     "text": [
      "Metrics -> F1-Score: 0.8581, Precision: 0.8591, Recall: 0.8612\n",
      "Sensitivity -> Class 0: 0.7900 Class 1: 0.6863 Class 2: 0.9630 Class 3: 0.9733\n",
      "Confusion Matrix:\n",
      "[[237  55   0   8]\n",
      " [ 24 210  43  29]\n",
      " [  1   9 390   5]\n",
      " [  0   8   0 292]]\n",
      "Epoch 41/100 - ResNet18\n",
      "Train Loss: 0.2540, Train Accuracy: 0.9097\n",
      "Val Loss: 0.3433, Val Accuracy: 0.8612\n",
      "Train F1: 0.9093, Val F1: 0.8581\n",
      "Metrics -> F1-Score: 0.9116, Precision: 0.9120, Recall: 0.9118\n",
      "Sensitivity -> Class 0: 0.8819 Class 1: 0.8282 Class 2: 0.9630 Class 3: 0.9595\n",
      "Confusion Matrix:\n",
      "[[1165  144    1   11]\n",
      " [  81 1109   50   99]\n",
      " [   5   34 1536   20]\n",
      " [   4   53    2 1398]]\n"
     ]
    },
    {
     "name": "stderr",
     "output_type": "stream",
     "text": [
      "\n",
      "Training ResNet18:  42%|████▏     | 42/100 [29:27<40:23, 41.78s/it]\u001b[A"
     ]
    },
    {
     "name": "stdout",
     "output_type": "stream",
     "text": [
      "Metrics -> F1-Score: 0.8608, Precision: 0.8613, Recall: 0.8642\n",
      "Sensitivity -> Class 0: 0.7967 Class 1: 0.6830 Class 2: 0.9679 Class 3: 0.9767\n",
      "Confusion Matrix:\n",
      "[[239  55   1   5]\n",
      " [ 25 209  38  34]\n",
      " [  2   7 392   4]\n",
      " [  2   5   0 293]]\n",
      "Epoch 42/100 - ResNet18\n",
      "Train Loss: 0.2462, Train Accuracy: 0.9118\n",
      "Val Loss: 0.3295, Val Accuracy: 0.8642\n",
      "Train F1: 0.9116, Val F1: 0.8608\n",
      "Metrics -> F1-Score: 0.9044, Precision: 0.9043, Recall: 0.9049\n",
      "Sensitivity -> Class 0: 0.8759 Class 1: 0.8073 Class 2: 0.9699 Class 3: 0.9499\n",
      "Confusion Matrix:\n",
      "[[1157  155    1    8]\n",
      " [  93 1081   61  104]\n",
      " [  10   24 1547   14]\n",
      " [  11   54    8 1384]]\n"
     ]
    },
    {
     "name": "stderr",
     "output_type": "stream",
     "text": [
      "\n",
      "Training ResNet18:  43%|████▎     | 43/100 [30:09<39:38, 41.73s/it]\u001b[A"
     ]
    },
    {
     "name": "stdout",
     "output_type": "stream",
     "text": [
      "Metrics -> F1-Score: 0.8635, Precision: 0.8645, Recall: 0.8642\n",
      "Sensitivity -> Class 0: 0.7800 Class 1: 0.7582 Class 2: 0.9407 Class 3: 0.9533\n",
      "Confusion Matrix:\n",
      "[[234  57   1   8]\n",
      " [ 23 232  33  18]\n",
      " [  6  14 381   4]\n",
      " [  3  11   0 286]]\n",
      "Epoch 43/100 - ResNet18\n",
      "Train Loss: 0.2610, Train Accuracy: 0.9049\n",
      "Val Loss: 0.3174, Val Accuracy: 0.8642\n",
      "Train F1: 0.9044, Val F1: 0.8635\n",
      "Metrics -> F1-Score: 0.9142, Precision: 0.9142, Recall: 0.9144\n",
      "Sensitivity -> Class 0: 0.8902 Class 1: 0.8312 Class 2: 0.9680 Class 3: 0.9540\n",
      "Confusion Matrix:\n",
      "[[1176  134    4    7]\n",
      " [  89 1113   50   87]\n",
      " [   3   31 1544   17]\n",
      " [  10   52    5 1390]]\n"
     ]
    },
    {
     "name": "stderr",
     "output_type": "stream",
     "text": [
      "\n",
      "Training ResNet18:  44%|████▍     | 44/100 [30:51<39:01, 41.82s/it]\u001b[A"
     ]
    },
    {
     "name": "stdout",
     "output_type": "stream",
     "text": [
      "Metrics -> F1-Score: 0.8604, Precision: 0.8606, Recall: 0.8635\n",
      "Sensitivity -> Class 0: 0.8067 Class 1: 0.6863 Class 2: 0.9605 Class 3: 0.9700\n",
      "Confusion Matrix:\n",
      "[[242  52   1   5]\n",
      " [ 24 210  42  30]\n",
      " [  3  10 389   3]\n",
      " [  2   7   0 291]]\n",
      "Epoch 44/100 - ResNet18\n",
      "Train Loss: 0.2432, Train Accuracy: 0.9144\n",
      "Val Loss: 0.2998, Val Accuracy: 0.8635\n",
      "Train F1: 0.9142, Val F1: 0.8604\n",
      "Metrics -> F1-Score: 0.9094, Precision: 0.9094, Recall: 0.9100\n",
      "Sensitivity -> Class 0: 0.8834 Class 1: 0.8096 Class 2: 0.9699 Class 3: 0.9609\n",
      "Confusion Matrix:\n",
      "[[1167  136    6   12]\n",
      " [  89 1084   55  111]\n",
      " [   6   31 1547   11]\n",
      " [   8   47    2 1400]]\n"
     ]
    },
    {
     "name": "stderr",
     "output_type": "stream",
     "text": [
      "\n",
      "Training ResNet18:  45%|████▌     | 45/100 [31:33<38:19, 41.80s/it]\u001b[A"
     ]
    },
    {
     "name": "stdout",
     "output_type": "stream",
     "text": [
      "Metrics -> F1-Score: 0.8717, Precision: 0.8757, Recall: 0.8711\n",
      "Sensitivity -> Class 0: 0.7900 Class 1: 0.7876 Class 2: 0.9630 Class 3: 0.9133\n",
      "Confusion Matrix:\n",
      "[[237  59   0   4]\n",
      " [ 15 241  32  18]\n",
      " [  3  10 390   2]\n",
      " [  1  25   0 274]]\n",
      "Epoch 45/100 - ResNet18\n",
      "Train Loss: 0.2570, Train Accuracy: 0.9100\n",
      "Val Loss: 0.3339, Val Accuracy: 0.8711\n",
      "Train F1: 0.9094, Val F1: 0.8717\n",
      "Best model for ResNet18 saved at /kaggle/working/ResNet18_best.pth with F1-score: 0.8717\n",
      "Metrics -> F1-Score: 0.9085, Precision: 0.9090, Recall: 0.9084\n",
      "Sensitivity -> Class 0: 0.8721 Class 1: 0.8327 Class 2: 0.9674 Class 3: 0.9465\n",
      "Confusion Matrix:\n",
      "[[1152  153    4   12]\n",
      " [  91 1115   50   83]\n",
      " [   7   35 1543   10]\n",
      " [   4   71    3 1379]]\n"
     ]
    },
    {
     "name": "stderr",
     "output_type": "stream",
     "text": [
      "\n",
      "Training ResNet18:  46%|████▌     | 46/100 [32:14<37:35, 41.77s/it]\u001b[A"
     ]
    },
    {
     "name": "stdout",
     "output_type": "stream",
     "text": [
      "Metrics -> F1-Score: 0.8681, Precision: 0.8685, Recall: 0.8711\n",
      "Sensitivity -> Class 0: 0.8333 Class 1: 0.6961 Class 2: 0.9556 Class 3: 0.9733\n",
      "Confusion Matrix:\n",
      "[[250  44   0   6]\n",
      " [ 23 213  39  31]\n",
      " [  5   8 387   5]\n",
      " [  2   6   0 292]]\n",
      "Epoch 46/100 - ResNet18\n",
      "Train Loss: 0.2505, Train Accuracy: 0.9084\n",
      "Val Loss: 0.3116, Val Accuracy: 0.8711\n",
      "Train F1: 0.9085, Val F1: 0.8681\n",
      "Metrics -> F1-Score: 0.9085, Precision: 0.9086, Recall: 0.9088\n",
      "Sensitivity -> Class 0: 0.8834 Class 1: 0.8193 Class 2: 0.9636 Class 3: 0.9540\n",
      "Confusion Matrix:\n",
      "[[1167  143    2    9]\n",
      " [ 102 1097   47   93]\n",
      " [   6   30 1537   22]\n",
      " [   9   55    3 1390]]\n"
     ]
    },
    {
     "name": "stderr",
     "output_type": "stream",
     "text": [
      "\n",
      "Training ResNet18:  47%|████▋     | 47/100 [32:56<37:00, 41.89s/it]\u001b[A"
     ]
    },
    {
     "name": "stdout",
     "output_type": "stream",
     "text": [
      "Metrics -> F1-Score: 0.8614, Precision: 0.8662, Recall: 0.8627\n",
      "Sensitivity -> Class 0: 0.7633 Class 1: 0.7353 Class 2: 0.9556 Class 3: 0.9667\n",
      "Confusion Matrix:\n",
      "[[229  62   0   9]\n",
      " [ 12 225  40  29]\n",
      " [  0  15 387   3]\n",
      " [  0  10   0 290]]\n",
      "Epoch 47/100 - ResNet18\n",
      "Train Loss: 0.2524, Train Accuracy: 0.9088\n",
      "Val Loss: 0.3141, Val Accuracy: 0.8627\n",
      "Train F1: 0.9085, Val F1: 0.8614\n",
      "Metrics -> F1-Score: 0.9128, Precision: 0.9128, Recall: 0.9133\n",
      "Sensitivity -> Class 0: 0.8819 Class 1: 0.8245 Class 2: 0.9718 Class 3: 0.9595\n",
      "Confusion Matrix:\n",
      "[[1165  138    7   11]\n",
      " [  88 1104   52   95]\n",
      " [   4   27 1550   14]\n",
      " [  11   41    7 1398]]\n"
     ]
    },
    {
     "name": "stderr",
     "output_type": "stream",
     "text": [
      "\n",
      "Training ResNet18:  48%|████▊     | 48/100 [33:39<36:28, 42.09s/it]\u001b[A"
     ]
    },
    {
     "name": "stdout",
     "output_type": "stream",
     "text": [
      "Metrics -> F1-Score: 0.8725, Precision: 0.8719, Recall: 0.8741\n",
      "Sensitivity -> Class 0: 0.8367 Class 1: 0.7255 Class 2: 0.9556 Class 3: 0.9533\n",
      "Confusion Matrix:\n",
      "[[251  42   1   6]\n",
      " [ 27 222  40  17]\n",
      " [  4  13 387   1]\n",
      " [  3  11   0 286]]\n",
      "Epoch 48/100 - ResNet18\n",
      "Train Loss: 0.2484, Train Accuracy: 0.9133\n",
      "Val Loss: 0.3085, Val Accuracy: 0.8741\n",
      "Train F1: 0.9128, Val F1: 0.8725\n",
      "Best model for ResNet18 saved at /kaggle/working/ResNet18_best.pth with F1-score: 0.8725\n",
      "Metrics -> F1-Score: 0.9063, Precision: 0.9062, Recall: 0.9065\n",
      "Sensitivity -> Class 0: 0.8842 Class 1: 0.8163 Class 2: 0.9655 Class 3: 0.9451\n",
      "Confusion Matrix:\n",
      "[[1168  140    4    9]\n",
      " [  97 1093   49  100]\n",
      " [  10   27 1540   18]\n",
      " [  10   65    5 1377]]\n"
     ]
    },
    {
     "name": "stderr",
     "output_type": "stream",
     "text": [
      "\n",
      "Training ResNet18:  49%|████▉     | 49/100 [34:21<35:50, 42.16s/it]\u001b[A"
     ]
    },
    {
     "name": "stdout",
     "output_type": "stream",
     "text": [
      "Metrics -> F1-Score: 0.8785, Precision: 0.8795, Recall: 0.8795\n",
      "Sensitivity -> Class 0: 0.8133 Class 1: 0.7614 Class 2: 0.9654 Class 3: 0.9500\n",
      "Confusion Matrix:\n",
      "[[244  50   1   5]\n",
      " [ 17 233  34  22]\n",
      " [  2  10 391   2]\n",
      " [  3  12   0 285]]\n",
      "Epoch 49/100 - ResNet18\n",
      "Train Loss: 0.2526, Train Accuracy: 0.9065\n",
      "Val Loss: 0.3144, Val Accuracy: 0.8795\n",
      "Train F1: 0.9063, Val F1: 0.8785\n",
      "Best model for ResNet18 saved at /kaggle/working/ResNet18_best.pth with F1-score: 0.8785\n",
      "Metrics -> F1-Score: 0.9096, Precision: 0.9096, Recall: 0.9098\n",
      "Sensitivity -> Class 0: 0.8789 Class 1: 0.8252 Class 2: 0.9699 Class 3: 0.9499\n",
      "Confusion Matrix:\n",
      "[[1161  142    5   13]\n",
      " [  96 1105   46   92]\n",
      " [   5   27 1547   16]\n",
      " [   9   59    5 1384]]\n"
     ]
    },
    {
     "name": "stderr",
     "output_type": "stream",
     "text": [
      "\n",
      "Training ResNet18:  50%|█████     | 50/100 [35:04<35:14, 42.29s/it]\u001b[A"
     ]
    },
    {
     "name": "stdout",
     "output_type": "stream",
     "text": [
      "Metrics -> F1-Score: 0.8696, Precision: 0.8735, Recall: 0.8703\n",
      "Sensitivity -> Class 0: 0.7633 Class 1: 0.7712 Class 2: 0.9580 Class 3: 0.9600\n",
      "Confusion Matrix:\n",
      "[[229  64   1   6]\n",
      " [ 15 236  33  22]\n",
      " [  0  13 388   4]\n",
      " [  2  10   0 288]]\n",
      "Epoch 50/100 - ResNet18\n",
      "Train Loss: 0.2429, Train Accuracy: 0.9098\n",
      "Val Loss: 0.3185, Val Accuracy: 0.8703\n",
      "Train F1: 0.9096, Val F1: 0.8696\n",
      "Metrics -> F1-Score: 0.9132, Precision: 0.9134, Recall: 0.9135\n",
      "Sensitivity -> Class 0: 0.8819 Class 1: 0.8312 Class 2: 0.9680 Class 3: 0.9581\n",
      "Confusion Matrix:\n",
      "[[1165  136    3   17]\n",
      " [  73 1113   55   98]\n",
      " [   6   32 1544   13]\n",
      " [   9   46    6 1396]]\n"
     ]
    },
    {
     "name": "stderr",
     "output_type": "stream",
     "text": [
      "\n",
      "Training ResNet18:  51%|█████     | 51/100 [35:46<34:33, 42.31s/it]\u001b[A"
     ]
    },
    {
     "name": "stdout",
     "output_type": "stream",
     "text": [
      "Metrics -> F1-Score: 0.8526, Precision: 0.8540, Recall: 0.8581\n",
      "Sensitivity -> Class 0: 0.8633 Class 1: 0.6209 Class 2: 0.9605 Class 3: 0.9567\n",
      "Confusion Matrix:\n",
      "[[259  34   0   7]\n",
      " [ 41 190  49  26]\n",
      " [  4   7 389   5]\n",
      " [  6   7   0 287]]\n",
      "Epoch 51/100 - ResNet18\n",
      "Train Loss: 0.2384, Train Accuracy: 0.9135\n",
      "Val Loss: 0.3349, Val Accuracy: 0.8581\n",
      "Train F1: 0.9132, Val F1: 0.8526\n",
      "Metrics -> F1-Score: 0.9114, Precision: 0.9112, Recall: 0.9119\n",
      "Sensitivity -> Class 0: 0.8887 Class 1: 0.8155 Class 2: 0.9730 Class 3: 0.9547\n",
      "Confusion Matrix:\n",
      "[[1174  134    3   10]\n",
      " [ 100 1092   50   97]\n",
      " [   7   25 1552   11]\n",
      " [  13   50    3 1391]]\n"
     ]
    },
    {
     "name": "stderr",
     "output_type": "stream",
     "text": [
      "\n",
      "Training ResNet18:  52%|█████▏    | 52/100 [36:28<33:43, 42.15s/it]\u001b[A"
     ]
    },
    {
     "name": "stdout",
     "output_type": "stream",
     "text": [
      "Metrics -> F1-Score: 0.8763, Precision: 0.8792, Recall: 0.8772\n",
      "Sensitivity -> Class 0: 0.7967 Class 1: 0.7647 Class 2: 0.9630 Class 3: 0.9567\n",
      "Confusion Matrix:\n",
      "[[239  56   0   5]\n",
      " [ 12 234  43  17]\n",
      " [  1  10 390   4]\n",
      " [  1  11   1 287]]\n",
      "Epoch 52/100 - ResNet18\n",
      "Train Loss: 0.2448, Train Accuracy: 0.9119\n",
      "Val Loss: 0.2980, Val Accuracy: 0.8772\n",
      "Train F1: 0.9114, Val F1: 0.8763\n",
      "Metrics -> F1-Score: 0.9111, Precision: 0.9111, Recall: 0.9114\n",
      "Sensitivity -> Class 0: 0.8925 Class 1: 0.8223 Class 2: 0.9693 Class 3: 0.9472\n",
      "Confusion Matrix:\n",
      "[[1179  127    2   13]\n",
      " [  97 1101   46   95]\n",
      " [   6   24 1546   19]\n",
      " [   8   66    3 1380]]\n"
     ]
    },
    {
     "name": "stderr",
     "output_type": "stream",
     "text": [
      "\n",
      "Training ResNet18:  53%|█████▎    | 53/100 [37:11<33:06, 42.27s/it]\u001b[A"
     ]
    },
    {
     "name": "stdout",
     "output_type": "stream",
     "text": [
      "Metrics -> F1-Score: 0.8669, Precision: 0.8707, Recall: 0.8696\n",
      "Sensitivity -> Class 0: 0.7933 Class 1: 0.7059 Class 2: 0.9728 Class 3: 0.9733\n",
      "Confusion Matrix:\n",
      "[[238  55   1   6]\n",
      " [  9 216  49  32]\n",
      " [  1   7 394   3]\n",
      " [  0   8   0 292]]\n",
      "Epoch 53/100 - ResNet18\n",
      "Train Loss: 0.2428, Train Accuracy: 0.9114\n",
      "Val Loss: 0.3211, Val Accuracy: 0.8696\n",
      "Train F1: 0.9111, Val F1: 0.8669\n",
      "Metrics -> F1-Score: 0.9172, Precision: 0.9173, Recall: 0.9175\n",
      "Sensitivity -> Class 0: 0.8880 Class 1: 0.8357 Class 2: 0.9768 Class 3: 0.9547\n",
      "Confusion Matrix:\n",
      "[[1173  128    5   15]\n",
      " [  80 1119   47   93]\n",
      " [   3   25 1558    9]\n",
      " [   7   54    5 1391]]\n"
     ]
    },
    {
     "name": "stderr",
     "output_type": "stream",
     "text": [
      "\n",
      "Training ResNet18:  54%|█████▍    | 54/100 [37:54<32:34, 42.49s/it]\u001b[A"
     ]
    },
    {
     "name": "stdout",
     "output_type": "stream",
     "text": [
      "Metrics -> F1-Score: 0.8725, Precision: 0.8742, Recall: 0.8734\n",
      "Sensitivity -> Class 0: 0.8133 Class 1: 0.7451 Class 2: 0.9531 Class 3: 0.9567\n",
      "Confusion Matrix:\n",
      "[[244  50   0   6]\n",
      " [ 18 228  34  26]\n",
      " [  0  16 386   3]\n",
      " [  0  12   1 287]]\n",
      "Epoch 54/100 - ResNet18\n",
      "Train Loss: 0.2379, Train Accuracy: 0.9175\n",
      "Val Loss: 0.3315, Val Accuracy: 0.8734\n",
      "Train F1: 0.9172, Val F1: 0.8725\n",
      "Metrics -> F1-Score: 0.9148, Precision: 0.9148, Recall: 0.9151\n",
      "Sensitivity -> Class 0: 0.8849 Class 1: 0.8335 Class 2: 0.9730 Class 3: 0.9540\n",
      "Confusion Matrix:\n",
      "[[1169  141    4    7]\n",
      " [  93 1116   42   88]\n",
      " [   6   25 1552   12]\n",
      " [  11   50    6 1390]]\n"
     ]
    },
    {
     "name": "stderr",
     "output_type": "stream",
     "text": [
      "\n",
      "Training ResNet18:  55%|█████▌    | 55/100 [38:36<31:46, 42.36s/it]\u001b[A"
     ]
    },
    {
     "name": "stdout",
     "output_type": "stream",
     "text": [
      "Metrics -> F1-Score: 0.8653, Precision: 0.8676, Recall: 0.8665\n",
      "Sensitivity -> Class 0: 0.7900 Class 1: 0.7386 Class 2: 0.9481 Class 3: 0.9633\n",
      "Confusion Matrix:\n",
      "[[237  54   0   9]\n",
      " [ 17 226  33  30]\n",
      " [  2  14 384   5]\n",
      " [  1  10   0 289]]\n",
      "Epoch 55/100 - ResNet18\n",
      "Train Loss: 0.2379, Train Accuracy: 0.9151\n",
      "Val Loss: 0.3260, Val Accuracy: 0.8665\n",
      "Train F1: 0.9148, Val F1: 0.8653\n",
      "Metrics -> F1-Score: 0.9143, Precision: 0.9143, Recall: 0.9146\n",
      "Sensitivity -> Class 0: 0.8933 Class 1: 0.8312 Class 2: 0.9630 Class 3: 0.9574\n",
      "Confusion Matrix:\n",
      "[[1180  124    4   13]\n",
      " [  88 1113   46   92]\n",
      " [   6   34 1536   19]\n",
      " [   9   47    6 1395]]\n"
     ]
    },
    {
     "name": "stderr",
     "output_type": "stream",
     "text": [
      "\n",
      "Training ResNet18:  56%|█████▌    | 56/100 [39:18<31:06, 42.43s/it]\u001b[A"
     ]
    },
    {
     "name": "stdout",
     "output_type": "stream",
     "text": [
      "Metrics -> F1-Score: 0.8774, Precision: 0.8794, Recall: 0.8780\n",
      "Sensitivity -> Class 0: 0.8067 Class 1: 0.7680 Class 2: 0.9654 Class 3: 0.9433\n",
      "Confusion Matrix:\n",
      "[[242  53   0   5]\n",
      " [ 16 235  32  23]\n",
      " [  0  11 391   3]\n",
      " [  2  14   1 283]]\n",
      "Epoch 56/100 - ResNet18\n",
      "Train Loss: 0.2381, Train Accuracy: 0.9146\n",
      "Val Loss: 0.3084, Val Accuracy: 0.8780\n",
      "Train F1: 0.9143, Val F1: 0.8774\n",
      "Metrics -> F1-Score: 0.9140, Precision: 0.9140, Recall: 0.9142\n",
      "Sensitivity -> Class 0: 0.8834 Class 1: 0.8297 Class 2: 0.9730 Class 3: 0.9554\n",
      "Confusion Matrix:\n",
      "[[1167  142    4    8]\n",
      " [  97 1111   41   90]\n",
      " [   4   28 1552   11]\n",
      " [   5   55    5 1392]]\n"
     ]
    },
    {
     "name": "stderr",
     "output_type": "stream",
     "text": [
      "\n",
      "Training ResNet18:  57%|█████▋    | 57/100 [40:01<30:27, 42.50s/it]\u001b[A"
     ]
    },
    {
     "name": "stdout",
     "output_type": "stream",
     "text": [
      "Metrics -> F1-Score: 0.8595, Precision: 0.8600, Recall: 0.8650\n",
      "Sensitivity -> Class 0: 0.8600 Class 1: 0.6275 Class 2: 0.9704 Class 3: 0.9700\n",
      "Confusion Matrix:\n",
      "[[258  38   0   4]\n",
      " [ 36 192  46  32]\n",
      " [  3   6 393   3]\n",
      " [  0   9   0 291]]\n",
      "Epoch 57/100 - ResNet18\n",
      "Train Loss: 0.2408, Train Accuracy: 0.9142\n",
      "Val Loss: 0.3214, Val Accuracy: 0.8650\n",
      "Train F1: 0.9140, Val F1: 0.8595\n",
      "Metrics -> F1-Score: 0.9164, Precision: 0.9163, Recall: 0.9167\n",
      "Sensitivity -> Class 0: 0.8970 Class 1: 0.8290 Class 2: 0.9693 Class 3: 0.9574\n",
      "Confusion Matrix:\n",
      "[[1185  121    3   12]\n",
      " [  94 1110   46   89]\n",
      " [   6   33 1546   10]\n",
      " [   5   52    5 1395]]\n"
     ]
    },
    {
     "name": "stderr",
     "output_type": "stream",
     "text": [
      "\n",
      "Training ResNet18:  58%|█████▊    | 58/100 [40:44<29:50, 42.64s/it]\u001b[A"
     ]
    },
    {
     "name": "stdout",
     "output_type": "stream",
     "text": [
      "Metrics -> F1-Score: 0.8790, Precision: 0.8808, Recall: 0.8787\n",
      "Sensitivity -> Class 0: 0.8100 Class 1: 0.7974 Class 2: 0.9333 Class 3: 0.9567\n",
      "Confusion Matrix:\n",
      "[[243  52   0   5]\n",
      " [ 21 244  23  18]\n",
      " [  6  19 378   2]\n",
      " [  2  11   0 287]]\n",
      "Epoch 58/100 - ResNet18\n",
      "Train Loss: 0.2365, Train Accuracy: 0.9167\n",
      "Val Loss: 0.3066, Val Accuracy: 0.8787\n",
      "Train F1: 0.9164, Val F1: 0.8790\n",
      "Best model for ResNet18 saved at /kaggle/working/ResNet18_best.pth with F1-score: 0.8790\n",
      "Metrics -> F1-Score: 0.9147, Precision: 0.9146, Recall: 0.9151\n",
      "Sensitivity -> Class 0: 0.8955 Class 1: 0.8260 Class 2: 0.9737 Class 3: 0.9506\n",
      "Confusion Matrix:\n",
      "[[1183  125    2   11]\n",
      " [  90 1106   57   86]\n",
      " [   3   22 1553   17]\n",
      " [   8   63    1 1385]]\n"
     ]
    },
    {
     "name": "stderr",
     "output_type": "stream",
     "text": [
      "\n",
      "Training ResNet18:  59%|█████▉    | 59/100 [41:27<29:08, 42.65s/it]\u001b[A"
     ]
    },
    {
     "name": "stdout",
     "output_type": "stream",
     "text": [
      "Metrics -> F1-Score: 0.8800, Precision: 0.8817, Recall: 0.8802\n",
      "Sensitivity -> Class 0: 0.8167 Class 1: 0.7745 Class 2: 0.9580 Class 3: 0.9467\n",
      "Confusion Matrix:\n",
      "[[245  51   1   3]\n",
      " [ 19 237  29  21]\n",
      " [  1  12 388   4]\n",
      " [  0  16   0 284]]\n",
      "Epoch 59/100 - ResNet18\n",
      "Train Loss: 0.2372, Train Accuracy: 0.9151\n",
      "Val Loss: 0.2967, Val Accuracy: 0.8802\n",
      "Train F1: 0.9147, Val F1: 0.8800\n",
      "Best model for ResNet18 saved at /kaggle/working/ResNet18_best.pth with F1-score: 0.8800\n",
      "Metrics -> F1-Score: 0.9164, Precision: 0.9167, Recall: 0.9165\n",
      "Sensitivity -> Class 0: 0.8827 Class 1: 0.8439 Class 2: 0.9699 Class 3: 0.9554\n",
      "Confusion Matrix:\n",
      "[[1166  139    5   11]\n",
      " [  75 1130   50   84]\n",
      " [   5   25 1547   18]\n",
      " [   5   57    3 1392]]\n"
     ]
    },
    {
     "name": "stderr",
     "output_type": "stream",
     "text": [
      "\n",
      "Training ResNet18:  60%|██████    | 60/100 [42:09<28:23, 42.59s/it]\u001b[A"
     ]
    },
    {
     "name": "stdout",
     "output_type": "stream",
     "text": [
      "Metrics -> F1-Score: 0.8728, Precision: 0.8727, Recall: 0.8764\n",
      "Sensitivity -> Class 0: 0.8500 Class 1: 0.6830 Class 2: 0.9728 Class 3: 0.9700\n",
      "Confusion Matrix:\n",
      "[[255  41   0   4]\n",
      " [ 32 209  38  27]\n",
      " [  3   4 394   4]\n",
      " [  1   8   0 291]]\n",
      "Epoch 60/100 - ResNet18\n",
      "Train Loss: 0.2371, Train Accuracy: 0.9165\n",
      "Val Loss: 0.2860, Val Accuracy: 0.8764\n",
      "Train F1: 0.9164, Val F1: 0.8728\n",
      "Metrics -> F1-Score: 0.9131, Precision: 0.9130, Recall: 0.9135\n",
      "Sensitivity -> Class 0: 0.8857 Class 1: 0.8223 Class 2: 0.9737 Class 3: 0.9568\n",
      "Confusion Matrix:\n",
      "[[1170  137    3   11]\n",
      " [  93 1101   50   95]\n",
      " [   4   26 1553   12]\n",
      " [   6   53    4 1394]]\n"
     ]
    },
    {
     "name": "stderr",
     "output_type": "stream",
     "text": [
      "\n",
      "Training ResNet18:  61%|██████    | 61/100 [42:51<27:38, 42.53s/it]\u001b[A"
     ]
    },
    {
     "name": "stdout",
     "output_type": "stream",
     "text": [
      "Metrics -> F1-Score: 0.8689, Precision: 0.8743, Recall: 0.8673\n",
      "Sensitivity -> Class 0: 0.7700 Class 1: 0.8170 Class 2: 0.9333 Class 3: 0.9267\n",
      "Confusion Matrix:\n",
      "[[231  65   0   4]\n",
      " [ 22 250  22  12]\n",
      " [  4  20 378   3]\n",
      " [  3  19   0 278]]\n",
      "Epoch 61/100 - ResNet18\n",
      "Train Loss: 0.2342, Train Accuracy: 0.9135\n",
      "Val Loss: 0.3183, Val Accuracy: 0.8673\n",
      "Train F1: 0.9131, Val F1: 0.8689\n",
      "Metrics -> F1-Score: 0.9094, Precision: 0.9095, Recall: 0.9095\n",
      "Sensitivity -> Class 0: 0.8804 Class 1: 0.8252 Class 2: 0.9705 Class 3: 0.9465\n",
      "Confusion Matrix:\n",
      "[[1163  142    2   14]\n",
      " [  97 1105   49   88]\n",
      " [   5   31 1548   11]\n",
      " [   3   71    4 1379]]\n"
     ]
    },
    {
     "name": "stderr",
     "output_type": "stream",
     "text": [
      "\n",
      "Training ResNet18:  62%|██████▏   | 62/100 [43:34<26:59, 42.63s/it]\u001b[A"
     ]
    },
    {
     "name": "stdout",
     "output_type": "stream",
     "text": [
      "Metrics -> F1-Score: 0.8765, Precision: 0.8776, Recall: 0.8780\n",
      "Sensitivity -> Class 0: 0.8133 Class 1: 0.7484 Class 2: 0.9580 Class 3: 0.9667\n",
      "Confusion Matrix:\n",
      "[[244  49   1   6]\n",
      " [ 16 229  33  28]\n",
      " [  4  11 388   2]\n",
      " [  1   8   1 290]]\n",
      "Epoch 62/100 - ResNet18\n",
      "Train Loss: 0.2388, Train Accuracy: 0.9095\n",
      "Val Loss: 0.2944, Val Accuracy: 0.8780\n",
      "Train F1: 0.9094, Val F1: 0.8765\n",
      "Metrics -> F1-Score: 0.9172, Precision: 0.9175, Recall: 0.9172\n",
      "Sensitivity -> Class 0: 0.8872 Class 1: 0.8499 Class 2: 0.9705 Class 3: 0.9478\n",
      "Confusion Matrix:\n",
      "[[1172  132    3   14]\n",
      " [  77 1138   44   80]\n",
      " [   7   25 1548   15]\n",
      " [   6   66    4 1381]]\n"
     ]
    },
    {
     "name": "stderr",
     "output_type": "stream",
     "text": [
      "\n",
      "Training ResNet18:  63%|██████▎   | 63/100 [44:17<26:15, 42.57s/it]\u001b[A"
     ]
    },
    {
     "name": "stdout",
     "output_type": "stream",
     "text": [
      "Metrics -> F1-Score: 0.8848, Precision: 0.8849, Recall: 0.8863\n",
      "Sensitivity -> Class 0: 0.8400 Class 1: 0.7549 Class 2: 0.9506 Class 3: 0.9800\n",
      "Confusion Matrix:\n",
      "[[252  39   1   8]\n",
      " [ 27 231  25  23]\n",
      " [  4  11 385   5]\n",
      " [  0   6   0 294]]\n",
      "Epoch 63/100 - ResNet18\n",
      "Train Loss: 0.2351, Train Accuracy: 0.9172\n",
      "Val Loss: 0.2763, Val Accuracy: 0.8863\n",
      "Train F1: 0.9172, Val F1: 0.8848\n",
      "Best model for ResNet18 saved at /kaggle/working/ResNet18_best.pth with F1-score: 0.8848\n",
      "Metrics -> F1-Score: 0.9165, Precision: 0.9166, Recall: 0.9167\n",
      "Sensitivity -> Class 0: 0.8925 Class 1: 0.8379 Class 2: 0.9687 Class 3: 0.9540\n",
      "Confusion Matrix:\n",
      "[[1179  129    7    6]\n",
      " [  84 1122   45   88]\n",
      " [  10   28 1545   12]\n",
      " [   6   59    2 1390]]\n"
     ]
    },
    {
     "name": "stderr",
     "output_type": "stream",
     "text": [
      "\n",
      "Training ResNet18:  64%|██████▍   | 64/100 [44:59<25:29, 42.48s/it]\u001b[A"
     ]
    },
    {
     "name": "stdout",
     "output_type": "stream",
     "text": [
      "Metrics -> F1-Score: 0.8625, Precision: 0.8658, Recall: 0.8658\n",
      "Sensitivity -> Class 0: 0.8133 Class 1: 0.6797 Class 2: 0.9630 Class 3: 0.9767\n",
      "Confusion Matrix:\n",
      "[[244  46   0  10]\n",
      " [ 16 208  37  45]\n",
      " [  0   9 390   6]\n",
      " [  2   5   0 293]]\n",
      "Epoch 64/100 - ResNet18\n",
      "Train Loss: 0.2337, Train Accuracy: 0.9167\n",
      "Val Loss: 0.3052, Val Accuracy: 0.8658\n",
      "Train F1: 0.9165, Val F1: 0.8625\n",
      "Metrics -> F1-Score: 0.9161, Precision: 0.9163, Recall: 0.9165\n",
      "Sensitivity -> Class 0: 0.8842 Class 1: 0.8327 Class 2: 0.9712 Class 3: 0.9629\n",
      "Confusion Matrix:\n",
      "[[1168  136    3   14]\n",
      " [  78 1115   50   96]\n",
      " [   9   24 1549   13]\n",
      " [   5   47    2 1403]]\n"
     ]
    },
    {
     "name": "stderr",
     "output_type": "stream",
     "text": [
      "\n",
      "Training ResNet18:  65%|██████▌   | 65/100 [45:41<24:44, 42.40s/it]\u001b[A"
     ]
    },
    {
     "name": "stdout",
     "output_type": "stream",
     "text": [
      "Metrics -> F1-Score: 0.8832, Precision: 0.8829, Recall: 0.8841\n",
      "Sensitivity -> Class 0: 0.8500 Class 1: 0.7582 Class 2: 0.9580 Class 3: 0.9467\n",
      "Confusion Matrix:\n",
      "[[255  42   0   3]\n",
      " [ 24 232  28  22]\n",
      " [  2  11 388   4]\n",
      " [  3  13   0 284]]\n",
      "Epoch 65/100 - ResNet18\n",
      "Train Loss: 0.2320, Train Accuracy: 0.9165\n",
      "Val Loss: 0.2848, Val Accuracy: 0.8841\n",
      "Train F1: 0.9161, Val F1: 0.8832\n",
      "Metrics -> F1-Score: 0.9180, Precision: 0.9180, Recall: 0.9181\n",
      "Sensitivity -> Class 0: 0.8978 Class 1: 0.8462 Class 2: 0.9724 Class 3: 0.9430\n",
      "Confusion Matrix:\n",
      "[[1186  120    2   13]\n",
      " [  79 1133   47   80]\n",
      " [   7   23 1551   14]\n",
      " [  10   64    9 1374]]\n"
     ]
    },
    {
     "name": "stderr",
     "output_type": "stream",
     "text": [
      "\n",
      "Training ResNet18:  66%|██████▌   | 66/100 [46:24<24:02, 42.42s/it]\u001b[A"
     ]
    },
    {
     "name": "stdout",
     "output_type": "stream",
     "text": [
      "Metrics -> F1-Score: 0.8748, Precision: 0.8750, Recall: 0.8757\n",
      "Sensitivity -> Class 0: 0.8200 Class 1: 0.7582 Class 2: 0.9457 Class 3: 0.9567\n",
      "Confusion Matrix:\n",
      "[[246  48   0   6]\n",
      " [ 24 232  26  24]\n",
      " [  5  12 383   5]\n",
      " [  3  10   0 287]]\n",
      "Epoch 66/100 - ResNet18\n",
      "Train Loss: 0.2358, Train Accuracy: 0.9181\n",
      "Val Loss: 0.3074, Val Accuracy: 0.8757\n",
      "Train F1: 0.9180, Val F1: 0.8748\n",
      "Metrics -> F1-Score: 0.9149, Precision: 0.9149, Recall: 0.9153\n",
      "Sensitivity -> Class 0: 0.8857 Class 1: 0.8290 Class 2: 0.9718 Class 3: 0.9595\n",
      "Confusion Matrix:\n",
      "[[1170  133    7   11]\n",
      " [  86 1110   50   93]\n",
      " [   3   31 1550   11]\n",
      " [   5   49    5 1398]]\n"
     ]
    },
    {
     "name": "stderr",
     "output_type": "stream",
     "text": [
      "\n",
      "Training ResNet18:  67%|██████▋   | 67/100 [47:07<23:24, 42.57s/it]\u001b[A"
     ]
    },
    {
     "name": "stdout",
     "output_type": "stream",
     "text": [
      "Metrics -> F1-Score: 0.8795, Precision: 0.8787, Recall: 0.8818\n",
      "Sensitivity -> Class 0: 0.8600 Class 1: 0.7157 Class 2: 0.9531 Class 3: 0.9767\n",
      "Confusion Matrix:\n",
      "[[258  40   0   2]\n",
      " [ 33 219  36  18]\n",
      " [  4  11 386   4]\n",
      " [  2   5   0 293]]\n",
      "Epoch 67/100 - ResNet18\n",
      "Train Loss: 0.2326, Train Accuracy: 0.9153\n",
      "Val Loss: 0.2688, Val Accuracy: 0.8818\n",
      "Train F1: 0.9149, Val F1: 0.8795\n",
      "Metrics -> F1-Score: 0.9156, Precision: 0.9157, Recall: 0.9158\n",
      "Sensitivity -> Class 0: 0.8819 Class 1: 0.8327 Class 2: 0.9768 Class 3: 0.9561\n",
      "Confusion Matrix:\n",
      "[[1165  144    3    9]\n",
      " [  90 1115   42   92]\n",
      " [   4   22 1558   11]\n",
      " [   5   58    1 1393]]\n"
     ]
    },
    {
     "name": "stderr",
     "output_type": "stream",
     "text": [
      "\n",
      "Training ResNet18:  68%|██████▊   | 68/100 [47:50<22:46, 42.70s/it]\u001b[A"
     ]
    },
    {
     "name": "stdout",
     "output_type": "stream",
     "text": [
      "Metrics -> F1-Score: 0.8790, Precision: 0.8783, Recall: 0.8810\n",
      "Sensitivity -> Class 0: 0.8667 Class 1: 0.7190 Class 2: 0.9605 Class 3: 0.9533\n",
      "Confusion Matrix:\n",
      "[[260  37   0   3]\n",
      " [ 32 220  36  18]\n",
      " [  4  10 389   2]\n",
      " [  2  12   0 286]]\n",
      "Epoch 68/100 - ResNet18\n",
      "Train Loss: 0.2292, Train Accuracy: 0.9158\n",
      "Val Loss: 0.2968, Val Accuracy: 0.8810\n",
      "Train F1: 0.9156, Val F1: 0.8790\n",
      "Metrics -> F1-Score: 0.9124, Precision: 0.9125, Recall: 0.9126\n",
      "Sensitivity -> Class 0: 0.8796 Class 1: 0.8350 Class 2: 0.9718 Class 3: 0.9492\n",
      "Confusion Matrix:\n",
      "[[1162  141    6   12]\n",
      " [  94 1118   44   83]\n",
      " [   5   22 1550   18]\n",
      " [   9   58    7 1383]]\n"
     ]
    },
    {
     "name": "stderr",
     "output_type": "stream",
     "text": [
      "\n",
      "Training ResNet18:  69%|██████▉   | 69/100 [48:32<21:58, 42.54s/it]\u001b[A"
     ]
    },
    {
     "name": "stdout",
     "output_type": "stream",
     "text": [
      "Metrics -> F1-Score: 0.8651, Precision: 0.8660, Recall: 0.8673\n",
      "Sensitivity -> Class 0: 0.8033 Class 1: 0.7092 Class 2: 0.9778 Class 3: 0.9433\n",
      "Confusion Matrix:\n",
      "[[241  52   0   7]\n",
      " [ 22 217  45  22]\n",
      " [  0   7 396   2]\n",
      " [  1  15   1 283]]\n",
      "Epoch 69/100 - ResNet18\n",
      "Train Loss: 0.2383, Train Accuracy: 0.9126\n",
      "Val Loss: 0.3168, Val Accuracy: 0.8673\n",
      "Train F1: 0.9124, Val F1: 0.8651\n",
      "Metrics -> F1-Score: 0.9162, Precision: 0.9162, Recall: 0.9165\n",
      "Sensitivity -> Class 0: 0.8925 Class 1: 0.8327 Class 2: 0.9712 Class 3: 0.9554\n",
      "Confusion Matrix:\n",
      "[[1179  128    4   10]\n",
      " [  93 1115   44   87]\n",
      " [   3   29 1549   14]\n",
      " [   6   54    5 1392]]\n"
     ]
    },
    {
     "name": "stderr",
     "output_type": "stream",
     "text": [
      "\n",
      "Training ResNet18:  70%|███████   | 70/100 [49:14<21:12, 42.42s/it]\u001b[A"
     ]
    },
    {
     "name": "stdout",
     "output_type": "stream",
     "text": [
      "Metrics -> F1-Score: 0.8707, Precision: 0.8722, Recall: 0.8726\n",
      "Sensitivity -> Class 0: 0.7933 Class 1: 0.7353 Class 2: 0.9679 Class 3: 0.9633\n",
      "Confusion Matrix:\n",
      "[[238  54   1   7]\n",
      " [ 18 225  37  26]\n",
      " [  2   9 392   2]\n",
      " [  1   9   1 289]]\n",
      "Epoch 70/100 - ResNet18\n",
      "Train Loss: 0.2343, Train Accuracy: 0.9165\n",
      "Val Loss: 0.2984, Val Accuracy: 0.8726\n",
      "Train F1: 0.9162, Val F1: 0.8707\n",
      "Metrics -> F1-Score: 0.9114, Precision: 0.9117, Recall: 0.9116\n",
      "Sensitivity -> Class 0: 0.8812 Class 1: 0.8297 Class 2: 0.9718 Class 3: 0.9485\n",
      "Confusion Matrix:\n",
      "[[1164  145    3    9]\n",
      " [  72 1111   57   99]\n",
      " [   4   30 1550   11]\n",
      " [   8   61    6 1382]]\n"
     ]
    },
    {
     "name": "stderr",
     "output_type": "stream",
     "text": [
      "\n",
      "Training ResNet18:  71%|███████   | 71/100 [49:56<20:29, 42.38s/it]\u001b[A"
     ]
    },
    {
     "name": "stdout",
     "output_type": "stream",
     "text": [
      "Metrics -> F1-Score: 0.8774, Precision: 0.8799, Recall: 0.8780\n",
      "Sensitivity -> Class 0: 0.7900 Class 1: 0.7843 Class 2: 0.9556 Class 3: 0.9567\n",
      "Confusion Matrix:\n",
      "[[237  56   1   6]\n",
      " [ 15 240  29  22]\n",
      " [  2  11 387   5]\n",
      " [  2  11   0 287]]\n",
      "Epoch 71/100 - ResNet18\n",
      "Train Loss: 0.2286, Train Accuracy: 0.9116\n",
      "Val Loss: 0.2969, Val Accuracy: 0.8780\n",
      "Train F1: 0.9114, Val F1: 0.8774\n",
      "Metrics -> F1-Score: 0.9191, Precision: 0.9193, Recall: 0.9193\n",
      "Sensitivity -> Class 0: 0.8872 Class 1: 0.8462 Class 2: 0.9743 Class 3: 0.9554\n",
      "Confusion Matrix:\n",
      "[[1172  137    2   10]\n",
      " [  78 1133   44   84]\n",
      " [   7   18 1554   16]\n",
      " [   6   56    3 1392]]\n"
     ]
    },
    {
     "name": "stderr",
     "output_type": "stream",
     "text": [
      "\n",
      "Training ResNet18:  72%|███████▏  | 72/100 [50:38<19:44, 42.32s/it]\u001b[A"
     ]
    },
    {
     "name": "stdout",
     "output_type": "stream",
     "text": [
      "Metrics -> F1-Score: 0.8810, Precision: 0.8835, Recall: 0.8810\n",
      "Sensitivity -> Class 0: 0.7967 Class 1: 0.7941 Class 2: 0.9605 Class 3: 0.9467\n",
      "Confusion Matrix:\n",
      "[[239  58   0   3]\n",
      " [ 17 243  26  20]\n",
      " [  1  12 389   3]\n",
      " [  3  13   0 284]]\n",
      "Epoch 72/100 - ResNet18\n",
      "Train Loss: 0.2236, Train Accuracy: 0.9193\n",
      "Val Loss: 0.2815, Val Accuracy: 0.8810\n",
      "Train F1: 0.9191, Val F1: 0.8810\n",
      "Metrics -> F1-Score: 0.9186, Precision: 0.9186, Recall: 0.9189\n",
      "Sensitivity -> Class 0: 0.8940 Class 1: 0.8320 Class 2: 0.9724 Class 3: 0.9629\n",
      "Confusion Matrix:\n",
      "[[1181  126    0   14]\n",
      " [  88 1114   47   90]\n",
      " [   4   27 1551   13]\n",
      " [   5   47    2 1403]]\n"
     ]
    },
    {
     "name": "stderr",
     "output_type": "stream",
     "text": [
      "\n",
      "Training ResNet18:  73%|███████▎  | 73/100 [51:20<18:58, 42.15s/it]\u001b[A"
     ]
    },
    {
     "name": "stdout",
     "output_type": "stream",
     "text": [
      "Metrics -> F1-Score: 0.8811, Precision: 0.8805, Recall: 0.8825\n",
      "Sensitivity -> Class 0: 0.8467 Class 1: 0.7386 Class 2: 0.9728 Class 3: 0.9433\n",
      "Confusion Matrix:\n",
      "[[254  41   2   3]\n",
      " [ 30 226  30  20]\n",
      " [  1   9 394   1]\n",
      " [  2  15   0 283]]\n",
      "Epoch 73/100 - ResNet18\n",
      "Train Loss: 0.2261, Train Accuracy: 0.9189\n",
      "Val Loss: 0.3014, Val Accuracy: 0.8825\n",
      "Train F1: 0.9186, Val F1: 0.8811\n",
      "Metrics -> F1-Score: 0.9174, Precision: 0.9174, Recall: 0.9175\n",
      "Sensitivity -> Class 0: 0.8948 Class 1: 0.8394 Class 2: 0.9693 Class 3: 0.9533\n",
      "Confusion Matrix:\n",
      "[[1182  128    3    8]\n",
      " [  84 1124   49   82]\n",
      " [   4   26 1546   19]\n",
      " [   4   57    7 1389]]\n"
     ]
    },
    {
     "name": "stderr",
     "output_type": "stream",
     "text": [
      "\n",
      "Training ResNet18:  74%|███████▍  | 74/100 [52:03<18:19, 42.27s/it]\u001b[A"
     ]
    },
    {
     "name": "stdout",
     "output_type": "stream",
     "text": [
      "Metrics -> F1-Score: 0.8820, Precision: 0.8820, Recall: 0.8825\n",
      "Sensitivity -> Class 0: 0.8367 Class 1: 0.7647 Class 2: 0.9605 Class 3: 0.9433\n",
      "Confusion Matrix:\n",
      "[[251  45   0   4]\n",
      " [ 29 234  29  14]\n",
      " [  0  12 389   4]\n",
      " [  2  15   0 283]]\n",
      "Epoch 74/100 - ResNet18\n",
      "Train Loss: 0.2281, Train Accuracy: 0.9175\n",
      "Val Loss: 0.3093, Val Accuracy: 0.8825\n",
      "Train F1: 0.9174, Val F1: 0.8820\n",
      "Metrics -> F1-Score: 0.9172, Precision: 0.9173, Recall: 0.9174\n",
      "Sensitivity -> Class 0: 0.8902 Class 1: 0.8372 Class 2: 0.9774 Class 3: 0.9499\n",
      "Confusion Matrix:\n",
      "[[1176  140    1    4]\n",
      " [  81 1121   46   91]\n",
      " [   3   24 1559    9]\n",
      " [   6   58    9 1384]]\n"
     ]
    },
    {
     "name": "stderr",
     "output_type": "stream",
     "text": [
      "\n",
      "Training ResNet18:  75%|███████▌  | 75/100 [52:44<17:30, 42.03s/it]\u001b[A"
     ]
    },
    {
     "name": "stdout",
     "output_type": "stream",
     "text": [
      "Metrics -> F1-Score: 0.8757, Precision: 0.8753, Recall: 0.8787\n",
      "Sensitivity -> Class 0: 0.8700 Class 1: 0.6928 Class 2: 0.9654 Class 3: 0.9600\n",
      "Confusion Matrix:\n",
      "[[261  35   0   4]\n",
      " [ 33 212  37  24]\n",
      " [  4   8 391   2]\n",
      " [  2  10   0 288]]\n",
      "Epoch 75/100 - ResNet18\n",
      "Train Loss: 0.2263, Train Accuracy: 0.9174\n",
      "Val Loss: 0.2908, Val Accuracy: 0.8787\n",
      "Train F1: 0.9172, Val F1: 0.8757\n",
      "Metrics -> F1-Score: 0.9232, Precision: 0.9230, Recall: 0.9235\n",
      "Sensitivity -> Class 0: 0.9023 Class 1: 0.8424 Class 2: 0.9774 Class 3: 0.9581\n",
      "Confusion Matrix:\n",
      "[[1192  117    2   10]\n",
      " [  86 1128   44   81]\n",
      " [   4   22 1559   10]\n",
      " [  10   47    4 1396]]\n"
     ]
    },
    {
     "name": "stderr",
     "output_type": "stream",
     "text": [
      "\n",
      "Training ResNet18:  76%|███████▌  | 76/100 [53:26<16:50, 42.11s/it]\u001b[A"
     ]
    },
    {
     "name": "stdout",
     "output_type": "stream",
     "text": [
      "Metrics -> F1-Score: 0.8748, Precision: 0.8778, Recall: 0.8749\n",
      "Sensitivity -> Class 0: 0.7800 Class 1: 0.7778 Class 2: 0.9531 Class 3: 0.9633\n",
      "Confusion Matrix:\n",
      "[[234  62   0   4]\n",
      " [ 22 238  25  21]\n",
      " [  0  16 386   3]\n",
      " [  0  11   0 289]]\n",
      "Epoch 76/100 - ResNet18\n",
      "Train Loss: 0.2120, Train Accuracy: 0.9235\n",
      "Val Loss: 0.2968, Val Accuracy: 0.8749\n",
      "Train F1: 0.9232, Val F1: 0.8748\n",
      "Metrics -> F1-Score: 0.9159, Precision: 0.9160, Recall: 0.9161\n",
      "Sensitivity -> Class 0: 0.8955 Class 1: 0.8327 Class 2: 0.9730 Class 3: 0.9492\n",
      "Confusion Matrix:\n",
      "[[1183  128    3    7]\n",
      " [  77 1115   47  100]\n",
      " [   4   29 1552   10]\n",
      " [   6   61    7 1383]]\n"
     ]
    },
    {
     "name": "stderr",
     "output_type": "stream",
     "text": [
      "\n",
      "Training ResNet18:  77%|███████▋  | 77/100 [54:08<16:07, 42.06s/it]\u001b[A"
     ]
    },
    {
     "name": "stdout",
     "output_type": "stream",
     "text": [
      "Metrics -> F1-Score: 0.8928, Precision: 0.8933, Recall: 0.8940\n",
      "Sensitivity -> Class 0: 0.8267 Class 1: 0.7843 Class 2: 0.9704 Class 3: 0.9700\n",
      "Confusion Matrix:\n",
      "[[248  46   0   6]\n",
      " [ 19 240  30  17]\n",
      " [  2   8 393   2]\n",
      " [  2   7   0 291]]\n",
      "Epoch 77/100 - ResNet18\n",
      "Train Loss: 0.2314, Train Accuracy: 0.9161\n",
      "Val Loss: 0.2675, Val Accuracy: 0.8940\n",
      "Train F1: 0.9159, Val F1: 0.8928\n",
      "Best model for ResNet18 saved at /kaggle/working/ResNet18_best.pth with F1-score: 0.8928\n",
      "Metrics -> F1-Score: 0.9235, Precision: 0.9237, Recall: 0.9237\n",
      "Sensitivity -> Class 0: 0.8970 Class 1: 0.8476 Class 2: 0.9762 Class 3: 0.9602\n",
      "Confusion Matrix:\n",
      "[[1185  131    0    5]\n",
      " [  72 1135   46   86]\n",
      " [   2   22 1557   14]\n",
      " [   3   51    4 1399]]\n"
     ]
    },
    {
     "name": "stderr",
     "output_type": "stream",
     "text": [
      "\n",
      "Training ResNet18:  78%|███████▊  | 78/100 [54:51<15:26, 42.12s/it]\u001b[A"
     ]
    },
    {
     "name": "stdout",
     "output_type": "stream",
     "text": [
      "Metrics -> F1-Score: 0.8854, Precision: 0.8860, Recall: 0.8863\n",
      "Sensitivity -> Class 0: 0.8200 Class 1: 0.7778 Class 2: 0.9580 Class 3: 0.9667\n",
      "Confusion Matrix:\n",
      "[[246  47   0   7]\n",
      " [ 21 238  28  19]\n",
      " [  1  12 388   4]\n",
      " [  2   7   1 290]]\n",
      "Epoch 78/100 - ResNet18\n",
      "Train Loss: 0.2165, Train Accuracy: 0.9237\n",
      "Val Loss: 0.2897, Val Accuracy: 0.8863\n",
      "Train F1: 0.9235, Val F1: 0.8854\n",
      "Metrics -> F1-Score: 0.9175, Precision: 0.9177, Recall: 0.9175\n",
      "Sensitivity -> Class 0: 0.8864 Class 1: 0.8447 Class 2: 0.9737 Class 3: 0.9513\n",
      "Confusion Matrix:\n",
      "[[1171  134    3   13]\n",
      " [  87 1131   44   77]\n",
      " [   9   26 1553    7]\n",
      " [   3   65    3 1386]]\n"
     ]
    },
    {
     "name": "stderr",
     "output_type": "stream",
     "text": [
      "\n",
      "Training ResNet18:  79%|███████▉  | 79/100 [55:33<14:44, 42.13s/it]\u001b[A"
     ]
    },
    {
     "name": "stdout",
     "output_type": "stream",
     "text": [
      "Metrics -> F1-Score: 0.8737, Precision: 0.8736, Recall: 0.8764\n",
      "Sensitivity -> Class 0: 0.8433 Class 1: 0.7059 Class 2: 0.9580 Class 3: 0.9733\n",
      "Confusion Matrix:\n",
      "[[253  38   0   9]\n",
      " [ 30 216  34  26]\n",
      " [  4  10 388   3]\n",
      " [  0   8   0 292]]\n",
      "Epoch 79/100 - ResNet18\n",
      "Train Loss: 0.2257, Train Accuracy: 0.9175\n",
      "Val Loss: 0.2778, Val Accuracy: 0.8764\n",
      "Train F1: 0.9175, Val F1: 0.8737\n",
      "Metrics -> F1-Score: 0.9168, Precision: 0.9167, Recall: 0.9172\n",
      "Sensitivity -> Class 0: 0.8917 Class 1: 0.8297 Class 2: 0.9724 Class 3: 0.9602\n",
      "Confusion Matrix:\n",
      "[[1178  128    4   11]\n",
      " [  99 1111   45   84]\n",
      " [   2   31 1551   11]\n",
      " [   7   48    3 1399]]\n"
     ]
    },
    {
     "name": "stderr",
     "output_type": "stream",
     "text": [
      "\n",
      "Training ResNet18:  80%|████████  | 80/100 [56:15<14:01, 42.07s/it]\u001b[A"
     ]
    },
    {
     "name": "stdout",
     "output_type": "stream",
     "text": [
      "Metrics -> F1-Score: 0.8796, Precision: 0.8826, Recall: 0.8795\n",
      "Sensitivity -> Class 0: 0.7933 Class 1: 0.7941 Class 2: 0.9630 Class 3: 0.9400\n",
      "Confusion Matrix:\n",
      "[[238  58   1   3]\n",
      " [ 18 243  31  14]\n",
      " [  1  12 390   2]\n",
      " [  2  16   0 282]]\n",
      "Epoch 80/100 - ResNet18\n",
      "Train Loss: 0.2262, Train Accuracy: 0.9172\n",
      "Val Loss: 0.3013, Val Accuracy: 0.8795\n",
      "Train F1: 0.9168, Val F1: 0.8796\n",
      "Metrics -> F1-Score: 0.9171, Precision: 0.9172, Recall: 0.9172\n",
      "Sensitivity -> Class 0: 0.8940 Class 1: 0.8387 Class 2: 0.9724 Class 3: 0.9499\n",
      "Confusion Matrix:\n",
      "[[1181  130    2    8]\n",
      " [  78 1123   46   92]\n",
      " [   3   30 1551   11]\n",
      " [   8   60    5 1384]]\n"
     ]
    },
    {
     "name": "stderr",
     "output_type": "stream",
     "text": [
      "\n",
      "Training ResNet18:  81%|████████  | 81/100 [56:58<13:24, 42.34s/it]\u001b[A"
     ]
    },
    {
     "name": "stdout",
     "output_type": "stream",
     "text": [
      "Metrics -> F1-Score: 0.8759, Precision: 0.8755, Recall: 0.8787\n",
      "Sensitivity -> Class 0: 0.8800 Class 1: 0.6928 Class 2: 0.9679 Class 3: 0.9467\n",
      "Confusion Matrix:\n",
      "[[264  33   0   3]\n",
      " [ 40 212  35  19]\n",
      " [  2   8 392   3]\n",
      " [  4  12   0 284]]\n",
      "Epoch 81/100 - ResNet18\n",
      "Train Loss: 0.2319, Train Accuracy: 0.9172\n",
      "Val Loss: 0.2758, Val Accuracy: 0.8787\n",
      "Train F1: 0.9171, Val F1: 0.8759\n",
      "Metrics -> F1-Score: 0.9184, Precision: 0.9181, Recall: 0.9189\n",
      "Sensitivity -> Class 0: 0.8986 Class 1: 0.8267 Class 2: 0.9787 Class 3: 0.9568\n",
      "Confusion Matrix:\n",
      "[[1187  119    4   11]\n",
      " [  99 1107   49   84]\n",
      " [   5   19 1561   10]\n",
      " [  15   44    4 1394]]\n"
     ]
    },
    {
     "name": "stderr",
     "output_type": "stream",
     "text": [
      "\n",
      "Training ResNet18:  82%|████████▏ | 82/100 [57:40<12:41, 42.32s/it]\u001b[A"
     ]
    },
    {
     "name": "stdout",
     "output_type": "stream",
     "text": [
      "Metrics -> F1-Score: 0.8694, Precision: 0.8776, Recall: 0.8680\n",
      "Sensitivity -> Class 0: 0.7467 Class 1: 0.8333 Class 2: 0.9432 Class 3: 0.9233\n",
      "Confusion Matrix:\n",
      "[[224  73   0   3]\n",
      " [ 13 255  24  14]\n",
      " [  4  14 382   5]\n",
      " [  2  21   0 277]]\n",
      "Epoch 82/100 - ResNet18\n",
      "Train Loss: 0.2271, Train Accuracy: 0.9189\n",
      "Val Loss: 0.3126, Val Accuracy: 0.8680\n",
      "Train F1: 0.9184, Val F1: 0.8694\n",
      "Metrics -> F1-Score: 0.9162, Precision: 0.9165, Recall: 0.9161\n",
      "Sensitivity -> Class 0: 0.8857 Class 1: 0.8462 Class 2: 0.9687 Class 3: 0.9506\n",
      "Confusion Matrix:\n",
      "[[1170  142    1    8]\n",
      " [  80 1133   46   80]\n",
      " [   5   30 1545   15]\n",
      " [  11   57    4 1385]]\n"
     ]
    },
    {
     "name": "stderr",
     "output_type": "stream",
     "text": [
      "\n",
      "Training ResNet18:  83%|████████▎ | 83/100 [58:22<11:55, 42.10s/it]\u001b[A"
     ]
    },
    {
     "name": "stdout",
     "output_type": "stream",
     "text": [
      "Metrics -> F1-Score: 0.8709, Precision: 0.8707, Recall: 0.8734\n",
      "Sensitivity -> Class 0: 0.8533 Class 1: 0.6993 Class 2: 0.9580 Class 3: 0.9567\n",
      "Confusion Matrix:\n",
      "[[256  40   0   4]\n",
      " [ 30 214  29  33]\n",
      " [  2   9 388   6]\n",
      " [  3  10   0 287]]\n",
      "Epoch 83/100 - ResNet18\n",
      "Train Loss: 0.2259, Train Accuracy: 0.9161\n",
      "Val Loss: 0.2804, Val Accuracy: 0.8734\n",
      "Train F1: 0.9162, Val F1: 0.8709\n",
      "Metrics -> F1-Score: 0.9175, Precision: 0.9175, Recall: 0.9177\n",
      "Sensitivity -> Class 0: 0.8978 Class 1: 0.8335 Class 2: 0.9693 Class 3: 0.9568\n",
      "Confusion Matrix:\n",
      "[[1186  126    0    9]\n",
      " [  93 1116   46   84]\n",
      " [   6   28 1546   15]\n",
      " [   5   56    2 1394]]\n"
     ]
    },
    {
     "name": "stderr",
     "output_type": "stream",
     "text": [
      "\n",
      "Training ResNet18:  84%|████████▍ | 84/100 [59:04<11:14, 42.16s/it]\u001b[A"
     ]
    },
    {
     "name": "stdout",
     "output_type": "stream",
     "text": [
      "Metrics -> F1-Score: 0.8857, Precision: 0.8859, Recall: 0.8871\n",
      "Sensitivity -> Class 0: 0.8367 Class 1: 0.7582 Class 2: 0.9654 Class 3: 0.9633\n",
      "Confusion Matrix:\n",
      "[[251  45   2   2]\n",
      " [ 17 232  34  23]\n",
      " [  2   9 391   3]\n",
      " [  4   7   0 289]]\n",
      "Epoch 84/100 - ResNet18\n",
      "Train Loss: 0.2205, Train Accuracy: 0.9177\n",
      "Val Loss: 0.3053, Val Accuracy: 0.8871\n",
      "Train F1: 0.9175, Val F1: 0.8857\n",
      "Metrics -> F1-Score: 0.9224, Precision: 0.9224, Recall: 0.9224\n",
      "Sensitivity -> Class 0: 0.8948 Class 1: 0.8529 Class 2: 0.9781 Class 3: 0.9506\n",
      "Confusion Matrix:\n",
      "[[1182  128    3    8]\n",
      " [  85 1142   39   73]\n",
      " [   7   23 1560    5]\n",
      " [   8   58    6 1385]]\n"
     ]
    },
    {
     "name": "stderr",
     "output_type": "stream",
     "text": [
      "\n",
      "Training ResNet18:  85%|████████▌ | 85/100 [59:46<10:32, 42.15s/it]\u001b[A"
     ]
    },
    {
     "name": "stdout",
     "output_type": "stream",
     "text": [
      "Metrics -> F1-Score: 0.8875, Precision: 0.8931, Recall: 0.8871\n",
      "Sensitivity -> Class 0: 0.7767 Class 1: 0.8399 Class 2: 0.9605 Class 3: 0.9467\n",
      "Confusion Matrix:\n",
      "[[233  60   1   6]\n",
      " [ 12 257  25  12]\n",
      " [  0  13 389   3]\n",
      " [  1  14   1 284]]\n",
      "Epoch 85/100 - ResNet18\n",
      "Train Loss: 0.2203, Train Accuracy: 0.9224\n",
      "Val Loss: 0.2946, Val Accuracy: 0.8871\n",
      "Train F1: 0.9224, Val F1: 0.8875\n",
      "Metrics -> F1-Score: 0.9181, Precision: 0.9182, Recall: 0.9182\n",
      "Sensitivity -> Class 0: 0.8895 Class 1: 0.8379 Class 2: 0.9737 Class 3: 0.9574\n",
      "Confusion Matrix:\n",
      "[[1175  133    5    8]\n",
      " [  89 1122   39   89]\n",
      " [   2   28 1553   12]\n",
      " [   3   55    4 1395]]\n"
     ]
    },
    {
     "name": "stderr",
     "output_type": "stream",
     "text": [
      "\n",
      "Training ResNet18:  86%|████████▌ | 86/100 [1:00:28<09:47, 41.98s/it]\u001b[A"
     ]
    },
    {
     "name": "stdout",
     "output_type": "stream",
     "text": [
      "Metrics -> F1-Score: 0.8720, Precision: 0.8722, Recall: 0.8749\n",
      "Sensitivity -> Class 0: 0.8333 Class 1: 0.7026 Class 2: 0.9728 Class 3: 0.9600\n",
      "Confusion Matrix:\n",
      "[[250  42   3   5]\n",
      " [ 26 215  42  23]\n",
      " [  1   8 394   2]\n",
      " [  1   8   3 288]]\n",
      "Epoch 86/100 - ResNet18\n",
      "Train Loss: 0.2194, Train Accuracy: 0.9182\n",
      "Val Loss: 0.2870, Val Accuracy: 0.8749\n",
      "Train F1: 0.9181, Val F1: 0.8720\n",
      "Metrics -> F1-Score: 0.9166, Precision: 0.9164, Recall: 0.9170\n",
      "Sensitivity -> Class 0: 0.8925 Class 1: 0.8297 Class 2: 0.9793 Class 3: 0.9513\n",
      "Confusion Matrix:\n",
      "[[1179  127    3   12]\n",
      " [ 100 1111   47   81]\n",
      " [   1   17 1562   15]\n",
      " [   6   58    7 1386]]\n"
     ]
    },
    {
     "name": "stderr",
     "output_type": "stream",
     "text": [
      "\n",
      "Training ResNet18:  87%|████████▋ | 87/100 [1:01:10<09:07, 42.12s/it]\u001b[A"
     ]
    },
    {
     "name": "stdout",
     "output_type": "stream",
     "text": [
      "Metrics -> F1-Score: 0.8773, Precision: 0.8834, Recall: 0.8764\n",
      "Sensitivity -> Class 0: 0.7767 Class 1: 0.8137 Class 2: 0.9531 Class 3: 0.9367\n",
      "Confusion Matrix:\n",
      "[[233  63   0   4]\n",
      " [ 11 249  28  18]\n",
      " [  1  15 386   3]\n",
      " [  1  18   0 281]]\n",
      "Epoch 87/100 - ResNet18\n",
      "Train Loss: 0.2273, Train Accuracy: 0.9170\n",
      "Val Loss: 0.3088, Val Accuracy: 0.8764\n",
      "Train F1: 0.9166, Val F1: 0.8773\n",
      "Metrics -> F1-Score: 0.9170, Precision: 0.9173, Recall: 0.9172\n",
      "Sensitivity -> Class 0: 0.8864 Class 1: 0.8409 Class 2: 0.9762 Class 3: 0.9506\n",
      "Confusion Matrix:\n",
      "[[1171  137    2   11]\n",
      " [  77 1126   46   90]\n",
      " [   2   22 1557   14]\n",
      " [   6   61    5 1385]]\n"
     ]
    },
    {
     "name": "stderr",
     "output_type": "stream",
     "text": [
      "\n",
      "Training ResNet18:  88%|████████▊ | 88/100 [1:01:52<08:26, 42.22s/it]\u001b[A"
     ]
    },
    {
     "name": "stdout",
     "output_type": "stream",
     "text": [
      "Metrics -> F1-Score: 0.8701, Precision: 0.8697, Recall: 0.8726\n",
      "Sensitivity -> Class 0: 0.8433 Class 1: 0.7026 Class 2: 0.9654 Class 3: 0.9500\n",
      "Confusion Matrix:\n",
      "[[253  41   0   6]\n",
      " [ 27 215  37  27]\n",
      " [  3   7 391   4]\n",
      " [  3  12   0 285]]\n",
      "Epoch 88/100 - ResNet18\n",
      "Train Loss: 0.2249, Train Accuracy: 0.9172\n",
      "Val Loss: 0.2913, Val Accuracy: 0.8726\n",
      "Train F1: 0.9170, Val F1: 0.8701\n",
      "Metrics -> F1-Score: 0.9250, Precision: 0.9249, Recall: 0.9252\n",
      "Sensitivity -> Class 0: 0.9031 Class 1: 0.8469 Class 2: 0.9774 Class 3: 0.9602\n",
      "Confusion Matrix:\n",
      "[[1193  119    1    8]\n",
      " [  87 1134   41   77]\n",
      " [   4   23 1559    9]\n",
      " [   7   47    4 1399]]\n"
     ]
    },
    {
     "name": "stderr",
     "output_type": "stream",
     "text": [
      "\n",
      "Training ResNet18:  89%|████████▉ | 89/100 [1:02:34<07:42, 42.07s/it]\u001b[A"
     ]
    },
    {
     "name": "stdout",
     "output_type": "stream",
     "text": [
      "Metrics -> F1-Score: 0.8838, Precision: 0.8832, Recall: 0.8856\n",
      "Sensitivity -> Class 0: 0.8833 Class 1: 0.7320 Class 2: 0.9605 Class 3: 0.9433\n",
      "Confusion Matrix:\n",
      "[[265  30   0   5]\n",
      " [ 27 224  34  21]\n",
      " [  3   9 389   4]\n",
      " [  2  15   0 283]]\n",
      "Epoch 89/100 - ResNet18\n",
      "Train Loss: 0.2178, Train Accuracy: 0.9252\n",
      "Val Loss: 0.2696, Val Accuracy: 0.8856\n",
      "Train F1: 0.9250, Val F1: 0.8838\n",
      "Metrics -> F1-Score: 0.9191, Precision: 0.9190, Recall: 0.9195\n",
      "Sensitivity -> Class 0: 0.8948 Class 1: 0.8364 Class 2: 0.9737 Class 3: 0.9588\n",
      "Confusion Matrix:\n",
      "[[1182  120    5   14]\n",
      " [  95 1120   42   82]\n",
      " [   7   26 1553    9]\n",
      " [  11   46    3 1397]]\n"
     ]
    },
    {
     "name": "stderr",
     "output_type": "stream",
     "text": [
      "\n",
      "Training ResNet18:  90%|█████████ | 90/100 [1:03:16<07:00, 42.03s/it]\u001b[A"
     ]
    },
    {
     "name": "stdout",
     "output_type": "stream",
     "text": [
      "Metrics -> F1-Score: 0.8787, Precision: 0.8784, Recall: 0.8802\n",
      "Sensitivity -> Class 0: 0.8367 Class 1: 0.7386 Class 2: 0.9679 Class 3: 0.9500\n",
      "Confusion Matrix:\n",
      "[[251  44   1   4]\n",
      " [ 27 226  39  14]\n",
      " [  2   8 392   3]\n",
      " [  2  13   0 285]]\n",
      "Epoch 90/100 - ResNet18\n",
      "Train Loss: 0.2189, Train Accuracy: 0.9195\n",
      "Val Loss: 0.3074, Val Accuracy: 0.8802\n",
      "Train F1: 0.9191, Val F1: 0.8787\n",
      "Metrics -> F1-Score: 0.9224, Precision: 0.9226, Recall: 0.9224\n",
      "Sensitivity -> Class 0: 0.8948 Class 1: 0.8521 Class 2: 0.9768 Class 3: 0.9526\n",
      "Confusion Matrix:\n",
      "[[1182  128    0   11]\n",
      " [  79 1141   40   79]\n",
      " [   1   21 1558   15]\n",
      " [   6   60    3 1388]]\n"
     ]
    },
    {
     "name": "stderr",
     "output_type": "stream",
     "text": [
      "\n",
      "Training ResNet18:  91%|█████████ | 91/100 [1:03:58<06:17, 41.95s/it]\u001b[A"
     ]
    },
    {
     "name": "stdout",
     "output_type": "stream",
     "text": [
      "Metrics -> F1-Score: 0.8868, Precision: 0.8875, Recall: 0.8879\n",
      "Sensitivity -> Class 0: 0.8300 Class 1: 0.7680 Class 2: 0.9778 Class 3: 0.9467\n",
      "Confusion Matrix:\n",
      "[[249  44   1   6]\n",
      " [ 19 235  34  18]\n",
      " [  0   8 396   1]\n",
      " [  1  14   1 284]]\n",
      "Epoch 91/100 - ResNet18\n",
      "Train Loss: 0.2230, Train Accuracy: 0.9224\n",
      "Val Loss: 0.2833, Val Accuracy: 0.8879\n",
      "Train F1: 0.9224, Val F1: 0.8868\n",
      "Metrics -> F1-Score: 0.9169, Precision: 0.9169, Recall: 0.9170\n",
      "Sensitivity -> Class 0: 0.8940 Class 1: 0.8394 Class 2: 0.9693 Class 3: 0.9520\n",
      "Confusion Matrix:\n",
      "[[1181  124    3   13]\n",
      " [  94 1124   44   77]\n",
      " [   5   29 1546   15]\n",
      " [   5   61    4 1387]]\n"
     ]
    },
    {
     "name": "stderr",
     "output_type": "stream",
     "text": [
      "\n",
      "Training ResNet18:  92%|█████████▏| 92/100 [1:04:40<05:35, 41.92s/it]\u001b[A"
     ]
    },
    {
     "name": "stdout",
     "output_type": "stream",
     "text": [
      "Metrics -> F1-Score: 0.8735, Precision: 0.8742, Recall: 0.8764\n",
      "Sensitivity -> Class 0: 0.8467 Class 1: 0.6961 Class 2: 0.9704 Class 3: 0.9633\n",
      "Confusion Matrix:\n",
      "[[254  41   1   4]\n",
      " [ 19 213  50  24]\n",
      " [  0   9 393   3]\n",
      " [  2   9   0 289]]\n",
      "Epoch 92/100 - ResNet18\n",
      "Train Loss: 0.2199, Train Accuracy: 0.9170\n",
      "Val Loss: 0.2856, Val Accuracy: 0.8764\n",
      "Train F1: 0.9169, Val F1: 0.8735\n",
      "Metrics -> F1-Score: 0.9170, Precision: 0.9170, Recall: 0.9172\n",
      "Sensitivity -> Class 0: 0.8910 Class 1: 0.8372 Class 2: 0.9737 Class 3: 0.9526\n",
      "Confusion Matrix:\n",
      "[[1177  127    3   14]\n",
      " [  86 1121   46   86]\n",
      " [   6   22 1553   14]\n",
      " [   6   60    3 1388]]\n"
     ]
    },
    {
     "name": "stderr",
     "output_type": "stream",
     "text": [
      "\n",
      "Training ResNet18:  93%|█████████▎| 93/100 [1:05:21<04:52, 41.85s/it]\u001b[A"
     ]
    },
    {
     "name": "stdout",
     "output_type": "stream",
     "text": [
      "Metrics -> F1-Score: 0.8968, Precision: 0.8969, Recall: 0.8986\n",
      "Sensitivity -> Class 0: 0.8633 Class 1: 0.7582 Class 2: 0.9852 Class 3: 0.9600\n",
      "Confusion Matrix:\n",
      "[[259  38   1   2]\n",
      " [ 21 232  38  15]\n",
      " [  2   4 399   0]\n",
      " [  2  10   0 288]]\n",
      "Epoch 93/100 - ResNet18\n",
      "Train Loss: 0.2257, Train Accuracy: 0.9172\n",
      "Val Loss: 0.2620, Val Accuracy: 0.8986\n",
      "Train F1: 0.9170, Val F1: 0.8968\n",
      "Best model for ResNet18 saved at /kaggle/working/ResNet18_best.pth with F1-score: 0.8968\n",
      "Metrics -> F1-Score: 0.9192, Precision: 0.9190, Recall: 0.9196\n",
      "Sensitivity -> Class 0: 0.9046 Class 1: 0.8305 Class 2: 0.9749 Class 3: 0.9547\n",
      "Confusion Matrix:\n",
      "[[1195  115    3    8]\n",
      " [  93 1112   51   83]\n",
      " [   6   19 1555   15]\n",
      " [   8   53    5 1391]]\n"
     ]
    },
    {
     "name": "stderr",
     "output_type": "stream",
     "text": [
      "\n",
      "Training ResNet18:  94%|█████████▍| 94/100 [1:06:03<04:10, 41.80s/it]\u001b[A"
     ]
    },
    {
     "name": "stdout",
     "output_type": "stream",
     "text": [
      "Metrics -> F1-Score: 0.8793, Precision: 0.8839, Recall: 0.8795\n",
      "Sensitivity -> Class 0: 0.7700 Class 1: 0.8007 Class 2: 0.9753 Class 3: 0.9400\n",
      "Confusion Matrix:\n",
      "[[231  65   1   3]\n",
      " [ 17 245  35   9]\n",
      " [  0   6 395   4]\n",
      " [  0  17   1 282]]\n",
      "Epoch 94/100 - ResNet18\n",
      "Train Loss: 0.2178, Train Accuracy: 0.9196\n",
      "Val Loss: 0.2779, Val Accuracy: 0.8795\n",
      "Train F1: 0.9192, Val F1: 0.8793\n",
      "Metrics -> F1-Score: 0.9187, Precision: 0.9190, Recall: 0.9188\n",
      "Sensitivity -> Class 0: 0.8812 Class 1: 0.8484 Class 2: 0.9749 Class 3: 0.9561\n",
      "Confusion Matrix:\n",
      "[[1164  148    2    7]\n",
      " [  80 1136   43   80]\n",
      " [   6   21 1555   13]\n",
      " [   6   55    3 1393]]\n"
     ]
    },
    {
     "name": "stderr",
     "output_type": "stream",
     "text": [
      "\n",
      "Training ResNet18:  95%|█████████▌| 95/100 [1:06:45<03:29, 41.96s/it]\u001b[A"
     ]
    },
    {
     "name": "stdout",
     "output_type": "stream",
     "text": [
      "Metrics -> F1-Score: 0.8711, Precision: 0.8708, Recall: 0.8734\n",
      "Sensitivity -> Class 0: 0.8067 Class 1: 0.7222 Class 2: 0.9778 Class 3: 0.9533\n",
      "Confusion Matrix:\n",
      "[[242  51   1   6]\n",
      " [ 28 221  33  24]\n",
      " [  1   6 396   2]\n",
      " [  4  10   0 286]]\n",
      "Epoch 95/100 - ResNet18\n",
      "Train Loss: 0.2216, Train Accuracy: 0.9188\n",
      "Val Loss: 0.2866, Val Accuracy: 0.8734\n",
      "Train F1: 0.9187, Val F1: 0.8711\n",
      "Metrics -> F1-Score: 0.9183, Precision: 0.9182, Recall: 0.9188\n",
      "Sensitivity -> Class 0: 0.8917 Class 1: 0.8305 Class 2: 0.9774 Class 3: 0.9602\n",
      "Confusion Matrix:\n",
      "[[1178  134    2    7]\n",
      " [  94 1112   45   88]\n",
      " [   4   18 1559   14]\n",
      " [   6   47    5 1399]]\n"
     ]
    },
    {
     "name": "stderr",
     "output_type": "stream",
     "text": [
      "\n",
      "Training ResNet18:  96%|█████████▌| 96/100 [1:07:27<02:47, 41.78s/it]\u001b[A"
     ]
    },
    {
     "name": "stdout",
     "output_type": "stream",
     "text": [
      "Metrics -> F1-Score: 0.8807, Precision: 0.8805, Recall: 0.8818\n",
      "Sensitivity -> Class 0: 0.8567 Class 1: 0.7451 Class 2: 0.9654 Class 3: 0.9333\n",
      "Confusion Matrix:\n",
      "[[257  41   0   2]\n",
      " [ 22 228  37  19]\n",
      " [  1  12 391   1]\n",
      " [  5  14   1 280]]\n",
      "Epoch 96/100 - ResNet18\n",
      "Train Loss: 0.2185, Train Accuracy: 0.9188\n",
      "Val Loss: 0.2812, Val Accuracy: 0.8818\n",
      "Train F1: 0.9183, Val F1: 0.8807\n",
      "Metrics -> F1-Score: 0.9228, Precision: 0.9229, Recall: 0.9228\n",
      "Sensitivity -> Class 0: 0.9031 Class 1: 0.8499 Class 2: 0.9737 Class 3: 0.9520\n",
      "Confusion Matrix:\n",
      "[[1193  122    2    4]\n",
      " [  86 1138   42   73]\n",
      " [   3   28 1553   11]\n",
      " [   3   64    3 1387]]\n"
     ]
    },
    {
     "name": "stderr",
     "output_type": "stream",
     "text": [
      "\n",
      "Training ResNet18:  97%|█████████▋| 97/100 [1:08:09<02:05, 41.83s/it]\u001b[A"
     ]
    },
    {
     "name": "stdout",
     "output_type": "stream",
     "text": [
      "Metrics -> F1-Score: 0.8808, Precision: 0.8851, Recall: 0.8818\n",
      "Sensitivity -> Class 0: 0.7767 Class 1: 0.7843 Class 2: 0.9753 Class 3: 0.9600\n",
      "Confusion Matrix:\n",
      "[[233  59   3   5]\n",
      " [ 11 240  37  18]\n",
      " [  0   7 395   3]\n",
      " [  0  12   0 288]]\n",
      "Epoch 97/100 - ResNet18\n",
      "Train Loss: 0.2146, Train Accuracy: 0.9228\n",
      "Val Loss: 0.2881, Val Accuracy: 0.8818\n",
      "Train F1: 0.9228, Val F1: 0.8808\n",
      "Metrics -> F1-Score: 0.9260, Precision: 0.9261, Recall: 0.9261\n",
      "Sensitivity -> Class 0: 0.9001 Class 1: 0.8559 Class 2: 0.9799 Class 3: 0.9554\n",
      "Confusion Matrix:\n",
      "[[1189  118    4   10]\n",
      " [  68 1146   41   84]\n",
      " [   2   20 1563   10]\n",
      " [   4   56    5 1392]]\n"
     ]
    },
    {
     "name": "stderr",
     "output_type": "stream",
     "text": [
      "\n",
      "Training ResNet18:  98%|█████████▊| 98/100 [1:08:50<01:23, 41.70s/it]\u001b[A"
     ]
    },
    {
     "name": "stdout",
     "output_type": "stream",
     "text": [
      "Metrics -> F1-Score: 0.8777, Precision: 0.8779, Recall: 0.8802\n",
      "Sensitivity -> Class 0: 0.8333 Class 1: 0.7222 Class 2: 0.9753 Class 3: 0.9600\n",
      "Confusion Matrix:\n",
      "[[250  42   3   5]\n",
      " [ 24 221  35  26]\n",
      " [  1   7 395   2]\n",
      " [  2   8   2 288]]\n",
      "Epoch 98/100 - ResNet18\n",
      "Train Loss: 0.2113, Train Accuracy: 0.9261\n",
      "Val Loss: 0.2786, Val Accuracy: 0.8802\n",
      "Train F1: 0.9260, Val F1: 0.8777\n",
      "Metrics -> F1-Score: 0.9190, Precision: 0.9189, Recall: 0.9193\n",
      "Sensitivity -> Class 0: 0.9023 Class 1: 0.8335 Class 2: 0.9749 Class 3: 0.9526\n",
      "Confusion Matrix:\n",
      "[[1192  117    1   11]\n",
      " [  88 1116   45   90]\n",
      " [   5   25 1555   10]\n",
      " [  10   58    1 1388]]\n"
     ]
    },
    {
     "name": "stderr",
     "output_type": "stream",
     "text": [
      "\n",
      "Training ResNet18:  99%|█████████▉| 99/100 [1:09:31<00:41, 41.58s/it]\u001b[A"
     ]
    },
    {
     "name": "stdout",
     "output_type": "stream",
     "text": [
      "Metrics -> F1-Score: 0.8929, Precision: 0.8933, Recall: 0.8932\n",
      "Sensitivity -> Class 0: 0.8400 Class 1: 0.7974 Class 2: 0.9556 Class 3: 0.9600\n",
      "Confusion Matrix:\n",
      "[[252  47   0   1]\n",
      " [ 19 244  27  16]\n",
      " [  4  12 387   2]\n",
      " [  4   8   0 288]]\n",
      "Epoch 99/100 - ResNet18\n",
      "Train Loss: 0.2175, Train Accuracy: 0.9193\n",
      "Val Loss: 0.2897, Val Accuracy: 0.8932\n",
      "Train F1: 0.9190, Val F1: 0.8929\n",
      "Metrics -> F1-Score: 0.9191, Precision: 0.9189, Recall: 0.9195\n",
      "Sensitivity -> Class 0: 0.8933 Class 1: 0.8342 Class 2: 0.9749 Class 3: 0.9609\n",
      "Confusion Matrix:\n",
      "[[1180  134    3    4]\n",
      " [  87 1117   56   79]\n",
      " [   6   25 1555    9]\n",
      " [   9   42    6 1400]]\n"
     ]
    },
    {
     "name": "stderr",
     "output_type": "stream",
     "text": [
      "\n",
      "Training ResNet18: 100%|██████████| 100/100 [1:10:13<00:00, 41.59s/it]\u001b[A\n",
      "                                                                      \u001b[A"
     ]
    },
    {
     "name": "stdout",
     "output_type": "stream",
     "text": [
      "Metrics -> F1-Score: 0.9024, Precision: 0.9044, Recall: 0.9024\n",
      "Sensitivity -> Class 0: 0.8267 Class 1: 0.8366 Class 2: 0.9605 Class 3: 0.9667\n",
      "Confusion Matrix:\n",
      "[[248  48   0   4]\n",
      " [ 15 256  17  18]\n",
      " [  2  11 389   3]\n",
      " [  1   9   0 290]]\n",
      "Epoch 100/100 - ResNet18\n",
      "Train Loss: 0.2246, Train Accuracy: 0.9195\n",
      "Val Loss: 0.2725, Val Accuracy: 0.9024\n",
      "Train F1: 0.9191, Val F1: 0.9024\n",
      "Best model for ResNet18 saved at /kaggle/working/ResNet18_best.pth with F1-score: 0.9024\n",
      "Final model for ResNet18 saved at /kaggle/working/ResNet18_final.pth\n",
      "Fine-tuning AlexNet\n"
     ]
    },
    {
     "name": "stderr",
     "output_type": "stream",
     "text": [
      "\n",
      "Training AlexNet:   0%|          | 0/100 [00:00<?, ?it/s]\u001b[A"
     ]
    },
    {
     "name": "stdout",
     "output_type": "stream",
     "text": [
      "Metrics -> F1-Score: 0.7041, Precision: 0.7045, Recall: 0.7066\n",
      "Sensitivity -> Class 0: 0.6533 Class 1: 0.5564 Class 2: 0.8232 Class 3: 0.7653\n",
      "Confusion Matrix:\n",
      "[[ 863  238  109  111]\n",
      " [ 186  745  151  257]\n",
      " [  56  112 1313  114]\n",
      " [  68  145  129 1115]]\n",
      "Metrics -> F1-Score: 0.7973, Precision: 0.8037, Recall: 0.8070\n",
      "Sensitivity -> Class 0: 0.8233 Class 1: 0.5131 Class 2: 0.9062 Class 3: 0.9567\n",
      "Confusion Matrix:\n",
      "[[247  29   7  17]\n",
      " [ 44 157  62  43]\n",
      " [ 16  10 367  12]\n",
      " [  3   8   2 287]]\n",
      "Epoch 1/100 - AlexNet\n",
      "Train Loss: 0.7357, Train Accuracy: 0.7066\n",
      "Val Loss: 0.5314, Val Accuracy: 0.8070\n",
      "Train F1: 0.7041, Val F1: 0.7973\n"
     ]
    },
    {
     "name": "stderr",
     "output_type": "stream",
     "text": [
      "\n",
      "Training AlexNet:   1%|          | 1/100 [00:37<1:01:06, 37.04s/it]\u001b[A"
     ]
    },
    {
     "name": "stdout",
     "output_type": "stream",
     "text": [
      "Best model for AlexNet saved at /kaggle/working/AlexNet_best.pth with F1-score: 0.7973\n",
      "Metrics -> F1-Score: 0.8379, Precision: 0.8374, Recall: 0.8389\n",
      "Sensitivity -> Class 0: 0.8107 Class 1: 0.7028 Class 2: 0.9185 Class 3: 0.9025\n",
      "Confusion Matrix:\n",
      "[[1071  183   26   41]\n",
      " [ 171  941   87  140]\n",
      " [  26   60 1465   44]\n",
      " [  33   88   21 1315]]\n",
      "Metrics -> F1-Score: 0.8191, Precision: 0.8225, Recall: 0.8246\n",
      "Sensitivity -> Class 0: 0.7767 Class 1: 0.6046 Class 2: 0.9358 Class 3: 0.9467\n",
      "Confusion Matrix:\n",
      "[[233  43   5  19]\n",
      " [ 26 185  51  44]\n",
      " [  8   8 379  10]\n",
      " [  4   8   4 284]]\n",
      "Epoch 2/100 - AlexNet\n",
      "Train Loss: 0.4580, Train Accuracy: 0.8389\n",
      "Val Loss: 0.4160, Val Accuracy: 0.8246\n",
      "Train F1: 0.8379, Val F1: 0.8191\n"
     ]
    },
    {
     "name": "stderr",
     "output_type": "stream",
     "text": [
      "\n",
      "Training AlexNet:   2%|▏         | 2/100 [01:14<1:01:00, 37.36s/it]\u001b[A"
     ]
    },
    {
     "name": "stdout",
     "output_type": "stream",
     "text": [
      "Best model for AlexNet saved at /kaggle/working/AlexNet_best.pth with F1-score: 0.8191\n",
      "Metrics -> F1-Score: 0.8505, Precision: 0.8499, Recall: 0.8517\n",
      "Sensitivity -> Class 0: 0.8153 Class 1: 0.7192 Class 2: 0.9436 Class 3: 0.9060\n",
      "Confusion Matrix:\n",
      "[[1077  175   30   39]\n",
      " [ 157  963   75  144]\n",
      " [  15   44 1505   31]\n",
      " [  35   84   18 1320]]\n",
      "Metrics -> F1-Score: 0.8469, Precision: 0.8486, Recall: 0.8513\n",
      "Sensitivity -> Class 0: 0.8333 Class 1: 0.6438 Class 2: 0.9457 Class 3: 0.9533\n",
      "Confusion Matrix:\n",
      "[[250  36   2  12]\n",
      " [ 35 197  39  35]\n",
      " [  7   7 383   8]\n",
      " [  6   6   2 286]]\n",
      "Epoch 3/100 - AlexNet\n",
      "Train Loss: 0.4093, Train Accuracy: 0.8517\n",
      "Val Loss: 0.3766, Val Accuracy: 0.8513\n",
      "Train F1: 0.8505, Val F1: 0.8469\n"
     ]
    },
    {
     "name": "stderr",
     "output_type": "stream",
     "text": [
      "\n",
      "Training AlexNet:   3%|▎         | 3/100 [01:52<1:00:27, 37.40s/it]\u001b[A"
     ]
    },
    {
     "name": "stdout",
     "output_type": "stream",
     "text": [
      "Best model for AlexNet saved at /kaggle/working/AlexNet_best.pth with F1-score: 0.8469\n",
      "Metrics -> F1-Score: 0.8552, Precision: 0.8549, Recall: 0.8559\n",
      "Sensitivity -> Class 0: 0.8115 Class 1: 0.7364 Class 2: 0.9436 Class 3: 0.9101\n",
      "Confusion Matrix:\n",
      "[[1072  194   15   40]\n",
      " [ 156  986   71  126]\n",
      " [  15   46 1505   29]\n",
      " [  29   85   17 1326]]\n"
     ]
    },
    {
     "name": "stderr",
     "output_type": "stream",
     "text": [
      "\n",
      "Training AlexNet:   4%|▍         | 4/100 [02:29<59:38, 37.28s/it]  \u001b[A"
     ]
    },
    {
     "name": "stdout",
     "output_type": "stream",
     "text": [
      "Metrics -> F1-Score: 0.8253, Precision: 0.8314, Recall: 0.8337\n",
      "Sensitivity -> Class 0: 0.8400 Class 1: 0.5490 Class 2: 0.9457 Class 3: 0.9667\n",
      "Confusion Matrix:\n",
      "[[252  33   3  12]\n",
      " [ 56 168  40  42]\n",
      " [  8   5 383   9]\n",
      " [  4   4   2 290]]\n",
      "Epoch 4/100 - AlexNet\n",
      "Train Loss: 0.3787, Train Accuracy: 0.8559\n",
      "Val Loss: 0.3639, Val Accuracy: 0.8337\n",
      "Train F1: 0.8552, Val F1: 0.8253\n",
      "Metrics -> F1-Score: 0.8668, Precision: 0.8668, Recall: 0.8673\n",
      "Sensitivity -> Class 0: 0.8342 Class 1: 0.7580 Class 2: 0.9411 Class 3: 0.9170\n",
      "Confusion Matrix:\n",
      "[[1102  159    9   51]\n",
      " [ 146 1015   54  124]\n",
      " [  16   51 1501   27]\n",
      " [  36   69   16 1336]]\n",
      "Metrics -> F1-Score: 0.8473, Precision: 0.8531, Recall: 0.8520\n",
      "Sensitivity -> Class 0: 0.8433 Class 1: 0.6307 Class 2: 0.9333 Class 3: 0.9767\n",
      "Confusion Matrix:\n",
      "[[253  30   2  15]\n",
      " [ 33 193  31  49]\n",
      " [ 11   7 378   9]\n",
      " [  3   2   2 293]]\n",
      "Epoch 5/100 - AlexNet\n",
      "Train Loss: 0.3680, Train Accuracy: 0.8673\n",
      "Val Loss: 0.3321, Val Accuracy: 0.8520\n",
      "Train F1: 0.8668, Val F1: 0.8473\n"
     ]
    },
    {
     "name": "stderr",
     "output_type": "stream",
     "text": [
      "\n",
      "Training AlexNet:   5%|▌         | 5/100 [03:06<59:06, 37.34s/it]\u001b[A"
     ]
    },
    {
     "name": "stdout",
     "output_type": "stream",
     "text": [
      "Best model for AlexNet saved at /kaggle/working/AlexNet_best.pth with F1-score: 0.8473\n",
      "Metrics -> F1-Score: 0.8697, Precision: 0.8694, Recall: 0.8701\n",
      "Sensitivity -> Class 0: 0.8319 Class 1: 0.7633 Class 2: 0.9517 Class 3: 0.9135\n",
      "Confusion Matrix:\n",
      "[[1099  176   10   36]\n",
      " [ 138 1022   65  114]\n",
      " [  19   32 1518   26]\n",
      " [  29   88    9 1331]]\n",
      "Metrics -> F1-Score: 0.8689, Precision: 0.8708, Recall: 0.8719\n",
      "Sensitivity -> Class 0: 0.8500 Class 1: 0.6961 Class 2: 0.9531 Class 3: 0.9633\n",
      "Confusion Matrix:\n",
      "[[255  34   1  10]\n",
      " [ 22 213  31  40]\n",
      " [  7   7 386   5]\n",
      " [  5   4   2 289]]\n",
      "Epoch 6/100 - AlexNet\n",
      "Train Loss: 0.3543, Train Accuracy: 0.8701\n",
      "Val Loss: 0.3082, Val Accuracy: 0.8719\n",
      "Train F1: 0.8697, Val F1: 0.8689\n"
     ]
    },
    {
     "name": "stderr",
     "output_type": "stream",
     "text": [
      "\n",
      "Training AlexNet:   6%|▌         | 6/100 [03:43<58:18, 37.22s/it]\u001b[A"
     ]
    },
    {
     "name": "stdout",
     "output_type": "stream",
     "text": [
      "Best model for AlexNet saved at /kaggle/working/AlexNet_best.pth with F1-score: 0.8689\n",
      "Metrics -> F1-Score: 0.8772, Precision: 0.8769, Recall: 0.8778\n",
      "Sensitivity -> Class 0: 0.8501 Class 1: 0.7662 Class 2: 0.9555 Class 3: 0.9204\n",
      "Confusion Matrix:\n",
      "[[1123  150   17   31]\n",
      " [ 144 1026   52  117]\n",
      " [  12   40 1524   19]\n",
      " [  28   80    8 1341]]\n",
      "Metrics -> F1-Score: 0.8690, Precision: 0.8705, Recall: 0.8703\n",
      "Sensitivity -> Class 0: 0.7700 Class 1: 0.7712 Class 2: 0.9481 Class 3: 0.9667\n",
      "Confusion Matrix:\n",
      "[[231  56   1  12]\n",
      " [ 22 236  23  25]\n",
      " [  6  10 384   5]\n",
      " [  3   6   1 290]]\n",
      "Epoch 7/100 - AlexNet\n",
      "Train Loss: 0.3388, Train Accuracy: 0.8778\n",
      "Val Loss: 0.3044, Val Accuracy: 0.8703\n",
      "Train F1: 0.8772, Val F1: 0.8690\n"
     ]
    },
    {
     "name": "stderr",
     "output_type": "stream",
     "text": [
      "\n",
      "Training AlexNet:   7%|▋         | 7/100 [04:20<57:45, 37.26s/it]\u001b[A"
     ]
    },
    {
     "name": "stdout",
     "output_type": "stream",
     "text": [
      "Best model for AlexNet saved at /kaggle/working/AlexNet_best.pth with F1-score: 0.8690\n",
      "Metrics -> F1-Score: 0.8730, Precision: 0.8729, Recall: 0.8734\n",
      "Sensitivity -> Class 0: 0.8251 Class 1: 0.7752 Class 2: 0.9536 Class 3: 0.9197\n",
      "Confusion Matrix:\n",
      "[[1090  181   20   30]\n",
      " [ 136 1038   51  114]\n",
      " [  23   34 1521   17]\n",
      " [  25   78   14 1340]]\n",
      "Metrics -> F1-Score: 0.8705, Precision: 0.8719, Recall: 0.8719\n",
      "Sensitivity -> Class 0: 0.8000 Class 1: 0.7582 Class 2: 0.9531 Class 3: 0.9500\n",
      "Confusion Matrix:\n",
      "[[240  49   1  10]\n",
      " [ 14 232  30  30]\n",
      " [  6   8 386   5]\n",
      " [  4   8   3 285]]\n",
      "Epoch 8/100 - AlexNet\n",
      "Train Loss: 0.3420, Train Accuracy: 0.8734\n",
      "Val Loss: 0.2999, Val Accuracy: 0.8719\n",
      "Train F1: 0.8730, Val F1: 0.8705\n"
     ]
    },
    {
     "name": "stderr",
     "output_type": "stream",
     "text": [
      "\n",
      "Training AlexNet:   8%|▊         | 8/100 [04:58<57:08, 37.26s/it]\u001b[A"
     ]
    },
    {
     "name": "stdout",
     "output_type": "stream",
     "text": [
      "Best model for AlexNet saved at /kaggle/working/AlexNet_best.pth with F1-score: 0.8705\n",
      "Metrics -> F1-Score: 0.8782, Precision: 0.8780, Recall: 0.8785\n",
      "Sensitivity -> Class 0: 0.8448 Class 1: 0.7752 Class 2: 0.9549 Class 3: 0.9204\n",
      "Confusion Matrix:\n",
      "[[1116  166   10   29]\n",
      " [ 137 1038   58  106]\n",
      " [  10   35 1523   27]\n",
      " [  22   85    9 1341]]\n"
     ]
    },
    {
     "name": "stderr",
     "output_type": "stream",
     "text": [
      "\n",
      "Training AlexNet:   9%|▉         | 9/100 [05:34<56:11, 37.05s/it]\u001b[A"
     ]
    },
    {
     "name": "stdout",
     "output_type": "stream",
     "text": [
      "Metrics -> F1-Score: 0.8576, Precision: 0.8634, Recall: 0.8627\n",
      "Sensitivity -> Class 0: 0.8600 Class 1: 0.6307 Class 2: 0.9556 Class 3: 0.9767\n",
      "Confusion Matrix:\n",
      "[[258  29   1  12]\n",
      " [ 38 193  29  46]\n",
      " [  8   3 387   7]\n",
      " [  4   2   1 293]]\n",
      "Epoch 9/100 - AlexNet\n",
      "Train Loss: 0.3318, Train Accuracy: 0.8785\n",
      "Val Loss: 0.3015, Val Accuracy: 0.8627\n",
      "Train F1: 0.8782, Val F1: 0.8576\n",
      "Metrics -> F1-Score: 0.8704, Precision: 0.8699, Recall: 0.8713\n",
      "Sensitivity -> Class 0: 0.8478 Class 1: 0.7438 Class 2: 0.9555 Class 3: 0.9176\n",
      "Confusion Matrix:\n",
      "[[1120  162   14   25]\n",
      " [ 170  996   60  113]\n",
      " [  11   30 1524   30]\n",
      " [  20   84   16 1337]]\n",
      "Metrics -> F1-Score: 0.8708, Precision: 0.8718, Recall: 0.8726\n",
      "Sensitivity -> Class 0: 0.8100 Class 1: 0.7386 Class 2: 0.9457 Class 3: 0.9733\n",
      "Confusion Matrix:\n",
      "[[243  51   1   5]\n",
      " [ 21 226  24  35]\n",
      " [  8   6 383   8]\n",
      " [  3   4   1 292]]\n",
      "Epoch 10/100 - AlexNet\n",
      "Train Loss: 0.3284, Train Accuracy: 0.8713\n",
      "Val Loss: 0.2875, Val Accuracy: 0.8726\n",
      "Train F1: 0.8704, Val F1: 0.8708\n"
     ]
    },
    {
     "name": "stderr",
     "output_type": "stream",
     "text": [
      "\n",
      "Training AlexNet:  10%|█         | 10/100 [06:12<55:43, 37.15s/it]\u001b[A"
     ]
    },
    {
     "name": "stdout",
     "output_type": "stream",
     "text": [
      "Best model for AlexNet saved at /kaggle/working/AlexNet_best.pth with F1-score: 0.8708\n",
      "Metrics -> F1-Score: 0.8772, Precision: 0.8769, Recall: 0.8776\n",
      "Sensitivity -> Class 0: 0.8335 Class 1: 0.7789 Class 2: 0.9567 Class 3: 0.9218\n",
      "Confusion Matrix:\n",
      "[[1101  171   12   37]\n",
      " [ 135 1043   52  109]\n",
      " [  19   34 1526   16]\n",
      " [  26   72   16 1343]]\n",
      "Metrics -> F1-Score: 0.8792, Precision: 0.8798, Recall: 0.8802\n",
      "Sensitivity -> Class 0: 0.8167 Class 1: 0.7745 Class 2: 0.9506 Class 3: 0.9567\n",
      "Confusion Matrix:\n",
      "[[245  46   1   8]\n",
      " [ 17 237  24  28]\n",
      " [  7   9 385   4]\n",
      " [  5   6   2 287]]\n",
      "Epoch 11/100 - AlexNet\n",
      "Train Loss: 0.3301, Train Accuracy: 0.8776\n",
      "Val Loss: 0.2828, Val Accuracy: 0.8802\n",
      "Train F1: 0.8772, Val F1: 0.8792\n"
     ]
    },
    {
     "name": "stderr",
     "output_type": "stream",
     "text": [
      "\n",
      "Training AlexNet:  11%|█         | 11/100 [06:49<55:24, 37.35s/it]\u001b[A"
     ]
    },
    {
     "name": "stdout",
     "output_type": "stream",
     "text": [
      "Best model for AlexNet saved at /kaggle/working/AlexNet_best.pth with F1-score: 0.8792\n",
      "Metrics -> F1-Score: 0.8760, Precision: 0.8760, Recall: 0.8764\n",
      "Sensitivity -> Class 0: 0.8395 Class 1: 0.7722 Class 2: 0.9511 Class 3: 0.9238\n",
      "Confusion Matrix:\n",
      "[[1109  170   15   27]\n",
      " [ 137 1034   47  121]\n",
      " [  14   41 1517   23]\n",
      " [  27   74   10 1346]]\n"
     ]
    },
    {
     "name": "stderr",
     "output_type": "stream",
     "text": [
      "\n",
      "Training AlexNet:  12%|█▏        | 12/100 [07:26<54:17, 37.02s/it]\u001b[A"
     ]
    },
    {
     "name": "stdout",
     "output_type": "stream",
     "text": [
      "Metrics -> F1-Score: 0.8596, Precision: 0.8684, Recall: 0.8658\n",
      "Sensitivity -> Class 0: 0.8733 Class 1: 0.6144 Class 2: 0.9630 Class 3: 0.9833\n",
      "Confusion Matrix:\n",
      "[[262  20   1  17]\n",
      " [ 38 188  34  46]\n",
      " [  4   4 390   7]\n",
      " [  1   3   1 295]]\n",
      "Epoch 12/100 - AlexNet\n",
      "Train Loss: 0.3196, Train Accuracy: 0.8764\n",
      "Val Loss: 0.2933, Val Accuracy: 0.8658\n",
      "Train F1: 0.8760, Val F1: 0.8596\n",
      "Metrics -> F1-Score: 0.8793, Precision: 0.8789, Recall: 0.8799\n",
      "Sensitivity -> Class 0: 0.8562 Class 1: 0.7633 Class 2: 0.9605 Class 3: 0.9204\n",
      "Confusion Matrix:\n",
      "[[1131  151   12   27]\n",
      " [ 155 1022   53  109]\n",
      " [  11   30 1532   22]\n",
      " [  22   85    9 1341]]\n"
     ]
    },
    {
     "name": "stderr",
     "output_type": "stream",
     "text": [
      "\n",
      "Training AlexNet:  13%|█▎        | 13/100 [08:02<53:16, 36.74s/it]\u001b[A"
     ]
    },
    {
     "name": "stdout",
     "output_type": "stream",
     "text": [
      "Metrics -> F1-Score: 0.8764, Precision: 0.8788, Recall: 0.8780\n",
      "Sensitivity -> Class 0: 0.8133 Class 1: 0.7516 Class 2: 0.9481 Class 3: 0.9767\n",
      "Confusion Matrix:\n",
      "[[244  41   0  15]\n",
      " [ 20 230  21  35]\n",
      " [  5   9 384   7]\n",
      " [  3   4   0 293]]\n",
      "Epoch 13/100 - AlexNet\n",
      "Train Loss: 0.3163, Train Accuracy: 0.8799\n",
      "Val Loss: 0.2880, Val Accuracy: 0.8780\n",
      "Train F1: 0.8793, Val F1: 0.8764\n",
      "Metrics -> F1-Score: 0.8838, Precision: 0.8837, Recall: 0.8845\n",
      "Sensitivity -> Class 0: 0.8388 Class 1: 0.7797 Class 2: 0.9655 Class 3: 0.9334\n",
      "Confusion Matrix:\n",
      "[[1108  171    6   36]\n",
      " [ 133 1044   47  115]\n",
      " [  10   29 1540   16]\n",
      " [  28   61    8 1360]]\n",
      "Metrics -> F1-Score: 0.8931, Precision: 0.8929, Recall: 0.8940\n",
      "Sensitivity -> Class 0: 0.8433 Class 1: 0.7908 Class 2: 0.9704 Class 3: 0.9467\n",
      "Confusion Matrix:\n",
      "[[253  42   1   4]\n",
      " [ 22 242  21  21]\n",
      " [  5   6 393   1]\n",
      " [  4   9   3 284]]\n",
      "Epoch 14/100 - AlexNet\n",
      "Train Loss: 0.3166, Train Accuracy: 0.8845\n",
      "Val Loss: 0.2724, Val Accuracy: 0.8940\n",
      "Train F1: 0.8838, Val F1: 0.8931\n"
     ]
    },
    {
     "name": "stderr",
     "output_type": "stream",
     "text": [
      "\n",
      "Training AlexNet:  14%|█▍        | 14/100 [08:39<53:02, 37.01s/it]\u001b[A"
     ]
    },
    {
     "name": "stdout",
     "output_type": "stream",
     "text": [
      "Best model for AlexNet saved at /kaggle/working/AlexNet_best.pth with F1-score: 0.8931\n",
      "Metrics -> F1-Score: 0.8853, Precision: 0.8852, Recall: 0.8857\n",
      "Sensitivity -> Class 0: 0.8456 Class 1: 0.7931 Class 2: 0.9592 Class 3: 0.9266\n",
      "Confusion Matrix:\n",
      "[[1117  166    7   31]\n",
      " [ 117 1062   54  106]\n",
      " [  10   30 1530   25]\n",
      " [  29   67   11 1350]]\n"
     ]
    },
    {
     "name": "stderr",
     "output_type": "stream",
     "text": [
      "\n",
      "Training AlexNet:  15%|█▌        | 15/100 [09:15<51:52, 36.61s/it]\u001b[A"
     ]
    },
    {
     "name": "stdout",
     "output_type": "stream",
     "text": [
      "Metrics -> F1-Score: 0.8839, Precision: 0.8861, Recall: 0.8856\n",
      "Sensitivity -> Class 0: 0.8067 Class 1: 0.7614 Class 2: 0.9654 Class 3: 0.9833\n",
      "Confusion Matrix:\n",
      "[[242  47   1  10]\n",
      " [ 16 233  24  33]\n",
      " [  3   9 391   2]\n",
      " [  0   5   0 295]]\n",
      "Epoch 15/100 - AlexNet\n",
      "Train Loss: 0.3050, Train Accuracy: 0.8857\n",
      "Val Loss: 0.2611, Val Accuracy: 0.8856\n",
      "Train F1: 0.8853, Val F1: 0.8839\n",
      "Metrics -> F1-Score: 0.8880, Precision: 0.8876, Recall: 0.8887\n",
      "Sensitivity -> Class 0: 0.8584 Class 1: 0.7819 Class 2: 0.9655 Class 3: 0.9300\n",
      "Confusion Matrix:\n",
      "[[1134  150   10   27]\n",
      " [ 136 1047   49  107]\n",
      " [  14   23 1540   18]\n",
      " [  18   70   14 1355]]\n"
     ]
    },
    {
     "name": "stderr",
     "output_type": "stream",
     "text": [
      "\n",
      "Training AlexNet:  16%|█▌        | 16/100 [09:51<51:03, 36.47s/it]\u001b[A"
     ]
    },
    {
     "name": "stdout",
     "output_type": "stream",
     "text": [
      "Metrics -> F1-Score: 0.8862, Precision: 0.8886, Recall: 0.8871\n",
      "Sensitivity -> Class 0: 0.8067 Class 1: 0.7941 Class 2: 0.9556 Class 3: 0.9700\n",
      "Confusion Matrix:\n",
      "[[242  43   1  14]\n",
      " [ 16 243  20  27]\n",
      " [  1  13 387   4]\n",
      " [  2   6   1 291]]\n",
      "Epoch 16/100 - AlexNet\n",
      "Train Loss: 0.2930, Train Accuracy: 0.8887\n",
      "Val Loss: 0.2551, Val Accuracy: 0.8871\n",
      "Train F1: 0.8880, Val F1: 0.8862\n",
      "Metrics -> F1-Score: 0.8882, Precision: 0.8881, Recall: 0.8887\n",
      "Sensitivity -> Class 0: 0.8577 Class 1: 0.7842 Class 2: 0.9605 Class 3: 0.9341\n",
      "Confusion Matrix:\n",
      "[[1133  151    8   29]\n",
      " [ 136 1050   44  109]\n",
      " [   7   40 1532   16]\n",
      " [  16   69   11 1361]]\n"
     ]
    },
    {
     "name": "stderr",
     "output_type": "stream",
     "text": [
      "\n",
      "Training AlexNet:  17%|█▋        | 17/100 [10:27<50:07, 36.24s/it]\u001b[A"
     ]
    },
    {
     "name": "stdout",
     "output_type": "stream",
     "text": [
      "Metrics -> F1-Score: 0.8883, Precision: 0.8887, Recall: 0.8894\n",
      "Sensitivity -> Class 0: 0.8233 Class 1: 0.7810 Class 2: 0.9630 Class 3: 0.9667\n",
      "Confusion Matrix:\n",
      "[[247  45   1   7]\n",
      " [ 19 239  23  25]\n",
      " [  4   9 390   2]\n",
      " [  4   6   0 290]]\n",
      "Epoch 17/100 - AlexNet\n",
      "Train Loss: 0.3021, Train Accuracy: 0.8887\n",
      "Val Loss: 0.2603, Val Accuracy: 0.8894\n",
      "Train F1: 0.8882, Val F1: 0.8883\n",
      "Metrics -> F1-Score: 0.8892, Precision: 0.8889, Recall: 0.8897\n",
      "Sensitivity -> Class 0: 0.8577 Class 1: 0.7901 Class 2: 0.9699 Class 3: 0.9224\n",
      "Confusion Matrix:\n",
      "[[1133  157   11   20]\n",
      " [ 132 1058   53   96]\n",
      " [   1   24 1547   23]\n",
      " [  20   77   16 1344]]\n"
     ]
    },
    {
     "name": "stderr",
     "output_type": "stream",
     "text": [
      "\n",
      "Training AlexNet:  18%|█▊        | 18/100 [11:03<49:18, 36.08s/it]\u001b[A"
     ]
    },
    {
     "name": "stdout",
     "output_type": "stream",
     "text": [
      "Metrics -> F1-Score: 0.8760, Precision: 0.8798, Recall: 0.8802\n",
      "Sensitivity -> Class 0: 0.8900 Class 1: 0.6634 Class 2: 0.9630 Class 3: 0.9800\n",
      "Confusion Matrix:\n",
      "[[267  26   1   6]\n",
      " [ 43 203  26  34]\n",
      " [  8   4 390   3]\n",
      " [  3   2   1 294]]\n",
      "Epoch 18/100 - AlexNet\n",
      "Train Loss: 0.2932, Train Accuracy: 0.8897\n",
      "Val Loss: 0.2893, Val Accuracy: 0.8802\n",
      "Train F1: 0.8892, Val F1: 0.8760\n",
      "Metrics -> F1-Score: 0.8865, Precision: 0.8863, Recall: 0.8869\n",
      "Sensitivity -> Class 0: 0.8577 Class 1: 0.7804 Class 2: 0.9605 Class 3: 0.9307\n",
      "Confusion Matrix:\n",
      "[[1133  162    6   20]\n",
      " [ 144 1045   45  105]\n",
      " [  15   30 1532   18]\n",
      " [  17   73   11 1356]]\n"
     ]
    },
    {
     "name": "stderr",
     "output_type": "stream",
     "text": [
      "\n",
      "Training AlexNet:  19%|█▉        | 19/100 [11:39<48:54, 36.23s/it]\u001b[A"
     ]
    },
    {
     "name": "stdout",
     "output_type": "stream",
     "text": [
      "Metrics -> F1-Score: 0.8756, Precision: 0.8799, Recall: 0.8780\n",
      "Sensitivity -> Class 0: 0.8467 Class 1: 0.7092 Class 2: 0.9432 Class 3: 0.9933\n",
      "Confusion Matrix:\n",
      "[[254  33   0  13]\n",
      " [ 30 217  16  43]\n",
      " [  6   7 382  10]\n",
      " [  1   1   0 298]]\n",
      "Epoch 19/100 - AlexNet\n",
      "Train Loss: 0.2986, Train Accuracy: 0.8869\n",
      "Val Loss: 0.2678, Val Accuracy: 0.8780\n",
      "Train F1: 0.8865, Val F1: 0.8756\n",
      "Metrics -> F1-Score: 0.8905, Precision: 0.8905, Recall: 0.8908\n",
      "Sensitivity -> Class 0: 0.8547 Class 1: 0.7991 Class 2: 0.9643 Class 3: 0.9272\n",
      "Confusion Matrix:\n",
      "[[1129  164   10   18]\n",
      " [ 116 1070   48  105]\n",
      " [  10   31 1538   16]\n",
      " [  22   75    9 1351]]\n"
     ]
    },
    {
     "name": "stderr",
     "output_type": "stream",
     "text": [
      "\n",
      "Training AlexNet:  20%|██        | 20/100 [12:15<48:17, 36.22s/it]\u001b[A"
     ]
    },
    {
     "name": "stdout",
     "output_type": "stream",
     "text": [
      "Metrics -> F1-Score: 0.8872, Precision: 0.8931, Recall: 0.8886\n",
      "Sensitivity -> Class 0: 0.7500 Class 1: 0.8235 Class 2: 0.9679 Class 3: 0.9867\n",
      "Confusion Matrix:\n",
      "[[225  58   1  16]\n",
      " [ 10 252  16  28]\n",
      " [  2   8 392   3]\n",
      " [  1   3   0 296]]\n",
      "Epoch 20/100 - AlexNet\n",
      "Train Loss: 0.3003, Train Accuracy: 0.8908\n",
      "Val Loss: 0.2649, Val Accuracy: 0.8886\n",
      "Train F1: 0.8905, Val F1: 0.8872\n",
      "Metrics -> F1-Score: 0.8807, Precision: 0.8804, Recall: 0.8817\n",
      "Sensitivity -> Class 0: 0.8509 Class 1: 0.7610 Class 2: 0.9618 Class 3: 0.9327\n",
      "Confusion Matrix:\n",
      "[[1124  155    7   35]\n",
      " [ 147 1019   58  115]\n",
      " [   5   34 1534   22]\n",
      " [  27   62    9 1359]]\n"
     ]
    },
    {
     "name": "stderr",
     "output_type": "stream",
     "text": [
      "\n",
      "Training AlexNet:  21%|██        | 21/100 [12:51<47:31, 36.09s/it]\u001b[A"
     ]
    },
    {
     "name": "stdout",
     "output_type": "stream",
     "text": [
      "Metrics -> F1-Score: 0.8814, Precision: 0.8887, Recall: 0.8818\n",
      "Sensitivity -> Class 0: 0.7333 Class 1: 0.8529 Class 2: 0.9481 Class 3: 0.9700\n",
      "Confusion Matrix:\n",
      "[[220  66   1  13]\n",
      " [ 12 261   9  24]\n",
      " [  4  15 384   2]\n",
      " [  2   6   1 291]]\n",
      "Epoch 21/100 - AlexNet\n",
      "Train Loss: 0.3049, Train Accuracy: 0.8817\n",
      "Val Loss: 0.2817, Val Accuracy: 0.8818\n",
      "Train F1: 0.8807, Val F1: 0.8814\n",
      "Metrics -> F1-Score: 0.8823, Precision: 0.8822, Recall: 0.8827\n",
      "Sensitivity -> Class 0: 0.8441 Class 1: 0.7760 Class 2: 0.9605 Class 3: 0.9307\n",
      "Confusion Matrix:\n",
      "[[1115  167   10   29]\n",
      " [ 138 1039   45  117]\n",
      " [   9   36 1532   18]\n",
      " [  19   75    7 1356]]\n"
     ]
    },
    {
     "name": "stderr",
     "output_type": "stream",
     "text": [
      "\n",
      "Training AlexNet:  22%|██▏       | 22/100 [13:27<46:44, 35.96s/it]\u001b[A"
     ]
    },
    {
     "name": "stdout",
     "output_type": "stream",
     "text": [
      "Metrics -> F1-Score: 0.8882, Precision: 0.8892, Recall: 0.8894\n",
      "Sensitivity -> Class 0: 0.8100 Class 1: 0.7908 Class 2: 0.9630 Class 3: 0.9700\n",
      "Confusion Matrix:\n",
      "[[243  50   1   6]\n",
      " [ 17 242  24  23]\n",
      " [  5   5 390   5]\n",
      " [  2   6   1 291]]\n",
      "Epoch 22/100 - AlexNet\n",
      "Train Loss: 0.3012, Train Accuracy: 0.8827\n",
      "Val Loss: 0.2493, Val Accuracy: 0.8894\n",
      "Train F1: 0.8823, Val F1: 0.8882\n",
      "Metrics -> F1-Score: 0.8916, Precision: 0.8913, Recall: 0.8922\n",
      "Sensitivity -> Class 0: 0.8600 Class 1: 0.7886 Class 2: 0.9712 Class 3: 0.9300\n",
      "Confusion Matrix:\n",
      "[[1136  150    7   28]\n",
      " [ 134 1056   43  106]\n",
      " [  10   18 1549   18]\n",
      " [  15   74   13 1355]]\n"
     ]
    },
    {
     "name": "stderr",
     "output_type": "stream",
     "text": [
      "\n",
      "Training AlexNet:  23%|██▎       | 23/100 [14:02<45:58, 35.83s/it]\u001b[A"
     ]
    },
    {
     "name": "stdout",
     "output_type": "stream",
     "text": [
      "Metrics -> F1-Score: 0.8852, Precision: 0.8865, Recall: 0.8871\n",
      "Sensitivity -> Class 0: 0.8267 Class 1: 0.7582 Class 2: 0.9654 Class 3: 0.9733\n",
      "Confusion Matrix:\n",
      "[[248  41   1  10]\n",
      " [ 18 232  26  30]\n",
      " [  5   4 391   5]\n",
      " [  2   5   1 292]]\n",
      "Epoch 23/100 - AlexNet\n",
      "Train Loss: 0.2945, Train Accuracy: 0.8922\n",
      "Val Loss: 0.2512, Val Accuracy: 0.8871\n",
      "Train F1: 0.8916, Val F1: 0.8852\n",
      "Metrics -> F1-Score: 0.8851, Precision: 0.8849, Recall: 0.8855\n",
      "Sensitivity -> Class 0: 0.8524 Class 1: 0.7857 Class 2: 0.9618 Class 3: 0.9238\n",
      "Confusion Matrix:\n",
      "[[1126  152   12   31]\n",
      " [ 133 1052   45  109]\n",
      " [  11   31 1534   19]\n",
      " [  20   78   13 1346]]\n"
     ]
    },
    {
     "name": "stderr",
     "output_type": "stream",
     "text": [
      "\n",
      "Training AlexNet:  24%|██▍       | 24/100 [14:38<45:17, 35.75s/it]\u001b[A"
     ]
    },
    {
     "name": "stdout",
     "output_type": "stream",
     "text": [
      "Metrics -> F1-Score: 0.8704, Precision: 0.8753, Recall: 0.8719\n",
      "Sensitivity -> Class 0: 0.7633 Class 1: 0.7712 Class 2: 0.9531 Class 3: 0.9733\n",
      "Confusion Matrix:\n",
      "[[229  53   1  17]\n",
      " [ 14 236  18  38]\n",
      " [  4   5 386  10]\n",
      " [  3   4   1 292]]\n",
      "Epoch 24/100 - AlexNet\n",
      "Train Loss: 0.2992, Train Accuracy: 0.8855\n",
      "Val Loss: 0.2688, Val Accuracy: 0.8719\n",
      "Train F1: 0.8851, Val F1: 0.8704\n",
      "Metrics -> F1-Score: 0.8945, Precision: 0.8945, Recall: 0.8948\n",
      "Sensitivity -> Class 0: 0.8531 Class 1: 0.8111 Class 2: 0.9630 Class 3: 0.9348\n",
      "Confusion Matrix:\n",
      "[[1127  157    8   29]\n",
      " [ 124 1086   44   85]\n",
      " [  11   31 1536   17]\n",
      " [  20   62   13 1362]]\n"
     ]
    },
    {
     "name": "stderr",
     "output_type": "stream",
     "text": [
      "\n",
      "Training AlexNet:  25%|██▌       | 25/100 [15:14<44:42, 35.76s/it]\u001b[A"
     ]
    },
    {
     "name": "stdout",
     "output_type": "stream",
     "text": [
      "Metrics -> F1-Score: 0.8839, Precision: 0.8858, Recall: 0.8871\n",
      "Sensitivity -> Class 0: 0.8467 Class 1: 0.7092 Class 2: 0.9802 Class 3: 0.9833\n",
      "Confusion Matrix:\n",
      "[[254  36   1   9]\n",
      " [ 28 217  22  39]\n",
      " [  3   3 397   2]\n",
      " [  2   2   1 295]]\n",
      "Epoch 25/100 - AlexNet\n",
      "Train Loss: 0.2867, Train Accuracy: 0.8948\n",
      "Val Loss: 0.2491, Val Accuracy: 0.8871\n",
      "Train F1: 0.8945, Val F1: 0.8839\n",
      "Metrics -> F1-Score: 0.8886, Precision: 0.8883, Recall: 0.8892\n",
      "Sensitivity -> Class 0: 0.8531 Class 1: 0.7916 Class 2: 0.9687 Class 3: 0.9245\n",
      "Confusion Matrix:\n",
      "[[1127  156    7   31]\n",
      " [ 133 1060   51   95]\n",
      " [   8   25 1545   17]\n",
      " [  26   67   17 1347]]\n"
     ]
    },
    {
     "name": "stderr",
     "output_type": "stream",
     "text": [
      "\n",
      "Training AlexNet:  26%|██▌       | 26/100 [15:49<43:58, 35.65s/it]\u001b[A"
     ]
    },
    {
     "name": "stdout",
     "output_type": "stream",
     "text": [
      "Metrics -> F1-Score: 0.8749, Precision: 0.8776, Recall: 0.8772\n",
      "Sensitivity -> Class 0: 0.7833 Class 1: 0.7451 Class 2: 0.9654 Class 3: 0.9867\n",
      "Confusion Matrix:\n",
      "[[235  52   1  12]\n",
      " [ 19 228  22  37]\n",
      " [  5   3 391   6]\n",
      " [  1   3   0 296]]\n",
      "Epoch 26/100 - AlexNet\n",
      "Train Loss: 0.2915, Train Accuracy: 0.8892\n",
      "Val Loss: 0.2656, Val Accuracy: 0.8772\n",
      "Train F1: 0.8886, Val F1: 0.8749\n",
      "Metrics -> F1-Score: 0.8945, Precision: 0.8944, Recall: 0.8950\n",
      "Sensitivity -> Class 0: 0.8584 Class 1: 0.7969 Class 2: 0.9680 Class 3: 0.9382\n",
      "Confusion Matrix:\n",
      "[[1134  155    6   26]\n",
      " [ 130 1067   37  105]\n",
      " [   8   22 1544   21]\n",
      " [  22   62    6 1367]]\n",
      "Metrics -> F1-Score: 0.8981, Precision: 0.8989, Recall: 0.8993\n",
      "Sensitivity -> Class 0: 0.8500 Class 1: 0.7908 Class 2: 0.9654 Class 3: 0.9700\n",
      "Confusion Matrix:\n",
      "[[255  36   1   8]\n",
      " [ 16 242  17  31]\n",
      " [  9   2 391   3]\n",
      " [  4   4   1 291]]\n",
      "Epoch 27/100 - AlexNet\n",
      "Train Loss: 0.2867, Train Accuracy: 0.8950\n",
      "Val Loss: 0.2415, Val Accuracy: 0.8993\n",
      "Train F1: 0.8945, Val F1: 0.8981\n"
     ]
    },
    {
     "name": "stderr",
     "output_type": "stream",
     "text": [
      "\n",
      "Training AlexNet:  27%|██▋       | 27/100 [16:26<43:39, 35.88s/it]\u001b[A"
     ]
    },
    {
     "name": "stdout",
     "output_type": "stream",
     "text": [
      "Best model for AlexNet saved at /kaggle/working/AlexNet_best.pth with F1-score: 0.8981\n",
      "Metrics -> F1-Score: 0.8908, Precision: 0.8909, Recall: 0.8909\n",
      "Sensitivity -> Class 0: 0.8410 Class 1: 0.8058 Class 2: 0.9661 Class 3: 0.9321\n",
      "Confusion Matrix:\n",
      "[[1111  183    9   18]\n",
      " [ 127 1079   36   97]\n",
      " [  11   26 1541   17]\n",
      " [  23   65   11 1358]]\n",
      "Metrics -> F1-Score: 0.8997, Precision: 0.9008, Recall: 0.9008\n",
      "Sensitivity -> Class 0: 0.8433 Class 1: 0.7941 Class 2: 0.9654 Class 3: 0.9800\n",
      "Confusion Matrix:\n",
      "[[253  36   0  11]\n",
      " [ 20 243  13  30]\n",
      " [  8   4 391   2]\n",
      " [  1   4   1 294]]\n",
      "Epoch 28/100 - AlexNet\n",
      "Train Loss: 0.2765, Train Accuracy: 0.8909\n",
      "Val Loss: 0.2422, Val Accuracy: 0.9008\n",
      "Train F1: 0.8908, Val F1: 0.8997\n"
     ]
    },
    {
     "name": "stderr",
     "output_type": "stream",
     "text": [
      "\n",
      "Training AlexNet:  28%|██▊       | 28/100 [17:02<43:09, 35.96s/it]\u001b[A"
     ]
    },
    {
     "name": "stdout",
     "output_type": "stream",
     "text": [
      "Best model for AlexNet saved at /kaggle/working/AlexNet_best.pth with F1-score: 0.8997\n",
      "Metrics -> F1-Score: 0.8962, Precision: 0.8960, Recall: 0.8967\n",
      "Sensitivity -> Class 0: 0.8698 Class 1: 0.7976 Class 2: 0.9674 Class 3: 0.9348\n",
      "Confusion Matrix:\n",
      "[[1149  129    7   36]\n",
      " [ 121 1068   43  107]\n",
      " [   4   27 1543   21]\n",
      " [  19   66   10 1362]]\n"
     ]
    },
    {
     "name": "stderr",
     "output_type": "stream",
     "text": [
      "\n",
      "Training AlexNet:  29%|██▉       | 29/100 [17:37<42:22, 35.81s/it]\u001b[A"
     ]
    },
    {
     "name": "stdout",
     "output_type": "stream",
     "text": [
      "Metrics -> F1-Score: 0.8907, Precision: 0.8935, Recall: 0.8917\n",
      "Sensitivity -> Class 0: 0.7733 Class 1: 0.8170 Class 2: 0.9704 Class 3: 0.9800\n",
      "Confusion Matrix:\n",
      "[[232  60   1   7]\n",
      " [ 16 250  16  24]\n",
      " [  3   7 393   2]\n",
      " [  2   4   0 294]]\n",
      "Epoch 29/100 - AlexNet\n",
      "Train Loss: 0.2740, Train Accuracy: 0.8967\n",
      "Val Loss: 0.2467, Val Accuracy: 0.8917\n",
      "Train F1: 0.8962, Val F1: 0.8907\n",
      "Metrics -> F1-Score: 0.8921, Precision: 0.8918, Recall: 0.8927\n",
      "Sensitivity -> Class 0: 0.8592 Class 1: 0.7916 Class 2: 0.9687 Class 3: 0.9327\n",
      "Confusion Matrix:\n",
      "[[1135  139   13   34]\n",
      " [ 130 1060   45  104]\n",
      " [   9   24 1545   17]\n",
      " [  13   73   12 1359]]\n"
     ]
    },
    {
     "name": "stderr",
     "output_type": "stream",
     "text": [
      "\n",
      "Training AlexNet:  30%|███       | 30/100 [18:13<41:48, 35.83s/it]\u001b[A"
     ]
    },
    {
     "name": "stdout",
     "output_type": "stream",
     "text": [
      "Metrics -> F1-Score: 0.8954, Precision: 0.8953, Recall: 0.8970\n",
      "Sensitivity -> Class 0: 0.8433 Class 1: 0.7745 Class 2: 0.9802 Class 3: 0.9633\n",
      "Confusion Matrix:\n",
      "[[253  42   1   4]\n",
      " [ 21 237  23  25]\n",
      " [  5   2 397   1]\n",
      " [  3   6   2 289]]\n",
      "Epoch 30/100 - AlexNet\n",
      "Train Loss: 0.2923, Train Accuracy: 0.8927\n",
      "Val Loss: 0.2461, Val Accuracy: 0.8970\n",
      "Train F1: 0.8921, Val F1: 0.8954\n",
      "Metrics -> F1-Score: 0.8972, Precision: 0.8970, Recall: 0.8978\n",
      "Sensitivity -> Class 0: 0.8554 Class 1: 0.8021 Class 2: 0.9705 Class 3: 0.9444\n",
      "Confusion Matrix:\n",
      "[[1130  152   12   27]\n",
      " [ 122 1074   43  100]\n",
      " [   9   25 1548   13]\n",
      " [  10   61   10 1376]]\n",
      "Metrics -> F1-Score: 0.9037, Precision: 0.9039, Recall: 0.9047\n",
      "Sensitivity -> Class 0: 0.8400 Class 1: 0.8105 Class 2: 0.9753 Class 3: 0.9700\n",
      "Confusion Matrix:\n",
      "[[252  42   1   5]\n",
      " [ 18 248  15  25]\n",
      " [  4   5 395   1]\n",
      " [  5   3   1 291]]\n",
      "Epoch 31/100 - AlexNet\n",
      "Train Loss: 0.2853, Train Accuracy: 0.8978\n",
      "Val Loss: 0.2221, Val Accuracy: 0.9047\n",
      "Train F1: 0.8972, Val F1: 0.9037\n"
     ]
    },
    {
     "name": "stderr",
     "output_type": "stream",
     "text": [
      "\n",
      "Training AlexNet:  31%|███       | 31/100 [18:50<41:24, 36.01s/it]\u001b[A"
     ]
    },
    {
     "name": "stdout",
     "output_type": "stream",
     "text": [
      "Best model for AlexNet saved at /kaggle/working/AlexNet_best.pth with F1-score: 0.9037\n",
      "Metrics -> F1-Score: 0.8888, Precision: 0.8887, Recall: 0.8890\n",
      "Sensitivity -> Class 0: 0.8516 Class 1: 0.7991 Class 2: 0.9624 Class 3: 0.9252\n",
      "Confusion Matrix:\n",
      "[[1125  157   14   25]\n",
      " [ 138 1070   39   92]\n",
      " [   9   29 1535   22]\n",
      " [  25   76    8 1348]]\n"
     ]
    },
    {
     "name": "stderr",
     "output_type": "stream",
     "text": [
      "\n",
      "Training AlexNet:  32%|███▏      | 32/100 [19:26<40:48, 36.01s/it]\u001b[A"
     ]
    },
    {
     "name": "stdout",
     "output_type": "stream",
     "text": [
      "Metrics -> F1-Score: 0.8824, Precision: 0.8863, Recall: 0.8848\n",
      "Sensitivity -> Class 0: 0.7900 Class 1: 0.7516 Class 2: 0.9753 Class 3: 0.9933\n",
      "Confusion Matrix:\n",
      "[[237  46   1  16]\n",
      " [ 16 230  24  36]\n",
      " [  1   6 395   3]\n",
      " [  0   2   0 298]]\n",
      "Epoch 32/100 - AlexNet\n",
      "Train Loss: 0.2867, Train Accuracy: 0.8890\n",
      "Val Loss: 0.2599, Val Accuracy: 0.8848\n",
      "Train F1: 0.8888, Val F1: 0.8824\n",
      "Metrics -> F1-Score: 0.8882, Precision: 0.8878, Recall: 0.8890\n",
      "Sensitivity -> Class 0: 0.8622 Class 1: 0.7745 Class 2: 0.9661 Class 3: 0.9341\n",
      "Confusion Matrix:\n",
      "[[1139  145   11   26]\n",
      " [ 136 1037   49  117]\n",
      " [  14   27 1541   13]\n",
      " [  25   62    9 1361]]\n"
     ]
    },
    {
     "name": "stderr",
     "output_type": "stream",
     "text": [
      "\n",
      "Training AlexNet:  33%|███▎      | 33/100 [20:01<40:09, 35.96s/it]\u001b[A"
     ]
    },
    {
     "name": "stdout",
     "output_type": "stream",
     "text": [
      "Metrics -> F1-Score: 0.9026, Precision: 0.9052, Recall: 0.9031\n",
      "Sensitivity -> Class 0: 0.8133 Class 1: 0.8301 Class 2: 0.9704 Class 3: 0.9767\n",
      "Confusion Matrix:\n",
      "[[244  48   1   7]\n",
      " [ 13 254  14  25]\n",
      " [  2   8 393   2]\n",
      " [  0   7   0 293]]\n",
      "Epoch 33/100 - AlexNet\n",
      "Train Loss: 0.2891, Train Accuracy: 0.8890\n",
      "Val Loss: 0.2342, Val Accuracy: 0.9031\n",
      "Train F1: 0.8882, Val F1: 0.9026\n",
      "Metrics -> F1-Score: 0.8896, Precision: 0.8894, Recall: 0.8901\n",
      "Sensitivity -> Class 0: 0.8380 Class 1: 0.7946 Class 2: 0.9718 Class 3: 0.9355\n",
      "Confusion Matrix:\n",
      "[[1107  179    9   26]\n",
      " [ 131 1064   43  101]\n",
      " [  13   17 1550   15]\n",
      " [  19   67    8 1363]]\n"
     ]
    },
    {
     "name": "stderr",
     "output_type": "stream",
     "text": [
      "\n",
      "Training AlexNet:  34%|███▍      | 34/100 [20:38<39:38, 36.03s/it]\u001b[A"
     ]
    },
    {
     "name": "stdout",
     "output_type": "stream",
     "text": [
      "Metrics -> F1-Score: 0.8907, Precision: 0.8936, Recall: 0.8917\n",
      "Sensitivity -> Class 0: 0.8100 Class 1: 0.7974 Class 2: 0.9605 Class 3: 0.9767\n",
      "Confusion Matrix:\n",
      "[[243  45   1  11]\n",
      " [ 12 244  17  33]\n",
      " [  3   7 389   6]\n",
      " [  3   4   0 293]]\n",
      "Epoch 34/100 - AlexNet\n",
      "Train Loss: 0.2895, Train Accuracy: 0.8901\n",
      "Val Loss: 0.2330, Val Accuracy: 0.8917\n",
      "Train F1: 0.8896, Val F1: 0.8907\n",
      "Metrics -> F1-Score: 0.8919, Precision: 0.8916, Recall: 0.8925\n",
      "Sensitivity -> Class 0: 0.8569 Class 1: 0.7864 Class 2: 0.9712 Class 3: 0.9362\n",
      "Confusion Matrix:\n",
      "[[1132  161    7   21]\n",
      " [ 139 1053   44  103]\n",
      " [   5   26 1549   15]\n",
      " [  21   61   11 1364]]\n"
     ]
    },
    {
     "name": "stderr",
     "output_type": "stream",
     "text": [
      "\n",
      "Training AlexNet:  35%|███▌      | 35/100 [21:14<39:13, 36.20s/it]\u001b[A"
     ]
    },
    {
     "name": "stdout",
     "output_type": "stream",
     "text": [
      "Metrics -> F1-Score: 0.8812, Precision: 0.8845, Recall: 0.8825\n",
      "Sensitivity -> Class 0: 0.7700 Class 1: 0.7843 Class 2: 0.9654 Class 3: 0.9833\n",
      "Confusion Matrix:\n",
      "[[231  58   0  11]\n",
      " [ 18 240  15  33]\n",
      " [  4   6 391   4]\n",
      " [  0   5   0 295]]\n",
      "Epoch 35/100 - AlexNet\n",
      "Train Loss: 0.2866, Train Accuracy: 0.8925\n",
      "Val Loss: 0.2555, Val Accuracy: 0.8825\n",
      "Train F1: 0.8919, Val F1: 0.8812\n",
      "Metrics -> F1-Score: 0.8945, Precision: 0.8945, Recall: 0.8948\n",
      "Sensitivity -> Class 0: 0.8547 Class 1: 0.8028 Class 2: 0.9668 Class 3: 0.9369\n",
      "Confusion Matrix:\n",
      "[[1129  155    8   29]\n",
      " [ 124 1075   32  108]\n",
      " [   9   24 1542   20]\n",
      " [  19   66    7 1365]]\n"
     ]
    },
    {
     "name": "stderr",
     "output_type": "stream",
     "text": [
      "\n",
      "Training AlexNet:  36%|███▌      | 36/100 [21:50<38:31, 36.12s/it]\u001b[A"
     ]
    },
    {
     "name": "stdout",
     "output_type": "stream",
     "text": [
      "Metrics -> F1-Score: 0.9007, Precision: 0.9007, Recall: 0.9016\n",
      "Sensitivity -> Class 0: 0.8333 Class 1: 0.8105 Class 2: 0.9753 Class 3: 0.9633\n",
      "Confusion Matrix:\n",
      "[[250  43   1   6]\n",
      " [ 23 248  17  18]\n",
      " [  3   4 395   3]\n",
      " [  2   6   3 289]]\n",
      "Epoch 36/100 - AlexNet\n",
      "Train Loss: 0.2856, Train Accuracy: 0.8948\n",
      "Val Loss: 0.2288, Val Accuracy: 0.9016\n",
      "Train F1: 0.8945, Val F1: 0.9007\n",
      "Metrics -> F1-Score: 0.8980, Precision: 0.8978, Recall: 0.8985\n",
      "Sensitivity -> Class 0: 0.8645 Class 1: 0.8058 Class 2: 0.9730 Class 3: 0.9327\n",
      "Confusion Matrix:\n",
      "[[1142  144   10   25]\n",
      " [ 128 1079   39   93]\n",
      " [  10   19 1552   14]\n",
      " [  15   72   11 1359]]\n"
     ]
    },
    {
     "name": "stderr",
     "output_type": "stream",
     "text": [
      "\n",
      "Training AlexNet:  37%|███▋      | 37/100 [22:26<37:49, 36.03s/it]\u001b[A"
     ]
    },
    {
     "name": "stdout",
     "output_type": "stream",
     "text": [
      "Metrics -> F1-Score: 0.8947, Precision: 0.8974, Recall: 0.8963\n",
      "Sensitivity -> Class 0: 0.8000 Class 1: 0.8007 Class 2: 0.9778 Class 3: 0.9800\n",
      "Confusion Matrix:\n",
      "[[240  46   1  13]\n",
      " [ 12 245  21  28]\n",
      " [  3   3 396   3]\n",
      " [  1   4   1 294]]\n",
      "Epoch 37/100 - AlexNet\n",
      "Train Loss: 0.2720, Train Accuracy: 0.8985\n",
      "Val Loss: 0.2255, Val Accuracy: 0.8963\n",
      "Train F1: 0.8980, Val F1: 0.8947\n",
      "Metrics -> F1-Score: 0.8898, Precision: 0.8895, Recall: 0.8902\n",
      "Sensitivity -> Class 0: 0.8615 Class 1: 0.7879 Class 2: 0.9687 Class 3: 0.9245\n",
      "Confusion Matrix:\n",
      "[[1138  152   10   21]\n",
      " [ 148 1055   35  101]\n",
      " [   7   21 1545   22]\n",
      " [  19   76   15 1347]]\n"
     ]
    },
    {
     "name": "stderr",
     "output_type": "stream",
     "text": [
      "\n",
      "Training AlexNet:  38%|███▊      | 38/100 [23:02<37:15, 36.06s/it]\u001b[A"
     ]
    },
    {
     "name": "stdout",
     "output_type": "stream",
     "text": [
      "Metrics -> F1-Score: 0.9029, Precision: 0.9046, Recall: 0.9039\n",
      "Sensitivity -> Class 0: 0.8233 Class 1: 0.8170 Class 2: 0.9778 Class 3: 0.9733\n",
      "Confusion Matrix:\n",
      "[[247  46   0   7]\n",
      " [ 10 250  22  24]\n",
      " [  4   3 396   2]\n",
      " [  1   6   1 292]]\n",
      "Epoch 38/100 - AlexNet\n",
      "Train Loss: 0.2841, Train Accuracy: 0.8902\n",
      "Val Loss: 0.2318, Val Accuracy: 0.9039\n",
      "Train F1: 0.8898, Val F1: 0.9029\n",
      "Metrics -> F1-Score: 0.8968, Precision: 0.8966, Recall: 0.8972\n",
      "Sensitivity -> Class 0: 0.8531 Class 1: 0.8028 Class 2: 0.9737 Class 3: 0.9403\n",
      "Confusion Matrix:\n",
      "[[1127  163    7   24]\n",
      " [ 120 1075   44  100]\n",
      " [   5   26 1553   11]\n",
      " [  15   62   10 1370]]\n",
      "Metrics -> F1-Score: 0.9063, Precision: 0.9066, Recall: 0.9077\n",
      "Sensitivity -> Class 0: 0.8567 Class 1: 0.7941 Class 2: 0.9802 Class 3: 0.9767\n",
      "Confusion Matrix:\n",
      "[[257  36   1   6]\n",
      " [ 17 243  22  24]\n",
      " [  4   4 397   0]\n",
      " [  1   4   2 293]]\n",
      "Epoch 39/100 - AlexNet\n",
      "Train Loss: 0.2824, Train Accuracy: 0.8972\n",
      "Val Loss: 0.2279, Val Accuracy: 0.9077\n",
      "Train F1: 0.8968, Val F1: 0.9063\n"
     ]
    },
    {
     "name": "stderr",
     "output_type": "stream",
     "text": [
      "\n",
      "Training AlexNet:  39%|███▉      | 39/100 [23:39<36:50, 36.25s/it]\u001b[A"
     ]
    },
    {
     "name": "stdout",
     "output_type": "stream",
     "text": [
      "Best model for AlexNet saved at /kaggle/working/AlexNet_best.pth with F1-score: 0.9063\n",
      "Metrics -> F1-Score: 0.8893, Precision: 0.8892, Recall: 0.8895\n",
      "Sensitivity -> Class 0: 0.8622 Class 1: 0.7954 Class 2: 0.9592 Class 3: 0.9245\n",
      "Confusion Matrix:\n",
      "[[1139  144    9   29]\n",
      " [ 135 1065   44   95]\n",
      " [  10   31 1530   24]\n",
      " [  19   82    9 1347]]\n"
     ]
    },
    {
     "name": "stderr",
     "output_type": "stream",
     "text": [
      "\n",
      "Training AlexNet:  40%|████      | 40/100 [24:14<36:04, 36.08s/it]\u001b[A"
     ]
    },
    {
     "name": "stdout",
     "output_type": "stream",
     "text": [
      "Metrics -> F1-Score: 0.9043, Precision: 0.9045, Recall: 0.9054\n",
      "Sensitivity -> Class 0: 0.8367 Class 1: 0.8072 Class 2: 0.9728 Class 3: 0.9833\n",
      "Confusion Matrix:\n",
      "[[251  40   0   9]\n",
      " [ 22 247  18  19]\n",
      " [  3   7 394   1]\n",
      " [  2   3   0 295]]\n",
      "Epoch 40/100 - AlexNet\n",
      "Train Loss: 0.2933, Train Accuracy: 0.8895\n",
      "Val Loss: 0.2177, Val Accuracy: 0.9054\n",
      "Train F1: 0.8893, Val F1: 0.9043\n",
      "Metrics -> F1-Score: 0.8961, Precision: 0.8958, Recall: 0.8965\n",
      "Sensitivity -> Class 0: 0.8554 Class 1: 0.8036 Class 2: 0.9730 Class 3: 0.9355\n",
      "Confusion Matrix:\n",
      "[[1130  159   10   22]\n",
      " [ 125 1076   43   95]\n",
      " [   7   23 1552   13]\n",
      " [  22   62   10 1363]]\n"
     ]
    },
    {
     "name": "stderr",
     "output_type": "stream",
     "text": [
      "\n",
      "Training AlexNet:  41%|████      | 41/100 [24:50<35:20, 35.94s/it]\u001b[A"
     ]
    },
    {
     "name": "stdout",
     "output_type": "stream",
     "text": [
      "Metrics -> F1-Score: 0.8953, Precision: 0.8959, Recall: 0.8963\n",
      "Sensitivity -> Class 0: 0.8233 Class 1: 0.8007 Class 2: 0.9654 Class 3: 0.9733\n",
      "Confusion Matrix:\n",
      "[[247  44   1   8]\n",
      " [ 23 245  13  25]\n",
      " [  5   6 391   3]\n",
      " [  2   5   1 292]]\n",
      "Epoch 41/100 - AlexNet\n",
      "Train Loss: 0.2704, Train Accuracy: 0.8965\n",
      "Val Loss: 0.2263, Val Accuracy: 0.8963\n",
      "Train F1: 0.8961, Val F1: 0.8953\n",
      "Metrics -> F1-Score: 0.8982, Precision: 0.8981, Recall: 0.8986\n",
      "Sensitivity -> Class 0: 0.8592 Class 1: 0.8043 Class 2: 0.9737 Class 3: 0.9389\n",
      "Confusion Matrix:\n",
      "[[1135  155    7   24]\n",
      " [ 124 1077   40   98]\n",
      " [   4   26 1553   12]\n",
      " [  13   66   10 1368]]\n"
     ]
    },
    {
     "name": "stderr",
     "output_type": "stream",
     "text": [
      "\n",
      "Training AlexNet:  42%|████▏     | 42/100 [25:26<34:39, 35.85s/it]\u001b[A"
     ]
    },
    {
     "name": "stdout",
     "output_type": "stream",
     "text": [
      "Metrics -> F1-Score: 0.8965, Precision: 0.8974, Recall: 0.8978\n",
      "Sensitivity -> Class 0: 0.8367 Class 1: 0.7843 Class 2: 0.9630 Class 3: 0.9867\n",
      "Confusion Matrix:\n",
      "[[251  38   1  10]\n",
      " [ 23 240  14  29]\n",
      " [  6   7 390   2]\n",
      " [  1   3   0 296]]\n",
      "Epoch 42/100 - AlexNet\n",
      "Train Loss: 0.2721, Train Accuracy: 0.8986\n",
      "Val Loss: 0.2269, Val Accuracy: 0.8978\n",
      "Train F1: 0.8982, Val F1: 0.8965\n",
      "Metrics -> F1-Score: 0.8920, Precision: 0.8918, Recall: 0.8923\n",
      "Sensitivity -> Class 0: 0.8653 Class 1: 0.7879 Class 2: 0.9699 Class 3: 0.9279\n",
      "Confusion Matrix:\n",
      "[[1143  153    6   19]\n",
      " [ 144 1055   33  107]\n",
      " [   6   33 1547    9]\n",
      " [  18   73   14 1352]]\n"
     ]
    },
    {
     "name": "stderr",
     "output_type": "stream",
     "text": [
      "\n",
      "Training AlexNet:  43%|████▎     | 43/100 [26:01<34:01, 35.82s/it]\u001b[A"
     ]
    },
    {
     "name": "stdout",
     "output_type": "stream",
     "text": [
      "Metrics -> F1-Score: 0.8867, Precision: 0.8878, Recall: 0.8894\n",
      "Sensitivity -> Class 0: 0.8400 Class 1: 0.7288 Class 2: 0.9753 Class 3: 0.9867\n",
      "Confusion Matrix:\n",
      "[[252  35   2  11]\n",
      " [ 32 223  20  31]\n",
      " [  5   3 395   2]\n",
      " [  0   3   1 296]]\n",
      "Epoch 43/100 - AlexNet\n",
      "Train Loss: 0.2826, Train Accuracy: 0.8923\n",
      "Val Loss: 0.2416, Val Accuracy: 0.8894\n",
      "Train F1: 0.8920, Val F1: 0.8867\n",
      "Metrics -> F1-Score: 0.8905, Precision: 0.8902, Recall: 0.8909\n",
      "Sensitivity -> Class 0: 0.8569 Class 1: 0.7886 Class 2: 0.9680 Class 3: 0.9314\n",
      "Confusion Matrix:\n",
      "[[1132  154    6   29]\n",
      " [ 150 1056   40   93]\n",
      " [  12   24 1544   15]\n",
      " [  18   71   11 1357]]\n"
     ]
    },
    {
     "name": "stderr",
     "output_type": "stream",
     "text": [
      "\n",
      "Training AlexNet:  44%|████▍     | 44/100 [26:38<33:30, 35.90s/it]\u001b[A"
     ]
    },
    {
     "name": "stdout",
     "output_type": "stream",
     "text": [
      "Metrics -> F1-Score: 0.9021, Precision: 0.9058, Recall: 0.9024\n",
      "Sensitivity -> Class 0: 0.7933 Class 1: 0.8660 Class 2: 0.9605 Class 3: 0.9700\n",
      "Confusion Matrix:\n",
      "[[238  56   1   5]\n",
      " [  9 265  12  20]\n",
      " [  5   6 389   5]\n",
      " [  2   6   1 291]]\n",
      "Epoch 44/100 - AlexNet\n",
      "Train Loss: 0.2874, Train Accuracy: 0.8909\n",
      "Val Loss: 0.2372, Val Accuracy: 0.9024\n",
      "Train F1: 0.8905, Val F1: 0.9021\n",
      "Metrics -> F1-Score: 0.8842, Precision: 0.8843, Recall: 0.8843\n",
      "Sensitivity -> Class 0: 0.8410 Class 1: 0.7901 Class 2: 0.9661 Class 3: 0.9204\n",
      "Confusion Matrix:\n",
      "[[1111  185    5   20]\n",
      " [ 140 1058   47   94]\n",
      " [   7   29 1541   18]\n",
      " [  29   81    6 1341]]\n"
     ]
    },
    {
     "name": "stderr",
     "output_type": "stream",
     "text": [
      "\n",
      "Training AlexNet:  45%|████▌     | 45/100 [27:13<32:51, 35.84s/it]\u001b[A"
     ]
    },
    {
     "name": "stdout",
     "output_type": "stream",
     "text": [
      "Metrics -> F1-Score: 0.8925, Precision: 0.8961, Recall: 0.8932\n",
      "Sensitivity -> Class 0: 0.7900 Class 1: 0.8268 Class 2: 0.9531 Class 3: 0.9833\n",
      "Confusion Matrix:\n",
      "[[237  52   1  10]\n",
      " [ 12 253  11  30]\n",
      " [  6   7 386   6]\n",
      " [  1   3   1 295]]\n",
      "Epoch 45/100 - AlexNet\n",
      "Train Loss: 0.3044, Train Accuracy: 0.8843\n",
      "Val Loss: 0.2551, Val Accuracy: 0.8932\n",
      "Train F1: 0.8842, Val F1: 0.8925\n",
      "Metrics -> F1-Score: 0.8877, Precision: 0.8875, Recall: 0.8881\n",
      "Sensitivity -> Class 0: 0.8630 Class 1: 0.7886 Class 2: 0.9624 Class 3: 0.9211\n",
      "Confusion Matrix:\n",
      "[[1140  144   10   27]\n",
      " [ 141 1056   46   96]\n",
      " [  10   26 1535   24]\n",
      " [  17   84   14 1342]]\n"
     ]
    },
    {
     "name": "stderr",
     "output_type": "stream",
     "text": [
      "\n",
      "Training AlexNet:  46%|████▌     | 46/100 [27:49<32:16, 35.86s/it]\u001b[A"
     ]
    },
    {
     "name": "stdout",
     "output_type": "stream",
     "text": [
      "Metrics -> F1-Score: 0.8854, Precision: 0.8940, Recall: 0.8902\n",
      "Sensitivity -> Class 0: 0.8967 Class 1: 0.6569 Class 2: 0.9877 Class 3: 0.9900\n",
      "Confusion Matrix:\n",
      "[[269  17   1  13]\n",
      " [ 36 201  19  50]\n",
      " [  3   1 400   1]\n",
      " [  1   2   0 297]]\n",
      "Epoch 46/100 - AlexNet\n",
      "Train Loss: 0.2877, Train Accuracy: 0.8881\n",
      "Val Loss: 0.2444, Val Accuracy: 0.8902\n",
      "Train F1: 0.8877, Val F1: 0.8854\n",
      "Metrics -> F1-Score: 0.8905, Precision: 0.8902, Recall: 0.8911\n",
      "Sensitivity -> Class 0: 0.8584 Class 1: 0.7857 Class 2: 0.9649 Class 3: 0.9369\n",
      "Confusion Matrix:\n",
      "[[1134  151   10   26]\n",
      " [ 146 1052   41  100]\n",
      " [   9   29 1539   18]\n",
      " [  20   58   14 1365]]\n"
     ]
    },
    {
     "name": "stderr",
     "output_type": "stream",
     "text": [
      "\n",
      "Training AlexNet:  47%|████▋     | 47/100 [28:25<31:37, 35.79s/it]\u001b[A"
     ]
    },
    {
     "name": "stdout",
     "output_type": "stream",
     "text": [
      "Metrics -> F1-Score: 0.8987, Precision: 0.9004, Recall: 0.9001\n",
      "Sensitivity -> Class 0: 0.8433 Class 1: 0.7843 Class 2: 0.9654 Class 3: 0.9867\n",
      "Confusion Matrix:\n",
      "[[253  34   1  12]\n",
      " [ 21 240  14  31]\n",
      " [  5   5 391   4]\n",
      " [  2   2   0 296]]\n",
      "Epoch 47/100 - AlexNet\n",
      "Train Loss: 0.2860, Train Accuracy: 0.8911\n",
      "Val Loss: 0.2258, Val Accuracy: 0.9001\n",
      "Train F1: 0.8905, Val F1: 0.8987\n",
      "Metrics -> F1-Score: 0.8923, Precision: 0.8923, Recall: 0.8927\n",
      "Sensitivity -> Class 0: 0.8531 Class 1: 0.8021 Class 2: 0.9699 Class 3: 0.9272\n",
      "Confusion Matrix:\n",
      "[[1127  155   11   28]\n",
      " [ 118 1074   42  105]\n",
      " [   8   20 1547   20]\n",
      " [  16   81    9 1351]]\n",
      "Metrics -> F1-Score: 0.9068, Precision: 0.9064, Recall: 0.9077\n",
      "Sensitivity -> Class 0: 0.8700 Class 1: 0.8007 Class 2: 0.9802 Class 3: 0.9567\n",
      "Confusion Matrix:\n",
      "[[261  35   1   3]\n",
      " [ 25 245  14  22]\n",
      " [  5   1 397   2]\n",
      " [  5   7   1 287]]\n",
      "Epoch 48/100 - AlexNet\n",
      "Train Loss: 0.2791, Train Accuracy: 0.8927\n",
      "Val Loss: 0.2111, Val Accuracy: 0.9077\n",
      "Train F1: 0.8923, Val F1: 0.9068\n"
     ]
    },
    {
     "name": "stderr",
     "output_type": "stream",
     "text": [
      "\n",
      "Training AlexNet:  48%|████▊     | 48/100 [29:01<31:05, 35.87s/it]\u001b[A"
     ]
    },
    {
     "name": "stdout",
     "output_type": "stream",
     "text": [
      "Best model for AlexNet saved at /kaggle/working/AlexNet_best.pth with F1-score: 0.9068\n",
      "Metrics -> F1-Score: 0.8982, Precision: 0.8980, Recall: 0.8985\n",
      "Sensitivity -> Class 0: 0.8630 Class 1: 0.8111 Class 2: 0.9699 Class 3: 0.9327\n",
      "Confusion Matrix:\n",
      "[[1140  150    8   23]\n",
      " [ 124 1086   40   89]\n",
      " [  13   19 1547   16]\n",
      " [  18   70   10 1359]]\n"
     ]
    },
    {
     "name": "stderr",
     "output_type": "stream",
     "text": [
      "\n",
      "Training AlexNet:  49%|████▉     | 49/100 [29:37<30:28, 35.84s/it]\u001b[A"
     ]
    },
    {
     "name": "stdout",
     "output_type": "stream",
     "text": [
      "Metrics -> F1-Score: 0.9014, Precision: 0.9057, Recall: 0.9047\n",
      "Sensitivity -> Class 0: 0.9067 Class 1: 0.7124 Class 2: 0.9877 Class 3: 0.9867\n",
      "Confusion Matrix:\n",
      "[[272  19   1   8]\n",
      " [ 42 218  19  27]\n",
      " [  4   1 400   0]\n",
      " [  3   1   0 296]]\n",
      "Epoch 49/100 - AlexNet\n",
      "Train Loss: 0.2776, Train Accuracy: 0.8985\n",
      "Val Loss: 0.2245, Val Accuracy: 0.9047\n",
      "Train F1: 0.8982, Val F1: 0.9014\n",
      "Metrics -> F1-Score: 0.8909, Precision: 0.8907, Recall: 0.8915\n",
      "Sensitivity -> Class 0: 0.8577 Class 1: 0.7886 Class 2: 0.9730 Class 3: 0.9272\n",
      "Confusion Matrix:\n",
      "[[1133  154    4   30]\n",
      " [ 133 1056   37  113]\n",
      " [   7   19 1552   17]\n",
      " [  18   74   14 1351]]\n"
     ]
    },
    {
     "name": "stderr",
     "output_type": "stream",
     "text": [
      "\n",
      "Training AlexNet:  50%|█████     | 50/100 [30:12<29:45, 35.72s/it]\u001b[A"
     ]
    },
    {
     "name": "stdout",
     "output_type": "stream",
     "text": [
      "Metrics -> F1-Score: 0.8952, Precision: 0.8951, Recall: 0.8970\n",
      "Sensitivity -> Class 0: 0.8367 Class 1: 0.7680 Class 2: 0.9827 Class 3: 0.9733\n",
      "Confusion Matrix:\n",
      "[[251  43   2   4]\n",
      " [ 24 235  19  28]\n",
      " [  5   1 398   1]\n",
      " [  3   4   1 292]]\n",
      "Epoch 50/100 - AlexNet\n",
      "Train Loss: 0.2841, Train Accuracy: 0.8915\n",
      "Val Loss: 0.2228, Val Accuracy: 0.8970\n",
      "Train F1: 0.8909, Val F1: 0.8952\n",
      "Metrics -> F1-Score: 0.8952, Precision: 0.8952, Recall: 0.8953\n",
      "Sensitivity -> Class 0: 0.8600 Class 1: 0.8125 Class 2: 0.9649 Class 3: 0.9272\n",
      "Confusion Matrix:\n",
      "[[1136  153    2   30]\n",
      " [ 123 1088   42   86]\n",
      " [  13   31 1539   12]\n",
      " [  21   73   12 1351]]\n"
     ]
    },
    {
     "name": "stderr",
     "output_type": "stream",
     "text": [
      "\n",
      "Training AlexNet:  51%|█████     | 51/100 [30:48<29:18, 35.89s/it]\u001b[A"
     ]
    },
    {
     "name": "stdout",
     "output_type": "stream",
     "text": [
      "Metrics -> F1-Score: 0.8999, Precision: 0.9005, Recall: 0.9016\n",
      "Sensitivity -> Class 0: 0.8667 Class 1: 0.7647 Class 2: 0.9679 Class 3: 0.9867\n",
      "Confusion Matrix:\n",
      "[[260  33   1   6]\n",
      " [ 30 234  15  27]\n",
      " [  8   3 392   2]\n",
      " [  1   3   0 296]]\n",
      "Epoch 51/100 - AlexNet\n",
      "Train Loss: 0.2804, Train Accuracy: 0.8953\n",
      "Val Loss: 0.2253, Val Accuracy: 0.9016\n",
      "Train F1: 0.8952, Val F1: 0.8999\n",
      "Metrics -> F1-Score: 0.8925, Precision: 0.8922, Recall: 0.8930\n",
      "Sensitivity -> Class 0: 0.8547 Class 1: 0.7939 Class 2: 0.9712 Class 3: 0.9334\n",
      "Confusion Matrix:\n",
      "[[1129  154   11   27]\n",
      " [ 143 1063   41   92]\n",
      " [   9   25 1549   12]\n",
      " [  17   68   12 1360]]\n"
     ]
    },
    {
     "name": "stderr",
     "output_type": "stream",
     "text": [
      "\n",
      "Training AlexNet:  52%|█████▏    | 52/100 [31:25<28:47, 35.98s/it]\u001b[A"
     ]
    },
    {
     "name": "stdout",
     "output_type": "stream",
     "text": [
      "Metrics -> F1-Score: 0.9059, Precision: 0.9063, Recall: 0.9069\n",
      "Sensitivity -> Class 0: 0.8467 Class 1: 0.8105 Class 2: 0.9778 Class 3: 0.9700\n",
      "Confusion Matrix:\n",
      "[[254  39   1   6]\n",
      " [ 16 248  18  24]\n",
      " [  3   5 396   1]\n",
      " [  4   4   1 291]]\n",
      "Epoch 52/100 - AlexNet\n",
      "Train Loss: 0.2709, Train Accuracy: 0.8930\n",
      "Val Loss: 0.2142, Val Accuracy: 0.9069\n",
      "Train F1: 0.8925, Val F1: 0.9059\n",
      "Metrics -> F1-Score: 0.8983, Precision: 0.8982, Recall: 0.8986\n",
      "Sensitivity -> Class 0: 0.8622 Class 1: 0.8081 Class 2: 0.9687 Class 3: 0.9382\n",
      "Confusion Matrix:\n",
      "[[1139  152    5   25]\n",
      " [ 127 1082   39   91]\n",
      " [  11   22 1545   17]\n",
      " [  17   64    9 1367]]\n",
      "Metrics -> F1-Score: 0.9115, Precision: 0.9121, Recall: 0.9123\n",
      "Sensitivity -> Class 0: 0.8300 Class 1: 0.8399 Class 2: 0.9827 Class 3: 0.9733\n",
      "Confusion Matrix:\n",
      "[[249  44   1   6]\n",
      " [ 15 257  15  19]\n",
      " [  4   2 398   1]\n",
      " [  3   5   0 292]]\n",
      "Epoch 53/100 - AlexNet\n",
      "Train Loss: 0.2722, Train Accuracy: 0.8986\n",
      "Val Loss: 0.2082, Val Accuracy: 0.9123\n",
      "Train F1: 0.8983, Val F1: 0.9115\n"
     ]
    },
    {
     "name": "stderr",
     "output_type": "stream",
     "text": [
      "\n",
      "Training AlexNet:  53%|█████▎    | 53/100 [32:01<28:16, 36.09s/it]\u001b[A"
     ]
    },
    {
     "name": "stdout",
     "output_type": "stream",
     "text": [
      "Best model for AlexNet saved at /kaggle/working/AlexNet_best.pth with F1-score: 0.9115\n",
      "Metrics -> F1-Score: 0.8936, Precision: 0.8933, Recall: 0.8941\n",
      "Sensitivity -> Class 0: 0.8569 Class 1: 0.8013 Class 2: 0.9718 Class 3: 0.9279\n",
      "Confusion Matrix:\n",
      "[[1132  155   13   21]\n",
      " [ 127 1073   44   95]\n",
      " [  10   22 1550   13]\n",
      " [  23   67   15 1352]]\n"
     ]
    },
    {
     "name": "stderr",
     "output_type": "stream",
     "text": [
      "\n",
      "Training AlexNet:  54%|█████▍    | 54/100 [32:37<27:45, 36.21s/it]\u001b[A"
     ]
    },
    {
     "name": "stdout",
     "output_type": "stream",
     "text": [
      "Metrics -> F1-Score: 0.9037, Precision: 0.9041, Recall: 0.9054\n",
      "Sensitivity -> Class 0: 0.8533 Class 1: 0.7810 Class 2: 0.9753 Class 3: 0.9900\n",
      "Confusion Matrix:\n",
      "[[256  37   1   6]\n",
      " [ 24 239  19  24]\n",
      " [  4   3 395   3]\n",
      " [  0   2   1 297]]\n",
      "Epoch 54/100 - AlexNet\n",
      "Train Loss: 0.2854, Train Accuracy: 0.8941\n",
      "Val Loss: 0.2116, Val Accuracy: 0.9054\n",
      "Train F1: 0.8936, Val F1: 0.9037\n",
      "Metrics -> F1-Score: 0.8964, Precision: 0.8964, Recall: 0.8965\n",
      "Sensitivity -> Class 0: 0.8630 Class 1: 0.8088 Class 2: 0.9674 Class 3: 0.9300\n",
      "Confusion Matrix:\n",
      "[[1140  159    6   16]\n",
      " [ 128 1083   40   88]\n",
      " [   8   22 1543   22]\n",
      " [  22   75    5 1355]]\n"
     ]
    },
    {
     "name": "stderr",
     "output_type": "stream",
     "text": [
      "\n",
      "Training AlexNet:  55%|█████▌    | 55/100 [33:13<27:03, 36.09s/it]\u001b[A"
     ]
    },
    {
     "name": "stdout",
     "output_type": "stream",
     "text": [
      "Metrics -> F1-Score: 0.8995, Precision: 0.9003, Recall: 0.9008\n",
      "Sensitivity -> Class 0: 0.8400 Class 1: 0.7876 Class 2: 0.9679 Class 3: 0.9867\n",
      "Confusion Matrix:\n",
      "[[252  39   1   8]\n",
      " [ 22 241  15  28]\n",
      " [  5   4 392   4]\n",
      " [  1   3   0 296]]\n",
      "Epoch 55/100 - AlexNet\n",
      "Train Loss: 0.2683, Train Accuracy: 0.8965\n",
      "Val Loss: 0.2230, Val Accuracy: 0.9008\n",
      "Train F1: 0.8964, Val F1: 0.8995\n",
      "Metrics -> F1-Score: 0.9006, Precision: 0.9004, Recall: 0.9011\n",
      "Sensitivity -> Class 0: 0.8713 Class 1: 0.8066 Class 2: 0.9680 Class 3: 0.9417\n",
      "Confusion Matrix:\n",
      "[[1151  142    4   24]\n",
      " [ 120 1080   42   97]\n",
      " [  10   28 1544   13]\n",
      " [  25   49   11 1372]]\n"
     ]
    },
    {
     "name": "stderr",
     "output_type": "stream",
     "text": [
      "\n",
      "Training AlexNet:  56%|█████▌    | 56/100 [33:49<26:27, 36.08s/it]\u001b[A"
     ]
    },
    {
     "name": "stdout",
     "output_type": "stream",
     "text": [
      "Metrics -> F1-Score: 0.9001, Precision: 0.9013, Recall: 0.9016\n",
      "Sensitivity -> Class 0: 0.8367 Class 1: 0.7843 Class 2: 0.9728 Class 3: 0.9900\n",
      "Confusion Matrix:\n",
      "[[251  40   1   8]\n",
      " [ 21 240  15  30]\n",
      " [  4   3 394   4]\n",
      " [  1   2   0 297]]\n",
      "Epoch 56/100 - AlexNet\n",
      "Train Loss: 0.2717, Train Accuracy: 0.9011\n",
      "Val Loss: 0.2199, Val Accuracy: 0.9016\n",
      "Train F1: 0.9006, Val F1: 0.9001\n",
      "Metrics -> F1-Score: 0.8936, Precision: 0.8935, Recall: 0.8939\n",
      "Sensitivity -> Class 0: 0.8562 Class 1: 0.7961 Class 2: 0.9712 Class 3: 0.9334\n",
      "Confusion Matrix:\n",
      "[[1131  162    5   23]\n",
      " [ 142 1066   38   93]\n",
      " [   6   26 1549   14]\n",
      " [  19   72    6 1360]]\n"
     ]
    },
    {
     "name": "stderr",
     "output_type": "stream",
     "text": [
      "\n",
      "Training AlexNet:  57%|█████▋    | 57/100 [34:26<25:58, 36.26s/it]\u001b[A"
     ]
    },
    {
     "name": "stdout",
     "output_type": "stream",
     "text": [
      "Metrics -> F1-Score: 0.8878, Precision: 0.8918, Recall: 0.8894\n",
      "Sensitivity -> Class 0: 0.7733 Class 1: 0.7974 Class 2: 0.9753 Class 3: 0.9833\n",
      "Confusion Matrix:\n",
      "[[232  54   1  13]\n",
      " [ 12 244  15  35]\n",
      " [  4   4 395   2]\n",
      " [  0   2   3 295]]\n",
      "Epoch 57/100 - AlexNet\n",
      "Train Loss: 0.2791, Train Accuracy: 0.8939\n",
      "Val Loss: 0.2281, Val Accuracy: 0.8894\n",
      "Train F1: 0.8936, Val F1: 0.8878\n",
      "Metrics -> F1-Score: 0.8926, Precision: 0.8924, Recall: 0.8932\n",
      "Sensitivity -> Class 0: 0.8471 Class 1: 0.7954 Class 2: 0.9718 Class 3: 0.9389\n",
      "Confusion Matrix:\n",
      "[[1119  165   10   27]\n",
      " [ 129 1065   40  105]\n",
      " [   5   27 1550   13]\n",
      " [  19   55   15 1368]]\n"
     ]
    },
    {
     "name": "stderr",
     "output_type": "stream",
     "text": [
      "\n",
      "Training AlexNet:  58%|█████▊    | 58/100 [35:02<25:16, 36.12s/it]\u001b[A"
     ]
    },
    {
     "name": "stdout",
     "output_type": "stream",
     "text": [
      "Metrics -> F1-Score: 0.8985, Precision: 0.9010, Recall: 0.9008\n",
      "Sensitivity -> Class 0: 0.9133 Class 1: 0.7288 Class 2: 0.9704 Class 3: 0.9700\n",
      "Confusion Matrix:\n",
      "[[274  23   1   2]\n",
      " [ 38 223  21  24]\n",
      " [  8   3 393   1]\n",
      " [  6   2   1 291]]\n",
      "Epoch 58/100 - AlexNet\n",
      "Train Loss: 0.2765, Train Accuracy: 0.8932\n",
      "Val Loss: 0.2140, Val Accuracy: 0.9008\n",
      "Train F1: 0.8926, Val F1: 0.8985\n",
      "Metrics -> F1-Score: 0.8963, Precision: 0.8961, Recall: 0.8965\n",
      "Sensitivity -> Class 0: 0.8577 Class 1: 0.8066 Class 2: 0.9718 Class 3: 0.9321\n",
      "Confusion Matrix:\n",
      "[[1133  161    7   20]\n",
      " [ 124 1080   38   97]\n",
      " [   9   20 1550   16]\n",
      " [  18   71   10 1358]]\n"
     ]
    },
    {
     "name": "stderr",
     "output_type": "stream",
     "text": [
      "\n",
      "Training AlexNet:  59%|█████▉    | 59/100 [35:38<24:43, 36.19s/it]\u001b[A"
     ]
    },
    {
     "name": "stdout",
     "output_type": "stream",
     "text": [
      "Metrics -> F1-Score: 0.8833, Precision: 0.8881, Recall: 0.8871\n",
      "Sensitivity -> Class 0: 0.8833 Class 1: 0.6797 Class 2: 0.9802 Class 3: 0.9767\n",
      "Confusion Matrix:\n",
      "[[265  24   1  10]\n",
      " [ 41 208  18  39]\n",
      " [  5   1 397   2]\n",
      " [  4   2   1 293]]\n",
      "Epoch 59/100 - AlexNet\n",
      "Train Loss: 0.2685, Train Accuracy: 0.8965\n",
      "Val Loss: 0.2263, Val Accuracy: 0.8871\n",
      "Train F1: 0.8963, Val F1: 0.8833\n",
      "Metrics -> F1-Score: 0.8927, Precision: 0.8926, Recall: 0.8929\n",
      "Sensitivity -> Class 0: 0.8622 Class 1: 0.7984 Class 2: 0.9668 Class 3: 0.9266\n",
      "Confusion Matrix:\n",
      "[[1139  152    8   22]\n",
      " [ 134 1069   38   98]\n",
      " [  12   29 1542   12]\n",
      " [  17   83    7 1350]]\n"
     ]
    },
    {
     "name": "stderr",
     "output_type": "stream",
     "text": [
      "\n",
      "Training AlexNet:  60%|██████    | 60/100 [36:14<24:01, 36.04s/it]\u001b[A"
     ]
    },
    {
     "name": "stdout",
     "output_type": "stream",
     "text": [
      "Metrics -> F1-Score: 0.9000, Precision: 0.9010, Recall: 0.9016\n",
      "Sensitivity -> Class 0: 0.8500 Class 1: 0.7778 Class 2: 0.9728 Class 3: 0.9833\n",
      "Confusion Matrix:\n",
      "[[255  35   1   9]\n",
      " [ 22 238  16  30]\n",
      " [  7   1 394   3]\n",
      " [  2   3   0 295]]\n",
      "Epoch 60/100 - AlexNet\n",
      "Train Loss: 0.2846, Train Accuracy: 0.8929\n",
      "Val Loss: 0.2219, Val Accuracy: 0.9016\n",
      "Train F1: 0.8927, Val F1: 0.9000\n",
      "Metrics -> F1-Score: 0.8985, Precision: 0.8984, Recall: 0.8988\n",
      "Sensitivity -> Class 0: 0.8524 Class 1: 0.8163 Class 2: 0.9762 Class 3: 0.9321\n",
      "Confusion Matrix:\n",
      "[[1126  159   11   25]\n",
      " [ 120 1093   34   92]\n",
      " [   7   17 1557   14]\n",
      " [  22   70    7 1358]]\n"
     ]
    },
    {
     "name": "stderr",
     "output_type": "stream",
     "text": [
      "\n",
      "Training AlexNet:  61%|██████    | 61/100 [36:50<23:22, 35.97s/it]\u001b[A"
     ]
    },
    {
     "name": "stdout",
     "output_type": "stream",
     "text": [
      "Metrics -> F1-Score: 0.8848, Precision: 0.8905, Recall: 0.8879\n",
      "Sensitivity -> Class 0: 0.8500 Class 1: 0.7026 Class 2: 0.9802 Class 3: 0.9900\n",
      "Confusion Matrix:\n",
      "[[255  28   1  16]\n",
      " [ 26 215  17  48]\n",
      " [  3   1 397   4]\n",
      " [  1   2   0 297]]\n",
      "Epoch 61/100 - AlexNet\n",
      "Train Loss: 0.2712, Train Accuracy: 0.8988\n",
      "Val Loss: 0.2441, Val Accuracy: 0.8879\n",
      "Train F1: 0.8985, Val F1: 0.8848\n",
      "Metrics -> F1-Score: 0.8926, Precision: 0.8927, Recall: 0.8927\n",
      "Sensitivity -> Class 0: 0.8569 Class 1: 0.8043 Class 2: 0.9705 Class 3: 0.9211\n",
      "Confusion Matrix:\n",
      "[[1132  164    6   19]\n",
      " [ 122 1077   38  102]\n",
      " [  14   21 1548   12]\n",
      " [  15   89   11 1342]]\n"
     ]
    },
    {
     "name": "stderr",
     "output_type": "stream",
     "text": [
      "\n",
      "Training AlexNet:  62%|██████▏   | 62/100 [37:26<22:47, 36.00s/it]\u001b[A"
     ]
    },
    {
     "name": "stdout",
     "output_type": "stream",
     "text": [
      "Metrics -> F1-Score: 0.8956, Precision: 0.8993, Recall: 0.8986\n",
      "Sensitivity -> Class 0: 0.8833 Class 1: 0.7190 Class 2: 0.9778 Class 3: 0.9900\n",
      "Confusion Matrix:\n",
      "[[265  25   1   9]\n",
      " [ 30 220  21  35]\n",
      " [  2   0 396   7]\n",
      " [  1   2   0 297]]\n",
      "Epoch 62/100 - AlexNet\n",
      "Train Loss: 0.2771, Train Accuracy: 0.8927\n",
      "Val Loss: 0.2305, Val Accuracy: 0.8986\n",
      "Train F1: 0.8926, Val F1: 0.8956\n",
      "Metrics -> F1-Score: 0.8866, Precision: 0.8865, Recall: 0.8869\n",
      "Sensitivity -> Class 0: 0.8395 Class 1: 0.7939 Class 2: 0.9680 Class 3: 0.9266\n",
      "Confusion Matrix:\n",
      "[[1109  173    9   30]\n",
      " [ 133 1063   42  101]\n",
      " [  10   27 1544   14]\n",
      " [  23   75    9 1350]]\n"
     ]
    },
    {
     "name": "stderr",
     "output_type": "stream",
     "text": [
      "\n",
      "Training AlexNet:  63%|██████▎   | 63/100 [38:01<22:08, 35.90s/it]\u001b[A"
     ]
    },
    {
     "name": "stdout",
     "output_type": "stream",
     "text": [
      "Metrics -> F1-Score: 0.9074, Precision: 0.9085, Recall: 0.9092\n",
      "Sensitivity -> Class 0: 0.9000 Class 1: 0.7614 Class 2: 0.9827 Class 3: 0.9700\n",
      "Confusion Matrix:\n",
      "[[270  24   0   6]\n",
      " [ 31 233  17  25]\n",
      " [  3   3 398   1]\n",
      " [  6   3   0 291]]\n",
      "Epoch 63/100 - AlexNet\n",
      "Train Loss: 0.2842, Train Accuracy: 0.8869\n",
      "Val Loss: 0.2038, Val Accuracy: 0.9092\n",
      "Train F1: 0.8866, Val F1: 0.9074\n",
      "Metrics -> F1-Score: 0.8932, Precision: 0.8930, Recall: 0.8936\n",
      "Sensitivity -> Class 0: 0.8547 Class 1: 0.7969 Class 2: 0.9705 Class 3: 0.9334\n",
      "Confusion Matrix:\n",
      "[[1129  167    7   18]\n",
      " [ 135 1067   39   98]\n",
      " [  11   20 1548   16]\n",
      " [  15   69   13 1360]]\n"
     ]
    },
    {
     "name": "stderr",
     "output_type": "stream",
     "text": [
      "\n",
      "Training AlexNet:  64%|██████▍   | 64/100 [38:37<21:31, 35.87s/it]\u001b[A"
     ]
    },
    {
     "name": "stdout",
     "output_type": "stream",
     "text": [
      "Metrics -> F1-Score: 0.9029, Precision: 0.9042, Recall: 0.9054\n",
      "Sensitivity -> Class 0: 0.8767 Class 1: 0.7451 Class 2: 0.9852 Class 3: 0.9900\n",
      "Confusion Matrix:\n",
      "[[263  29   1   7]\n",
      " [ 30 228  21  27]\n",
      " [  3   1 399   2]\n",
      " [  1   2   0 297]]\n",
      "Epoch 64/100 - AlexNet\n",
      "Train Loss: 0.2843, Train Accuracy: 0.8936\n",
      "Val Loss: 0.2094, Val Accuracy: 0.9054\n",
      "Train F1: 0.8932, Val F1: 0.9029\n",
      "Metrics -> F1-Score: 0.8990, Precision: 0.8988, Recall: 0.8993\n",
      "Sensitivity -> Class 0: 0.8562 Class 1: 0.8066 Class 2: 0.9724 Class 3: 0.9437\n",
      "Confusion Matrix:\n",
      "[[1131  159    4   27]\n",
      " [ 131 1080   43   85]\n",
      " [   9   27 1551    8]\n",
      " [  19   58    5 1375]]\n"
     ]
    },
    {
     "name": "stderr",
     "output_type": "stream",
     "text": [
      "\n",
      "Training AlexNet:  65%|██████▌   | 65/100 [39:12<20:47, 35.66s/it]\u001b[A"
     ]
    },
    {
     "name": "stdout",
     "output_type": "stream",
     "text": [
      "Metrics -> F1-Score: 0.9011, Precision: 0.9037, Recall: 0.9024\n",
      "Sensitivity -> Class 0: 0.8267 Class 1: 0.7908 Class 2: 0.9753 Class 3: 0.9933\n",
      "Confusion Matrix:\n",
      "[[248  41   0  11]\n",
      " [ 16 242  13  35]\n",
      " [  2   5 395   3]\n",
      " [  0   2   0 298]]\n",
      "Epoch 65/100 - AlexNet\n",
      "Train Loss: 0.2702, Train Accuracy: 0.8993\n",
      "Val Loss: 0.2207, Val Accuracy: 0.9024\n",
      "Train F1: 0.8990, Val F1: 0.9011\n",
      "Metrics -> F1-Score: 0.8998, Precision: 0.8995, Recall: 0.9002\n",
      "Sensitivity -> Class 0: 0.8774 Class 1: 0.8021 Class 2: 0.9680 Class 3: 0.9369\n",
      "Confusion Matrix:\n",
      "[[1159  136    4   22]\n",
      " [ 133 1074   42   90]\n",
      " [   9   24 1544   18]\n",
      " [  17   64   11 1365]]\n"
     ]
    },
    {
     "name": "stderr",
     "output_type": "stream",
     "text": [
      "\n",
      "Training AlexNet:  66%|██████▌   | 66/100 [39:48<20:18, 35.83s/it]\u001b[A"
     ]
    },
    {
     "name": "stdout",
     "output_type": "stream",
     "text": [
      "Metrics -> F1-Score: 0.8921, Precision: 0.8981, Recall: 0.8932\n",
      "Sensitivity -> Class 0: 0.7567 Class 1: 0.8301 Class 2: 0.9778 Class 3: 0.9800\n",
      "Confusion Matrix:\n",
      "[[227  61   1  11]\n",
      " [  8 254  13  31]\n",
      " [  1   4 396   4]\n",
      " [  2   4   0 294]]\n",
      "Epoch 66/100 - AlexNet\n",
      "Train Loss: 0.2624, Train Accuracy: 0.9002\n",
      "Val Loss: 0.2387, Val Accuracy: 0.8932\n",
      "Train F1: 0.8998, Val F1: 0.8921\n",
      "Metrics -> F1-Score: 0.8848, Precision: 0.8848, Recall: 0.8850\n",
      "Sensitivity -> Class 0: 0.8410 Class 1: 0.7864 Class 2: 0.9680 Class 3: 0.9245\n",
      "Confusion Matrix:\n",
      "[[1111  179    9   22]\n",
      " [ 141 1053   39  106]\n",
      " [  10   31 1544   10]\n",
      " [  20   84    6 1347]]\n"
     ]
    },
    {
     "name": "stderr",
     "output_type": "stream",
     "text": [
      "\n",
      "Training AlexNet:  67%|██████▋   | 67/100 [40:24<19:41, 35.81s/it]\u001b[A"
     ]
    },
    {
     "name": "stdout",
     "output_type": "stream",
     "text": [
      "Metrics -> F1-Score: 0.8940, Precision: 0.9025, Recall: 0.8955\n",
      "Sensitivity -> Class 0: 0.7267 Class 1: 0.8562 Class 2: 0.9877 Class 3: 0.9800\n",
      "Confusion Matrix:\n",
      "[[218  71   1  10]\n",
      " [  5 262  14  25]\n",
      " [  1   3 400   1]\n",
      " [  1   4   1 294]]\n",
      "Epoch 67/100 - AlexNet\n",
      "Train Loss: 0.2894, Train Accuracy: 0.8850\n",
      "Val Loss: 0.2327, Val Accuracy: 0.8955\n",
      "Train F1: 0.8848, Val F1: 0.8940\n",
      "Metrics -> F1-Score: 0.8953, Precision: 0.8953, Recall: 0.8955\n",
      "Sensitivity -> Class 0: 0.8524 Class 1: 0.8111 Class 2: 0.9668 Class 3: 0.9341\n",
      "Confusion Matrix:\n",
      "[[1126  166    8   21]\n",
      " [ 128 1086   41   84]\n",
      " [  11   26 1542   16]\n",
      " [  23   65    8 1361]]\n"
     ]
    },
    {
     "name": "stderr",
     "output_type": "stream",
     "text": [
      "\n",
      "Training AlexNet:  68%|██████▊   | 68/100 [41:00<19:05, 35.80s/it]\u001b[A"
     ]
    },
    {
     "name": "stdout",
     "output_type": "stream",
     "text": [
      "Metrics -> F1-Score: 0.9060, Precision: 0.9059, Recall: 0.9069\n",
      "Sensitivity -> Class 0: 0.8400 Class 1: 0.8170 Class 2: 0.9802 Class 3: 0.9667\n",
      "Confusion Matrix:\n",
      "[[252  42   1   5]\n",
      " [ 21 250  15  20]\n",
      " [  3   3 397   2]\n",
      " [  6   4   0 290]]\n",
      "Epoch 68/100 - AlexNet\n",
      "Train Loss: 0.2709, Train Accuracy: 0.8955\n",
      "Val Loss: 0.2296, Val Accuracy: 0.9069\n",
      "Train F1: 0.8953, Val F1: 0.9060\n",
      "Metrics -> F1-Score: 0.8937, Precision: 0.8935, Recall: 0.8941\n",
      "Sensitivity -> Class 0: 0.8637 Class 1: 0.8013 Class 2: 0.9649 Class 3: 0.9293\n",
      "Confusion Matrix:\n",
      "[[1141  143    9   28]\n",
      " [ 117 1073   42  107]\n",
      " [   9   31 1539   16]\n",
      " [  27   65   11 1354]]\n",
      "Metrics -> F1-Score: 0.9137, Precision: 0.9141, Recall: 0.9146\n",
      "Sensitivity -> Class 0: 0.8700 Class 1: 0.8137 Class 2: 0.9778 Class 3: 0.9767\n",
      "Confusion Matrix:\n",
      "[[261  32   0   7]\n",
      " [ 21 249  11  25]\n",
      " [  4   3 396   2]\n",
      " [  3   4   0 293]]\n",
      "Epoch 69/100 - AlexNet\n",
      "Train Loss: 0.2822, Train Accuracy: 0.8941\n",
      "Val Loss: 0.1988, Val Accuracy: 0.9146\n",
      "Train F1: 0.8937, Val F1: 0.9137\n"
     ]
    },
    {
     "name": "stderr",
     "output_type": "stream",
     "text": [
      "\n",
      "Training AlexNet:  69%|██████▉   | 69/100 [41:37<18:38, 36.07s/it]\u001b[A"
     ]
    },
    {
     "name": "stdout",
     "output_type": "stream",
     "text": [
      "Best model for AlexNet saved at /kaggle/working/AlexNet_best.pth with F1-score: 0.9137\n",
      "Metrics -> F1-Score: 0.8995, Precision: 0.8993, Recall: 0.8999\n",
      "Sensitivity -> Class 0: 0.8736 Class 1: 0.8058 Class 2: 0.9687 Class 3: 0.9348\n",
      "Confusion Matrix:\n",
      "[[1154  139    9   19]\n",
      " [ 139 1079   36   85]\n",
      " [   8   21 1545   21]\n",
      " [  18   67   10 1362]]\n"
     ]
    },
    {
     "name": "stderr",
     "output_type": "stream",
     "text": [
      "\n",
      "Training AlexNet:  70%|███████   | 70/100 [42:13<18:00, 36.01s/it]\u001b[A"
     ]
    },
    {
     "name": "stdout",
     "output_type": "stream",
     "text": [
      "Metrics -> F1-Score: 0.8949, Precision: 0.8951, Recall: 0.8963\n",
      "Sensitivity -> Class 0: 0.8133 Class 1: 0.7876 Class 2: 0.9778 Class 3: 0.9800\n",
      "Confusion Matrix:\n",
      "[[244  50   1   5]\n",
      " [ 23 241  18  24]\n",
      " [  5   3 396   1]\n",
      " [  1   5   0 294]]\n",
      "Epoch 70/100 - AlexNet\n",
      "Train Loss: 0.2571, Train Accuracy: 0.8999\n",
      "Val Loss: 0.2271, Val Accuracy: 0.8963\n",
      "Train F1: 0.8995, Val F1: 0.8949\n",
      "Metrics -> F1-Score: 0.8992, Precision: 0.8990, Recall: 0.8995\n",
      "Sensitivity -> Class 0: 0.8547 Class 1: 0.8103 Class 2: 0.9730 Class 3: 0.9417\n",
      "Confusion Matrix:\n",
      "[[1129  164    3   25]\n",
      " [ 133 1085   36   85]\n",
      " [  11   19 1552   13]\n",
      " [   9   63   13 1372]]\n"
     ]
    },
    {
     "name": "stderr",
     "output_type": "stream",
     "text": [
      "\n",
      "Training AlexNet:  71%|███████   | 71/100 [42:48<17:23, 35.98s/it]\u001b[A"
     ]
    },
    {
     "name": "stdout",
     "output_type": "stream",
     "text": [
      "Metrics -> F1-Score: 0.9028, Precision: 0.9033, Recall: 0.9047\n",
      "Sensitivity -> Class 0: 0.8833 Class 1: 0.7582 Class 2: 0.9802 Class 3: 0.9733\n",
      "Confusion Matrix:\n",
      "[[265  29   1   5]\n",
      " [ 33 232  17  24]\n",
      " [  3   4 397   1]\n",
      " [  5   3   0 292]]\n",
      "Epoch 71/100 - AlexNet\n",
      "Train Loss: 0.2691, Train Accuracy: 0.8995\n",
      "Val Loss: 0.2315, Val Accuracy: 0.9047\n",
      "Train F1: 0.8992, Val F1: 0.9028\n",
      "Metrics -> F1-Score: 0.8905, Precision: 0.8903, Recall: 0.8908\n",
      "Sensitivity -> Class 0: 0.8690 Class 1: 0.7939 Class 2: 0.9636 Class 3: 0.9197\n",
      "Confusion Matrix:\n",
      "[[1148  141    9   23]\n",
      " [ 141 1063   45   90]\n",
      " [  11   33 1537   14]\n",
      " [  25   80   12 1340]]\n",
      "Metrics -> F1-Score: 0.9168, Precision: 0.9193, Recall: 0.9184\n",
      "Sensitivity -> Class 0: 0.9000 Class 1: 0.7810 Class 2: 0.9827 Class 3: 0.9900\n",
      "Confusion Matrix:\n",
      "[[270  21   1   8]\n",
      " [ 23 239  11  33]\n",
      " [  4   1 398   2]\n",
      " [  2   1   0 297]]\n",
      "Epoch 72/100 - AlexNet\n",
      "Train Loss: 0.2764, Train Accuracy: 0.8908\n",
      "Val Loss: 0.2102, Val Accuracy: 0.9184\n",
      "Train F1: 0.8905, Val F1: 0.9168\n"
     ]
    },
    {
     "name": "stderr",
     "output_type": "stream",
     "text": [
      "\n",
      "Training AlexNet:  72%|███████▏  | 72/100 [43:25<16:49, 36.04s/it]\u001b[A"
     ]
    },
    {
     "name": "stdout",
     "output_type": "stream",
     "text": [
      "Best model for AlexNet saved at /kaggle/working/AlexNet_best.pth with F1-score: 0.9168\n",
      "Metrics -> F1-Score: 0.8934, Precision: 0.8933, Recall: 0.8937\n",
      "Sensitivity -> Class 0: 0.8501 Class 1: 0.7976 Class 2: 0.9693 Class 3: 0.9389\n",
      "Confusion Matrix:\n",
      "[[1123  170    4   24]\n",
      " [ 137 1068   36   98]\n",
      " [   8   22 1546   19]\n",
      " [  15   65    9 1368]]\n"
     ]
    },
    {
     "name": "stderr",
     "output_type": "stream",
     "text": [
      "\n",
      "Training AlexNet:  73%|███████▎  | 73/100 [44:00<16:11, 35.97s/it]\u001b[A"
     ]
    },
    {
     "name": "stdout",
     "output_type": "stream",
     "text": [
      "Metrics -> F1-Score: 0.9011, Precision: 0.9019, Recall: 0.9031\n",
      "Sensitivity -> Class 0: 0.8733 Class 1: 0.7549 Class 2: 0.9778 Class 3: 0.9833\n",
      "Confusion Matrix:\n",
      "[[262  33   0   5]\n",
      " [ 31 231  15  29]\n",
      " [  5   2 396   2]\n",
      " [  2   2   1 295]]\n",
      "Epoch 73/100 - AlexNet\n",
      "Train Loss: 0.2798, Train Accuracy: 0.8937\n",
      "Val Loss: 0.2161, Val Accuracy: 0.9031\n",
      "Train F1: 0.8934, Val F1: 0.9011\n",
      "Metrics -> F1-Score: 0.8927, Precision: 0.8924, Recall: 0.8930\n",
      "Sensitivity -> Class 0: 0.8630 Class 1: 0.7961 Class 2: 0.9693 Class 3: 0.9259\n",
      "Confusion Matrix:\n",
      "[[1140  152    4   25]\n",
      " [ 137 1066   37   99]\n",
      " [   9   22 1546   18]\n",
      " [  21   72   15 1349]]\n"
     ]
    },
    {
     "name": "stderr",
     "output_type": "stream",
     "text": [
      "\n",
      "Training AlexNet:  74%|███████▍  | 74/100 [44:36<15:35, 35.96s/it]\u001b[A"
     ]
    },
    {
     "name": "stdout",
     "output_type": "stream",
     "text": [
      "Metrics -> F1-Score: 0.9017, Precision: 0.9064, Recall: 0.9024\n",
      "Sensitivity -> Class 0: 0.7933 Class 1: 0.8333 Class 2: 0.9728 Class 3: 0.9867\n",
      "Confusion Matrix:\n",
      "[[238  52   1   9]\n",
      " [  8 255  11  32]\n",
      " [  2   6 394   3]\n",
      " [  0   4   0 296]]\n",
      "Epoch 74/100 - AlexNet\n",
      "Train Loss: 0.2820, Train Accuracy: 0.8930\n",
      "Val Loss: 0.2255, Val Accuracy: 0.9024\n",
      "Train F1: 0.8927, Val F1: 0.9017\n",
      "Metrics -> F1-Score: 0.8868, Precision: 0.8865, Recall: 0.8871\n",
      "Sensitivity -> Class 0: 0.8577 Class 1: 0.7834 Class 2: 0.9687 Class 3: 0.9197\n",
      "Confusion Matrix:\n",
      "[[1133  155    9   24]\n",
      " [ 157 1049   42   91]\n",
      " [   6   30 1545   14]\n",
      " [  22   83   12 1340]]\n"
     ]
    },
    {
     "name": "stderr",
     "output_type": "stream",
     "text": [
      "\n",
      "Training AlexNet:  75%|███████▌  | 75/100 [45:12<14:57, 35.88s/it]\u001b[A"
     ]
    },
    {
     "name": "stdout",
     "output_type": "stream",
     "text": [
      "Metrics -> F1-Score: 0.8939, Precision: 0.9025, Recall: 0.8940\n",
      "Sensitivity -> Class 0: 0.7500 Class 1: 0.8791 Class 2: 0.9580 Class 3: 0.9667\n",
      "Confusion Matrix:\n",
      "[[225  66   1   8]\n",
      " [  5 269   9  23]\n",
      " [  2   9 388   6]\n",
      " [  2   8   0 290]]\n",
      "Epoch 75/100 - AlexNet\n",
      "Train Loss: 0.2865, Train Accuracy: 0.8871\n",
      "Val Loss: 0.2512, Val Accuracy: 0.8940\n",
      "Train F1: 0.8868, Val F1: 0.8939\n",
      "Metrics -> F1-Score: 0.8999, Precision: 0.9000, Recall: 0.9000\n",
      "Sensitivity -> Class 0: 0.8577 Class 1: 0.8163 Class 2: 0.9705 Class 3: 0.9382\n",
      "Confusion Matrix:\n",
      "[[1133  169    3   16]\n",
      " [ 113 1093   37   96]\n",
      " [  10   24 1548   13]\n",
      " [  21   62    7 1367]]\n"
     ]
    },
    {
     "name": "stderr",
     "output_type": "stream",
     "text": [
      "\n",
      "Training AlexNet:  76%|███████▌  | 76/100 [45:48<14:20, 35.84s/it]\u001b[A"
     ]
    },
    {
     "name": "stdout",
     "output_type": "stream",
     "text": [
      "Metrics -> F1-Score: 0.9092, Precision: 0.9104, Recall: 0.9100\n",
      "Sensitivity -> Class 0: 0.8267 Class 1: 0.8333 Class 2: 0.9852 Class 3: 0.9700\n",
      "Confusion Matrix:\n",
      "[[248  45   1   6]\n",
      " [ 16 255  14  21]\n",
      " [  1   4 399   1]\n",
      " [  1   6   2 291]]\n",
      "Epoch 76/100 - AlexNet\n",
      "Train Loss: 0.2796, Train Accuracy: 0.9000\n",
      "Val Loss: 0.2141, Val Accuracy: 0.9100\n",
      "Train F1: 0.8999, Val F1: 0.9092\n",
      "Metrics -> F1-Score: 0.8917, Precision: 0.8915, Recall: 0.8920\n",
      "Sensitivity -> Class 0: 0.8577 Class 1: 0.7961 Class 2: 0.9674 Class 3: 0.9286\n",
      "Confusion Matrix:\n",
      "[[1133  156    9   23]\n",
      " [ 138 1066   33  102]\n",
      " [  10   26 1543   16]\n",
      " [  11   77   16 1353]]\n"
     ]
    },
    {
     "name": "stderr",
     "output_type": "stream",
     "text": [
      "\n",
      "Training AlexNet:  77%|███████▋  | 77/100 [46:24<13:44, 35.83s/it]\u001b[A"
     ]
    },
    {
     "name": "stdout",
     "output_type": "stream",
     "text": [
      "Metrics -> F1-Score: 0.8987, Precision: 0.9006, Recall: 0.9016\n",
      "Sensitivity -> Class 0: 0.8700 Class 1: 0.7288 Class 2: 0.9901 Class 3: 0.9900\n",
      "Confusion Matrix:\n",
      "[[261  32   1   6]\n",
      " [ 24 223  20  39]\n",
      " [  2   2 401   0]\n",
      " [  0   2   1 297]]\n",
      "Epoch 77/100 - AlexNet\n",
      "Train Loss: 0.2722, Train Accuracy: 0.8920\n",
      "Val Loss: 0.2272, Val Accuracy: 0.9016\n",
      "Train F1: 0.8917, Val F1: 0.8987\n",
      "Metrics -> F1-Score: 0.8932, Precision: 0.8930, Recall: 0.8936\n",
      "Sensitivity -> Class 0: 0.8637 Class 1: 0.7976 Class 2: 0.9693 Class 3: 0.9259\n",
      "Confusion Matrix:\n",
      "[[1141  153    8   19]\n",
      " [ 127 1068   45   99]\n",
      " [   7   29 1546   13]\n",
      " [  17   77   14 1349]]\n",
      "Metrics -> F1-Score: 0.9182, Precision: 0.9194, Recall: 0.9191\n",
      "Sensitivity -> Class 0: 0.8700 Class 1: 0.8170 Class 2: 0.9802 Class 3: 0.9900\n",
      "Confusion Matrix:\n",
      "[[261  34   0   5]\n",
      " [ 13 250  14  29]\n",
      " [  0   7 397   1]\n",
      " [  1   2   0 297]]\n",
      "Epoch 78/100 - AlexNet\n",
      "Train Loss: 0.2846, Train Accuracy: 0.8936\n",
      "Val Loss: 0.2003, Val Accuracy: 0.9191\n",
      "Train F1: 0.8932, Val F1: 0.9182\n"
     ]
    },
    {
     "name": "stderr",
     "output_type": "stream",
     "text": [
      "\n",
      "Training AlexNet:  78%|███████▊  | 78/100 [47:00<13:11, 35.97s/it]\u001b[A"
     ]
    },
    {
     "name": "stdout",
     "output_type": "stream",
     "text": [
      "Best model for AlexNet saved at /kaggle/working/AlexNet_best.pth with F1-score: 0.9182\n",
      "Metrics -> F1-Score: 0.8996, Precision: 0.8995, Recall: 0.8999\n",
      "Sensitivity -> Class 0: 0.8721 Class 1: 0.8081 Class 2: 0.9674 Class 3: 0.9355\n",
      "Confusion Matrix:\n",
      "[[1152  142    3   24]\n",
      " [ 131 1082   35   91]\n",
      " [   9   23 1543   20]\n",
      " [  23   64    7 1363]]\n"
     ]
    },
    {
     "name": "stderr",
     "output_type": "stream",
     "text": [
      "\n",
      "Training AlexNet:  79%|███████▉  | 79/100 [47:36<12:37, 36.08s/it]\u001b[A"
     ]
    },
    {
     "name": "stdout",
     "output_type": "stream",
     "text": [
      "Metrics -> F1-Score: 0.9021, Precision: 0.9045, Recall: 0.9031\n",
      "Sensitivity -> Class 0: 0.8167 Class 1: 0.8105 Class 2: 0.9753 Class 3: 0.9867\n",
      "Confusion Matrix:\n",
      "[[245  46   1   8]\n",
      " [ 17 248  11  30]\n",
      " [  1   4 395   5]\n",
      " [  0   4   0 296]]\n",
      "Epoch 79/100 - AlexNet\n",
      "Train Loss: 0.2613, Train Accuracy: 0.8999\n",
      "Val Loss: 0.2176, Val Accuracy: 0.9031\n",
      "Train F1: 0.8996, Val F1: 0.9021\n",
      "Metrics -> F1-Score: 0.8966, Precision: 0.8965, Recall: 0.8969\n",
      "Sensitivity -> Class 0: 0.8615 Class 1: 0.8058 Class 2: 0.9649 Class 3: 0.9382\n",
      "Confusion Matrix:\n",
      "[[1138  151    7   25]\n",
      " [ 128 1079   43   89]\n",
      " [   7   33 1539   16]\n",
      " [  14   66   10 1367]]\n"
     ]
    },
    {
     "name": "stderr",
     "output_type": "stream",
     "text": [
      "\n",
      "Training AlexNet:  80%|████████  | 80/100 [48:13<12:06, 36.33s/it]\u001b[A"
     ]
    },
    {
     "name": "stdout",
     "output_type": "stream",
     "text": [
      "Metrics -> F1-Score: 0.9006, Precision: 0.9011, Recall: 0.9024\n",
      "Sensitivity -> Class 0: 0.8333 Class 1: 0.7778 Class 2: 0.9877 Class 3: 0.9833\n",
      "Confusion Matrix:\n",
      "[[250  43   1   6]\n",
      " [ 23 238  17  28]\n",
      " [  1   3 400   1]\n",
      " [  1   3   1 295]]\n",
      "Epoch 80/100 - AlexNet\n",
      "Train Loss: 0.2625, Train Accuracy: 0.8969\n",
      "Val Loss: 0.2165, Val Accuracy: 0.9024\n",
      "Train F1: 0.8966, Val F1: 0.9006\n",
      "Metrics -> F1-Score: 0.8921, Precision: 0.8919, Recall: 0.8923\n",
      "Sensitivity -> Class 0: 0.8577 Class 1: 0.7999 Class 2: 0.9680 Class 3: 0.9259\n",
      "Confusion Matrix:\n",
      "[[1133  163    9   16]\n",
      " [ 129 1071   43   96]\n",
      " [  13   23 1544   15]\n",
      " [  17   76   15 1349]]\n"
     ]
    },
    {
     "name": "stderr",
     "output_type": "stream",
     "text": [
      "\n",
      "Training AlexNet:  81%|████████  | 81/100 [48:50<11:31, 36.37s/it]\u001b[A"
     ]
    },
    {
     "name": "stdout",
     "output_type": "stream",
     "text": [
      "Metrics -> F1-Score: 0.9081, Precision: 0.9123, Recall: 0.9085\n",
      "Sensitivity -> Class 0: 0.8000 Class 1: 0.8595 Class 2: 0.9679 Class 3: 0.9867\n",
      "Confusion Matrix:\n",
      "[[240  52   0   8]\n",
      " [ 10 263   7  26]\n",
      " [  1   9 392   3]\n",
      " [  2   2   0 296]]\n",
      "Epoch 81/100 - AlexNet\n",
      "Train Loss: 0.2640, Train Accuracy: 0.8923\n",
      "Val Loss: 0.2133, Val Accuracy: 0.9085\n",
      "Train F1: 0.8921, Val F1: 0.9081\n",
      "Metrics -> F1-Score: 0.8863, Precision: 0.8861, Recall: 0.8867\n",
      "Sensitivity -> Class 0: 0.8615 Class 1: 0.7834 Class 2: 0.9624 Class 3: 0.9218\n",
      "Confusion Matrix:\n",
      "[[1138  149    8   26]\n",
      " [ 131 1049   45  114]\n",
      " [  11   30 1535   19]\n",
      " [  16   84   14 1343]]\n"
     ]
    },
    {
     "name": "stderr",
     "output_type": "stream",
     "text": [
      "\n",
      "Training AlexNet:  82%|████████▏ | 82/100 [49:26<10:54, 36.39s/it]\u001b[A"
     ]
    },
    {
     "name": "stdout",
     "output_type": "stream",
     "text": [
      "Metrics -> F1-Score: 0.9010, Precision: 0.9006, Recall: 0.9024\n",
      "Sensitivity -> Class 0: 0.8400 Class 1: 0.7908 Class 2: 0.9852 Class 3: 0.9667\n",
      "Confusion Matrix:\n",
      "[[252  40   2   6]\n",
      " [ 25 242  20  19]\n",
      " [  5   1 399   0]\n",
      " [  2   8   0 290]]\n",
      "Epoch 82/100 - AlexNet\n",
      "Train Loss: 0.2901, Train Accuracy: 0.8867\n",
      "Val Loss: 0.2319, Val Accuracy: 0.9024\n",
      "Train F1: 0.8863, Val F1: 0.9010\n",
      "Metrics -> F1-Score: 0.8934, Precision: 0.8930, Recall: 0.8939\n",
      "Sensitivity -> Class 0: 0.8615 Class 1: 0.7894 Class 2: 0.9737 Class 3: 0.9321\n",
      "Confusion Matrix:\n",
      "[[1138  156    5   22]\n",
      " [ 146 1057   42   94]\n",
      " [   9   22 1553   11]\n",
      " [  13   70   16 1358]]\n"
     ]
    },
    {
     "name": "stderr",
     "output_type": "stream",
     "text": [
      "\n",
      "Training AlexNet:  83%|████████▎ | 83/100 [50:03<10:19, 36.42s/it]\u001b[A"
     ]
    },
    {
     "name": "stdout",
     "output_type": "stream",
     "text": [
      "Metrics -> F1-Score: 0.9015, Precision: 0.9053, Recall: 0.9024\n",
      "Sensitivity -> Class 0: 0.7967 Class 1: 0.8235 Class 2: 0.9778 Class 3: 0.9867\n",
      "Confusion Matrix:\n",
      "[[239  53   0   8]\n",
      " [  9 252  13  32]\n",
      " [  2   5 396   2]\n",
      " [  1   3   0 296]]\n",
      "Epoch 83/100 - AlexNet\n",
      "Train Loss: 0.2700, Train Accuracy: 0.8939\n",
      "Val Loss: 0.2181, Val Accuracy: 0.9024\n",
      "Train F1: 0.8934, Val F1: 0.9015\n",
      "Metrics -> F1-Score: 0.8896, Precision: 0.8894, Recall: 0.8901\n",
      "Sensitivity -> Class 0: 0.8433 Class 1: 0.7901 Class 2: 0.9699 Class 3: 0.9369\n",
      "Confusion Matrix:\n",
      "[[1114  168   14   25]\n",
      " [ 145 1058   32  104]\n",
      " [   3   33 1547   12]\n",
      " [  17   65   10 1365]]\n"
     ]
    },
    {
     "name": "stderr",
     "output_type": "stream",
     "text": [
      "\n",
      "Training AlexNet:  84%|████████▍ | 84/100 [50:38<09:38, 36.18s/it]\u001b[A"
     ]
    },
    {
     "name": "stdout",
     "output_type": "stream",
     "text": [
      "Metrics -> F1-Score: 0.9125, Precision: 0.9128, Recall: 0.9130\n",
      "Sensitivity -> Class 0: 0.8367 Class 1: 0.8366 Class 2: 0.9827 Class 3: 0.9733\n",
      "Confusion Matrix:\n",
      "[[251  46   1   2]\n",
      " [ 20 256  14  16]\n",
      " [  2   4 398   1]\n",
      " [  3   5   0 292]]\n",
      "Epoch 84/100 - AlexNet\n",
      "Train Loss: 0.2756, Train Accuracy: 0.8901\n",
      "Val Loss: 0.2022, Val Accuracy: 0.9130\n",
      "Train F1: 0.8896, Val F1: 0.9125\n",
      "Metrics -> F1-Score: 0.8941, Precision: 0.8940, Recall: 0.8943\n",
      "Sensitivity -> Class 0: 0.8569 Class 1: 0.8051 Class 2: 0.9712 Class 3: 0.9259\n",
      "Confusion Matrix:\n",
      "[[1132  157    5   27]\n",
      " [ 133 1078   42   86]\n",
      " [   4   27 1549   15]\n",
      " [  21   77   10 1349]]\n"
     ]
    },
    {
     "name": "stderr",
     "output_type": "stream",
     "text": [
      "\n",
      "Training AlexNet:  85%|████████▌ | 85/100 [51:14<08:59, 35.97s/it]\u001b[A"
     ]
    },
    {
     "name": "stdout",
     "output_type": "stream",
     "text": [
      "Metrics -> F1-Score: 0.9061, Precision: 0.9084, Recall: 0.9069\n",
      "Sensitivity -> Class 0: 0.8367 Class 1: 0.8137 Class 2: 0.9679 Class 3: 0.9900\n",
      "Confusion Matrix:\n",
      "[[251  40   0   9]\n",
      " [ 16 249  10  31]\n",
      " [  3   5 392   5]\n",
      " [  0   3   0 297]]\n",
      "Epoch 85/100 - AlexNet\n",
      "Train Loss: 0.2663, Train Accuracy: 0.8943\n",
      "Val Loss: 0.2181, Val Accuracy: 0.9069\n",
      "Train F1: 0.8941, Val F1: 0.9061\n",
      "Metrics -> F1-Score: 0.8989, Precision: 0.8988, Recall: 0.8993\n",
      "Sensitivity -> Class 0: 0.8607 Class 1: 0.8088 Class 2: 0.9737 Class 3: 0.9362\n",
      "Confusion Matrix:\n",
      "[[1137  147    6   31]\n",
      " [ 132 1083   29   95]\n",
      " [   8   18 1553   16]\n",
      " [  20   62   11 1364]]\n"
     ]
    },
    {
     "name": "stderr",
     "output_type": "stream",
     "text": [
      "\n",
      "Training AlexNet:  86%|████████▌ | 86/100 [51:49<08:21, 35.85s/it]\u001b[A"
     ]
    },
    {
     "name": "stdout",
     "output_type": "stream",
     "text": [
      "Metrics -> F1-Score: 0.9041, Precision: 0.9066, Recall: 0.9054\n",
      "Sensitivity -> Class 0: 0.8200 Class 1: 0.8039 Class 2: 0.9877 Class 3: 0.9833\n",
      "Confusion Matrix:\n",
      "[[246  45   0   9]\n",
      " [ 13 246  15  32]\n",
      " [  0   3 400   2]\n",
      " [  1   3   1 295]]\n",
      "Epoch 86/100 - AlexNet\n",
      "Train Loss: 0.2642, Train Accuracy: 0.8993\n",
      "Val Loss: 0.2191, Val Accuracy: 0.9054\n",
      "Train F1: 0.8989, Val F1: 0.9041\n",
      "Metrics -> F1-Score: 0.8935, Precision: 0.8932, Recall: 0.8939\n",
      "Sensitivity -> Class 0: 0.8448 Class 1: 0.7991 Class 2: 0.9724 Class 3: 0.9396\n",
      "Confusion Matrix:\n",
      "[[1116  171    9   25]\n",
      " [ 142 1070   46   81]\n",
      " [  13   18 1551   13]\n",
      " [  10   69    9 1369]]\n"
     ]
    },
    {
     "name": "stderr",
     "output_type": "stream",
     "text": [
      "\n",
      "Training AlexNet:  87%|████████▋ | 87/100 [52:25<07:47, 35.94s/it]\u001b[A"
     ]
    },
    {
     "name": "stdout",
     "output_type": "stream",
     "text": [
      "Metrics -> F1-Score: 0.9093, Precision: 0.9103, Recall: 0.9100\n",
      "Sensitivity -> Class 0: 0.8333 Class 1: 0.8301 Class 2: 0.9753 Class 3: 0.9800\n",
      "Confusion Matrix:\n",
      "[[250  46   0   4]\n",
      " [ 16 254  12  24]\n",
      " [  3   5 395   2]\n",
      " [  3   3   0 294]]\n",
      "Epoch 87/100 - AlexNet\n",
      "Train Loss: 0.2743, Train Accuracy: 0.8939\n",
      "Val Loss: 0.2169, Val Accuracy: 0.9100\n",
      "Train F1: 0.8935, Val F1: 0.9093\n",
      "Metrics -> F1-Score: 0.8944, Precision: 0.8942, Recall: 0.8950\n",
      "Sensitivity -> Class 0: 0.8584 Class 1: 0.7939 Class 2: 0.9712 Class 3: 0.9375\n",
      "Confusion Matrix:\n",
      "[[1134  157    9   21]\n",
      " [ 133 1063   39  104]\n",
      " [   4   21 1549   21]\n",
      " [  19   65    7 1366]]\n",
      "Metrics -> F1-Score: 0.9206, Precision: 0.9209, Recall: 0.9207\n",
      "Sensitivity -> Class 0: 0.8700 Class 1: 0.8595 Class 2: 0.9753 Class 3: 0.9600\n",
      "Confusion Matrix:\n",
      "[[261  37   0   2]\n",
      " [ 15 263   8  20]\n",
      " [  6   4 395   0]\n",
      " [  5   7   0 288]]\n",
      "Epoch 88/100 - AlexNet\n",
      "Train Loss: 0.2766, Train Accuracy: 0.8950\n",
      "Val Loss: 0.1890, Val Accuracy: 0.9207\n",
      "Train F1: 0.8944, Val F1: 0.9206\n"
     ]
    },
    {
     "name": "stderr",
     "output_type": "stream",
     "text": [
      "\n",
      "Training AlexNet:  88%|████████▊ | 88/100 [53:02<07:14, 36.21s/it]\u001b[A"
     ]
    },
    {
     "name": "stdout",
     "output_type": "stream",
     "text": [
      "Best model for AlexNet saved at /kaggle/working/AlexNet_best.pth with F1-score: 0.9206\n",
      "Metrics -> F1-Score: 0.8941, Precision: 0.8939, Recall: 0.8943\n",
      "Sensitivity -> Class 0: 0.8630 Class 1: 0.8006 Class 2: 0.9718 Class 3: 0.9238\n",
      "Confusion Matrix:\n",
      "[[1140  147    7   27]\n",
      " [ 132 1072   32  103]\n",
      " [   4   33 1550    8]\n",
      " [  20   79   12 1346]]\n"
     ]
    },
    {
     "name": "stderr",
     "output_type": "stream",
     "text": [
      "\n",
      "Training AlexNet:  89%|████████▉ | 89/100 [53:38<06:37, 36.12s/it]\u001b[A"
     ]
    },
    {
     "name": "stdout",
     "output_type": "stream",
     "text": [
      "Metrics -> F1-Score: 0.9049, Precision: 0.9073, Recall: 0.9054\n",
      "Sensitivity -> Class 0: 0.8067 Class 1: 0.8431 Class 2: 0.9802 Class 3: 0.9667\n",
      "Confusion Matrix:\n",
      "[[242  53   0   5]\n",
      " [ 11 258  18  19]\n",
      " [  3   4 397   1]\n",
      " [  2   8   0 290]]\n",
      "Epoch 89/100 - AlexNet\n",
      "Train Loss: 0.2837, Train Accuracy: 0.8943\n",
      "Val Loss: 0.2034, Val Accuracy: 0.9054\n",
      "Train F1: 0.8941, Val F1: 0.9049\n",
      "Metrics -> F1-Score: 0.8941, Precision: 0.8940, Recall: 0.8943\n",
      "Sensitivity -> Class 0: 0.8524 Class 1: 0.8006 Class 2: 0.9781 Class 3: 0.9266\n",
      "Confusion Matrix:\n",
      "[[1126  174    4   17]\n",
      " [ 138 1072   38   91]\n",
      " [   5   15 1560   15]\n",
      " [  13   86    8 1350]]\n"
     ]
    },
    {
     "name": "stderr",
     "output_type": "stream",
     "text": [
      "\n",
      "Training AlexNet:  90%|█████████ | 90/100 [54:14<05:58, 35.90s/it]\u001b[A"
     ]
    },
    {
     "name": "stdout",
     "output_type": "stream",
     "text": [
      "Metrics -> F1-Score: 0.9081, Precision: 0.9084, Recall: 0.9092\n",
      "Sensitivity -> Class 0: 0.8767 Class 1: 0.7908 Class 2: 0.9728 Class 3: 0.9767\n",
      "Confusion Matrix:\n",
      "[[263  31   1   5]\n",
      " [ 26 242  11  27]\n",
      " [  6   4 394   1]\n",
      " [  3   4   0 293]]\n",
      "Epoch 90/100 - AlexNet\n",
      "Train Loss: 0.2743, Train Accuracy: 0.8943\n",
      "Val Loss: 0.1983, Val Accuracy: 0.9092\n",
      "Train F1: 0.8941, Val F1: 0.9081\n",
      "Metrics -> F1-Score: 0.8955, Precision: 0.8953, Recall: 0.8960\n",
      "Sensitivity -> Class 0: 0.8751 Class 1: 0.7946 Class 2: 0.9693 Class 3: 0.9279\n",
      "Confusion Matrix:\n",
      "[[1156  132    5   28]\n",
      " [ 122 1064   39  114]\n",
      " [  11   25 1546   13]\n",
      " [  20   73   12 1352]]\n"
     ]
    },
    {
     "name": "stderr",
     "output_type": "stream",
     "text": [
      "\n",
      "Training AlexNet:  91%|█████████ | 91/100 [54:49<05:21, 35.78s/it]\u001b[A"
     ]
    },
    {
     "name": "stdout",
     "output_type": "stream",
     "text": [
      "Metrics -> F1-Score: 0.9123, Precision: 0.9132, Recall: 0.9130\n",
      "Sensitivity -> Class 0: 0.8367 Class 1: 0.8333 Class 2: 0.9802 Class 3: 0.9800\n",
      "Confusion Matrix:\n",
      "[[251  41   1   7]\n",
      " [ 16 255  11  24]\n",
      " [  4   3 397   1]\n",
      " [  1   5   0 294]]\n",
      "Epoch 91/100 - AlexNet\n",
      "Train Loss: 0.2637, Train Accuracy: 0.8960\n",
      "Val Loss: 0.1955, Val Accuracy: 0.9130\n",
      "Train F1: 0.8955, Val F1: 0.9123\n",
      "Metrics -> F1-Score: 0.8987, Precision: 0.8984, Recall: 0.8992\n",
      "Sensitivity -> Class 0: 0.8615 Class 1: 0.8051 Class 2: 0.9743 Class 3: 0.9375\n",
      "Confusion Matrix:\n",
      "[[1138  147   13   23]\n",
      " [ 134 1078   40   87]\n",
      " [   9   22 1554   10]\n",
      " [  16   68    7 1366]]\n"
     ]
    },
    {
     "name": "stderr",
     "output_type": "stream",
     "text": [
      "\n",
      "Training AlexNet:  92%|█████████▏| 92/100 [55:24<04:45, 35.65s/it]\u001b[A"
     ]
    },
    {
     "name": "stdout",
     "output_type": "stream",
     "text": [
      "Metrics -> F1-Score: 0.9032, Precision: 0.9050, Recall: 0.9047\n",
      "Sensitivity -> Class 0: 0.8333 Class 1: 0.7876 Class 2: 0.9827 Class 3: 0.9900\n",
      "Confusion Matrix:\n",
      "[[250  39   0  11]\n",
      " [ 18 241  14  33]\n",
      " [  2   4 398   1]\n",
      " [  0   3   0 297]]\n",
      "Epoch 92/100 - AlexNet\n",
      "Train Loss: 0.2620, Train Accuracy: 0.8992\n",
      "Val Loss: 0.2158, Val Accuracy: 0.9047\n",
      "Train F1: 0.8987, Val F1: 0.9032\n",
      "Metrics -> F1-Score: 0.8988, Precision: 0.8988, Recall: 0.8988\n",
      "Sensitivity -> Class 0: 0.8668 Class 1: 0.8155 Class 2: 0.9661 Class 3: 0.9307\n",
      "Confusion Matrix:\n",
      "[[1145  146    5   25]\n",
      " [ 121 1092   28   98]\n",
      " [   7   33 1541   14]\n",
      " [  20   69   12 1356]]\n"
     ]
    },
    {
     "name": "stderr",
     "output_type": "stream",
     "text": [
      "\n",
      "Training AlexNet:  93%|█████████▎| 93/100 [56:00<04:09, 35.59s/it]\u001b[A"
     ]
    },
    {
     "name": "stdout",
     "output_type": "stream",
     "text": [
      "Metrics -> F1-Score: 0.9122, Precision: 0.9147, Recall: 0.9130\n",
      "Sensitivity -> Class 0: 0.8300 Class 1: 0.8301 Class 2: 0.9827 Class 3: 0.9867\n",
      "Confusion Matrix:\n",
      "[[249  41   1   9]\n",
      " [  9 254  14  29]\n",
      " [  1   5 398   1]\n",
      " [  1   3   0 296]]\n",
      "Epoch 93/100 - AlexNet\n",
      "Train Loss: 0.2683, Train Accuracy: 0.8988\n",
      "Val Loss: 0.2020, Val Accuracy: 0.9130\n",
      "Train F1: 0.8988, Val F1: 0.9122\n",
      "Metrics -> F1-Score: 0.8999, Precision: 0.8996, Recall: 0.9004\n",
      "Sensitivity -> Class 0: 0.8622 Class 1: 0.8073 Class 2: 0.9737 Class 3: 0.9403\n",
      "Confusion Matrix:\n",
      "[[1139  143    9   30]\n",
      " [ 128 1081   39   91]\n",
      " [   4   23 1553   15]\n",
      " [  14   62   11 1370]]\n"
     ]
    },
    {
     "name": "stderr",
     "output_type": "stream",
     "text": [
      "\n",
      "Training AlexNet:  94%|█████████▍| 94/100 [56:35<03:33, 35.55s/it]\u001b[A"
     ]
    },
    {
     "name": "stdout",
     "output_type": "stream",
     "text": [
      "Metrics -> F1-Score: 0.9041, Precision: 0.9050, Recall: 0.9062\n",
      "Sensitivity -> Class 0: 0.8667 Class 1: 0.7647 Class 2: 0.9852 Class 3: 0.9833\n",
      "Confusion Matrix:\n",
      "[[260  31   1   8]\n",
      " [ 26 234  18  28]\n",
      " [  4   1 399   1]\n",
      " [  2   3   0 295]]\n",
      "Epoch 94/100 - AlexNet\n",
      "Train Loss: 0.2658, Train Accuracy: 0.9004\n",
      "Val Loss: 0.2169, Val Accuracy: 0.9062\n",
      "Train F1: 0.8999, Val F1: 0.9041\n",
      "Metrics -> F1-Score: 0.8974, Precision: 0.8973, Recall: 0.8976\n",
      "Sensitivity -> Class 0: 0.8584 Class 1: 0.8081 Class 2: 0.9718 Class 3: 0.9341\n",
      "Confusion Matrix:\n",
      "[[1134  159    8   20]\n",
      " [ 136 1082   29   92]\n",
      " [  11   23 1550   11]\n",
      " [  14   72   10 1361]]\n"
     ]
    },
    {
     "name": "stderr",
     "output_type": "stream",
     "text": [
      "\n",
      "Training AlexNet:  95%|█████████▌| 95/100 [57:11<02:58, 35.64s/it]\u001b[A"
     ]
    },
    {
     "name": "stdout",
     "output_type": "stream",
     "text": [
      "Metrics -> F1-Score: 0.9124, Precision: 0.9124, Recall: 0.9138\n",
      "Sensitivity -> Class 0: 0.8833 Class 1: 0.7876 Class 2: 0.9852 Class 3: 0.9767\n",
      "Confusion Matrix:\n",
      "[[265  30   0   5]\n",
      " [ 26 241  16  23]\n",
      " [  3   3 399   0]\n",
      " [  2   5   0 293]]\n",
      "Epoch 95/100 - AlexNet\n",
      "Train Loss: 0.2719, Train Accuracy: 0.8976\n",
      "Val Loss: 0.1979, Val Accuracy: 0.9138\n",
      "Train F1: 0.8974, Val F1: 0.9124\n",
      "Metrics -> F1-Score: 0.8928, Precision: 0.8924, Recall: 0.8934\n",
      "Sensitivity -> Class 0: 0.8630 Class 1: 0.7842 Class 2: 0.9724 Class 3: 0.9348\n",
      "Confusion Matrix:\n",
      "[[1140  149    2   30]\n",
      " [ 143 1050   39  107]\n",
      " [  11   29 1551    4]\n",
      " [  16   65   14 1362]]\n"
     ]
    },
    {
     "name": "stderr",
     "output_type": "stream",
     "text": [
      "\n",
      "Training AlexNet:  96%|█████████▌| 96/100 [57:48<02:24, 36.12s/it]\u001b[A"
     ]
    },
    {
     "name": "stdout",
     "output_type": "stream",
     "text": [
      "Metrics -> F1-Score: 0.9035, Precision: 0.9085, Recall: 0.9031\n",
      "Sensitivity -> Class 0: 0.7933 Class 1: 0.8725 Class 2: 0.9679 Class 3: 0.9567\n",
      "Confusion Matrix:\n",
      "[[238  59   0   3]\n",
      " [ 10 267  10  19]\n",
      " [  1   9 392   3]\n",
      " [  3  10   0 287]]\n",
      "Epoch 96/100 - AlexNet\n",
      "Train Loss: 0.2689, Train Accuracy: 0.8934\n",
      "Val Loss: 0.2214, Val Accuracy: 0.9031\n",
      "Train F1: 0.8928, Val F1: 0.9035\n",
      "Metrics -> F1-Score: 0.8989, Precision: 0.8987, Recall: 0.8993\n",
      "Sensitivity -> Class 0: 0.8690 Class 1: 0.8021 Class 2: 0.9680 Class 3: 0.9410\n",
      "Confusion Matrix:\n",
      "[[1148  147    9   17]\n",
      " [ 129 1074   42   94]\n",
      " [   5   27 1544   19]\n",
      " [  15   63    8 1371]]\n"
     ]
    },
    {
     "name": "stderr",
     "output_type": "stream",
     "text": [
      "\n",
      "Training AlexNet:  97%|█████████▋| 97/100 [58:27<01:50, 36.75s/it]\u001b[A"
     ]
    },
    {
     "name": "stdout",
     "output_type": "stream",
     "text": [
      "Metrics -> F1-Score: 0.9057, Precision: 0.9125, Recall: 0.9062\n",
      "Sensitivity -> Class 0: 0.7733 Class 1: 0.8693 Class 2: 0.9728 Class 3: 0.9867\n",
      "Confusion Matrix:\n",
      "[[232  57   0  11]\n",
      " [  6 266   5  29]\n",
      " [  2   6 394   3]\n",
      " [  0   4   0 296]]\n",
      "Epoch 97/100 - AlexNet\n",
      "Train Loss: 0.2624, Train Accuracy: 0.8993\n",
      "Val Loss: 0.2173, Val Accuracy: 0.9062\n",
      "Train F1: 0.8989, Val F1: 0.9057\n",
      "Metrics -> F1-Score: 0.8926, Precision: 0.8924, Recall: 0.8929\n",
      "Sensitivity -> Class 0: 0.8607 Class 1: 0.7924 Class 2: 0.9649 Class 3: 0.9355\n",
      "Confusion Matrix:\n",
      "[[1137  156   11   17]\n",
      " [ 151 1061   38   89]\n",
      " [   7   28 1539   21]\n",
      " [   9   77    8 1363]]\n"
     ]
    },
    {
     "name": "stderr",
     "output_type": "stream",
     "text": [
      "\n",
      "Training AlexNet:  98%|█████████▊| 98/100 [59:03<01:13, 36.61s/it]\u001b[A"
     ]
    },
    {
     "name": "stdout",
     "output_type": "stream",
     "text": [
      "Metrics -> F1-Score: 0.9103, Precision: 0.9103, Recall: 0.9115\n",
      "Sensitivity -> Class 0: 0.8900 Class 1: 0.7908 Class 2: 0.9802 Class 3: 0.9633\n",
      "Confusion Matrix:\n",
      "[[267  30   0   3]\n",
      " [ 21 242  17  26]\n",
      " [  5   2 397   1]\n",
      " [  4   7   0 289]]\n",
      "Epoch 98/100 - AlexNet\n",
      "Train Loss: 0.2807, Train Accuracy: 0.8929\n",
      "Val Loss: 0.2090, Val Accuracy: 0.9115\n",
      "Train F1: 0.8926, Val F1: 0.9103\n",
      "Metrics -> F1-Score: 0.9053, Precision: 0.9051, Recall: 0.9056\n",
      "Sensitivity -> Class 0: 0.8789 Class 1: 0.8140 Class 2: 0.9737 Class 3: 0.9396\n",
      "Confusion Matrix:\n",
      "[[1161  133    5   22]\n",
      " [ 130 1090   28   91]\n",
      " [   7   24 1553   11]\n",
      " [  17   59   12 1369]]\n"
     ]
    },
    {
     "name": "stderr",
     "output_type": "stream",
     "text": [
      "\n",
      "Training AlexNet:  99%|█████████▉| 99/100 [59:39<00:36, 36.43s/it]\u001b[A"
     ]
    },
    {
     "name": "stdout",
     "output_type": "stream",
     "text": [
      "Metrics -> F1-Score: 0.9030, Precision: 0.9052, Recall: 0.9054\n",
      "Sensitivity -> Class 0: 0.8900 Class 1: 0.7418 Class 2: 0.9852 Class 3: 0.9800\n",
      "Confusion Matrix:\n",
      "[[267  25   1   7]\n",
      " [ 32 227  16  31]\n",
      " [  3   1 399   2]\n",
      " [  4   2   0 294]]\n",
      "Epoch 99/100 - AlexNet\n",
      "Train Loss: 0.2613, Train Accuracy: 0.9056\n",
      "Val Loss: 0.2191, Val Accuracy: 0.9054\n",
      "Train F1: 0.9053, Val F1: 0.9030\n",
      "Metrics -> F1-Score: 0.9001, Precision: 0.8998, Recall: 0.9006\n",
      "Sensitivity -> Class 0: 0.8592 Class 1: 0.8133 Class 2: 0.9768 Class 3: 0.9348\n",
      "Confusion Matrix:\n",
      "[[1135  144   11   31]\n",
      " [ 134 1089   34   82]\n",
      " [   5   16 1558   16]\n",
      " [  18   65   12 1362]]\n"
     ]
    },
    {
     "name": "stderr",
     "output_type": "stream",
     "text": [
      "\n",
      "Training AlexNet: 100%|██████████| 100/100 [1:00:16<00:00, 36.64s/it]\u001b[A"
     ]
    },
    {
     "name": "stdout",
     "output_type": "stream",
     "text": [
      "Metrics -> F1-Score: 0.9025, Precision: 0.9041, Recall: 0.9031\n",
      "Sensitivity -> Class 0: 0.8167 Class 1: 0.8301 Class 2: 0.9654 Class 3: 0.9800\n",
      "Confusion Matrix:\n",
      "[[245  47   1   7]\n",
      " [ 16 254  12  24]\n",
      " [  3   8 391   3]\n",
      " [  3   3   0 294]]\n",
      "Epoch 100/100 - AlexNet\n",
      "Train Loss: 0.2685, Train Accuracy: 0.9006\n",
      "Val Loss: 0.2029, Val Accuracy: 0.9031\n",
      "Train F1: 0.9001, Val F1: 0.9025\n"
     ]
    },
    {
     "name": "stderr",
     "output_type": "stream",
     "text": [
      "\n",
      "Fine-tuning Models:   0%|          | 0/3 [4:19:36<?, ?it/s]"
     ]
    },
    {
     "name": "stdout",
     "output_type": "stream",
     "text": [
      "Final model for AlexNet saved at /kaggle/working/AlexNet_final.pth\n",
      "Pre-trained models results with metrics saved.\n"
     ]
    },
    {
     "name": "stderr",
     "output_type": "stream",
     "text": [
      "\n"
     ]
    }
   ],
   "source": [
    "num_classes = len(train_dataset.classes)\n",
    "print(f\"Number of classes: {num_classes}\")\n",
    "\n",
    "all_results = fine_tune_pretrained_models(train_loader, val_loader, num_classes, device)"
   ]
  },
  {
   "attachments": {},
   "cell_type": "markdown",
   "id": "257b9302",
   "metadata": {
    "id": "vraGMwPBq79o",
    "papermill": {
     "duration": 0.081801,
     "end_time": "2024-12-17T20:45:16.519092",
     "exception": false,
     "start_time": "2024-12-17T20:45:16.437291",
     "status": "completed"
    },
    "tags": []
   },
   "source": [
    "## Plot"
   ]
  },
  {
   "cell_type": "code",
   "execution_count": 14,
   "id": "15bf4977",
   "metadata": {
    "execution": {
     "iopub.execute_input": "2024-12-17T20:45:16.688893Z",
     "iopub.status.busy": "2024-12-17T20:45:16.688540Z",
     "iopub.status.idle": "2024-12-17T20:45:18.470111Z",
     "shell.execute_reply": "2024-12-17T20:45:18.469137Z"
    },
    "id": "j26dy93Qq9Kd",
    "papermill": {
     "duration": 1.868704,
     "end_time": "2024-12-17T20:45:18.473835",
     "exception": false,
     "start_time": "2024-12-17T20:45:16.605131",
     "status": "completed"
    },
    "tags": []
   },
   "outputs": [
    {
     "name": "stdout",
     "output_type": "stream",
     "text": [
      "Results for VGG16:\n"
     ]
    },
    {
     "data": {
      "image/png": "[encoded data removed]",
      "text/plain": [
       "<Figure size 1200x600 with 2 Axes>"
      ]
     },
     "metadata": {},
     "output_type": "display_data"
    },
    {
     "name": "stdout",
     "output_type": "stream",
     "text": [
      "Best F1-Score for VGG16: 0.8895\n",
      "Final Train F1-Score: 0.8538\n",
      "Final Validation F1-Score: 0.8676\n",
      "Validation Sensitivity per Class for VGG16: [0.8166666666666667, 0.6895424836601307, 0.9679012345679012, 0.98]\n",
      "Validation Confusion Matrix for VGG16:\n",
      "[[245  49   0   6]\n",
      " [ 26 211  40  29]\n",
      " [  4   5 392   4]\n",
      " [  1   4   1 294]]\n",
      "--------------------------------------------------\n",
      "Results for ResNet18:\n"
     ]
    },
    {
     "data": {
      "image/png": "[encoded data removed]",
      "text/plain": [
       "<Figure size 1200x600 with 2 Axes>"
      ]
     },
     "metadata": {},
     "output_type": "display_data"
    },
    {
     "name": "stdout",
     "output_type": "stream",
     "text": [
      "Best F1-Score for ResNet18: 0.9024\n",
      "Final Train F1-Score: 0.9191\n",
      "Final Validation F1-Score: 0.9024\n",
      "Validation Sensitivity per Class for ResNet18: [0.8266666666666667, 0.8366013071895425, 0.9604938271604938, 0.9666666666666667]\n",
      "Validation Confusion Matrix for ResNet18:\n",
      "[[248  48   0   4]\n",
      " [ 15 256  17  18]\n",
      " [  2  11 389   3]\n",
      " [  1   9   0 290]]\n",
      "--------------------------------------------------\n",
      "Results for AlexNet:\n"
     ]
    },
    {
     "data": {
      "image/png": "[encoded data removed]",
      "text/plain": [
       "<Figure size 1200x600 with 2 Axes>"
      ]
     },
     "metadata": {},
     "output_type": "display_data"
    },
    {
     "name": "stdout",
     "output_type": "stream",
     "text": [
      "Best F1-Score for AlexNet: 0.9206\n",
      "Final Train F1-Score: 0.9001\n",
      "Final Validation F1-Score: 0.9025\n",
      "Validation Sensitivity per Class for AlexNet: [0.8166666666666667, 0.8300653594771242, 0.9654320987654321, 0.98]\n",
      "Validation Confusion Matrix for AlexNet:\n",
      "[[245  47   1   7]\n",
      " [ 16 254  12  24]\n",
      " [  3   8 391   3]\n",
      " [  3   3   0 294]]\n",
      "--------------------------------------------------\n"
     ]
    }
   ],
   "source": [
    "plot_and_display_results(all_results)"
   ]
  }
 ],
 "metadata": {
  "accelerator": "GPU",
  "colab": {
   "gpuType": "T4",
   "provenance": []
  },
  "kaggle": {
   "accelerator": "nvidiaTeslaT4",
   "dataSources": [
    {
     "datasetId": 1608934,
     "sourceId": 2645886,
     "sourceType": "datasetVersion"
    },
    {
     "isSourceIdPinned": true,
     "modelId": 192430,
     "modelInstanceId": 170101,
     "sourceId": 199428,
     "sourceType": "modelInstanceVersion"
    }
   ],
   "dockerImageVersionId": 30527,
   "isGpuEnabled": true,
   "isInternetEnabled": false,
   "language": "python",
   "sourceType": "notebook"
  },
  "kernelspec": {
   "display_name": "Python 3",
   "language": "python",
   "name": "python3"
  },
  "language_info": {
   "codemirror_mode": {
    "name": "ipython",
    "version": 3
   },
   "file_extension": ".py",
   "mimetype": "text/x-python",
   "name": "python",
   "nbconvert_exporter": "python",
   "pygments_lexer": "ipython3",
   "version": "3.10.12"
  },
  "papermill": {
   "default_parameters": {},
   "duration": 22347.614127,
   "end_time": "2024-12-17T20:45:22.133846",
   "environment_variables": {},
   "exception": null,
   "input_path": "__notebook__.ipynb",
   "output_path": "__notebook__.ipynb",
   "parameters": {},
   "start_time": "2024-12-17T14:32:54.519719",
   "version": "2.4.0"
  }
 },
 "nbformat": 4,
 "nbformat_minor": 5
}
